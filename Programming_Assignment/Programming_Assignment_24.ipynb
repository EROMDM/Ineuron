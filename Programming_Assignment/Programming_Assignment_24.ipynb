{
 "cells": [
  {
   "cell_type": "markdown",
   "id": "a1dc3db2-be31-452e-be36-0f81665f83c6",
   "metadata": {},
   "source": [
    "<h1 align=center><font size = 10>Full Stack Data Science BootCamp 2.0</font></h1>\n",
    "<h2 align=center><font size = 7>Python Basic</font></h2>"
   ]
  },
  {
   "attachments": {},
   "cell_type": "markdown",
   "id": "c0285dda-4369-402b-8fb1-efe2bd3a2283",
   "metadata": {},
   "source": [
    "<h3 align=left><font size = 5>Programing Assignment_24</font></h3>\n",
    "<h4 align=left><font size = 4>Dnyaneshwar More</font></h4>"
   ]
  },
  {
   "attachments": {},
   "cell_type": "markdown",
   "id": "eece671c-08a6-48fb-82b0-023385e7bf2e",
   "metadata": {},
   "source": [
    "##  Question1  \n",
    "Create a function that takes an integer and returns a list from 1 to the given number, where:  \n",
    "1. If the number can be divided evenly by 4, amplify it by 10 (i.e. return 10 times the\n",
    "number).  \n",
    "2. If the number cannot be divided evenly by 4, simply return the number.  \n",
    "Examples    \n",
    "amplify(4) ➞ [1, 2, 3, 40]  \n",
    "amplify(3) ➞ [1, 2, 3]  \n",
    "amplify(25) ➞ [1, 2, 3, 40, 5, 6, 7, 80, 9, 10, 11, 120, 13, 14, 15, 160,\n",
    "17, 18, 19, 200, 21, 22, 23, 240, 25]  \n",
    "Notes  \n",
    "-   The given integer will always be equal to or greater than 1.  \n",
    "-   Include the number (see example above).  \n",
    "-   To perform this problem with its intended purpose, try doing it with list  \n",
    "comprehensions. If that's too difficult, just solve the challenge any way you can.  \n",
    "\n",
    "### Answere    "
   ]
  },
  {
   "cell_type": "code",
   "execution_count": 47,
   "id": "cb73ab47",
   "metadata": {},
   "outputs": [],
   "source": [
    "def amplify(a):\n",
    "    b=[]\n",
    "    for i in range(1,a+1):\n",
    "        if i%4!=0:\n",
    "            b.append(i)\n",
    "        else:\n",
    "            b.append(i*10)\n",
    "    c=b\n",
    "    print(f'( {a} )  ==>  {c}')\n"
   ]
  },
  {
   "cell_type": "code",
   "execution_count": 48,
   "id": "f21c53c5",
   "metadata": {},
   "outputs": [
    {
     "name": "stdout",
     "output_type": "stream",
     "text": [
      "( 3 )  ==>  [1, 2, 3]\n",
      "( 4 )  ==>  [1, 2, 3, 40]\n",
      "( 25 )  ==>  [1, 2, 3, 40, 5, 6, 7, 80, 9, 10, 11, 120, 13, 14, 15, 160, 17, 18, 19, 200, 21, 22, 23, 240, 25]\n"
     ]
    }
   ],
   "source": [
    "amplify(3)\n",
    "amplify(4)\n",
    "amplify(25)"
   ]
  },
  {
   "cell_type": "markdown",
   "id": "e9fb0efa",
   "metadata": {},
   "source": [
    "##  Question2  \n",
    "Create a function that takes a list of numbers and return the number that's unique.  \n",
    "Examples      \n",
    "unique([3, 3, 3, 7, 3, 3]) ➞ 7  \n",
    "unique([0, 0, 0.77, 0, 0]) ➞ 0.77  \n",
    "unique([0, 1, 1, 1, 1, 1, 1, 1]) ➞ 0  \n",
    "Notes  \n",
    "Test cases will always have exactly one unique number while all others are the same.  \n",
    "\n",
    "### Answere    "
   ]
  },
  {
   "cell_type": "code",
   "execution_count": 49,
   "id": "4dc2e575",
   "metadata": {},
   "outputs": [
    {
     "name": "stdout",
     "output_type": "stream",
     "text": [
      "( [3, 3, 3, 7, 3, 3] )  ==>  7\n",
      "( [0, 0, 0.77, 0, 0] )  ==>  0.77\n",
      "( [0, 1, 1, 1, 1, 1, 1, 1] )  ==>  0\n"
     ]
    }
   ],
   "source": [
    "def uni(a):\n",
    "    c=''\n",
    "    for i in set(a):\n",
    "        if a.count(i)==1:\n",
    "            c=i\n",
    "    print(f'( {a} )  ==>  {c}')\n",
    "    \n",
    "uni([3, 3, 3, 7, 3, 3])\n",
    "uni([0, 0, 0.77, 0, 0])\n",
    "uni([0, 1, 1, 1, 1, 1, 1, 1])\n",
    "    "
   ]
  },
  {
   "cell_type": "markdown",
   "id": "805bb116",
   "metadata": {},
   "source": [
    "##  Question3  \n",
    "Your task is to create a Circle constructor that creates a circle with a radius provided by an  \n",
    "argument. The circles constructed must have two getters getArea() (PIr^2) and  \n",
    "getPerimeter() (2PI*r) which give both respective areas and perimeter (circumference).  \n",
    "\n",
    "For help with this class, I have provided you with a Rectangle constructor which you can use  \n",
    "as a base example.  \n",
    "Examples    \n",
    "circy = Circle(11)  \n",
    "circy.getArea()  \n",
    "__Should return 380.132711084365__  \n",
    "circy = Circle(4.44)  \n",
    "circy.getPerimeter()  \n",
    "__Should return 27.897342763877365__  \n",
    "Notes  \n",
    "Round results up to the nearest integer.  \n",
    "\n",
    "### Answere    "
   ]
  },
  {
   "cell_type": "code",
   "execution_count": 50,
   "id": "70d5440a",
   "metadata": {},
   "outputs": [
    {
     "name": "stdout",
     "output_type": "stream",
     "text": [
      "Radius ➞ 380\n",
      "Perimeter ➞ 28\n"
     ]
    }
   ],
   "source": [
    "import math\n",
    "\n",
    "class Circle:\n",
    "    def __init__(self, radius):\n",
    "        self.radius = radius\n",
    "    def getArea(self):\n",
    "        print(f'Radius ➞ {round(math.pi*self.radius*self.radius)}')\n",
    "    def getPerimeter(self):\n",
    "        print(f'Perimeter ➞ {round(2*math.pi*self.radius)}')\n",
    "    \n",
    "circy = Circle(11)\n",
    "circy.getArea()\n",
    "\n",
    "circy = Circle(4.44)\n",
    "circy.getPerimeter()"
   ]
  },
  {
   "cell_type": "markdown",
   "id": "526bff4f",
   "metadata": {},
   "source": [
    "##  Question4 \n",
    "Create a function that takes a list of strings and return a list, sorted from shortest to longest.  \n",
    "Examples    \n",
    "sort_by_length([\"Google\", \"Apple\", \"Microsoft\"])  \n",
    "➞ [\"Apple\", \"Google\", \"Microsoft\"]  \n",
    "sort_by_length([\"Leonardo\", \"Michelangelo\", \"Raphael\", \"Donatello\"])  \n",
    "➞ [\"Raphael\", \"Leonardo\", \"Donatello\", \"Michelangelo\"]  \n",
    "sort_by_length([\"Turing\", \"Einstein\", \"Jung\"])  \n",
    "➞ [\"Jung\", \"Turing\", \"Einstein\"]  \n",
    "Notes  \n",
    "All test cases contain lists with strings of different lengths, so you won't have to deal with  \n",
    "multiple strings of the same length.  \n",
    "  \n",
    "### Answere    "
   ]
  },
  {
   "cell_type": "code",
   "execution_count": 51,
   "id": "c0fcb121",
   "metadata": {},
   "outputs": [],
   "source": [
    "def sortl(a):\n",
    "    print(sorted(a,key=len))"
   ]
  },
  {
   "cell_type": "code",
   "execution_count": 52,
   "id": "766d4557",
   "metadata": {},
   "outputs": [
    {
     "name": "stdout",
     "output_type": "stream",
     "text": [
      "['Apple', 'Google', 'Microsoft']\n",
      "['Raphael', 'Leonardo', 'Donatello', 'Michelangelo']\n",
      "['Jung', 'Turing', 'Einstein']\n"
     ]
    }
   ],
   "source": [
    "sortl([\"Google\", \"Apple\", \"Microsoft\"])\n",
    "sortl([\"Leonardo\", \"Michelangelo\", \"Raphael\", \"Donatello\"])\n",
    "sortl([\"Turing\", \"Einstein\", \"Jung\"])"
   ]
  },
  {
   "cell_type": "markdown",
   "id": "0de5583b",
   "metadata": {},
   "source": [
    "##  Question5  \n",
    "Create a function that validates whether three given integers form a Pythagorean triplet. The  \n",
    "sum of the squares of the two smallest integers must equal the square of the largest number to  \n",
    "be validated.  \n",
    "  \n",
    "Examples      \n",
    "is_triplet(3, 4, 5) ➞ True  \n",
    "3² + 4² = 25  \n",
    "5² = 25  \n",
    "is_triplet(13, 5, 12) ➞ True  \n",
    "5² + 12² = 169  \n",
    "13² = 169  \n",
    "is_triplet(1, 2, 3) ➞ False   \n",
    "1² + 2² = 5  \n",
    "3² = 9  \n",
    "Notes  \n",
    "Numbers may not be given in a sorted order.  \n",
    " \n",
    "### Answere  "
   ]
  },
  {
   "cell_type": "code",
   "execution_count": 53,
   "id": "29487831",
   "metadata": {},
   "outputs": [
    {
     "name": "stdout",
     "output_type": "stream",
     "text": [
      "(3, 4, 5) ➞ True\n",
      "(3, 4, 5) ➞ True\n",
      "(1, 2, 3) ➞ False\n"
     ]
    }
   ],
   "source": [
    "def is_triplet(a,b,c):\n",
    "    if ((a**2+b**2) == (c**2)):\n",
    "        print(f'{a,b,c} ➞ {True}')\n",
    "    else:\n",
    "        print(f'{a,b,c} ➞ {False}')\n",
    "        \n",
    "is_triplet(3, 4, 5)\n",
    "is_triplet(3, 4, 5)\n",
    "is_triplet(1, 2, 3)"
   ]
  },
  {
   "cell_type": "code",
   "execution_count": null,
   "id": "c756b581",
   "metadata": {},
   "outputs": [],
   "source": []
  }
 ],
 "metadata": {
  "kernelspec": {
   "display_name": "Python 3 (ipykernel)",
   "language": "python",
   "name": "python3"
  },
  "language_info": {
   "codemirror_mode": {
    "name": "ipython",
    "version": 3
   },
   "file_extension": ".py",
   "mimetype": "text/x-python",
   "name": "python",
   "nbconvert_exporter": "python",
   "pygments_lexer": "ipython3",
   "version": "3.10.0"
  }
 },
 "nbformat": 4,
 "nbformat_minor": 5
}
