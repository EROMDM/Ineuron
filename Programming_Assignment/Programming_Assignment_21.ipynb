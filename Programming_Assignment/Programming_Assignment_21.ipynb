{
 "cells": [
  {
   "cell_type": "markdown",
   "id": "a1dc3db2-be31-452e-be36-0f81665f83c6",
   "metadata": {},
   "source": [
    "<h1 align=center><font size = 10>Full Stack Data Science BootCamp 2.0</font></h1>\n",
    "<h2 align=center><font size = 7>Python Basic</font></h2>"
   ]
  },
  {
   "attachments": {},
   "cell_type": "markdown",
   "id": "c0285dda-4369-402b-8fb1-efe2bd3a2283",
   "metadata": {},
   "source": [
    "<h3 align=left><font size = 5>Programing Assignment_21</font></h3>\n",
    "<h4 align=left><font size = 4>Dnyaneshwar More</font></h4>"
   ]
  },
  {
   "attachments": {},
   "cell_type": "markdown",
   "id": "ff06b24f",
   "metadata": {},
   "source": [
    "  ## Question  1  \n",
    "Write a function that takes a list and a number as arguments. Add the number to the end of\n",
    "the list, then remove the first element of the list. The function should then return the updated\n",
    "list.  \n",
    "__Examples__  \n",
    "next_in_line([5, 6, 7, 8, 9], 1) ➞ [6, 7, 8, 9, 1]  \n",
    "next_in_line([7, 6, 3, 23, 17], 10) ➞ [6, 3, 23, 17, 10]  \n",
    "next_in_line([1, 10, 20, 42 ], 6) ➞ [10, 20, 42, 6]  \n",
    "next_in_line([], 6) ➞ \"No list has been selected\"  \n",
    "\n",
    "### Answere  "
   ]
  },
  {
   "cell_type": "code",
   "execution_count": 15,
   "id": "fc9d4307",
   "metadata": {},
   "outputs": [],
   "source": [
    "def next(a,b):\n",
    "    a.append(b)\n",
    "    output = a[1:]\n",
    "    if len(output)==0:\n",
    "        output =\"No list hase been selected\"\n",
    "    print(f'({a},{b})  =>  {output}')"
   ]
  },
  {
   "cell_type": "code",
   "execution_count": 16,
   "id": "bd767bfb",
   "metadata": {},
   "outputs": [
    {
     "name": "stdout",
     "output_type": "stream",
     "text": [
      "([22, 34, 12, 432, 32, 5],5)  =>  [34, 12, 432, 32, 5]\n",
      "([1, 2],2)  =>  [2]\n",
      "([2],2)  =>  No list hase been selected\n"
     ]
    }
   ],
   "source": [
    "next([22,34,12,432,32],5)\n",
    "next([1],2)\n",
    "next([],2)"
   ]
  },
  {
   "cell_type": "markdown",
   "id": "dcfd8313",
   "metadata": {},
   "source": [
    "  ## Question  2  \n",
    "Create the function that takes a list of dictionaries and returns the sum of people's budgets.  \n",
    "__Examples__  \n",
    "get_budgets([\n",
    "{ \"name\": \"John\", \"age\": 21, \"budget\": 23000 },\n",
    "{ \"name\": \"Steve\", \"age\": 32, \"budget\": 40000 },\n",
    "{ \"name\": \"Martin\", \"age\": 16, \"budget\": 2700 }\n",
    "]) ➞ 65700  \n",
    "get_budgets([\n",
    "{ \"name\": \"John\", \"age\": 21, \"budget\": 29000 },\n",
    "{ \"name\": \"Steve\", \"age\": 32, \"budget\": 32000 },\n",
    "{ \"name\": \"Martin\", \"age\": 16, \"budget\": 1600 }\n",
    "]) ➞ 62600  \n",
    "\n",
    "### Answere  "
   ]
  },
  {
   "cell_type": "code",
   "execution_count": 40,
   "id": "5e74c795",
   "metadata": {},
   "outputs": [],
   "source": [
    "def get_budgets(asd):\n",
    "    output=0\n",
    "    for i in asd:\n",
    "        output+= i[\"budget\"]\n",
    "    print(output)"
   ]
  },
  {
   "cell_type": "code",
   "execution_count": 41,
   "id": "4a6de324",
   "metadata": {},
   "outputs": [
    {
     "name": "stdout",
     "output_type": "stream",
     "text": [
      "65700\n"
     ]
    }
   ],
   "source": [
    "get_budgets([\n",
    "{ \"name\": \"John\", \"age\": 21, \"budget\": 23000 },\n",
    "{ \"name\": \"Steve\", \"age\": 32, \"budget\": 40000 },\n",
    "{ \"name\": \"Martin\", \"age\": 16, \"budget\": 2700 }\n",
    "])"
   ]
  },
  {
   "cell_type": "code",
   "execution_count": 42,
   "id": "62585ab0",
   "metadata": {},
   "outputs": [
    {
     "name": "stdout",
     "output_type": "stream",
     "text": [
      "62600\n"
     ]
    }
   ],
   "source": [
    "get_budgets([\n",
    "{ \"name\": \"John\", \"age\": 21, \"budget\": 29000 },\n",
    "{ \"name\": \"Steve\", \"age\": 32, \"budget\": 32000 },\n",
    "{ \"name\": \"Martin\", \"age\": 16, \"budget\": 1600 }\n",
    "])"
   ]
  },
  {
   "cell_type": "markdown",
   "id": "bd4ecddb",
   "metadata": {},
   "source": [
    "  ## Question  3  \n",
    "Create a function that takes a string and returns a string with its letters in alphabetical order.  \n",
    "__Examples__  \n",
    "alphabet_soup(\"hello\") ➞ \"ehllo\"  \n",
    "alphabet_soup(\"edabit\") ➞ \"abdeit\"  \n",
    "alphabet_soup(\"hacker\") ➞ \"acehkr\"  \n",
    "alphabet_soup(\"geek\") ➞ \"eegk\"  \n",
    "alphabet_soup(\"javascript\") ➞ \"aacijprstv\"  \n",
    "\n",
    "### Answere  "
   ]
  },
  {
   "cell_type": "code",
   "execution_count": 23,
   "id": "f21c1d14",
   "metadata": {},
   "outputs": [],
   "source": [
    "def sorte(A):\n",
    "    a= ''.join(sorted(A))\n",
    "    print(f'Alphabetical order{A} ==> {a}')\n",
    "\n",
    "    "
   ]
  },
  {
   "cell_type": "code",
   "execution_count": 24,
   "id": "5523e1d6",
   "metadata": {},
   "outputs": [
    {
     "name": "stdout",
     "output_type": "stream",
     "text": [
      "Alphabetical orderHello ==> Hello\n",
      "Alphabetical orderhacker ==> acehkr\n",
      "Alphabetical orderCreate a function that takes a string and returns a string with its letters in alphabetical order. ==>                 .Caaaaaaaaaabccddeeeeeeeefgghhhiiiiiiiklllnnnnnnnooprrrrrrrrsssssstttttttttttttuuw\n"
     ]
    }
   ],
   "source": [
    "sorte(\"Hello\")\n",
    "sorte(\"hacker\")\n",
    "sorte(\"Create a function that takes a string and returns a string with its letters in alphabetical order.\")\n"
   ]
  },
  {
   "cell_type": "markdown",
   "id": "08b22797",
   "metadata": {},
   "source": [
    "  ## Question  4  \n",
    "Suppose that you invest $10,000 for 10 years at an interest rate of 6% compounded monthly.\n",
    "What will be the value of your investment at the end of the 10 year period?\n",
    "Create a function that accepts the principal p, the term in years t, the interest rate r, and the\n",
    "number of compounding periods per year n. The function returns the value at the end of term\n",
    "rounded to the nearest cent.  \n",
    "For the example above:  \n",
    "compound_interest(10000, 10, 0.06, 12) ➞ 18193.97  \n",
    "Note that the interest rate is given as a decimal and n=12 because with monthly compounding  \n",
    "there are 12 periods per year. Compounding can also be done annually, quarterly, weekly, or\n",
    "daily.  \n",
    "__Examples__  \n",
    "compound_interest(100, 1, 0.05, 1) ➞ 105.0  \n",
    "compound_interest(3500, 15, 0.1, 4) ➞ 15399.26  \n",
    "compound_interest(100000, 20, 0.15, 365) ➞ 2007316.26  \n",
    "\n",
    "### Answere  "
   ]
  },
  {
   "cell_type": "code",
   "execution_count": 38,
   "id": "8f3939b5",
   "metadata": {},
   "outputs": [],
   "source": [
    "def comint(pr,year,rate,n):\n",
    "    output = (pr*pow((1+(rate/n)),n*year))\n",
    "    print(output)"
   ]
  },
  {
   "cell_type": "code",
   "execution_count": 39,
   "id": "bb72463c",
   "metadata": {},
   "outputs": [
    {
     "name": "stdout",
     "output_type": "stream",
     "text": [
      "105.0\n",
      "15399.264120852586\n"
     ]
    }
   ],
   "source": [
    "comint(100,1,0.05,1)\n",
    "comint(3500,15,0.1,4)"
   ]
  },
  {
   "attachments": {},
   "cell_type": "markdown",
   "id": "c7648247",
   "metadata": {},
   "source": [
    "  ## Question  5  \n",
    "Write a function that takes a list of elements and returns only the integers.  \n",
    "__Examples__  \n",
    "return_only_integer([9, 2, \"space\", \"car\", \"lion\", 16]) ➞ [9, 2, 16]  \n",
    "return_only_integer([\"hello\", 81, \"basketball\", 123, \"fox\"]) ➞ [81, 123]  \n",
    "return_only_integer([10, \"121\", 56, 20, \"car\", 3, \"lion\"]) ➞ [10, 56, 20,3]  \n",
    "return_only_integer([\"String\", True, 3.3, 1]) ➞ [1]  \n",
    "### Answere  "
   ]
  },
  {
   "cell_type": "code",
   "execution_count": 25,
   "id": "eece671c-08a6-48fb-82b0-023385e7bf2e",
   "metadata": {},
   "outputs": [],
   "source": [
    "def retint(a):\n",
    "    output =[]\n",
    "    for i in a:\n",
    "        if type(i)==int:\n",
    "            output.append(i)\n",
    "    print(output)\n"
   ]
  },
  {
   "cell_type": "code",
   "execution_count": 26,
   "id": "c7b05638",
   "metadata": {},
   "outputs": [
    {
     "name": "stdout",
     "output_type": "stream",
     "text": [
      "[9, 2, 16]\n",
      "[81, 123]\n",
      "[10, 56, 20, 3]\n",
      "[1]\n"
     ]
    }
   ],
   "source": [
    "retint([9, 2, \"space\", \"car\", \"lion\", 16])\n",
    "retint([\"hello\", 81, \"basketball\", 123, \"fox\"])\n",
    "retint([10, \"121\", 56, 20, \"car\", 3, \"lion\"])\n",
    "retint([\"String\", True, 3.3, 1]) "
   ]
  },
  {
   "cell_type": "code",
   "execution_count": null,
   "id": "62ab77b4",
   "metadata": {},
   "outputs": [],
   "source": []
  }
 ],
 "metadata": {
  "kernelspec": {
   "display_name": "Python 3 (ipykernel)",
   "language": "python",
   "name": "python3"
  },
  "language_info": {
   "codemirror_mode": {
    "name": "ipython",
    "version": 3
   },
   "file_extension": ".py",
   "mimetype": "text/x-python",
   "name": "python",
   "nbconvert_exporter": "python",
   "pygments_lexer": "ipython3",
   "version": "3.10.0"
  }
 },
 "nbformat": 4,
 "nbformat_minor": 5
}
