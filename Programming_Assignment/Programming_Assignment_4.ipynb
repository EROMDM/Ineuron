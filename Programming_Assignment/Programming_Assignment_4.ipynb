{
 "cells": [
  {
   "cell_type": "markdown",
   "id": "83f55b7d-0459-4b12-ab49-9312e45a18d8",
   "metadata": {},
   "source": [
    "<h1 align=center><font size = 10>Full Stack Data Science BootCamp 2.0</font></h1>\n",
    "<h2 align=center><font size = 7>Python Basic</font></h2>\n",
    "\n",
    "<h3 align=left><font size = 5>Programming_Assignment_4</font></h3>\n",
    "<h4 align=left><font size = 4>Dnyaneshwar More</font></h4>"
   ]
  },
  {
   "cell_type": "markdown",
   "id": "85b5c739-b6a5-4dcb-9f2b-fd7d11ae090b",
   "metadata": {},
   "source": [
    "### 1. Write a Python Program to Find the Factorial of a Number?"
   ]
  },
  {
   "cell_type": "markdown",
   "id": "9e981f8f-dae7-4c49-83ff-f2f26a922f61",
   "metadata": {},
   "source": [
    "#### Answere"
   ]
  },
  {
   "cell_type": "code",
   "execution_count": 8,
   "id": "cac8b997-e9ed-4294-b76f-80d81ecb08d8",
   "metadata": {},
   "outputs": [
    {
     "name": "stdout",
     "output_type": "stream",
     "text": [
      "Factorial of 3 is =6\n"
     ]
    }
   ],
   "source": [
    "def Fact(N):\n",
    "    a=1\n",
    "    for i in range(1,N+1):\n",
    "        a=a*i\n",
    "    \n",
    "    print(f\"Factorial of {N} is = {a}\")\n",
    "Fact(3)"
   ]
  },
  {
   "cell_type": "code",
   "execution_count": 10,
   "id": "88590b14-34a2-4e8f-9b90-b6c5b7715b21",
   "metadata": {},
   "outputs": [
    {
     "name": "stdout",
     "output_type": "stream",
     "text": [
      "Factorial of 4 is =24\n",
      "Factorial of 3 is =6\n",
      "Factorial of 6 is =720\n",
      "Factorial of 12 is =479001600\n",
      "Factorial of 9 is =362880\n",
      "Factorial of 15 is =1307674368000\n"
     ]
    }
   ],
   "source": [
    "A=[4,3,6,12,9,15]\n",
    "for i in A:\n",
    "    Fact(i)"
   ]
  },
  {
   "cell_type": "markdown",
   "id": "94499b56-d1e9-43c6-b819-7f1c7722675e",
   "metadata": {},
   "source": [
    "### 2. Write a Python Program to Display the multiplication Table?"
   ]
  },
  {
   "cell_type": "markdown",
   "id": "f34d6ace-35b5-4d10-b1c5-2708d790e47c",
   "metadata": {},
   "source": [
    "#### Answere"
   ]
  },
  {
   "cell_type": "code",
   "execution_count": 16,
   "id": "a01a57e1-87a9-425d-b1a1-7601e6dfb939",
   "metadata": {},
   "outputs": [],
   "source": [
    "def mul(N):\n",
    "    print(f\"Multiplication table for {N}\")\n",
    "    for i in range(1,11):\n",
    "        print(f\"{N} X {i} = {i*N}\")\n"
   ]
  },
  {
   "cell_type": "code",
   "execution_count": 17,
   "id": "107ccace-56eb-4084-8677-0a15c62b663e",
   "metadata": {},
   "outputs": [
    {
     "name": "stdout",
     "output_type": "stream",
     "text": [
      "Multiplication table for 1\n",
      "1 X 1 = 1\n",
      "1 X 2 = 2\n",
      "1 X 3 = 3\n",
      "1 X 4 = 4\n",
      "1 X 5 = 5\n",
      "1 X 6 = 6\n",
      "1 X 7 = 7\n",
      "1 X 8 = 8\n",
      "1 X 9 = 9\n",
      "1 X 10 = 10\n",
      "Multiplication table for 2\n",
      "2 X 1 = 2\n",
      "2 X 2 = 4\n",
      "2 X 3 = 6\n",
      "2 X 4 = 8\n",
      "2 X 5 = 10\n",
      "2 X 6 = 12\n",
      "2 X 7 = 14\n",
      "2 X 8 = 16\n",
      "2 X 9 = 18\n",
      "2 X 10 = 20\n",
      "Multiplication table for 3\n",
      "3 X 1 = 3\n",
      "3 X 2 = 6\n",
      "3 X 3 = 9\n",
      "3 X 4 = 12\n",
      "3 X 5 = 15\n",
      "3 X 6 = 18\n",
      "3 X 7 = 21\n",
      "3 X 8 = 24\n",
      "3 X 9 = 27\n",
      "3 X 10 = 30\n",
      "Multiplication table for 4\n",
      "4 X 1 = 4\n",
      "4 X 2 = 8\n",
      "4 X 3 = 12\n",
      "4 X 4 = 16\n",
      "4 X 5 = 20\n",
      "4 X 6 = 24\n",
      "4 X 7 = 28\n",
      "4 X 8 = 32\n",
      "4 X 9 = 36\n",
      "4 X 10 = 40\n",
      "Multiplication table for 5\n",
      "5 X 1 = 5\n",
      "5 X 2 = 10\n",
      "5 X 3 = 15\n",
      "5 X 4 = 20\n",
      "5 X 5 = 25\n",
      "5 X 6 = 30\n",
      "5 X 7 = 35\n",
      "5 X 8 = 40\n",
      "5 X 9 = 45\n",
      "5 X 10 = 50\n",
      "Multiplication table for 6\n",
      "6 X 1 = 6\n",
      "6 X 2 = 12\n",
      "6 X 3 = 18\n",
      "6 X 4 = 24\n",
      "6 X 5 = 30\n",
      "6 X 6 = 36\n",
      "6 X 7 = 42\n",
      "6 X 8 = 48\n",
      "6 X 9 = 54\n",
      "6 X 10 = 60\n",
      "Multiplication table for 7\n",
      "7 X 1 = 7\n",
      "7 X 2 = 14\n",
      "7 X 3 = 21\n",
      "7 X 4 = 28\n",
      "7 X 5 = 35\n",
      "7 X 6 = 42\n",
      "7 X 7 = 49\n",
      "7 X 8 = 56\n",
      "7 X 9 = 63\n",
      "7 X 10 = 70\n",
      "Multiplication table for 8\n",
      "8 X 1 = 8\n",
      "8 X 2 = 16\n",
      "8 X 3 = 24\n",
      "8 X 4 = 32\n",
      "8 X 5 = 40\n",
      "8 X 6 = 48\n",
      "8 X 7 = 56\n",
      "8 X 8 = 64\n",
      "8 X 9 = 72\n",
      "8 X 10 = 80\n",
      "Multiplication table for 9\n",
      "9 X 1 = 9\n",
      "9 X 2 = 18\n",
      "9 X 3 = 27\n",
      "9 X 4 = 36\n",
      "9 X 5 = 45\n",
      "9 X 6 = 54\n",
      "9 X 7 = 63\n",
      "9 X 8 = 72\n",
      "9 X 9 = 81\n",
      "9 X 10 = 90\n",
      "Multiplication table for 10\n",
      "10 X 1 = 10\n",
      "10 X 2 = 20\n",
      "10 X 3 = 30\n",
      "10 X 4 = 40\n",
      "10 X 5 = 50\n",
      "10 X 6 = 60\n",
      "10 X 7 = 70\n",
      "10 X 8 = 80\n",
      "10 X 9 = 90\n",
      "10 X 10 = 100\n"
     ]
    }
   ],
   "source": [
    "for i in range(1,11):\n",
    "    mul(i)"
   ]
  },
  {
   "cell_type": "markdown",
   "id": "2878e192-27e6-4ae9-93f5-ff77197a778e",
   "metadata": {},
   "source": [
    "### 3. Write a Python Program to Print the Fibonacci sequence?"
   ]
  },
  {
   "cell_type": "markdown",
   "id": "8b1802ec-5849-48d6-96d9-9c435a3d403a",
   "metadata": {},
   "source": [
    "#### Answere"
   ]
  },
  {
   "cell_type": "code",
   "execution_count": 42,
   "id": "a29e300e-567c-43c4-b41c-7d16598b94c9",
   "metadata": {},
   "outputs": [],
   "source": [
    "def Fibb(N):\n",
    "    A=[1,1]\n",
    "    if N<=0:\n",
    "        print(\"Incorrect Input\")\n",
    "    else:\n",
    "        if N==1:\n",
    "            print(f\"fibbonacci sequence is {A[0]}\")\n",
    "        elif N==2:\n",
    "            print(f\"fibbonacci sequence is {A}\")\n",
    "        else:\n",
    "            for i in range(2,N+1):\n",
    "                a=A[i-1]+A[i-2]\n",
    "                A.append(a)\n",
    "            print(f\"fibbonacci sequence is {A}\")\n",
    "            "
   ]
  },
  {
   "cell_type": "code",
   "execution_count": 49,
   "id": "ae2df2ee-1bd5-4b51-8d84-6c5d8304dc0d",
   "metadata": {},
   "outputs": [
    {
     "name": "stdout",
     "output_type": "stream",
     "text": [
      "Incorrect Input\n",
      "Incorrect Input\n",
      "Incorrect Input\n",
      "Incorrect Input\n",
      "Incorrect Input\n",
      "Incorrect Input\n",
      "Incorrect Input\n",
      "Incorrect Input\n",
      "Incorrect Input\n",
      "Incorrect Input\n",
      "Incorrect Input\n",
      "Incorrect Input\n",
      "fibbonacci sequence is 1\n",
      "fibbonacci sequence is [1, 1]\n",
      "fibbonacci sequence is [1, 1, 2, 3]\n",
      "fibbonacci sequence is [1, 1, 2, 3, 5]\n",
      "fibbonacci sequence is [1, 1, 2, 3, 5, 8]\n",
      "fibbonacci sequence is [1, 1, 2, 3, 5, 8, 13]\n",
      "fibbonacci sequence is [1, 1, 2, 3, 5, 8, 13, 21]\n",
      "fibbonacci sequence is [1, 1, 2, 3, 5, 8, 13, 21, 34]\n",
      "fibbonacci sequence is [1, 1, 2, 3, 5, 8, 13, 21, 34, 55]\n",
      "fibbonacci sequence is [1, 1, 2, 3, 5, 8, 13, 21, 34, 55, 89]\n",
      "fibbonacci sequence is [1, 1, 2, 3, 5, 8, 13, 21, 34, 55, 89, 144]\n",
      "fibbonacci sequence is [1, 1, 2, 3, 5, 8, 13, 21, 34, 55, 89, 144, 233]\n",
      "fibbonacci sequence is [1, 1, 2, 3, 5, 8, 13, 21, 34, 55, 89, 144, 233, 377]\n",
      "fibbonacci sequence is [1, 1, 2, 3, 5, 8, 13, 21, 34, 55, 89, 144, 233, 377, 610]\n",
      "fibbonacci sequence is [1, 1, 2, 3, 5, 8, 13, 21, 34, 55, 89, 144, 233, 377, 610, 987]\n",
      "fibbonacci sequence is [1, 1, 2, 3, 5, 8, 13, 21, 34, 55, 89, 144, 233, 377, 610, 987, 1597]\n",
      "fibbonacci sequence is [1, 1, 2, 3, 5, 8, 13, 21, 34, 55, 89, 144, 233, 377, 610, 987, 1597, 2584]\n",
      "fibbonacci sequence is [1, 1, 2, 3, 5, 8, 13, 21, 34, 55, 89, 144, 233, 377, 610, 987, 1597, 2584, 4181]\n",
      "fibbonacci sequence is [1, 1, 2, 3, 5, 8, 13, 21, 34, 55, 89, 144, 233, 377, 610, 987, 1597, 2584, 4181, 6765]\n",
      "fibbonacci sequence is [1, 1, 2, 3, 5, 8, 13, 21, 34, 55, 89, 144, 233, 377, 610, 987, 1597, 2584, 4181, 6765, 10946]\n"
     ]
    }
   ],
   "source": [
    "\n",
    "for i in range(-11,21):\n",
    "    Fibb(i)"
   ]
  },
  {
   "cell_type": "markdown",
   "id": "44e77137-f84e-4dd4-9eb8-cae8d9961eaa",
   "metadata": {},
   "source": [
    "### 4. Write a Python Program to Check Armstrong Number?"
   ]
  },
  {
   "cell_type": "markdown",
   "id": "3092064a-807f-42d1-b060-b08af6f4bf50",
   "metadata": {},
   "source": [
    "#### Answere"
   ]
  },
  {
   "cell_type": "code",
   "execution_count": 68,
   "id": "d31323ca-bc1c-4940-a22f-a3612d34f773",
   "metadata": {},
   "outputs": [],
   "source": [
    "def arm(N):\n",
    "    n=len(str(N))\n",
    "    A=[]\n",
    "    \n",
    "    for i in str(N):\n",
    "        A.append(i)\n",
    "    b=0\n",
    "    for i in A:\n",
    "        b+=int(i)**n\n",
    "    if b==N:\n",
    "        print(f\"The Number {N} is an armstrong Number\")\n",
    "    else:\n",
    "        print(f\"The Number {N} is not armstrong Number\")\n",
    "        \n",
    "    \n",
    "    \n",
    "    "
   ]
  },
  {
   "cell_type": "code",
   "execution_count": 69,
   "id": "c9768934-8c83-4376-b31d-5db04ea586bb",
   "metadata": {},
   "outputs": [
    {
     "name": "stdout",
     "output_type": "stream",
     "text": [
      "The Number 153 is an armstrong Number\n",
      "The Number 9474 is an armstrong Number\n",
      "The Number 1234 is not armstrong Number\n",
      "The Number 1546 is not armstrong Number\n",
      "The Number 1634 is an armstrong Number\n"
     ]
    }
   ],
   "source": [
    "A=[153,9474,1234,1546,1634]\n",
    "for i in A:\n",
    "    arm(i)"
   ]
  },
  {
   "cell_type": "markdown",
   "id": "129138ab-f3a8-4d24-b082-c8ec1012020b",
   "metadata": {},
   "source": [
    "### 5. Write a Python Program to Find Armstrong Number in an Interval?"
   ]
  },
  {
   "cell_type": "markdown",
   "id": "ab86eae8-6651-44e5-8ee0-bf8ff0f5dec3",
   "metadata": {},
   "source": [
    "#### Answere"
   ]
  },
  {
   "cell_type": "code",
   "execution_count": 72,
   "id": "d7a5bb11-0b3d-4374-8b87-037e9dbc51df",
   "metadata": {},
   "outputs": [],
   "source": [
    "def farm(a,b):\n",
    "    s=[]\n",
    "    for k in range(a,b+1):\n",
    "        n=len(str(k))\n",
    "        A=[]\n",
    "        for i in str(k):\n",
    "            A.append(i)\n",
    "        c=0\n",
    "        for i in A:\n",
    "            c+=int(i)**n\n",
    "        if k==c:\n",
    "            s.append(k)\n",
    "        else:\n",
    "            continue\n",
    "    print(f\"The armstrong numbers between {a} to {b} is {s} \")\n",
    "        \n",
    "        "
   ]
  },
  {
   "cell_type": "code",
   "execution_count": 76,
   "id": "a60c0c8e-da67-49f0-8193-8b8f723cd158",
   "metadata": {},
   "outputs": [
    {
     "name": "stdout",
     "output_type": "stream",
     "text": [
      "The armstrong numbers between 0 to 5000000 is [0, 1, 2, 3, 4, 5, 6, 7, 8, 9, 153, 370, 371, 407, 1634, 8208, 9474, 54748, 92727, 93084, 548834, 1741725, 4210818] \n"
     ]
    }
   ],
   "source": [
    "farm(0,5000000)"
   ]
  },
  {
   "cell_type": "code",
   "execution_count": 58,
   "id": "601cfc98-33c3-46f3-86b4-3d4995132994",
   "metadata": {},
   "outputs": [
    {
     "name": "stdout",
     "output_type": "stream",
     "text": [
      "1\n",
      "2\n",
      "3\n",
      "4\n"
     ]
    }
   ],
   "source": [
    "A=1234\n",
    "for i in str(A):\n",
    "    print(int(i))"
   ]
  },
  {
   "cell_type": "markdown",
   "id": "79b51aef-47a0-40f4-b232-eed9fa7c9046",
   "metadata": {},
   "source": [
    "### 6. Write a Python Program to Find the Sum of Natural Numbers?"
   ]
  },
  {
   "cell_type": "markdown",
   "id": "174f166c-be6d-4d65-80e1-172f04fa4ed9",
   "metadata": {},
   "source": [
    "#### Answere"
   ]
  },
  {
   "cell_type": "code",
   "execution_count": 81,
   "id": "b15dd688-c205-4a61-961f-022a31fd3755",
   "metadata": {},
   "outputs": [],
   "source": [
    "def sumn(A):\n",
    "    c=0\n",
    "    for i in A:\n",
    "        c+=i\n",
    "    print(f\"Sum of given natural Numbers is = {c}\")\n",
    "        "
   ]
  },
  {
   "cell_type": "code",
   "execution_count": 82,
   "id": "dee5ceb7-562e-4009-9844-5a826fcfe398",
   "metadata": {},
   "outputs": [
    {
     "name": "stdout",
     "output_type": "stream",
     "text": [
      "Sum of given natural Numbers is = 361\n"
     ]
    }
   ],
   "source": [
    "A=[12,45,31,65,23,87,98]\n",
    "sumn(A)"
   ]
  },
  {
   "cell_type": "code",
   "execution_count": null,
   "id": "c12aec0c-fbb8-4a64-9088-ac661a8eb7cb",
   "metadata": {},
   "outputs": [],
   "source": []
  }
 ],
 "metadata": {
  "kernelspec": {
   "display_name": "Python 3 (ipykernel)",
   "language": "python",
   "name": "python3"
  },
  "language_info": {
   "codemirror_mode": {
    "name": "ipython",
    "version": 3
   },
   "file_extension": ".py",
   "mimetype": "text/x-python",
   "name": "python",
   "nbconvert_exporter": "python",
   "pygments_lexer": "ipython3",
   "version": "3.10.7"
  }
 },
 "nbformat": 4,
 "nbformat_minor": 5
}
