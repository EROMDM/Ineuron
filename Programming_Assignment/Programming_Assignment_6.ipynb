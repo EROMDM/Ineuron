{
 "cells": [
  {
   "cell_type": "markdown",
   "id": "67bf3ab4-687d-4603-89da-7b9c6a04e853",
   "metadata": {},
   "source": [
    "<h1 align=center><font size = 10>Full Stack Data Science BootCamp 2.0</font></h1>\n",
    "<h2 align=center><font size = 7>Python Basic</font></h2>\n",
    "\n",
    "<h3 align=left><font size = 5>Programming_Assignment_6</font></h3>\n",
    "<h4 align=left><font size = 4>Dnyaneshwar More</font></h4>"
   ]
  },
  {
   "cell_type": "markdown",
   "id": "98c2b76f-5eca-485e-84a0-7962e7169f22",
   "metadata": {},
   "source": [
    "### 1. Write a Python Program to Display Fibonacci Sequence Using Recursion?\n",
    "#### Answere"
   ]
  },
  {
   "cell_type": "code",
   "execution_count": 1,
   "id": "7fc34e15-8dca-4f30-90a7-270595f0fb11",
   "metadata": {},
   "outputs": [
    {
     "name": "stdout",
     "output_type": "stream",
     "text": [
      "128\n"
     ]
    }
   ],
   "source": [
    "def Fib(N):\n",
    "    if N==0:\n",
    "        return 0\n",
    "    elif N<0:\n",
    "        print(\"Incorrect Input\")\n",
    "    elif N==1 or N==2:\n",
    "        return 1\n",
    "    else:\n",
    "        return Fib(N-1)+Fib(N-1)\n",
    "        \n",
    "\n",
    "print(Fib(9))"
   ]
  },
  {
   "cell_type": "code",
   "execution_count": 2,
   "id": "c00ee454-a450-418c-9579-f6ccc772afd4",
   "metadata": {},
   "outputs": [
    {
     "data": {
      "text/plain": [
       "262144"
      ]
     },
     "execution_count": 2,
     "metadata": {},
     "output_type": "execute_result"
    }
   ],
   "source": [
    "Fib(20)"
   ]
  },
  {
   "cell_type": "markdown",
   "id": "37142153-4352-4fa0-8ace-622cf8199b0b",
   "metadata": {},
   "source": [
    "### 2. Write a Python Program to Find Factorial of Number Using Recursion?\n",
    "#### Answere"
   ]
  },
  {
   "cell_type": "code",
   "execution_count": 3,
   "id": "b9a54c52-541a-4ef3-aded-e8829dd831e5",
   "metadata": {},
   "outputs": [
    {
     "data": {
      "text/plain": [
       "6"
      ]
     },
     "execution_count": 3,
     "metadata": {},
     "output_type": "execute_result"
    }
   ],
   "source": [
    "def fact(n):\n",
    "    if n<1:\n",
    "        print(\"incorect Input\")\n",
    "    elif n==1:\n",
    "        return n\n",
    "    else:\n",
    "        return (n*fact(n-1))\n",
    "fact(3)\n",
    "    "
   ]
  },
  {
   "cell_type": "code",
   "execution_count": 4,
   "id": "e539863e-f136-47a3-91f9-0eb3aa1a649c",
   "metadata": {},
   "outputs": [
    {
     "data": {
      "text/plain": [
       "2432902008176640000"
      ]
     },
     "execution_count": 4,
     "metadata": {},
     "output_type": "execute_result"
    }
   ],
   "source": [
    "fact(20)"
   ]
  },
  {
   "cell_type": "markdown",
   "id": "67c272ba-3a33-49e9-94c1-cce6a20fb9a8",
   "metadata": {},
   "source": [
    "### 3. Write a Python Program to calculate your Body Mass Index?\n",
    "#### Answere"
   ]
  },
  {
   "cell_type": "code",
   "execution_count": 5,
   "id": "c80cee53-e68a-4058-9593-e6630399b81c",
   "metadata": {},
   "outputs": [],
   "source": [
    "def BMI(Weight,Height):\n",
    "    \"\"\" Where Weight in Kg AndHeight is m \"\"\"\n",
    "    return Weight/(Height**2)"
   ]
  },
  {
   "cell_type": "code",
   "execution_count": 6,
   "id": "681a99da-f18a-4ce3-8ce5-ce9486efd745",
   "metadata": {},
   "outputs": [
    {
     "name": "stdout",
     "output_type": "stream",
     "text": [
      "23.422090729783037\n"
     ]
    }
   ],
   "source": [
    "print(BMI(57,1.56))"
   ]
  },
  {
   "cell_type": "markdown",
   "id": "f93d8f4f-a1a4-4bad-9a59-88ba84fbb6d1",
   "metadata": {},
   "source": [
    "### 4. Write a Python Program to calculate the natural logarithm of any number?\n",
    "#### Answere"
   ]
  },
  {
   "cell_type": "code",
   "execution_count": 7,
   "id": "cad1a80e-2faa-4d27-a7e9-d84953d530c7",
   "metadata": {},
   "outputs": [
    {
     "data": {
      "text/plain": [
       "3.5553480614894135"
      ]
     },
     "execution_count": 7,
     "metadata": {},
     "output_type": "execute_result"
    }
   ],
   "source": [
    "import numpy as np\n",
    "def lOg(n):\n",
    "    return np.log(n)\n",
    "lOg(35)"
   ]
  },
  {
   "cell_type": "code",
   "execution_count": 8,
   "id": "de8837aa-f8c7-421e-a074-11dbb26dd00b",
   "metadata": {},
   "outputs": [
    {
     "data": {
      "text/plain": [
       "20.943832925280987"
      ]
     },
     "execution_count": 8,
     "metadata": {},
     "output_type": "execute_result"
    }
   ],
   "source": [
    "lOg(1246783566.56556)"
   ]
  },
  {
   "cell_type": "markdown",
   "id": "4dae5127-02dd-4635-9e52-5a3c0a3fa974",
   "metadata": {},
   "source": [
    "### 5. Write a Python Program for cube sum of first n natural numbers?\n",
    "#### Answere"
   ]
  },
  {
   "cell_type": "code",
   "execution_count": 9,
   "id": "c4315093-6871-4a2c-abab-5da8b7bdc564",
   "metadata": {},
   "outputs": [],
   "source": [
    "def Sum(N):\n",
    "    if N==1:\n",
    "        return N\n",
    "    else:\n",
    "        return (N+Sum(N-1))\n",
    "        "
   ]
  },
  {
   "cell_type": "code",
   "execution_count": 10,
   "id": "444d7a26-43da-4376-b6d8-8cdc5e5a6cd5",
   "metadata": {},
   "outputs": [
    {
     "data": {
      "text/plain": [
       "55"
      ]
     },
     "execution_count": 10,
     "metadata": {},
     "output_type": "execute_result"
    }
   ],
   "source": [
    "Sum(10)"
   ]
  },
  {
   "cell_type": "code",
   "execution_count": 11,
   "id": "d64e0dbc-e946-43e5-9911-d6c823cf5596",
   "metadata": {},
   "outputs": [
    {
     "data": {
      "text/plain": [
       "5050"
      ]
     },
     "execution_count": 11,
     "metadata": {},
     "output_type": "execute_result"
    }
   ],
   "source": [
    "Sum(100)"
   ]
  },
  {
   "cell_type": "code",
   "execution_count": null,
   "id": "180617a0-58b4-41dc-83ed-8aed6dedbb1b",
   "metadata": {},
   "outputs": [],
   "source": []
  }
 ],
 "metadata": {
  "kernelspec": {
   "display_name": "Python 3 (ipykernel)",
   "language": "python",
   "name": "python3"
  },
  "language_info": {
   "codemirror_mode": {
    "name": "ipython",
    "version": 3
   },
   "file_extension": ".py",
   "mimetype": "text/x-python",
   "name": "python",
   "nbconvert_exporter": "python",
   "pygments_lexer": "ipython3",
   "version": "3.10.7"
  }
 },
 "nbformat": 4,
 "nbformat_minor": 5
}
