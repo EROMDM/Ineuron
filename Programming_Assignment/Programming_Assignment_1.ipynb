{
 "cells": [
  {
   "cell_type": "markdown",
   "id": "a1dc3db2-be31-452e-be36-0f81665f83c6",
   "metadata": {},
   "source": [
    "<h1 align=center><font size = 10>Full Stack Data Science BootCamp 2.0</font></h1>\n",
    "<h2 align=center><font size = 7>Python Basic</font></h2>"
   ]
  },
  {
   "cell_type": "markdown",
   "id": "c0285dda-4369-402b-8fb1-efe2bd3a2283",
   "metadata": {},
   "source": [
    "<h3 align=left><font size = 5>Programing Assignment_1</font></h3>\n",
    "<h4 align=left><font size = 4>Dnyaneshwar More</font></h4>"
   ]
  },
  {
   "cell_type": "markdown",
   "id": "2d7c452e-ed17-4603-9def-c7dd81a3ca65",
   "metadata": {
    "tags": []
   },
   "source": [
    "## 1. Write a Python program to print &quot;Hello Python&quot;?"
   ]
  },
  {
   "cell_type": "markdown",
   "id": "27e374fc-5173-420e-86cf-d07a32032b2e",
   "metadata": {
    "tags": []
   },
   "source": [
    "### Answer:\n",
    "####  There are diffrent type of print types"
   ]
  },
  {
   "cell_type": "code",
   "execution_count": 1,
   "id": "0662838d-b6f2-42ea-8581-00438d902dea",
   "metadata": {},
   "outputs": [
    {
     "name": "stdout",
     "output_type": "stream",
     "text": [
      "Hello Python\n"
     ]
    }
   ],
   "source": [
    "print(\"Hello Python\")"
   ]
  },
  {
   "cell_type": "code",
   "execution_count": 2,
   "id": "8828ce37-e9a7-4bc0-b941-c6949eed5f91",
   "metadata": {},
   "outputs": [
    {
     "name": "stdout",
     "output_type": "stream",
     "text": [
      "Hello Python\n"
     ]
    }
   ],
   "source": [
    "A= \"Hello Python\"\n",
    "print(A)"
   ]
  },
  {
   "cell_type": "code",
   "execution_count": 3,
   "id": "1df80a7e-24d2-43e1-9661-1bdaa5dcc70a",
   "metadata": {},
   "outputs": [
    {
     "name": "stdout",
     "output_type": "stream",
     "text": [
      "Hello Python\n"
     ]
    }
   ],
   "source": [
    "print(f\"{A}\")"
   ]
  },
  {
   "cell_type": "code",
   "execution_count": 4,
   "id": "0f639cdd-d5c6-4da4-af3d-18b3ff14fd75",
   "metadata": {},
   "outputs": [
    {
     "name": "stdout",
     "output_type": "stream",
     "text": [
      "Hello Python\n"
     ]
    }
   ],
   "source": [
    "print(\"{}\".format(A))"
   ]
  },
  {
   "cell_type": "markdown",
   "id": "c02625e2-395b-4dd2-a4d6-a3c3bffab520",
   "metadata": {},
   "source": [
    "## 2. Write a Python program to do arithmetical operations addition and division.?"
   ]
  },
  {
   "cell_type": "markdown",
   "id": "ed9c58aa-1f10-446c-b7f1-582ec2fce735",
   "metadata": {},
   "source": [
    "### Answer:\n",
    "####  diffrent type of method to do arithmatic oprations \n"
   ]
  },
  {
   "cell_type": "code",
   "execution_count": 5,
   "id": "e653e242-bdf1-4f36-b4d3-405a6073e635",
   "metadata": {},
   "outputs": [
    {
     "name": "stdout",
     "output_type": "stream",
     "text": [
      "8\n",
      "1.6666666666666667\n"
     ]
    }
   ],
   "source": [
    "# direct oprations\n",
    "\n",
    "# Addition\n",
    "3+5\n",
    "# above output Print\n",
    "print(3+5)\n",
    "# Division\n",
    "3/2\n",
    "# above output Print\n",
    "print(5/3)"
   ]
  },
  {
   "cell_type": "code",
   "execution_count": 6,
   "id": "6c382d87-32b6-488b-9b05-4554d11054fe",
   "metadata": {},
   "outputs": [
    {
     "name": "stdout",
     "output_type": "stream",
     "text": [
      "this output for Addition Opration is 5\n",
      "this output for Addition Opration is 1.5\n"
     ]
    }
   ],
   "source": [
    "#using Assign variable\n",
    "a = 3\n",
    "b = 2\n",
    "# Addition\n",
    "c = a+b\n",
    "print(f\"this output for Addition Opration is {c}\")\n",
    "# Division\n",
    "d = a/b\n",
    "print(\"this output for Addition Opration is {}\".format(d))"
   ]
  },
  {
   "cell_type": "markdown",
   "id": "dc2bd7c1-6e5d-4390-afd5-75ee22bb6c1c",
   "metadata": {},
   "source": [
    "## 3. Write a Python program to find the area of a triangle?"
   ]
  },
  {
   "cell_type": "markdown",
   "id": "a76c83c6-5827-4e15-b2df-7b3af8f48c95",
   "metadata": {},
   "source": [
    "### Answer\n",
    "#### Area of trangle = one half into base into hight \n",
    "### Area = (1/2)*Base*Hight"
   ]
  },
  {
   "cell_type": "code",
   "execution_count": 7,
   "id": "0868431a-dfc8-46e5-9adf-782126a841c0",
   "metadata": {},
   "outputs": [
    {
     "name": "stdout",
     "output_type": "stream",
     "text": [
      "Area Of trangle 2015.0\n"
     ]
    }
   ],
   "source": [
    "# Fist we need to defind the hight of trangle and base of trangle\n",
    "Base = 155\n",
    "Hight = 65\n",
    "# Area of trangle\n",
    "Area = (1/5)*Base *Hight\n",
    "print(\"Area Of trangle {}\".format(Area))"
   ]
  },
  {
   "cell_type": "markdown",
   "id": "c0019699-0394-48e4-b7a3-9c4dd267761b",
   "metadata": {},
   "source": [
    "## 4. Write a Python program to swap two variables?"
   ]
  },
  {
   "cell_type": "code",
   "execution_count": 8,
   "id": "7d055a73-4cd7-44c0-9bea-fb741ca5adb1",
   "metadata": {},
   "outputs": [
    {
     "name": "stdout",
     "output_type": "stream",
     "text": [
      "12\n",
      "50\n"
     ]
    }
   ],
   "source": [
    "# let generate any two Variable\n",
    "D = 50\n",
    "C = 12\n",
    "\n",
    "D, C = C,D\n",
    "print(D)\n",
    "print(C)"
   ]
  },
  {
   "cell_type": "markdown",
   "id": "b7bceefa-d8ff-499f-86e3-8cc5aac7425a",
   "metadata": {},
   "source": [
    "## 5. Write a Python program to generate a random number?"
   ]
  },
  {
   "cell_type": "markdown",
   "id": "1d9fc272-4079-494c-8a12-17de8b445223",
   "metadata": {},
   "source": [
    "### Answer"
   ]
  },
  {
   "cell_type": "code",
   "execution_count": 9,
   "id": "76d3d31b-b3d9-432e-9759-f58b8f9eb496",
   "metadata": {},
   "outputs": [
    {
     "name": "stdout",
     "output_type": "stream",
     "text": [
      "0.9273391333853442\n"
     ]
    }
   ],
   "source": [
    "# here we need a import a random module\n",
    "import random\n",
    "\n",
    "a= random.random()\n",
    "print(a)"
   ]
  },
  {
   "cell_type": "code",
   "execution_count": null,
   "id": "eece671c-08a6-48fb-82b0-023385e7bf2e",
   "metadata": {},
   "outputs": [],
   "source": []
  }
 ],
 "metadata": {
  "kernelspec": {
   "display_name": "Python 3 (ipykernel)",
   "language": "python",
   "name": "python3"
  },
  "language_info": {
   "codemirror_mode": {
    "name": "ipython",
    "version": 3
   },
   "file_extension": ".py",
   "mimetype": "text/x-python",
   "name": "python",
   "nbconvert_exporter": "python",
   "pygments_lexer": "ipython3",
   "version": "3.10.7"
  }
 },
 "nbformat": 4,
 "nbformat_minor": 5
}
