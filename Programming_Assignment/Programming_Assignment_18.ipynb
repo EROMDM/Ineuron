{
 "cells": [
  {
   "cell_type": "markdown",
   "id": "a1dc3db2-be31-452e-be36-0f81665f83c6",
   "metadata": {},
   "source": [
    "<h1 align=center><font size = 10>Full Stack Data Science BootCamp 2.0</font></h1>\n",
    "<h2 align=center><font size = 7>Python Basic</font></h2>"
   ]
  },
  {
   "attachments": {},
   "cell_type": "markdown",
   "id": "c0285dda-4369-402b-8fb1-efe2bd3a2283",
   "metadata": {},
   "source": [
    "<h3 align=left><font size = 5>Programing Assignment_18</font></h3>\n",
    "<h4 align=left><font size = 4>Dnyaneshwar More</font></h4>"
   ]
  },
  {
   "attachments": {},
   "cell_type": "markdown",
   "id": "c91903b6",
   "metadata": {},
   "source": [
    "## Question 1 Create a function that takes a list of non-negative integers and strings and return a new list without the strings.\n",
    "Examples  \n",
    "filter_list([1, 2, \"a\", \"b\"]) ➞ [1, 2]  \n",
    "filter_list([1, \"a\", \"b\", 0, 15]) ➞ [1, 0, 15]   \n",
    "filter_list([1, 2, \"aasf\", \"1\", \"123\", 123]) ➞ [1, 2, 123]  \n",
    "### Answere"
   ]
  },
  {
   "cell_type": "code",
   "execution_count": 2,
   "id": "47562766",
   "metadata": {},
   "outputs": [],
   "source": [
    "def filter_list(list):\n",
    "    out_string = []\n",
    "    for i in list:\n",
    "        if type(i)== int and i >=0:\n",
    "            out_string.append(i)\n",
    "    return out_string"
   ]
  },
  {
   "cell_type": "code",
   "execution_count": 3,
   "id": "04d8d309",
   "metadata": {},
   "outputs": [
    {
     "name": "stdout",
     "output_type": "stream",
     "text": [
      "➞ [1, 2]\n",
      "➞ [1, 0, 15]\n",
      "➞ [1, 2, 123]\n"
     ]
    }
   ],
   "source": [
    "print(f'➞ {filter_list([1, 2, \"a\", \"b\"])}')\n",
    "print(f'➞ {filter_list([1, \"a\", \"b\", 0, 15])}')\n",
    "print(f'➞ {filter_list([1, 2, \"aasf\", \"1\", \"123\", 123])}')"
   ]
  },
  {
   "cell_type": "markdown",
   "id": "02535129",
   "metadata": {},
   "source": [
    "\n",
    "## Question 2 The \"Reverser\" takes a string as input and returns that string in reverse order, with the opposite case.  \n",
    "Examples  \n",
    "reverse(\"Hello World\") ➞ \"DLROw OLLEh\"   \n",
    "reverse(\"ReVeRsE\") ➞ \"eSrEvEr\"  \n",
    "reverse(\"Radar\") ➞ \"RADAr\"  \n",
    "### Answere"
   ]
  },
  {
   "cell_type": "code",
   "execution_count": 4,
   "id": "26a8c65c",
   "metadata": {},
   "outputs": [],
   "source": [
    "def reva(stra):\n",
    "    print(f'{stra}=> {stra[::-1].swapcase()}')\n"
   ]
  },
  {
   "cell_type": "code",
   "execution_count": 5,
   "id": "cda6b9cf",
   "metadata": {},
   "outputs": [
    {
     "name": "stdout",
     "output_type": "stream",
     "text": [
      "Hello World=> DLROw OLLEh\n",
      "ReVeRsE=> eSrEvEr\n",
      "Radar=> RADAr\n"
     ]
    }
   ],
   "source": [
    "reva('Hello World')\n",
    "reva(\"ReVeRsE\")\n",
    "reva(\"Radar\")"
   ]
  },
  {
   "attachments": {},
   "cell_type": "markdown",
   "id": "dc5c1d8b",
   "metadata": {},
   "source": [
    "\n",
    "## Question 3 You can assign variables from lists like this:\n",
    "lst = [1, 2, 3, 4, 5, 6]  \n",
    "first = lst[0]  \n",
    "middle = lst[1:-1]  \n",
    "last = lst[-1]  \n",
    "print(first) ➞ outputs 1  \n",
    "print(middle) ➞ outputs [2, 3, 4, 5]  \n",
    "print(last) ➞ outputs 6  \n",
    "With Python 3, you can assign variables from lists in a much more succinct way. Create\n",
    "variables first, middle and last from the given list using destructuring assignment\n",
    "(check the Resources tab for some examples), where:  \n",
    "first ➞ 1  \n",
    "middle ➞ [2, 3, 4, 5]  \n",
    "last ➞ 6\n",
    "\n",
    "Your task is to unpack the list writeyourcodehere into three variables, being first,\n",
    "middle, and last, with middle being everything in between the first and last element. Then\n",
    "print all three variables.\n",
    "### Answere"
   ]
  },
  {
   "cell_type": "code",
   "execution_count": 8,
   "id": "13605663",
   "metadata": {},
   "outputs": [
    {
     "name": "stdout",
     "output_type": "stream",
     "text": [
      "fist => 1\n",
      "middle => [2, 3, 4, 5, 3, 4, 5]\n",
      "last => 612\n"
     ]
    }
   ],
   "source": [
    "fist,*middle,last = [1,2,3,4,5,3,4,5,612]\n",
    "print (f'fist => {fist}')\n",
    "print(f'middle => {middle}')\n",
    "print(f'last => {last}')"
   ]
  },
  {
   "cell_type": "markdown",
   "id": "3e657528",
   "metadata": {},
   "source": [
    "\n",
    "## Question 4 Write a function that calculates the factorial of a number recursively.\n",
    "Examples\n",
    "factorial(5) ➞ 120  \n",
    "factorial(3) ➞ 6  \n",
    "factorial(1) ➞ 1  \n",
    "factorial(0) ➞ 1  \n",
    "### Answere"
   ]
  },
  {
   "cell_type": "code",
   "execution_count": 9,
   "id": "444417e4",
   "metadata": {},
   "outputs": [],
   "source": [
    "def fact(n):\n",
    "    if n==0:\n",
    "        return  1\n",
    "    return n*fact(n-1)"
   ]
  },
  {
   "cell_type": "code",
   "execution_count": 10,
   "id": "7a6489c3",
   "metadata": {},
   "outputs": [
    {
     "name": "stdout",
     "output_type": "stream",
     "text": [
      "factorial(5) ➞ 120\n",
      "factorial(3) ➞ 6\n",
      "factorial(1) ➞ 1\n",
      "factorial(0) ➞ 1\n"
     ]
    }
   ],
   "source": [
    "print(f'factorial(5) ➞ {fact(5)}')\n",
    "print(f'factorial(3) ➞ {fact(3)}')\n",
    "print(f'factorial(1) ➞ {fact(1)}')\n",
    "print(f'factorial(0) ➞ {fact(0)}')"
   ]
  },
  {
   "cell_type": "markdown",
   "id": "271313e2",
   "metadata": {},
   "source": [
    "\n",
    "## Question 5 Write a function that moves all elements of one type to the end of the list.\n",
    "Examples  \n",
    "move_to_end([1, 3, 2, 4, 4, 1], 1) ➞ [3, 2, 4, 4, 1, 1]  \n",
    "**Move all the 1s to the end of the array.**  \n",
    "move_to_end([7, 8, 9, 1, 2, 3, 4], 9) ➞ [7, 8, 1, 2, 3, 4, 9]  \n",
    "move_to_end([\"a\", \"a\", \"a\", \"b\"], \"a\") ➞ [\"b\", \"a\", \"a\", \"a\"]  \n",
    "### Answere"
   ]
  },
  {
   "cell_type": "code",
   "execution_count": 14,
   "id": "5552ca4a",
   "metadata": {},
   "outputs": [],
   "source": [
    "def movetoend(lista,num):\n",
    "    fist = []\n",
    "    secound = []\n",
    "    for i in lista:\n",
    "        if i ==  num:\n",
    "            secound.append(i)\n",
    "        else:\n",
    "            fist.append(i)\n",
    "    fist.extend(secound)\n",
    "    return fist"
   ]
  },
  {
   "cell_type": "code",
   "execution_count": 15,
   "id": "9c841d2d",
   "metadata": {},
   "outputs": [
    {
     "name": "stdout",
     "output_type": "stream",
     "text": [
      "move_to_end([1, 3, 2, 4, 4, 1], 1) ➞ [3, 2, 4, 4, 1, 1]\n",
      "move_to_end([7, 8, 9, 1, 2, 3, 4], 9) ➞ [7, 8, 1, 2, 3, 4, 9]\n",
      "move_to_end([\"a\", \"a\", \"a\", \"b\"], \"a\") ➞ ['b', 'a', 'a', 'a']\n"
     ]
    }
   ],
   "source": [
    "print(f'move_to_end([1, 3, 2, 4, 4, 1], 1) ➞ {movetoend([1, 3, 2, 4, 4, 1], 1)}')\n",
    "print(f'move_to_end([7, 8, 9, 1, 2, 3, 4], 9) ➞ {movetoend([7, 8, 9, 1, 2, 3, 4], 9)}')\n",
    "print(f'move_to_end([\"a\", \"a\", \"a\", \"b\"], \"a\") ➞ {movetoend([\"a\", \"a\", \"a\", \"b\"], \"a\")}')"
   ]
  },
  {
   "cell_type": "code",
   "execution_count": null,
   "id": "81c264ad",
   "metadata": {},
   "outputs": [],
   "source": []
  }
 ],
 "metadata": {
  "kernelspec": {
   "display_name": "Python 3 (ipykernel)",
   "language": "python",
   "name": "python3"
  },
  "language_info": {
   "codemirror_mode": {
    "name": "ipython",
    "version": 3
   },
   "file_extension": ".py",
   "mimetype": "text/x-python",
   "name": "python",
   "nbconvert_exporter": "python",
   "pygments_lexer": "ipython3",
   "version": "3.10.0"
  }
 },
 "nbformat": 4,
 "nbformat_minor": 5
}
