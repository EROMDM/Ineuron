{
 "cells": [
  {
   "attachments": {},
   "cell_type": "markdown",
   "metadata": {},
   "source": [
    "<h1 align=center><font size = 10>Full Stack Data Science BootCamp 2.0</font></h1>\n",
    "<h2 align=center><font size = 7>Python Basic</font></h2>\n",
    "\n",
    "<h3 align=left><font size = 5>Programming_Assignment_16</font></h3>\n",
    "<h4 align=left><font size = 4>Dnyaneshwar More</font></h4>"
   ]
  },
  {
   "attachments": {},
   "cell_type": "markdown",
   "metadata": {},
   "source": [
    "## Question 1. Write a function that stutters a word as if someone is struggling to read it. The first two letters are repeated twice with an ellipsis ... and space after each, and then the word is pronounced with a # Question mark ?.\n",
    "Examples\n",
    "stutter(&quot;incredible&quot;) ➞ &quot;in... in... incredible?&quot;\n",
    "stutter(&quot;enthusiastic&quot;) ➞ &quot;en... en... enthusiastic?&quot;\n",
    "stutter(&quot;outstanding&quot;) ➞ &quot;ou... ou... outstanding?&quot;\n",
    "\n",
    "Hint :- Assume all input is in lower case and at least two characters long.\n",
    "\n"
   ]
  },
  {
   "cell_type": "code",
   "execution_count": 11,
   "metadata": {},
   "outputs": [
    {
     "name": "stdout",
     "output_type": "stream",
     "text": [
      "324334dfg  ➞  32...32...324334dfg?\n",
      "erom  ➞  er...er...erom?\n"
     ]
    }
   ],
   "source": [
    "def stutterword(word):\n",
    "    return (word + '  ➞  ' + word.replace(word[:2],((word[:2]+'...')*2)+ word[:2]) +'?')\n",
    "\n",
    "for i in range (0,int(input(\"Enter th how many words stutter\"))):\n",
    "\n",
    "    print(stutterword(str(input(f\"Enter the word {i+1}th name\"))))"
   ]
  },
  {
   "attachments": {},
   "cell_type": "markdown",
   "metadata": {},
   "source": [
    "## Question 2.Create a function that takes an angle in radians and returns the correspondingangle in degrees rounded to one decimal place.\n",
    "Examples\n",
    "radians_to_degrees(1) ➞ 57.3\n",
    "radians_to_degrees(20) ➞ 1145.9\n",
    "radians_to_degrees(50) ➞ 2864.8\n",
    "\n"
   ]
  },
  {
   "cell_type": "code",
   "execution_count": 23,
   "metadata": {},
   "outputs": [
    {
     "name": "stdout",
     "output_type": "stream",
     "text": [
      "1 radians ➞  57.3 degrees\n",
      "20 radians ➞  1145.9 degrees\n",
      "2864 radians ➞  164095.1 degrees\n",
      "423 radians ➞  24236.1 degrees\n"
     ]
    }
   ],
   "source": [
    "import math\n",
    "def radi(apple):\n",
    "    a=((180/math.pi)*apple)\n",
    "    return (f\"{apple} radians ➞  {a:.1f} degrees\")\n",
    "\n",
    "for i in range(0,int(input(\"Enter the how many degrees convert\"))):\n",
    "    ou = input(f\" the {i+1}th degree is :-  \")\n",
    "    print(radi(int(ou)))\n",
    "    "
   ]
  },
  {
   "attachments": {},
   "cell_type": "markdown",
   "metadata": {},
   "source": [
    "## Question 3. In this challenge, establish if a given integer num is a Curzon number. If 1 plus 2 elevated to num is exactly divisible by 1 plus 2 multiplied by num, then num is a Curzon number. Given a non-negative integer num, implement a function that returns True if num is a Curzon number, or False otherwise.\n",
    "**Examples**\n",
    "`is_curzon(5) ➞ True\n",
    "#2 ** 5 + 1 = 33\n",
    "#2 * 5 + 1 = 11\n",
    "#33 is a multiple of 11\n",
    "is_curzon(10) ➞ False\n",
    "#2 ** 10 + 1 = 1025\n",
    "#2 * 10 + 1 = 21\n",
    "#1025 is not a multiple of 21\n",
    "is_curzon(14) ➞ True\n",
    "#2 ** 14 + 1 = 16385\n",
    "#2 * 14 + 1 = 29\n",
    "#16385 is a multiple of 29`"
   ]
  },
  {
   "cell_type": "code",
   "execution_count": 26,
   "metadata": {},
   "outputs": [
    {
     "name": "stdout",
     "output_type": "stream",
     "text": [
      "5 is a Curzon Number\n",
      "10 is Not a Curzon Number\n",
      "14 is a Curzon Number\n",
      "12 is Not a Curzon Number\n",
      "4 is Not a Curzon Number\n"
     ]
    }
   ],
   "source": [
    "def checkCurzopn(asd):\n",
    "    if (pow(2,asd)+1)%(2*asd + 1)==0:\n",
    "        return (f\"{asd} is a Curzon Number\")\n",
    "    else:\n",
    "        return (f\"{asd} is Not a Curzon Number\")\n",
    "for i in range(0,int(input(\"Enter the how many Chek Curzon numbers\"))):\n",
    "    \n",
    "    print(checkCurzopn(int(input(f\"Enter the {i+1}th Curzon Numbers \"))))"
   ]
  },
  {
   "attachments": {},
   "cell_type": "markdown",
   "metadata": {},
   "source": [
    "## Question 4.Given the side length x find the area of a hexagon.\n",
    "\n",
    "Examples\n",
    "area_of_hexagon(1) ➞ 2.6\n",
    "area_of_hexagon(2) ➞ 10.4\n",
    "area_of_hexagon(3) ➞ 23.4\n",
    "\n"
   ]
  },
  {
   "cell_type": "code",
   "execution_count": 44,
   "metadata": {},
   "outputs": [],
   "source": [
    "import math\n",
    "def areaofHexagaon(sid):\n",
    "    return (f\"Areaof hexagaon of side length {sid} is {(((3*math.sqrt(3))/2)*pow(sid,2)):.1f}\")"
   ]
  },
  {
   "cell_type": "code",
   "execution_count": 46,
   "metadata": {},
   "outputs": [
    {
     "name": "stdout",
     "output_type": "stream",
     "text": [
      "Areaof hexagaon of side length 0 is 0.0\n",
      "Areaof hexagaon of side length 1 is 2.6\n",
      "Areaof hexagaon of side length 2 is 10.4\n",
      "Areaof hexagaon of side length 3 is 23.4\n",
      "Areaof hexagaon of side length 4 is 41.6\n"
     ]
    }
   ],
   "source": [
    "for i in range(5):\n",
    "    print(areaofHexagaon(i))"
   ]
  },
  {
   "attachments": {},
   "cell_type": "markdown",
   "metadata": {},
   "source": [
    "## Question 5. Create a function that returns a base-2 (binary) representation of a base-10 (decimal) string number. To convert is simple: ((2) means base-2 and (10) means base-10) 010101001(2) = 1 + 8 + 32 + 128. Going from right to left, the value of the most right bit is 1, now from that every bit to the left will be x2 the value, value of an 8 bit binary numbers ar(256, 128, 64, 32, 16, 8, 4, 2, 1).\n",
    "Examples\n",
    "binary(1) ➞ &quot;1&quot;\n",
    "#1*1 = 1 \n",
    "binary(5) ➞ &quot;101&quot;\n",
    "#1*1 + 1*4 = 5 \n",
    "binary(10) ➞ &quot;1010&quot;\n",
    "#1*2 + 1*8 = 10"
   ]
  },
  {
   "cell_type": "code",
   "execution_count": 47,
   "metadata": {},
   "outputs": [],
   "source": [
    "def getBinary(i):\n",
    "    return (f\" Binary of {i} is {bin(i).replace('0b','')}\")"
   ]
  },
  {
   "cell_type": "code",
   "execution_count": 50,
   "metadata": {},
   "outputs": [
    {
     "name": "stdout",
     "output_type": "stream",
     "text": [
      " Binary of 0 is 0\n",
      " Binary of 1 is 1\n",
      " Binary of 2 is 10\n",
      " Binary of 3 is 11\n",
      " Binary of 4 is 100\n",
      " Binary of 5 is 101\n",
      " Binary of 6 is 110\n"
     ]
    }
   ],
   "source": [
    "for i in range(7):\n",
    "    print(getBinary(i))"
   ]
  }
 ],
 "metadata": {
  "kernelspec": {
   "display_name": "Python 3",
   "language": "python",
   "name": "python3"
  },
  "language_info": {
   "codemirror_mode": {
    "name": "ipython",
    "version": 3
   },
   "file_extension": ".py",
   "mimetype": "text/x-python",
   "name": "python",
   "nbconvert_exporter": "python",
   "pygments_lexer": "ipython3",
   "version": "3.10.0"
  },
  "orig_nbformat": 4,
  "vscode": {
   "interpreter": {
    "hash": "f006ae6f93146204920e569655d9c610aecaac5602e71f6c42cc1fc54e0fd425"
   }
  }
 },
 "nbformat": 4,
 "nbformat_minor": 2
}
