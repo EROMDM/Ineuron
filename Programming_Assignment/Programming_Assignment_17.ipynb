{
 "cells": [
  {
   "attachments": {},
   "cell_type": "markdown",
   "metadata": {},
   "source": [
    "<h1 align=center><font size = 10>Full Stack Data Science BootCamp 2.0</font></h1>\n",
    "<h2 align=center><font size = 7>Python Basic</font></h2>\n",
    "\n",
    "<h3 align=left><font size = 5>Programming_Assignment_17</font></h3>\n",
    "<h4 align=left><font size = 4>Dnyaneshwar More</font></h4>"
   ]
  },
  {
   "attachments": {},
   "cell_type": "markdown",
   "metadata": {},
   "source": [
    "### Question1. Create a function that takes three arguments a, b, c and returns the sum of the numbers that are evenly divided by c from the range a, b inclusive.\n",
    "Examples\n",
    "evenly_divisible(1, 10, 20) ➞ 0    \n",
    "__No number between 1 and 10 can be evenly divided by 20.__   \n",
    "evenly_divisible(1, 10, 2) ➞ 30   \n",
    " 2 + 4 + 6 + 8 + 10 = 30   \n",
    "evenly_divisible(1, 10, 3) ➞ 18   \n",
    " 3 + 6 + 9 = 18   \n",
    "\n"
   ]
  },
  {
   "cell_type": "code",
   "execution_count": 1,
   "metadata": {},
   "outputs": [],
   "source": [
    "def evenDivisible(a,b,c):\n",
    "    divlist = []\n",
    "    for num in range(a,b+1):\n",
    "        if num%c ==0:\n",
    "            divlist.append(num)\n",
    "    print(f\"{a,b,c}  is  {sum(divlist)}\")\n"
   ]
  },
  {
   "cell_type": "code",
   "execution_count": 2,
   "metadata": {},
   "outputs": [
    {
     "name": "stdout",
     "output_type": "stream",
     "text": [
      "(1, 10, 20)  is  0\n"
     ]
    }
   ],
   "source": [
    "evenDivisible(1,10,20)\n"
   ]
  },
  {
   "cell_type": "code",
   "execution_count": 3,
   "metadata": {},
   "outputs": [
    {
     "name": "stdout",
     "output_type": "stream",
     "text": [
      "(1, 10, 2)  is  30\n"
     ]
    }
   ],
   "source": [
    "evenDivisible(1,10,2)"
   ]
  },
  {
   "cell_type": "code",
   "execution_count": 4,
   "metadata": {},
   "outputs": [
    {
     "name": "stdout",
     "output_type": "stream",
     "text": [
      "(1, 10, 3)  is  18\n"
     ]
    }
   ],
   "source": [
    "evenDivisible(1,10,3)"
   ]
  },
  {
   "attachments": {},
   "cell_type": "markdown",
   "metadata": {},
   "source": [
    "### Question2. Create a function that returns True if a given inequality expression is correct and False otherwise.\n",
    "Examples\n",
    "\n",
    "\n",
    "`correct_signs(3 <, 7 < 11) ➞ True\n",
    "correct_signs(\"13 <> 44 < 33 < 1\") ➞ False\n",
    "correct_signs(\"1 > 2 > 6 > 9 < 3\") ➞ True`\n"
   ]
  },
  {
   "cell_type": "code",
   "execution_count": 5,
   "metadata": {},
   "outputs": [],
   "source": [
    "def checkEquality(a):\n",
    "    return (f\"{a} is {eval(a)}\")"
   ]
  },
  {
   "cell_type": "code",
   "execution_count": 6,
   "metadata": {},
   "outputs": [
    {
     "data": {
      "text/plain": [
       "'3<4<2 is False'"
      ]
     },
     "execution_count": 6,
     "metadata": {},
     "output_type": "execute_result"
    }
   ],
   "source": [
    "checkEquality('3<4<2')"
   ]
  },
  {
   "attachments": {},
   "cell_type": "markdown",
   "metadata": {},
   "source": [
    "\n",
    "## Question3. Create a function that replaces all the vowels in a string with a specified character.\n",
    "Examples\n",
    "replace_vowels(\"the aardvark\", \"#\") ➞ \"th# ##rdv#rk\"\n",
    "replace_vowels(\"minnie mouse\", \"?\") ➞ \"m?nn?? m??s?\"\n",
    "replace_vowels(\"shakespeare\", \"*\") ➞ \"sh*k*sp**r*\"\n"
   ]
  },
  {
   "cell_type": "code",
   "execution_count": 7,
   "metadata": {},
   "outputs": [],
   "source": [
    "def replacevowels(b,w):\n",
    "    vowels = ['a','e','i','o','u','A','E','I','O','U']\n",
    "    cOpy=b\n",
    "    for i in b:\n",
    "        if i in vowels:\n",
    "            b = b.replace(i,w)\n",
    "    return (f'({cOpy} , {w}) to {b}')"
   ]
  },
  {
   "cell_type": "code",
   "execution_count": 8,
   "metadata": {},
   "outputs": [
    {
     "name": "stdout",
     "output_type": "stream",
     "text": [
      "(The aardvark , #) to Th# ##rdv#rk\n"
     ]
    }
   ],
   "source": [
    "print(replacevowels(\"The aardvark\",'#'))"
   ]
  },
  {
   "attachments": {},
   "cell_type": "markdown",
   "metadata": {},
   "source": [
    "\n",
    "### Question4. Write a function that calculates the factorial of a number recursively.\n",
    "Examples\n",
    "factorial(5) ➞ 120\n",
    "factorial(3) ➞ 6\n",
    "factorial(1) ➞ 1\n",
    "factorial(0) ➞ 1\n",
    "\n"
   ]
  },
  {
   "cell_type": "code",
   "execution_count": 9,
   "metadata": {},
   "outputs": [],
   "source": [
    "def fact(n):\n",
    "    if n==0:\n",
    "        return 1\n",
    "    return fact(n-1)*n"
   ]
  },
  {
   "cell_type": "code",
   "execution_count": 10,
   "metadata": {},
   "outputs": [
    {
     "name": "stdout",
     "output_type": "stream",
     "text": [
      "0 factorial is 1\n",
      "1 factorial is 1\n",
      "2 factorial is 2\n",
      "3 factorial is 6\n",
      "4 factorial is 24\n",
      "5 factorial is 120\n",
      "6 factorial is 720\n",
      "7 factorial is 5040\n",
      "8 factorial is 40320\n",
      "9 factorial is 362880\n",
      "10 factorial is 3628800\n",
      "11 factorial is 39916800\n",
      "12 factorial is 479001600\n",
      "13 factorial is 6227020800\n",
      "14 factorial is 87178291200\n",
      "15 factorial is 1307674368000\n",
      "16 factorial is 20922789888000\n",
      "17 factorial is 355687428096000\n",
      "18 factorial is 6402373705728000\n",
      "19 factorial is 121645100408832000\n",
      "20 factorial is 2432902008176640000\n",
      "21 factorial is 51090942171709440000\n",
      "22 factorial is 1124000727777607680000\n",
      "23 factorial is 25852016738884976640000\n",
      "24 factorial is 620448401733239439360000\n"
     ]
    }
   ],
   "source": [
    "for i in range(25):\n",
    "    print(f\"{i} factorial is {fact(i)}\")"
   ]
  },
  {
   "attachments": {},
   "cell_type": "markdown",
   "metadata": {},
   "source": [
    "### Question 5 Hamming distance is the number of characters that differ between two strings.\n",
    "To illustrate:\n",
    "\n",
    "String1: \"abcbba\"\n",
    "String2: \"abcbda\"\n",
    "\n",
    "Hamming Distance: 1 - \"b\" vs. \"d\" is the only difference.\n",
    "Create a function that computes the hamming distance between two strings.\n",
    "\n",
    "Examples\n",
    "\n",
    "hamming_distance(\"abcde\", \"bcdef\") ➞ 5\n",
    "hamming_distance(\"abcde\", \"abcde\") ➞ 0\n",
    "hamming_distance(\"strong\", \"strung\") ➞ 1"
   ]
  },
  {
   "cell_type": "code",
   "execution_count": 11,
   "metadata": {},
   "outputs": [],
   "source": [
    "def getHamDistance(a,b):\n",
    "    if len(a)==len(b):\n",
    "        count = 0\n",
    "        for i in range(len(a)):\n",
    "            if a [i]!=b[i]:\n",
    "                count = count+1\n",
    "        return (f\"Hamming distance between {a} and {b} is {count}\")\n",
    "    else:\n",
    "        return f\"Both atring must be same length \""
   ]
  },
  {
   "cell_type": "code",
   "execution_count": 12,
   "metadata": {},
   "outputs": [
    {
     "data": {
      "text/plain": [
       "'Hamming distance between abcdef and aabcrf is 4'"
      ]
     },
     "execution_count": 12,
     "metadata": {},
     "output_type": "execute_result"
    }
   ],
   "source": [
    "getHamDistance(\"abcdef\",\"aabcrf\")"
   ]
  },
  {
   "cell_type": "code",
   "execution_count": null,
   "metadata": {},
   "outputs": [],
   "source": []
  }
 ],
 "metadata": {
  "kernelspec": {
   "display_name": "Python 3",
   "language": "python",
   "name": "python3"
  },
  "language_info": {
   "codemirror_mode": {
    "name": "ipython",
    "version": 3
   },
   "file_extension": ".py",
   "mimetype": "text/x-python",
   "name": "python",
   "nbconvert_exporter": "python",
   "pygments_lexer": "ipython3",
   "version": "3.10.0"
  },
  "orig_nbformat": 4
 },
 "nbformat": 4,
 "nbformat_minor": 2
}
