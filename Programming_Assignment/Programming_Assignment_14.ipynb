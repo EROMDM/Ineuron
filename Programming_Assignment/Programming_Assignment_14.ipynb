{
 "cells": [
  {
   "attachments": {},
   "cell_type": "markdown",
   "metadata": {},
   "source": [
    "<h1 align=center><font size = 10>Full Stack Data Science BootCamp 2.0</font></h1>\n",
    "<h2 align=center><font size = 7>Python Basic</font></h2>\n",
    "\n",
    "<h3 align=left><font size = 5>Programming_Assignment_14</font></h3>\n",
    "<h4 align=left><font size = 4>Dnyaneshwar More</font></h4>"
   ]
  },
  {
   "attachments": {},
   "cell_type": "markdown",
   "metadata": {},
   "source": [
    "# Question 1:\n",
    "Define a class with a generator which can iterate the numbers, which are divisible by\n",
    "7, between a given range 0 and n.\n",
    "\n"
   ]
  },
  {
   "cell_type": "code",
   "execution_count": 2,
   "metadata": {},
   "outputs": [
    {
     "name": "stdout",
     "output_type": "stream",
     "text": [
      "0 7 14 21 28 35 42 49 56 63 70 77 84 91 98 105 112 119 126 133 140 147 "
     ]
    }
   ],
   "source": [
    "class div_number():\n",
    "    def __init__(self,num):\n",
    "        self.num = num\n",
    "    def get_number(self):\n",
    "        for i in range(0,self.num+1):\n",
    "            if i%7==0:\n",
    "                yield i\n",
    "\n",
    "\n",
    "A = div_number(150)\n",
    "\n",
    "for i in A.get_number():\n",
    "    print(i,end=\" \")"
   ]
  },
  {
   "cell_type": "markdown",
   "metadata": {},
   "source": [
    "# Question 2:\n",
    "Write a program to compute the frequency of the words from the input. The output\n",
    "should output after sorting the key alphanumerically.\n",
    "Suppose the following input is supplied to the program:\n",
    "New to Python or choosing between Python 2 and Python 3? Read Python 2 or\n",
    "Python 3.\n",
    "Then, the output should be:\n",
    "2:2\n",
    "3.:1\n",
    "3?:1\n",
    "New:1\n",
    "Python:5\n",
    "Read:1\n",
    "and:1\n",
    "between:1\n",
    "choosing:1\n",
    "or:2\n",
    "to:1\n",
    "\n"
   ]
  },
  {
   "cell_type": "code",
   "execution_count": 15,
   "metadata": {},
   "outputs": [
    {
     "name": "stdout",
     "output_type": "stream",
     "text": [
      "2:2 3.:1 3?:1 New:1 Python:5 Read:1 and:1 between:1 choosing:1 or:2 to:1 \n",
      " New to Python or choosing between Python 2 and Python 3? Read Python 2 or Python 3.\n"
     ]
    }
   ],
   "source": [
    "def check_f():\n",
    "    St = input(\"Enter the string : \")\n",
    "    frequency = {}\n",
    "    for i in St.split(\" \"):\n",
    "        if (frequency.get(i)==None):\n",
    "            frequency[i] = 1\n",
    "        else:\n",
    "            frequency[i] +=1\n",
    "    for i in sorted(frequency):\n",
    "        print(f\"{i}:{frequency[i]}\",end=\" \")\n",
    "    \n",
    "        \n",
    "check_f()"
   ]
  },
  {
   "cell_type": "markdown",
   "metadata": {},
   "source": [
    "# Question 3:\n",
    "\n",
    "Define a class Person and its two child classes: Male and Female. All classes have a\n",
    "method &quot;getGender&quot; which can print &quot;Male&quot; for Male class and &quot;Female&quot; for Female\n",
    "class.\n",
    "\n"
   ]
  },
  {
   "cell_type": "code",
   "execution_count": 6,
   "metadata": {},
   "outputs": [
    {
     "name": "stdout",
     "output_type": "stream",
     "text": [
      "Male\n",
      "female\n"
     ]
    }
   ],
   "source": [
    "class person():\n",
    "    def get_gender():\n",
    "        pass\n",
    "class male(person):\n",
    "    def get_gender():\n",
    "        print(\"Male\")\n",
    "class female(person):\n",
    "    def get_gender():\n",
    "        print(\"female\")\n",
    "\n",
    "male.get_gender()\n",
    "female.get_gender()"
   ]
  },
  {
   "cell_type": "markdown",
   "metadata": {},
   "source": [
    "# Question 4:\n",
    "Please write a program to generate all sentences where subject is in [&quot;I&quot;, &quot;You&quot;] and\n",
    "verb is in [&quot;Play&quot;, &quot;Love&quot;] and the object is in [&quot;Hockey&quot;,&quot;Football&quot;].\n"
   ]
  },
  {
   "cell_type": "code",
   "execution_count": 16,
   "metadata": {},
   "outputs": [
    {
     "name": "stdout",
     "output_type": "stream",
     "text": [
      "I play Hockey \n",
      "I play Football \n",
      "I love Hockey \n",
      "I love Football \n",
      "You play Hockey \n",
      "You play Football \n",
      "You love Hockey \n",
      "You love Football \n"
     ]
    }
   ],
   "source": [
    "def genrateSentance():\n",
    "    s = ['I','You']\n",
    "    v = ['play', 'love']\n",
    "    o = ['Hockey', 'Football']\n",
    "    for i in s:\n",
    "        for j in v:\n",
    "            for k in o:\n",
    "                print(f'{i} {j} {k}',end=\" \\n\")\n",
    "genrateSentance()"
   ]
  },
  {
   "cell_type": "markdown",
   "metadata": {},
   "source": [
    "\n",
    "# Question 5:\n",
    "Please write a program to compress and decompress the string &quot;hello world!hello\n",
    "world!hello world!hello world!&quot;.\n",
    "\n"
   ]
  },
  {
   "cell_type": "code",
   "execution_count": 25,
   "metadata": {},
   "outputs": [
    {
     "name": "stdout",
     "output_type": "stream",
     "text": [
      "hel2o world!hel2o world!hel2o world!hel2o world!\n",
      "hello world!hello world!hello world!hello world!\n"
     ]
    }
   ],
   "source": [
    "class cd():\n",
    "    def __init__(self,IIN):\n",
    "        self.instrin = IIN\n",
    "    \n",
    "    def com(self):\n",
    "        out = self.instrin[0]\n",
    "        count = 1\n",
    "        for i in range(len(self.instrin)-1):\n",
    "            if (self.instrin[i]==self.instrin[i+1]):\n",
    "                count+=1\n",
    "            else:\n",
    "                if count>1:\n",
    "                    out+=str(count)\n",
    "                out += self.instrin[i+1]\n",
    "                count = 1\n",
    "        if count>1:\n",
    "            out+=str(count)\n",
    "        print(out)\n",
    "        \n",
    "    def dec(self):\n",
    "        n=len(self.instrin)\n",
    "        p =''\n",
    "        for i in range(len(self.instrin)):\n",
    "            if ((self.instrin[i].isdigit())):\n",
    "               p+=p[-1]*(int(self.instrin[i])-1)\n",
    "            else:\n",
    "                p+=(self.instrin[i])\n",
    "        print(p)\n",
    "        \n",
    "        \n",
    "A=cd(\"hello world!hello world!hello world!hello world!\")\n",
    "A.com()\n",
    "A.dec()"
   ]
  },
  {
   "cell_type": "markdown",
   "metadata": {},
   "source": [
    "# Question 6:\n",
    "Please write a binary search function which searches an item in a sorted list. The\n",
    "function should return the index of element to be searched in the list."
   ]
  },
  {
   "cell_type": "code",
   "execution_count": 26,
   "metadata": {},
   "outputs": [
    {
     "name": "stdout",
     "output_type": "stream",
     "text": [
      "1\n",
      "2\n",
      "INput Element not in the list\n"
     ]
    }
   ],
   "source": [
    "class A():\n",
    "    def __init__(self,inli,num):\n",
    "        self.inl = inli\n",
    "        self.n = num\n",
    "    def bin_num(self):\n",
    "        low = 0\n",
    "      \n",
    "        high = len(self.inl)-1\n",
    "        while low<=high:\n",
    "            mid = int((low+high)/2)\n",
    "            if self.inl[mid]<self.n:\n",
    "                low= mid+1\n",
    "            elif self.inl[mid] >self.n:\n",
    "                high=mid-1\n",
    "            else:\n",
    "                print(mid)\n",
    "                return mid\n",
    "            \n",
    "            \n",
    "           \n",
    "        else:\n",
    "            print(\"INput Element not in the list\")\n",
    "\n",
    "\n",
    "k=[1, 2, 3, 4, 5, 6, 7, 8, 9]\n",
    "Y = A(k,2)\n",
    "Y.bin_num()\n",
    "S = A([445,3,4,1,4,7],4)\n",
    "S.bin_num()\n",
    "f = A([445,3,4,1,4,7],98)\n",
    "f.bin_num()"
   ]
  },
  {
   "cell_type": "code",
   "execution_count": null,
   "metadata": {},
   "outputs": [],
   "source": []
  }
 ],
 "metadata": {
  "kernelspec": {
   "display_name": "Python 3",
   "language": "python",
   "name": "python3"
  },
  "language_info": {
   "codemirror_mode": {
    "name": "ipython",
    "version": 3
   },
   "file_extension": ".py",
   "mimetype": "text/x-python",
   "name": "python",
   "nbconvert_exporter": "python",
   "pygments_lexer": "ipython3",
   "version": "3.10.0"
  },
  "orig_nbformat": 4,
  "vscode": {
   "interpreter": {
    "hash": "f006ae6f93146204920e569655d9c610aecaac5602e71f6c42cc1fc54e0fd425"
   }
  }
 },
 "nbformat": 4,
 "nbformat_minor": 2
}
