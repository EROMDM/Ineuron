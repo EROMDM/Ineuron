{
 "cells": [
  {
   "cell_type": "markdown",
   "id": "18666f1c-c6fb-4c29-8e93-15eb9c15af5a",
   "metadata": {},
   "source": [
    "<h1 align=center><font size = 10>Full Stack Data Science BootCamp 2.0</font></h1>\n",
    "<h2 align=center><font size = 7>Python Basic</font></h2>\n",
    "\n",
    "<h3 align=left><font size = 5>Programming_Assignment_5</font></h3>\n",
    "<h4 align=left><font size = 4>Dnyaneshwar More</font></h4>"
   ]
  },
  {
   "cell_type": "markdown",
   "id": "8bc29e8e-2535-4c9c-8941-f71d9850b33b",
   "metadata": {},
   "source": [
    "### 1. Write a Python Program to Find LCM?\n",
    "#### Answere"
   ]
  },
  {
   "cell_type": "code",
   "execution_count": 22,
   "id": "a460bd63-160b-42f8-a631-22a278ca3706",
   "metadata": {},
   "outputs": [],
   "source": [
    "def lcm(x,y):\n",
    "    if x>y:\n",
    "        g=x\n",
    "        l=y\n",
    "    else:\n",
    "        g=y\n",
    "        l=x\n",
    "    if g%x==0 and g%y==0:\n",
    "        print(f\"lcm is {g}\")\n",
    "       \n",
    "    else:\n",
    "        for i in range(l,x*y+1):\n",
    "            if i%x==0 and i%y==0:\n",
    "                print(f\"lcm of {x} and {y}  is {i}\")\n",
    "                break\n",
    "            else:\n",
    "                continue   \n",
    "        "
   ]
  },
  {
   "cell_type": "code",
   "execution_count": 23,
   "id": "f80e83c2-3c24-4480-81e6-cea8c438bdef",
   "metadata": {},
   "outputs": [
    {
     "name": "stdout",
     "output_type": "stream",
     "text": [
      "lcm of 1956 and 2001  is 1304652\n",
      "lcm of 12 and 43  is 516\n",
      "lcm of 34 and 21  is 714\n",
      "lcm of 56 and 87  is 4872\n",
      "lcm of 1596 and 2001  is 1064532\n"
     ]
    }
   ],
   "source": [
    "lcm(1956,2001)\n",
    "A=[[12,43],[34,21],[56,87],[1596,2001]]\n",
    "for i in range(0,len(A)):\n",
    "    lcm(A[i][0],A[i][1])"
   ]
  },
  {
   "cell_type": "markdown",
   "id": "2d188deb-6556-45e5-9b40-d52f890458b2",
   "metadata": {},
   "source": [
    "### 2. Write a Python Program to Find HCF?\n",
    "#### Answere"
   ]
  },
  {
   "cell_type": "code",
   "execution_count": 75,
   "id": "9c530ee4-ca69-45fa-8eab-8b238637dc8e",
   "metadata": {},
   "outputs": [],
   "source": [
    "def hc1(x,y):\n",
    "    hc=0\n",
    "    if x>y:\n",
    "        d=y\n",
    "    else:\n",
    "        d=x\n",
    "    for i in range(1,d+1):\n",
    "        if i%x==0 and i%y==0:\n",
    "            hc=i\n",
    "            continue\n",
    "        else:\n",
    "            continue\n",
    "    print(f\"The LCF of {x} and {y} is {hc}\")\n",
    "            "
   ]
  },
  {
   "cell_type": "code",
   "execution_count": 76,
   "id": "f38239c6-9d0d-452d-898e-0bb937f170d5",
   "metadata": {},
   "outputs": [
    {
     "name": "stdin",
     "output_type": "stream",
     "text": [
      "Enter the value of N1  12\n",
      "Enter the value of N2  11\n"
     ]
    },
    {
     "name": "stdout",
     "output_type": "stream",
     "text": [
      "hcf=<function hcf at 0x000001C1F6BFF1C0>\n"
     ]
    }
   ],
   "source": [
    "n1=int(input(\"Enter the value of N1 \"))\n",
    "n2=int(input(\"Enter the value of N2 \"))\n",
    "if n1>n2:\n",
    "    m=n2\n",
    "else:\n",
    "    m=n1\n",
    "for i in range (1,m+1):\n",
    "    if i%n1==0 and i%n2==0:\n",
    "        hcf=1\n",
    "print(f\"hcf={hcf}\")"
   ]
  },
  {
   "cell_type": "code",
   "execution_count": 71,
   "id": "70c2cb74-e2fb-49b3-8ecf-0d253c1a95de",
   "metadata": {},
   "outputs": [
    {
     "name": "stdout",
     "output_type": "stream",
     "text": [
      "The LCF of 15 and 3 is 0\n"
     ]
    }
   ],
   "source": [
    "hcf(15,3)"
   ]
  },
  {
   "cell_type": "markdown",
   "id": "68921c19-6214-49d7-a21b-1969fd4735a8",
   "metadata": {},
   "source": [
    "### 3. Write a Python Program to Convert Decimal to Binary, Octal and Hexadecimal?\n",
    "#### Answere"
   ]
  },
  {
   "cell_type": "code",
   "execution_count": 9,
   "id": "6c2e7d6c-a45f-4350-bdb7-25444ee37641",
   "metadata": {},
   "outputs": [],
   "source": [
    "def DT_ALL_CON(A):\n",
    "    print(f\"Decimtl of {A} To Binary {bin(A)}\")\n",
    "    print(f\"Decimtl of {A} To Octal {oct(A)}\")\n",
    "    print(f\"Decimtl of {A} To Hexadecimal {hex(A)}\")\n",
    "    \n"
   ]
  },
  {
   "cell_type": "code",
   "execution_count": 11,
   "id": "e15dd5a4-464b-486a-b6f3-429630d23baa",
   "metadata": {},
   "outputs": [
    {
     "name": "stdout",
     "output_type": "stream",
     "text": [
      "Decimtl of 12 To Binary 0b1100\n",
      "Decimtl of 12 To Octal 0o14\n",
      "Decimtl of 12 To Hexadecimal 0xc\n",
      "Decimtl of 43 To Binary 0b101011\n",
      "Decimtl of 43 To Octal 0o53\n",
      "Decimtl of 43 To Hexadecimal 0x2b\n",
      "Decimtl of 122 To Binary 0b1111010\n",
      "Decimtl of 122 To Octal 0o172\n",
      "Decimtl of 122 To Hexadecimal 0x7a\n",
      "Decimtl of 158697 To Binary 0b100110101111101001\n",
      "Decimtl of 158697 To Octal 0o465751\n",
      "Decimtl of 158697 To Hexadecimal 0x26be9\n",
      "Decimtl of 23 To Binary 0b10111\n",
      "Decimtl of 23 To Octal 0o27\n",
      "Decimtl of 23 To Hexadecimal 0x17\n",
      "Decimtl of 65 To Binary 0b1000001\n",
      "Decimtl of 65 To Octal 0o101\n",
      "Decimtl of 65 To Hexadecimal 0x41\n"
     ]
    }
   ],
   "source": [
    "A=[12,43,122,158697,23,65]\n",
    "for i in A:\n",
    "    DT_ALL_CON(i)"
   ]
  },
  {
   "cell_type": "markdown",
   "id": "66dfdabf-a028-4fdf-99bb-848ba5dfccc5",
   "metadata": {
    "tags": []
   },
   "source": [
    "### 4. Write a Python Program To Find ASCII value of a character?\n",
    "#### Answere"
   ]
  },
  {
   "cell_type": "code",
   "execution_count": 18,
   "id": "056b3521-3fdc-480c-a59b-e80594e36bbf",
   "metadata": {},
   "outputs": [],
   "source": [
    "def asccii(A):\n",
    "    for char in A:\n",
    "        print(f\"{char} \\t {ord(char)}\")\n"
   ]
  },
  {
   "cell_type": "code",
   "execution_count": 22,
   "id": "7b2ad749-af2b-4802-a67d-7121291a7629",
   "metadata": {},
   "outputs": [
    {
     "name": "stdout",
     "output_type": "stream",
     "text": [
      "1 \t 49\n",
      "2 \t 50\n",
      "4 \t 52\n",
      "3 \t 51\n",
      "1 \t 49\n",
      "2 \t 50\n",
      "2 \t 50\n",
      "H \t 72\n",
      "e \t 101\n",
      "l \t 108\n",
      "l \t 108\n",
      "o \t 111\n",
      "S \t 83\n",
      "a \t 97\n",
      "m \t 109\n",
      "a \t 97\n",
      "d \t 100\n",
      "h \t 104\n",
      "a \t 97\n",
      "r \t 114\n",
      "n \t 110\n",
      "1 \t 49\n",
      "5 \t 53\n",
      "8 \t 56\n",
      "6 \t 54\n",
      "9 \t 57\n",
      "7 \t 55\n",
      "2 \t 50\n",
      "3 \t 51\n",
      "6 \t 54\n",
      "5 \t 53\n"
     ]
    }
   ],
   "source": [
    "A=[12,43,122,\"Hello\",'Samadharn',158697,23,65]\n",
    "for i in A:\n",
    "    asccii(str(i))"
   ]
  },
  {
   "cell_type": "markdown",
   "id": "1530eb15-696f-475c-9494-ebaba60f5b0d",
   "metadata": {},
   "source": [
    "### 5. Write a Python Program to Make a Simple Calculator with 4 basic mathematical operations?\n",
    "#### Answere"
   ]
  },
  {
   "cell_type": "code",
   "execution_count": 1,
   "id": "d36585fd-4165-47eb-8031-c61c4108b298",
   "metadata": {},
   "outputs": [],
   "source": [
    "\n",
    "\n",
    "def Simple_Calculater(x,y):\n",
    "    def a():\n",
    "        return x+y\n",
    "    def s():\n",
    "        return x-y\n",
    "    def m():\n",
    "        return x*y\n",
    "    def d():\n",
    "        return x/y\n",
    "    print(\"Select Opration\")\n",
    "    print(\"1.Add\")\n",
    "    print(\"2.Sub\")\n",
    "    print(\"3.Mul\")\n",
    "    print(\"4.Div\")\n",
    "    while True:\n",
    "        C=input(\"Enter Your Choice 1,2,3,4\")\n",
    "        if C in ('1','2','3','4'):\n",
    "            if C=='1':\n",
    "                print(f\"{x} + {y} = {a()}\")\n",
    "            elif C=='2':\n",
    "                print(f\"{x} - {y} = {s()}\")\n",
    "            elif C=='3':\n",
    "                print(f\"{x} x {y} = {m()}\")\n",
    "            elif C=='4':\n",
    "                print(f\"{x} / {y} = {d()}\")\n",
    "            \n",
    "            nc=input(\"Lets Do Next Oprations Y/N\")\n",
    "            if nc=='N':\n",
    "                break\n",
    "            elif nc=='Y':\n",
    "                continue\n",
    "            else:\n",
    "                print(\"Invalid Output\")\n",
    "        else:\n",
    "            print(\"Invalid Output\")\n",
    "            return Simple\n"
   ]
  },
  {
   "cell_type": "code",
   "execution_count": 2,
   "id": "929b4396-3e09-4ca1-9048-0ca0173119f4",
   "metadata": {},
   "outputs": [
    {
     "name": "stdout",
     "output_type": "stream",
     "text": [
      "Select Opration\n",
      "1.Add\n",
      "2.Sub\n",
      "3.Mul\n",
      "4.Div\n"
     ]
    },
    {
     "name": "stdin",
     "output_type": "stream",
     "text": [
      "Enter Your Choice 1,2,3,4 1\n"
     ]
    },
    {
     "name": "stdout",
     "output_type": "stream",
     "text": [
      "5 + 12 = 17\n"
     ]
    },
    {
     "name": "stdin",
     "output_type": "stream",
     "text": [
      "Lets Do Next Oprations Y/N Y\n",
      "Enter Your Choice 1,2,3,4 5\n"
     ]
    },
    {
     "name": "stdout",
     "output_type": "stream",
     "text": [
      "Invalid Output\n"
     ]
    },
    {
     "ename": "NameError",
     "evalue": "name 'retry' is not defined",
     "output_type": "error",
     "traceback": [
      "\u001b[1;31m---------------------------------------------------------------------------\u001b[0m",
      "\u001b[1;31mNameError\u001b[0m                                 Traceback (most recent call last)",
      "Cell \u001b[1;32mIn [2], line 1\u001b[0m\n\u001b[1;32m----> 1\u001b[0m \u001b[43mSimple_Calculater\u001b[49m\u001b[43m(\u001b[49m\u001b[38;5;241;43m5\u001b[39;49m\u001b[43m,\u001b[49m\u001b[38;5;241;43m12\u001b[39;49m\u001b[43m)\u001b[49m\n",
      "Cell \u001b[1;32mIn [1], line 36\u001b[0m, in \u001b[0;36mSimple_Calculater\u001b[1;34m(x, y)\u001b[0m\n\u001b[0;32m     34\u001b[0m \u001b[38;5;28;01melse\u001b[39;00m:\n\u001b[0;32m     35\u001b[0m     \u001b[38;5;28mprint\u001b[39m(\u001b[38;5;124m\"\u001b[39m\u001b[38;5;124mInvalid Output\u001b[39m\u001b[38;5;124m\"\u001b[39m)\n\u001b[1;32m---> 36\u001b[0m     \u001b[43mretry\u001b[49m\n",
      "\u001b[1;31mNameError\u001b[0m: name 'retry' is not defined"
     ]
    }
   ],
   "source": [
    "Simple_Calculater(5,12)"
   ]
  },
  {
   "cell_type": "code",
   "execution_count": null,
   "id": "2a29d3fb-2d50-42e6-b7d3-81cbb61cb624",
   "metadata": {},
   "outputs": [],
   "source": []
  }
 ],
 "metadata": {
  "kernelspec": {
   "display_name": "Python 3 (ipykernel)",
   "language": "python",
   "name": "python3"
  },
  "language_info": {
   "codemirror_mode": {
    "name": "ipython",
    "version": 3
   },
   "file_extension": ".py",
   "mimetype": "text/x-python",
   "name": "python",
   "nbconvert_exporter": "python",
   "pygments_lexer": "ipython3",
   "version": "3.10.7"
  }
 },
 "nbformat": 4,
 "nbformat_minor": 5
}
