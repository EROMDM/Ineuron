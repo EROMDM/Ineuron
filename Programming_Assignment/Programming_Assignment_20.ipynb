{
 "cells": [
  {
   "cell_type": "markdown",
   "id": "a1dc3db2-be31-452e-be36-0f81665f83c6",
   "metadata": {},
   "source": [
    "<h1 align=center><font size = 10>Full Stack Data Science BootCamp 2.0</font></h1>\n",
    "<h2 align=center><font size = 7>Python Basic</font></h2>"
   ]
  },
  {
   "attachments": {},
   "cell_type": "markdown",
   "id": "c0285dda-4369-402b-8fb1-efe2bd3a2283",
   "metadata": {},
   "source": [
    "<h3 align=left><font size = 5>Programing Assignment_20</font></h3>\n",
    "<h4 align=left><font size = 4>Dnyaneshwar More</font></h4>"
   ]
  },
  {
   "attachments": {},
   "cell_type": "markdown",
   "id": "24a681aa",
   "metadata": {},
   "source": [
    "## Question 1\n",
    "Create a function that takes a list of strings and integers, and filters out the list so that it  \n",
    "returns a list of integers only.  \n",
    "Examples  \n",
    "filter_list([1, 2, 3, \"a\", \"b\", 4]) ➞ [1, 2, 3, 4]   \n",
    "filter_list([\"A\", 0, \"Edabit\", 1729, \"Python\", \"1729\"]) ➞ [0, 1729]   \n",
    "filter_list([\"Nothing\", \"here\"]) ➞ []  \n",
    "### Answere\n"
   ]
  },
  {
   "cell_type": "code",
   "execution_count": 2,
   "id": "1b429ac0",
   "metadata": {},
   "outputs": [],
   "source": [
    "def onlyinterger(dm):\n",
    "    Output=[]\n",
    "    for i in dm:\n",
    "        if type(i)==int:\n",
    "            Output.append(i)\n",
    "    print(f'{dm}  => {Output}')\n"
   ]
  },
  {
   "cell_type": "code",
   "execution_count": 5,
   "id": "6de82ab2",
   "metadata": {},
   "outputs": [
    {
     "name": "stdout",
     "output_type": "stream",
     "text": [
      "[1, 2, 3, 'a', 'b', 4]=> [1, 2, 3, 4]\n",
      "['A', 0, 'Edabit', 1729, 'Python', '1729']=> [0, 1729]\n",
      "['Nothing', 'here']=> []\n"
     ]
    }
   ],
   "source": [
    "onlyinterger([1, 2, 3, \"a\", \"b\", 4])\n",
    "onlyinterger([\"A\", 0, \"Edabit\", 1729, \"Python\", \"1729\"])\n",
    "onlyinterger([\"Nothing\", \"here\"])"
   ]
  },
  {
   "cell_type": "markdown",
   "id": "413a0c9c",
   "metadata": {},
   "source": [
    "## Question 2  \n",
    "Given a list of numbers, create a function which returns the list but with each element's  \n",
    "index in the list added to itself. This means you add 0 to the number at index 0, add 1 to the  \n",
    "number at index 1, etc...  \n",
    "Examples  \n",
    "add_indexes([0, 0, 0, 0, 0]) ➞ [0, 1, 2, 3, 4]  \n",
    "add_indexes([1, 2, 3, 4, 5]) ➞ [1, 3, 5, 7, 9]  \n",
    "add_indexes([5, 4, 3, 2, 1]) ➞ [5, 5, 5, 5, 5]  \n",
    "### Answere\n"
   ]
  },
  {
   "cell_type": "code",
   "execution_count": 6,
   "id": "092ebdd2",
   "metadata": {},
   "outputs": [],
   "source": [
    "def addindex(asd):\n",
    "    output=[]\n",
    "    for i in range(len(asd)):\n",
    "        output.append(i+asd[i])\n",
    "    print(f'{asd}  =>  {output}')"
   ]
  },
  {
   "cell_type": "code",
   "execution_count": 8,
   "metadata": {},
   "outputs": [
    {
     "name": "stdout",
     "output_type": "stream",
     "text": [
      "[0, 0, 0, 0, 0]  =>  [0, 1, 2, 3, 4]\n",
      "[1, 2, 3, 4, 5]  =>  [1, 3, 5, 7, 9]\n",
      "[5, 4, 3, 2, 1]  =>  [5, 5, 5, 5, 5]\n"
     ]
    }
   ],
   "source": [
    "addindex([0, 0, 0, 0, 0])\n",
    "addindex([1, 2, 3, 4, 5])\n",
    "addindex([5, 4, 3, 2, 1])"
   ]
  },
  {
   "cell_type": "markdown",
   "id": "eb05c58e",
   "metadata": {},
   "source": [
    "## Question 3  \n",
    "Create a function that takes the height and radius of a cone as arguments and returns the  \n",
    "volume of the cone rounded to the nearest hundredth. See the resources tab for the formula.  \n",
    "\n",
    "Examples  \n",
    "cone_volume(3, 2) ➞ 12.57  \n",
    "\n",
    "cone_volume(15, 6) ➞ 565.49  \n",
    "cone_volume(18, 0) ➞ 0  \n",
    "### Answere\n"
   ]
  },
  {
   "cell_type": "code",
   "execution_count": 11,
   "id": "e64e887a",
   "metadata": {},
   "outputs": [],
   "source": [
    "import math\n",
    "def cubev(asd,r):\n",
    "    output= (math.pi)*pow(r,2)*(asd/3)\n",
    "    print(f'Cube Valume  =>  {output:.2f}')"
   ]
  },
  {
   "cell_type": "code",
   "execution_count": 13,
   "id": "c8b0c134",
   "metadata": {},
   "outputs": [
    {
     "name": "stdout",
     "output_type": "stream",
     "text": [
      "Cube Valume  =>  2215.87\n",
      "Cube Valume  =>  12.57\n"
     ]
    }
   ],
   "source": [
    "cubev(4,23)\n",
    "cubev(3,2)"
   ]
  },
  {
   "cell_type": "markdown",
   "id": "5f5021fc",
   "metadata": {},
   "source": [
    "## Question 4  \n",
    "This Triangular Number Sequence is generated from a pattern of dots that form a triangle.  \n",
    "The first 5 numbers of the sequence, or dots, are:  \n",
    "1, 3, 6, 10, 15  \n",
    "This means that the first triangle has just one dot, the second one has three dots, the third one  \n",
    "has 6 dots and so on.  \n",
    "Write a function that gives the number of dots with its corresponding triangle number of the  \n",
    "sequence. \n",
    "Examples  \n",
    "triangle(1) ➞ 1  \n",
    "triangle(6) ➞ 21  \n",
    "triangle(215) ➞ 23220  \n",
    "### Answere\n"
   ]
  },
  {
   "cell_type": "code",
   "execution_count": 20,
   "id": "137846eb",
   "metadata": {},
   "outputs": [],
   "source": [
    "def sdf(sa):\n",
    "    print(f'Output  => {int((sa)*((sa+1)/2))}')"
   ]
  },
  {
   "cell_type": "code",
   "execution_count": 21,
   "id": "5e827da2",
   "metadata": {},
   "outputs": [
    {
     "name": "stdout",
     "output_type": "stream",
     "text": [
      "Output  => 1\n",
      "Output  => 21\n",
      "Output  => 23220\n"
     ]
    }
   ],
   "source": [
    "sdf(1)\n",
    "sdf(6)\n",
    "sdf(215)"
   ]
  },
  {
   "cell_type": "markdown",
   "id": "38c9277e",
   "metadata": {},
   "source": [
    "## Question 5  \n",
    "Create a function that takes a list of numbers between 1 and 10 (excluding one number) and  \n",
    "returns the missing number.  \n",
    "Examples  \n",
    "missing_num([1, 2, 3, 4, 6, 7, 8, 9, 10]) ➞ 5  \n",
    "missing_num([7, 2, 3, 6, 5, 9, 1, 4, 8]) ➞ 10  \n",
    "missing_num([10, 5, 1, 2, 4, 6, 8, 3, 9]) ➞ 7  \n",
    "\n",
    "### Answere"
   ]
  },
  {
   "cell_type": "code",
   "execution_count": 27,
   "id": "eece671c-08a6-48fb-82b0-023385e7bf2e",
   "metadata": {},
   "outputs": [],
   "source": [
    "def missou(a):\n",
    "    \n",
    "    output=[]\n",
    "    for i in range(1,11):\n",
    "\n",
    "        if i not in  a:\n",
    "            output.append(i)\n",
    "    print(f'{a} => {output}')"
   ]
  },
  {
   "cell_type": "code",
   "execution_count": 28,
   "id": "67cac28a",
   "metadata": {},
   "outputs": [
    {
     "name": "stdout",
     "output_type": "stream",
     "text": [
      "[1, 2, 3, 4, 6, 7, 8, 9, 10] => [5]\n",
      "[7, 2, 3, 6, 5, 9, 1, 4, 8] => [10]\n",
      "[10, 5, 1, 2, 4, 6, 8, 3, 9] => [7]\n"
     ]
    }
   ],
   "source": [
    "missou([1, 2, 3, 4, 6, 7, 8, 9, 10])\n",
    "missou([7, 2, 3, 6, 5, 9, 1, 4, 8])\n",
    "missou([10, 5, 1, 2, 4, 6, 8, 3, 9])"
   ]
  },
  {
   "cell_type": "code",
   "execution_count": null,
   "id": "e5d1d6ea",
   "metadata": {},
   "outputs": [],
   "source": []
  }
 ],
 "metadata": {
  "kernelspec": {
   "display_name": "Python 3 (ipykernel)",
   "language": "python",
   "name": "python3"
  },
  "language_info": {
   "codemirror_mode": {
    "name": "ipython",
    "version": 3
   },
   "file_extension": ".py",
   "mimetype": "text/x-python",
   "name": "python",
   "nbconvert_exporter": "python",
   "pygments_lexer": "ipython3",
   "version": "3.10.0"
  }
 },
 "nbformat": 4,
 "nbformat_minor": 5
}
