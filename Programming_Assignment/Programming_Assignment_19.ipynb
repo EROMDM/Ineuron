{
 "cells": [
  {
   "cell_type": "markdown",
   "id": "a1dc3db2-be31-452e-be36-0f81665f83c6",
   "metadata": {},
   "source": [
    "<h1 align=center><font size = 10>Full Stack Data Science BootCamp 2.0</font></h1>\n",
    "<h2 align=center><font size = 7>Python Basic</font></h2>"
   ]
  },
  {
   "attachments": {},
   "cell_type": "markdown",
   "id": "c0285dda-4369-402b-8fb1-efe2bd3a2283",
   "metadata": {},
   "source": [
    "<h3 align=left><font size = 5>Programing Assignment_19</font></h3>\n",
    "<h4 align=left><font size = 4>Dnyaneshwar More</font></h4>"
   ]
  },
  {
   "attachments": {},
   "cell_type": "markdown",
   "id": "eece671c-08a6-48fb-82b0-023385e7bf2e",
   "metadata": {},
   "source": [
    "## Question1 Create a function that takes a string and returns a string in which each character is repeated once.\n",
    "``Examples``  \n",
    "double_char(\"String\") ➞ \"SSttrriinngg\"  \n",
    "double_char(\"Hello World!\") ➞ \"HHeelllloo WWoorrlldd!!\"  \n",
    "double_char(\"1234!_ \") ➞ \"11223344!!__ \" \n",
    "### Answere\n"
   ]
  },
  {
   "cell_type": "code",
   "execution_count": 1,
   "id": "2e87df03",
   "metadata": {},
   "outputs": [],
   "source": [
    "def doub(ch):\n",
    "    cha=''\n",
    "    for i in ch:\n",
    "        cha+=i*2\n",
    "    return cha\n",
    "\n"
   ]
  },
  {
   "cell_type": "code",
   "execution_count": 3,
   "id": "93575a48",
   "metadata": {},
   "outputs": [
    {
     "name": "stdout",
     "output_type": "stream",
     "text": [
      "double_char(\"String\")=>ssttrriinngg\n",
      "double_char(\"Hello World!\")=>HHeelllloo  WWoorrdd\n",
      "double_char(\"1234!_\")=>1122334455__!!\n"
     ]
    }
   ],
   "source": [
    "print(f'double_char(\"String\")=>{doub(\"string\")}')\n",
    "print(f'double_char(\"Hello World!\")=>{doub(\"Hello Word\")}')\n",
    "print(f'double_char(\"1234!_\")=>{doub(\"12345_!\")}')"
   ]
  },
  {
   "attachments": {},
   "cell_type": "markdown",
   "id": "a87d2b42",
   "metadata": {},
   "source": [
    "## Question2  \n",
    "Create a function that reverses a boolean value and returns the string \"boolean expected\"  \n",
    "if another variable type is given.  \n",
    "`Examples`  \n",
    "reverse(True) ➞ False  \n",
    "reverse(False) ➞ True  \n",
    "reverse(0) ➞ \"boolean expected\"  \n",
    "reverse(None) ➞ \"boolean expected\"  \n",
    "### Answere\n"
   ]
  },
  {
   "cell_type": "code",
   "execution_count": 4,
   "id": "85f577eb",
   "metadata": {},
   "outputs": [],
   "source": [
    "def rev(ab):\n",
    "    if type(ab)==bool:\n",
    "        return not ab\n",
    "    else:\n",
    "        return \"Boolen Expected\"\n"
   ]
  },
  {
   "cell_type": "code",
   "execution_count": 5,
   "id": "c91ccbb6",
   "metadata": {},
   "outputs": [
    {
     "name": "stdout",
     "output_type": "stream",
     "text": [
      "reverse(True) ➞ False\n",
      "reverse(False) ➞ True\n",
      "reverse(0) ➞ Boolen Expected\n",
      "reverse(None) ➞ Boolen Expected\n"
     ]
    }
   ],
   "source": [
    "print(f'reverse(True) ➞ {rev(True)}')\n",
    "print(f'reverse(False) ➞ {rev(False)}')\n",
    "print(f'reverse(0) ➞ {rev(0)}')\n",
    "print(f'reverse(None) ➞ {rev(None)}')"
   ]
  },
  {
   "attachments": {},
   "cell_type": "markdown",
   "id": "256ab5e6",
   "metadata": {},
   "source": [
    "## Question3\n",
    "Create a function that returns the thickness (in meters) of a piece of paper after folding it n\n",
    "number of times. The paper starts off with a thickness of 0.5mm.  \n",
    "`Examples`\n",
    "num_layers(1) ➞ \"0.001m\"  \n",
    "__Paper folded once is 1mm (equal to 0.001m)__  \n",
    "num_layers(4) ➞ \"0.008m\"  \n",
    "__Paper folded 4 times is 8mm (equal to 0.008m)__  \n",
    "num_layers(21) ➞ \"1048.576m\"  \n",
    "__Paper folded 21 times is 1048576mm (equal to 1048.576m)__  \n",
    "### Answere\n"
   ]
  },
  {
   "cell_type": "code",
   "execution_count": 14,
   "id": "9eef5b8a",
   "metadata": {},
   "outputs": [],
   "source": [
    "def nulay(n):\n",
    "    ou=0.5\n",
    "    for i in range(n):\n",
    "        ou*=2\n",
    "    print(f'OUtput => {ou/1000} m')\n",
    "\n"
   ]
  },
  {
   "cell_type": "code",
   "execution_count": 15,
   "id": "2fc471dc",
   "metadata": {},
   "outputs": [
    {
     "name": "stdout",
     "output_type": "stream",
     "text": [
      "OUtput => 0.016 m\n",
      "OUtput => 0.002 m\n",
      "OUtput => 0.256 m\n",
      "OUtput => 536870.912 m\n"
     ]
    }
   ],
   "source": [
    "nulay(5)\n",
    "nulay(2)\n",
    "nulay(9)\n",
    "nulay(30)"
   ]
  },
  {
   "attachments": {},
   "cell_type": "markdown",
   "id": "ad9d7975",
   "metadata": {},
   "source": [
    "## Question4\n",
    "\n",
    "Create a function that takes a single string as argument and returns an ordered list containing  \n",
    "the indices of all capital letters in the string.  \n",
    "`Examples`  \n",
    "index_of_caps(\"eDaBiT\") ➞ [1, 3, 5]  \n",
    "index_of_caps(\"eQuINoX\") ➞ [1, 3, 4, 6]  \n",
    "index_of_caps(\"determine\") ➞ []  \n",
    "index_of_caps(\"STRIKE\") ➞ [0, 1, 2, 3, 4, 5]  \n",
    "index_of_caps(\"sUn\") ➞ [1]    \n",
    "### Answere\n"
   ]
  },
  {
   "cell_type": "code",
   "execution_count": 16,
   "id": "56622ec6",
   "metadata": {},
   "outputs": [],
   "source": [
    "def caps(lis):\n",
    "    ou=[]\n",
    "    for i in lis:\n",
    "        if i.isupper():\n",
    "            ou.append(lis.index(i))\n",
    "    print(f'{lis} => {ou}')"
   ]
  },
  {
   "cell_type": "code",
   "execution_count": 17,
   "id": "c896c3b7",
   "metadata": {},
   "outputs": [
    {
     "name": "stdout",
     "output_type": "stream",
     "text": [
      "eDaBiT => [1, 3, 5]\n",
      "eQuINoX => [1, 3, 4, 6]\n",
      "determine => []\n",
      "STRIKE => [0, 1, 2, 3, 4, 5]\n",
      "sUn => [1]\n"
     ]
    }
   ],
   "source": [
    "caps(\"eDaBiT\")\n",
    "caps(\"eQuINoX\")\n",
    "caps(\"determine\")\n",
    "caps(\"STRIKE\")\n",
    "caps(\"sUn\")"
   ]
  },
  {
   "attachments": {},
   "cell_type": "markdown",
   "id": "af8a3fab",
   "metadata": {},
   "source": [
    "## Question5  \n",
    "Using list comprehensions, create a function that finds all even numbers from 1 to the given\n",
    "number.  \n",
    "`Examples`  \n",
    "find_even_nums(8) ➞ [2, 4, 6, 8]  \n",
    "find_even_nums(4) ➞ [2, 4]   \n",
    "find_even_nums(2) ➞ [2]  \n",
    "\n",
    "### Answere"
   ]
  },
  {
   "cell_type": "code",
   "execution_count": 20,
   "id": "3c557564",
   "metadata": {},
   "outputs": [],
   "source": [
    "def findevennum(num):\n",
    "    out = [i for i in range(1,num+1) if i%2==0]\n",
    "    print(f'output => {out}')"
   ]
  },
  {
   "cell_type": "code",
   "execution_count": 21,
   "id": "61bbc5bb",
   "metadata": {},
   "outputs": [
    {
     "name": "stdout",
     "output_type": "stream",
     "text": [
      "output => [2, 4, 6, 8, 10, 12, 14, 16, 18, 20, 22]\n",
      "output => [2, 4, 6, 8, 10, 12, 14, 16, 18, 20, 22, 24]\n",
      "output => [2]\n"
     ]
    }
   ],
   "source": [
    "findevennum(23)\n",
    "findevennum(25)\n",
    "findevennum(2)"
   ]
  },
  {
   "cell_type": "code",
   "execution_count": null,
   "id": "364ace9f",
   "metadata": {},
   "outputs": [],
   "source": []
  }
 ],
 "metadata": {
  "kernelspec": {
   "display_name": "Python 3 (ipykernel)",
   "language": "python",
   "name": "python3"
  },
  "language_info": {
   "codemirror_mode": {
    "name": "ipython",
    "version": 3
   },
   "file_extension": ".py",
   "mimetype": "text/x-python",
   "name": "python",
   "nbconvert_exporter": "python",
   "pygments_lexer": "ipython3",
   "version": "3.10.0"
  }
 },
 "nbformat": 4,
 "nbformat_minor": 5
}
