{
 "cells": [
  {
   "cell_type": "markdown",
   "id": "a1dc3db2-be31-452e-be36-0f81665f83c6",
   "metadata": {},
   "source": [
    "<h1 align=center><font size = 10>Full Stack Data Science BootCamp 2.0</font></h1>\n",
    "<h2 align=center><font size = 7>Python Basic</font></h2>"
   ]
  },
  {
   "attachments": {},
   "cell_type": "markdown",
   "id": "c0285dda-4369-402b-8fb1-efe2bd3a2283",
   "metadata": {},
   "source": [
    "<h3 align=left><font size = 5>Programing Assignment_22</font></h3>\n",
    "<h4 align=left><font size = 4>Dnyaneshwar More</font></h4>"
   ]
  },
  {
   "attachments": {},
   "cell_type": "markdown",
   "id": "1b467ee4",
   "metadata": {},
   "source": [
    "## Question  1  \n",
    "Create a function that takes three parameters where:  \n",
    "-   x is the start of the range (inclusive).  \n",
    "-   y is the end of the range (inclusive).  \n",
    "-   n is the divisor to be checked against.  \n",
    "Return an ordered list with numbers in the range that are divisible by the third parameter n.\n",
    "Return an empty list if there are no numbers that are divisible by n.  \n",
    "Examples  \n",
    "list_operation(1, 10, 3) ➞ [3, 6, 9]  \n",
    "list_operation(7, 9, 2) ➞ [8]  \n",
    "list_operation(15, 20, 7) ➞ []  \n",
    "\n",
    "### Answere    "
   ]
  },
  {
   "cell_type": "code",
   "execution_count": 1,
   "id": "569897f7",
   "metadata": {},
   "outputs": [],
   "source": [
    "def lenta(a,b,c):\n",
    "    d=[]\n",
    "    for i in range(a-1,b,c):\n",
    "        d.append(i)\n",
    "    print(f'List operation {a,b,c}==> {d[1:]}')"
   ]
  },
  {
   "cell_type": "code",
   "execution_count": 2,
   "id": "d230da63",
   "metadata": {},
   "outputs": [
    {
     "name": "stdout",
     "output_type": "stream",
     "text": [
      "List operation (1, 10, 3)==> [3, 6, 9]\n",
      "List operation (7, 9, 2)==> [8]\n",
      "List operation (15, 20, 7)==> []\n",
      "List operation (2, 25, 3)==> [4, 7, 10, 13, 16, 19, 22]\n"
     ]
    }
   ],
   "source": [
    "lenta(1,10,3)\n",
    "lenta(7,9,2)\n",
    "lenta(15,20,7)\n",
    "lenta(2,25,3)"
   ]
  },
  {
   "attachments": {},
   "cell_type": "markdown",
   "id": "d792244c",
   "metadata": {},
   "source": [
    "## Question  2  \n",
    "Create a function that takes in two lists and returns True if the second list follows the first listby one element,  \n",
    " and False otherwise. In other words, determine if the second list is the first  \n",
    "list shifted to the right by 1.  \n",
    "Examples  \n",
    "simon_says([1, 2], [5, 1]) ➞ True  \n",
    "simon_says([1, 2], [5, 5]) ➞ False  \n",
    "simon_says([1, 2, 3, 4, 5], [0, 1, 2, 3, 4]) ➞ True  \n",
    "simon_says([1, 2, 3, 4, 5], [5, 5, 1, 2, 3]) ➞ False  \n",
    "Notes  \n",
    "-   Both input lists will be of the same length, and will have a minimum length of 2.  \n",
    "-   The values of the 0-indexed element in the second list and the n-1th indexed element  \n",
    "in the first list do not matter.  \n",
    "\n",
    "### Answere    "
   ]
  },
  {
   "cell_type": "code",
   "execution_count": 3,
   "id": "37f98f9e",
   "metadata": {},
   "outputs": [],
   "source": [
    "def simon_says(a,b):\n",
    "    if len(a)==len(b) and len(a)>1:\n",
    "        if (a[:-1])==(b[1:]):\n",
    "            print(True)\n",
    "        else:\n",
    "            print(False)"
   ]
  },
  {
   "cell_type": "code",
   "execution_count": 4,
   "metadata": {},
   "outputs": [
    {
     "name": "stdout",
     "output_type": "stream",
     "text": [
      "True\n",
      "False\n",
      "True\n",
      "False\n"
     ]
    }
   ],
   "source": [
    "simon_says([1, 2], [5, 1]) \n",
    "simon_says([1, 2], [5, 5]) \n",
    "simon_says([1, 2, 3, 4, 5], [0, 1, 2, 3, 4]) \n",
    "simon_says([1, 2, 3, 4, 5], [5, 5, 1, 2, 3]) "
   ]
  },
  {
   "attachments": {},
   "cell_type": "markdown",
   "id": "53e8bb17",
   "metadata": {},
   "source": [
    "## Question  3  \n",
    "A group of friends have decided to start a secret society. The name will be the first letter of\n",
    "each of their names, sorted in alphabetical order.  \n",
    "Create a function that takes in a list of names and returns the name of the secret society.  \n",
    "\n",
    "Examples  \n",
    "society_name([\"Adam\", \"Sarah\", \"Malcolm\"]) ➞ \"AMS\"  \n",
    "society_name([\"Harry\", \"Newt\", \"Luna\", \"Cho\"]) ➞ \"CHLN\"  \n",
    "society_name([\"Phoebe\", \"Chandler\", \"Rachel\", \"Ross\", \"Monica\", \"Joey\"])  \n",
    "\n",
    "### Answere    "
   ]
  },
  {
   "cell_type": "code",
   "execution_count": 5,
   "id": "00308e4f",
   "metadata": {},
   "outputs": [],
   "source": [
    "def society_name(a):\n",
    "    b=[]\n",
    "    for i in a:\n",
    "        b.append(i[0])\n",
    "    c= ''.join(sorted(b))\n",
    "    print(f' Society names {a} ==> {c}')\n",
    "\n"
   ]
  },
  {
   "cell_type": "code",
   "execution_count": 6,
   "id": "8b3f4341",
   "metadata": {},
   "outputs": [
    {
     "name": "stdout",
     "output_type": "stream",
     "text": [
      " Society names ['sagar', 'DM'] ==> Ds\n",
      " Society names ['Adam', 'Sarah', 'Malcolm'] ==> AMS\n",
      " Society names ['Harry', 'Newt', 'Luna', 'Cho'] ==> CHLN\n",
      " Society names ['Phoebe', 'Chandler', 'Rachel', 'Ross', 'Monica', 'Joey'] ==> CJMPRR\n"
     ]
    }
   ],
   "source": [
    "society_name([\"sagar\",\"DM\"])\n",
    "society_name([\"Adam\", \"Sarah\", \"Malcolm\"])\n",
    "society_name([\"Harry\", \"Newt\", \"Luna\", \"Cho\"]) \n",
    "society_name([\"Phoebe\", \"Chandler\", \"Rachel\", \"Ross\", \"Monica\", \"Joey\"]) "
   ]
  },
  {
   "attachments": {},
   "cell_type": "markdown",
   "id": "ab61d90a",
   "metadata": {},
   "source": [
    "## Question  4  \n",
    "An isogram is a word that has no duplicate letters. Create a function that takes a string and\n",
    "returns either True or False depending on whether or not it's an \"isogram\".  \n",
    "Examples  \n",
    "is_isogram(\"Algorism\") ➞ True  \n",
    "is_isogram(\"PasSword\") ➞ False  \n",
    "__Not case sensitive.__  \n",
    "is_isogram(\"Consecutive\") ➞ False  \n",
    "Notes  \n",
    "-   Ignore letter case (should not be case sensitive).  \n",
    "-   All test cases contain valid one word strings.  \n",
    "\n",
    "### Answere    "
   ]
  },
  {
   "cell_type": "code",
   "execution_count": 7,
   "id": "3093405c",
   "metadata": {},
   "outputs": [],
   "source": [
    "def is_isogram(a):\n",
    "    b=[]\n",
    "    c=True\n",
    "    d=a.lower()\n",
    "    for i in d:\n",
    "        if i in b:\n",
    "            c=False\n",
    "            break\n",
    "        else:\n",
    "            b.append(i)\n",
    "            continue\n",
    "    print(c)"
   ]
  },
  {
   "cell_type": "code",
   "execution_count": 8,
   "id": "a8f2607b",
   "metadata": {},
   "outputs": [
    {
     "name": "stdout",
     "output_type": "stream",
     "text": [
      "True\n",
      "True\n",
      "False\n"
     ]
    }
   ],
   "source": [
    "is_isogram(\"sagr\")\n",
    "is_isogram(\"Algorism\")\n",
    "is_isogram(\"PasSword\")"
   ]
  },
  {
   "attachments": {},
   "cell_type": "markdown",
   "id": "4381ca35",
   "metadata": {},
   "source": [
    "## Question  5  \n",
    "Create a function that takes a string and returns True or False, depending on whether the\n",
    "characters are in order or not.  \n",
    "Examples  \n",
    "is_in_order(\"abc\") ➞ True  \n",
    "is_in_order(\"edabit\") ➞ False  \n",
    "is_in_order(\"123\") ➞ True  \n",
    "is_in_order(\"xyzz\") ➞ True  \n",
    "Notes  \n",
    "You don't have to handle empty strings.  \n",
    "\n",
    "### Answere    "
   ]
  },
  {
   "cell_type": "code",
   "execution_count": 9,
   "id": "eece671c-08a6-48fb-82b0-023385e7bf2e",
   "metadata": {},
   "outputs": [],
   "source": [
    "def is_in_order(a):\n",
    "    c=''.join(sorted(a))\n",
    "    if c==a:\n",
    "        print(f'In oreder {a} ==> {True}')\n",
    "    else:\n",
    "        \n",
    "        print(f'In oreder {a} ==> {False}')"
   ]
  },
  {
   "cell_type": "code",
   "execution_count": 10,
   "id": "d2e6bd82",
   "metadata": {},
   "outputs": [
    {
     "name": "stdout",
     "output_type": "stream",
     "text": [
      "In oreder abc ==> True\n",
      "In oreder edabit ==> False\n",
      "In oreder 123 ==> True\n",
      "In oreder xyzz ==> True\n"
     ]
    }
   ],
   "source": [
    "is_in_order(\"abc\")   \n",
    "is_in_order(\"edabit\")   \n",
    "is_in_order(\"123\")   \n",
    "is_in_order(\"xyzz\")"
   ]
  },
  {
   "cell_type": "code",
   "execution_count": null,
   "id": "6de0a578",
   "metadata": {},
   "outputs": [],
   "source": []
  }
 ],
 "metadata": {
  "kernelspec": {
   "display_name": "Python 3 (ipykernel)",
   "language": "python",
   "name": "python3"
  },
  "language_info": {
   "codemirror_mode": {
    "name": "ipython",
    "version": 3
   },
   "file_extension": ".py",
   "mimetype": "text/x-python",
   "name": "python",
   "nbconvert_exporter": "python",
   "pygments_lexer": "ipython3",
   "version": "3.10.0"
  }
 },
 "nbformat": 4,
 "nbformat_minor": 5
}
