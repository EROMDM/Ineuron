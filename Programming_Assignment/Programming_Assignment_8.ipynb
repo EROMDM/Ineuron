{
 "cells": [
  {
   "cell_type": "markdown",
   "id": "6d9fc476-182f-4813-a541-8a66a86efe43",
   "metadata": {},
   "source": [
    "<h1 align=center><font size = 10>Full Stack Data Science BootCamp 2.0</font></h1>\n",
    "<h2 align=center><font size = 7>Python Basic</font></h2>\n",
    "\n",
    "<h3 align=left><font size = 5>Programming_Assignment_8</font></h3>\n",
    "<h4 align=left><font size = 4>Dnyaneshwar More</font></h4>"
   ]
  },
  {
   "cell_type": "markdown",
   "id": "5089a349-1d1c-417f-9e82-dd742142bba0",
   "metadata": {},
   "source": [
    "# 1. Write a Python Program to Add Two Matrices?\n",
    "## Answere"
   ]
  },
  {
   "cell_type": "code",
   "execution_count": null,
   "id": "b8cd2be7-229e-4dce-9d68-23dc6cbcb95f",
   "metadata": {},
   "outputs": [],
   "source": [
    "def addmatrix(X,Y):\n",
    "    result=X\n",
    "    for i in range(len(X)):\n",
    "        if type(X[i])==list:\n",
    "            for j in range(len(X[i])):\n",
    "                result[i][j]=(X[i][j] + Y[i][j])\n",
    "                \n",
    "        else:\n",
    "            for i in range(len(X)):\n",
    "                result[i]=(X[i] + Y[i])\n",
    "                \n",
    "    return result"
   ]
  },
  {
   "cell_type": "code",
   "execution_count": null,
   "id": "3032962f-9273-43cb-b182-85fddacaaf7e",
   "metadata": {},
   "outputs": [],
   "source": [
    "a=[[2,3,3,2]]\n",
    "b=[[3,4,3,8]]\n",
    "\n",
    "print(addmatrix(a,b))"
   ]
  },
  {
   "cell_type": "markdown",
   "id": "c0060a1c-35b0-409f-841c-a3729aa2d2a4",
   "metadata": {},
   "source": [
    "# 2. Write a Python Program to Multiply Two Matrices?\n",
    "## Answere"
   ]
  },
  {
   "cell_type": "code",
   "execution_count": null,
   "id": "5a669010-6759-463b-adbe-77bc06fc0c2a",
   "metadata": {},
   "outputs": [],
   "source": [
    "\n",
    "\n",
    "\n",
    "def mamu(a,b):\n",
    "    output=[]\n",
    "    if len(a[0])==len(b):\n",
    "        for i in range(len(a[0])):\n",
    "            output.append([0 for j in range(len(b[0]))])\n",
    "        for l in range(len(a)):\n",
    "            for j in range(len(b[0])):\n",
    "                for k in range(len(b)):\n",
    "                    output[l][j]+=a[i][k]*b[k][j]\n",
    "        return output\n",
    "                       \n",
    "    else:\n",
    "        print(\"Matrix multiplication canot possible\")"
   ]
  },
  {
   "cell_type": "code",
   "execution_count": null,
   "id": "3b0b7013-cf8b-4ad2-84e9-2d7dd8017944",
   "metadata": {},
   "outputs": [],
   "source": [
    "a = [[1,2,3],[4,5,6],[7,8,9]]\n",
    "b = [[1,4,7],[2,5,8],[3,6,9]]\n",
    "mamu(a,b)"
   ]
  },
  {
   "cell_type": "markdown",
   "id": "ab6e4df9-2e2f-4c24-83e6-b01b0ce46518",
   "metadata": {},
   "source": [
    "# 3. Write a Python Program to Transpose a Matrix?\n",
    "## Answere"
   ]
  },
  {
   "cell_type": "code",
   "execution_count": null,
   "id": "2a218d2b-8da6-4eaf-b55d-eb8c61d6381b",
   "metadata": {},
   "outputs": [],
   "source": [
    "a = [[1,2,3],[4,5,6],[7,8,9]]\n",
    "b = [[1,2],[4,5],[7,8]]\n",
    "c = [[1,2,3],[4,5,6]]\n",
    "\n",
    "def transpose(in_matrix):\n",
    "    out_matrix = []\n",
    "    for ele in range(len(in_matrix[0])):\n",
    "        out_matrix.append([0 for i in range(len(in_matrix))])\n",
    "    for i in range(len(in_matrix)):\n",
    "        for j in range(len(in_matrix[i])):\n",
    "            out_matrix[j][i] = in_matrix[i][j]\n",
    "    print(f'{in_matrix} -> {out_matrix}')\n",
    "        \n",
    "transpose(a)\n",
    "transpose(b)\n",
    "transpose(c)\n"
   ]
  },
  {
   "cell_type": "markdown",
   "id": "44fa114c-264c-4e25-8d3f-35a8d8229744",
   "metadata": {},
   "source": [
    "# 4. Write a Python Program to Sort Words in Alphabetic Order?\n",
    "## Answere"
   ]
  },
  {
   "cell_type": "code",
   "execution_count": null,
   "id": "0e7b74b2-d277-4f43-bcf1-192d99a52154",
   "metadata": {},
   "outputs": [],
   "source": [
    "def sortString():\n",
    "    in_string = input(\"Enter a String: \").title()\n",
    "    sorted_list = sorted(in_string.split(' '))\n",
    "    print(' '.join(sorted_list))\n",
    "\n",
    "sortString()\n"
   ]
  },
  {
   "cell_type": "markdown",
   "id": "21a4e6e8-076b-404b-915e-3f26d836458f",
   "metadata": {},
   "source": [
    "# 5. Write a Python Program to Remove Punctuation From a String?\n",
    "## Answere"
   ]
  },
  {
   "cell_type": "code",
   "execution_count": null,
   "id": "b1c49f78-0622-4314-bd7d-01b7af5bc82d",
   "metadata": {},
   "outputs": [],
   "source": [
    "def removePunctuatuions():\n",
    "    punctuations = '''!()-[]{};:'\"\\,<>./?@#$%^&*_~'''\n",
    "    in_string = input('Enter a String: ')\n",
    "    out_string = ''\n",
    "    for ele in in_string:\n",
    "        if ele not in punctuations:\n",
    "            out_string += ele\n",
    "    print(out_string)\n",
    "    \n",
    "removePunctuatuions()"
   ]
  },
  {
   "cell_type": "code",
   "execution_count": null,
   "id": "bcd527a8-e5dd-422a-a2f9-cda02f4a5ba6",
   "metadata": {},
   "outputs": [],
   "source": [
    "import numpy"
   ]
  },
  {
   "cell_type": "code",
   "execution_count": null,
   "id": "fbefe764",
   "metadata": {},
   "outputs": [],
   "source": []
  }
 ],
 "metadata": {
  "kernelspec": {
   "display_name": "Python 3 (ipykernel)",
   "language": "python",
   "name": "python3"
  },
  "language_info": {
   "codemirror_mode": {
    "name": "ipython",
    "version": 3
   },
   "file_extension": ".py",
   "mimetype": "text/x-python",
   "name": "python",
   "nbconvert_exporter": "python",
   "pygments_lexer": "ipython3",
   "version": "3.10.0"
  }
 },
 "nbformat": 4,
 "nbformat_minor": 5
}
