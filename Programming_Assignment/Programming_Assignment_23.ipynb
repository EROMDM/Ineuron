{
 "cells": [
  {
   "cell_type": "markdown",
   "id": "a1dc3db2-be31-452e-be36-0f81665f83c6",
   "metadata": {},
   "source": [
    "<h1 align=center><font size = 10>Full Stack Data Science BootCamp 2.0</font></h1>\n",
    "<h2 align=center><font size = 7>Python Basic</font></h2>"
   ]
  },
  {
   "cell_type": "code",
   "execution_count": null,
   "id": "ac55a8f8",
   "metadata": {},
   "outputs": [],
   "source": []
  },
  {
   "attachments": {},
   "cell_type": "markdown",
   "id": "c0285dda-4369-402b-8fb1-efe2bd3a2283",
   "metadata": {},
   "source": [
    "<h3 align=left><font size = 5>Programing Assignment_23</font></h3>\n",
    "<h4 align=left><font size = 4>Dnyaneshwar More</font></h4>"
   ]
  },
  {
   "attachments": {},
   "cell_type": "markdown",
   "id": "8561f8ea",
   "metadata": {},
   "source": [
    "##  Question 1  \n",
    "Create a function that takes a number as an argument and returns True or False depending\n",
    "on whether the number is symmetrical or not. A number is symmetrical when it is the same as\n",
    "its reverse.  \n",
    "Examples    \n",
    "is_symmetrical(7227) ➞ True  \n",
    "is_symmetrical(12567) ➞ False  \n",
    "is_symmetrical(44444444) ➞ True  \n",
    "is_symmetrical(9939) ➞ False  \n",
    "is_symmetrical(1112111) ➞ True  \n",
    "\n",
    "### Answere   "
   ]
  },
  {
   "cell_type": "code",
   "execution_count": 1,
   "id": "8780dcfe",
   "metadata": {},
   "outputs": [],
   "source": [
    "def syn(b):\n",
    "    a=str(b)\n",
    "    A=0\n",
    "    for i in range(int(len(str(a))/2)):\n",
    "        if a[i]!=a[-1-i]:\n",
    "            A=2\n",
    "    if A==0:\n",
    "        return True\n",
    "    else:\n",
    "        return False"
   ]
  },
  {
   "cell_type": "code",
   "execution_count": 2,
   "id": "2aa35c76",
   "metadata": {},
   "outputs": [
    {
     "name": "stdout",
     "output_type": "stream",
     "text": [
      "False\n",
      "True\n",
      "False\n",
      "True\n"
     ]
    }
   ],
   "source": [
    "\n",
    "print(syn(1597))\n",
    "print(syn(7227))\n",
    "print(syn(12567))\n",
    "print(syn(44444444))"
   ]
  },
  {
   "cell_type": "markdown",
   "id": "b17460da",
   "metadata": {},
   "source": [
    " ##  Question 2  \n",
    "Given a string of numbers separated by a comma and space, return the product of the\n",
    "numbers.  \n",
    "Examples     \n",
    "multiply_nums(\"2, 3\") ➞ 6  \n",
    "multiply_nums(\"1, 2, 3, 4\") ➞ 24  \n",
    "multiply_nums(\"54, 75, 453, 0\") ➞ 0  \n",
    "multiply_nums(\"10, -2\") ➞ -20  \n",
    "\n",
    "### Answere   "
   ]
  },
  {
   "cell_type": "code",
   "execution_count": 3,
   "id": "1af612ad",
   "metadata": {},
   "outputs": [],
   "source": [
    "def multiplya(a):\n",
    "    c=1\n",
    "    b= a.replace(\" \",\"\").split(',')\n",
    "    for i in b:\n",
    "        c=c*int(i)\n",
    "    print(f'( {a} )  ==>  {c}')\n",
    "\n"
   ]
  },
  {
   "cell_type": "code",
   "execution_count": 4,
   "id": "12e3905a",
   "metadata": {},
   "outputs": [
    {
     "name": "stdout",
     "output_type": "stream",
     "text": [
      "( 2, 3 )  ==>  6\n",
      "( 1, 2, 3, 4 )  ==>  24\n",
      "( 54, 75, 453, 0 )  ==>  0\n",
      "( 10, -2 )  ==>  -20\n"
     ]
    }
   ],
   "source": [
    "multiplya(\"2, 3\")\n",
    "multiplya(\"1, 2, 3, 4\")\n",
    "multiplya(\"54, 75, 453, 0\")\n",
    "multiplya(\"10, -2\")"
   ]
  },
  {
   "cell_type": "markdown",
   "id": "2e8547ea",
   "metadata": {},
   "source": [
    " ##  Question 3\n",
    "Create a function that squares every digit of a number.  \n",
    "Examples    \n",
    "square_digits(9119) ➞ 811181  \n",
    "square_digits(2483) ➞ 416649  \n",
    "square_digits(3212) ➞ 9414  \n",
    "Notes  \n",
    "The function receives an integer and must return an integer.  \n",
    "\n",
    "### Answere   "
   ]
  },
  {
   "cell_type": "code",
   "execution_count": 5,
   "id": "88422079",
   "metadata": {},
   "outputs": [],
   "source": [
    "def sqsuare(a):\n",
    "    b=str(a)\n",
    "    c=''\n",
    "    for i in b:\n",
    "        c = c+str(pow(int(i),2))\n",
    "    print(f'( {a} )  ==>  {c}')\n",
    "\n"
   ]
  },
  {
   "cell_type": "code",
   "execution_count": 6,
   "id": "a05de959",
   "metadata": {},
   "outputs": [
    {
     "name": "stdout",
     "output_type": "stream",
     "text": [
      "( 123432 )  ==>  1491694\n",
      "( 9119 )  ==>  811181\n",
      "( 2483 )  ==>  416649\n",
      "( 3212 )  ==>  9414\n"
     ]
    }
   ],
   "source": [
    "sqsuare(123432)\n",
    "sqsuare(9119)\n",
    "sqsuare(2483)\n",
    "sqsuare(3212)"
   ]
  },
  {
   "cell_type": "markdown",
   "id": "99dfd4f4",
   "metadata": {},
   "source": [
    " ##  Question 4  \n",
    "Create a function that sorts a list and removes all duplicate items from it.  \n",
    "Examples    \n",
    "setify([1, 3, 3, 5, 5]) ➞ [1, 3, 5]  \n",
    "setify([4, 4, 4, 4]) ➞ [4]  \n",
    "setify([5, 7, 8, 9, 10, 15]) ➞ [5, 7, 8, 9, 10, 15]  \n",
    "setify([3, 3, 3, 2, 1]) ➞ [1, 2, 3]  \n",
    "\n",
    "### Answere   "
   ]
  },
  {
   "cell_type": "code",
   "execution_count": 7,
   "id": "898073f7",
   "metadata": {},
   "outputs": [],
   "source": [
    "def setify(a):\n",
    "   c=sorted(set(a))\n",
    "   print(f'( {a} )  ==>  {c}')\n"
   ]
  },
  {
   "cell_type": "code",
   "execution_count": 8,
   "id": "ab96f8a8",
   "metadata": {},
   "outputs": [
    {
     "name": "stdout",
     "output_type": "stream",
     "text": [
      "( [1, 3, 3, 5, 5] )  ==>  [1, 3, 5]\n",
      "( [4, 4, 4, 4] )  ==>  [4]\n",
      "( [5, 7, 8, 9, 10, 15] )  ==>  [5, 7, 8, 9, 10, 15]\n",
      "( [3, 3, 3, 2, 1] )  ==>  [1, 2, 3]\n"
     ]
    }
   ],
   "source": [
    "setify([1, 3, 3, 5, 5]) \n",
    "setify([4, 4, 4, 4])\n",
    "setify([5, 7, 8, 9, 10, 15])\n",
    "setify([3, 3, 3, 2, 1])"
   ]
  },
  {
   "cell_type": "markdown",
   "id": "98f04f68",
   "metadata": {},
   "source": [
    " ##  Question 5  \n",
    "Create a function that returns the mean of all digits.  \n",
    "Examples    \n",
    "mean(42) ➞ 3  \n",
    "mean(12345) ➞ 3  \n",
    "mean(666) ➞ 6  \n",
    "Notes  \n",
    "- The mean of all digits is the sum of digits / how many digits there are (e.g. mean of digits in  \n",
    "512 is (5+1+2)/3(number of digits) = 8/3=2).  \n",
    "-   The mean will always be an integer.   \n",
    "\n",
    "### Answere    "
   ]
  },
  {
   "cell_type": "code",
   "execution_count": 9,
   "id": "eece671c-08a6-48fb-82b0-023385e7bf2e",
   "metadata": {},
   "outputs": [],
   "source": [
    "def meean(a):\n",
    "    b=0\n",
    "    for i in str(a):\n",
    "        b+=int(i)\n",
    "    c=b/(len(str(a)))\n",
    "    print(f'( {a} )  ==>  {c}')\n"
   ]
  },
  {
   "cell_type": "code",
   "execution_count": 10,
   "id": "8e8874c1",
   "metadata": {},
   "outputs": [
    {
     "name": "stdout",
     "output_type": "stream",
     "text": [
      "( 42 )  ==>  3.0\n",
      "( 12345 )  ==>  3.0\n",
      "( 666 )  ==>  6.0\n"
     ]
    }
   ],
   "source": [
    "meean(42)\n",
    "meean(12345)\n",
    "meean(666)"
   ]
  },
  {
   "cell_type": "code",
   "execution_count": null,
   "id": "071166cf",
   "metadata": {},
   "outputs": [],
   "source": []
  }
 ],
 "metadata": {
  "kernelspec": {
   "display_name": "Python 3 (ipykernel)",
   "language": "python",
   "name": "python3"
  },
  "language_info": {
   "codemirror_mode": {
    "name": "ipython",
    "version": 3
   },
   "file_extension": ".py",
   "mimetype": "text/x-python",
   "name": "python",
   "nbconvert_exporter": "python",
   "pygments_lexer": "ipython3",
   "version": "3.10.0"
  }
 },
 "nbformat": 4,
 "nbformat_minor": 5
}
