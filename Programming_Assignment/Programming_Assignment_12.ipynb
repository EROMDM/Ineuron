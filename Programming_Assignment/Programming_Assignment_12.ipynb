{
 "cells": [
  {
   "cell_type": "markdown",
   "id": "13e557c9",
   "metadata": {},
   "source": [
    "<h1 align=center><font size = 10>Full Stack Data Science BootCamp 2.0</font></h1>\n",
    "<h2 align=center><font size = 7>Python Basic</font></h2>\n",
    "\n",
    "<h3 align=left><font size = 5>Programming_Assignment_12</font></h3>\n",
    "<h4 align=left><font size = 4>Dnyaneshwar More</font></h4>"
   ]
  },
  {
   "cell_type": "markdown",
   "id": "b33091e8",
   "metadata": {},
   "source": [
    "## 1. Write a Python program to Extract Unique values dictionary values?\n",
    "### Answere"
   ]
  },
  {
   "cell_type": "code",
   "execution_count": 1,
   "id": "a1092253",
   "metadata": {},
   "outputs": [],
   "source": [
    "def udicval(a):\n",
    "    print(\"The orignal Dictonary Values is: \", str(a))\n",
    "    x=[]\n",
    "    for i in a.keys():\n",
    "        x.extend(a[i])\n",
    "    x=list(set(x))\n",
    "  \n",
    "    x.sort()\n",
    "    print(\"The unique values of dictonary is \", str(x))\n",
    "    "
   ]
  },
  {
   "cell_type": "code",
   "execution_count": 2,
   "id": "c2abfa7e",
   "metadata": {},
   "outputs": [
    {
     "name": "stdout",
     "output_type": "stream",
     "text": [
      "The orignal Dictonary Values is:  {'gfg': [5, 6, 7, 8], 'is': [10, 11, 7, 5], 'best': [6, 12, 10, 8], 'for': [1, 2, 5]}\n",
      "The unique values of dictonary is  [1, 2, 5, 6, 7, 8, 10, 11, 12]\n"
     ]
    }
   ],
   "source": [
    "A= {'gfg' : [5, 6, 7, 8],\n",
    "            'is' : [10, 11, 7, 5],\n",
    "            'best' : [6, 12, 10, 8],\n",
    "            'for' : [1, 2, 5]}\n",
    "udicval(A)"
   ]
  },
  {
   "cell_type": "code",
   "execution_count": 3,
   "id": "8ea63674",
   "metadata": {},
   "outputs": [
    {
     "name": "stdout",
     "output_type": "stream",
     "text": [
      "The orignal Dictonary Values is:  {'a': [5, 6, 7, 8], 'b': [10, 10.52, 78.21, 56.13, 78, 11, 7, 5], 'c': [6, 12, 45, 5, 7, 8, 10, 8], 'd': [1, 2, 5, 89]}\n",
      "The unique values of dictonary is  [1, 2, 5, 6, 7, 8, 10, 10.52, 11, 12, 45, 56.13, 78, 78.21, 89]\n"
     ]
    }
   ],
   "source": [
    "Unique= {'a' : [5,  6, 7, 8],\n",
    "            'b' : [10, 10.52,78.21 , 56.13,78, 11, 7, 5],\n",
    "            'c' : [6, 12,45 ,5,7,8,10, 8],\n",
    "            'd' : [1, 2, 5,89]}\n",
    "udicval(Unique)"
   ]
  },
  {
   "cell_type": "markdown",
   "id": "22fb7a70",
   "metadata": {},
   "source": [
    "## 2. Write a Python program to find the sum of all items in a dictionary?\n",
    "### Answere"
   ]
  },
  {
   "cell_type": "code",
   "execution_count": 4,
   "id": "287aca3d",
   "metadata": {},
   "outputs": [],
   "source": [
    "def Sum(a):\n",
    "    print(\"The orignal Dictonary Values is: \", str(a))\n",
    "    y=0\n",
    "    x=[]\n",
    "    for i in a:\n",
    "        x.extend(a[i])\n",
    "    x=list(x)\n",
    "    \n",
    "    for j in x:\n",
    "        y = y+j\n",
    "    \n",
    "    print(\"The sum values of dictonary is \", y)"
   ]
  },
  {
   "cell_type": "code",
   "execution_count": 5,
   "id": "049bab56",
   "metadata": {},
   "outputs": [
    {
     "name": "stdout",
     "output_type": "stream",
     "text": [
      "The orignal Dictonary Values is:  {'a': [5, 6, 7, 8], 'b': [10, 10.52, 78.21, 56.13, 78, 11, 7, 5], 'c': [6, 12, 45, 5, 7, 8, 10, 8], 'd': [1, 2, 5, 89]}\n",
      "The sum values of dictonary is  479.86\n"
     ]
    }
   ],
   "source": [
    "Sum(Unique)"
   ]
  },
  {
   "cell_type": "code",
   "execution_count": 6,
   "id": "e62dc3ec",
   "metadata": {},
   "outputs": [],
   "source": [
    "def sm(A):\n",
    "    x=[]\n",
    "    for i in A:\n",
    "        x.extend(A[i])\n",
    "    return sum(x)"
   ]
  },
  {
   "cell_type": "code",
   "execution_count": 7,
   "id": "c1be26cb",
   "metadata": {},
   "outputs": [
    {
     "name": "stdout",
     "output_type": "stream",
     "text": [
      "479.86\n"
     ]
    }
   ],
   "source": [
    "print(sm(Unique))"
   ]
  },
  {
   "cell_type": "markdown",
   "id": "3348bc97",
   "metadata": {},
   "source": [
    "## 3. Write a Python program to Merging two Dictionaries?\n",
    "### Answere"
   ]
  },
  {
   "cell_type": "code",
   "execution_count": 8,
   "id": "d9289318",
   "metadata": {},
   "outputs": [],
   "source": [
    "# secounddicotnary merg in fist dict\n",
    "A={\"a\":[1,5,8,6,4,3],\"b\":[10,44,5,12,96,12]}\n",
    "B={\"e\":[1,89,75,42,62,95,85],\"f\":[1,8,63,5,4,6,9,82]}\n",
    "def Merge(A, B):\n",
    "    A.update(B)\n",
    "    return A\n"
   ]
  },
  {
   "cell_type": "code",
   "execution_count": 9,
   "id": "215351e2",
   "metadata": {},
   "outputs": [
    {
     "name": "stdout",
     "output_type": "stream",
     "text": [
      "{'a': [1, 5, 8, 6, 4, 3], 'b': [10, 44, 5, 12, 96, 12], 'e': [1, 89, 75, 42, 62, 95, 85], 'f': [1, 8, 63, 5, 4, 6, 9, 82]}\n"
     ]
    }
   ],
   "source": [
    "A.update(B)\n",
    "print(A)"
   ]
  },
  {
   "cell_type": "code",
   "execution_count": 10,
   "id": "bdbecb76",
   "metadata": {},
   "outputs": [
    {
     "name": "stdout",
     "output_type": "stream",
     "text": [
      "{'a': [1, 5, 8, 6, 4, 3], 'b': [10, 44, 5, 12, 96, 12], 'e': [1, 89, 75, 42, 62, 95, 85], 'f': [1, 8, 63, 5, 4, 6, 9, 82]}\n"
     ]
    }
   ],
   "source": [
    "\n",
    "c=Merge(A,B)\n",
    "print(c)\n"
   ]
  },
  {
   "cell_type": "markdown",
   "id": "de3a038b",
   "metadata": {},
   "source": [
    "## 4. Write a Python program to convert key-values list to flat dictionary?\n",
    "### Answere"
   ]
  },
  {
   "cell_type": "code",
   "execution_count": 11,
   "id": "c5e89677",
   "metadata": {},
   "outputs": [
    {
     "data": {
      "text/plain": [
       "{'a': 20, 'b': 30, 'c': 54}"
      ]
     },
     "execution_count": 11,
     "metadata": {},
     "output_type": "execute_result"
    }
   ],
   "source": [
    "Ilist = [('a',20),('b',30),('c',54)]\n",
    "dict(Ilist)"
   ]
  },
  {
   "cell_type": "code",
   "execution_count": 12,
   "id": "aaaa3de3",
   "metadata": {},
   "outputs": [
    {
     "data": {
      "text/plain": [
       "{'a': 20, 'b': 30, 'c': 54}"
      ]
     },
     "execution_count": 12,
     "metadata": {},
     "output_type": "execute_result"
    }
   ],
   "source": [
    "a={}\n",
    "def CKVL(J):\n",
    "    a={}\n",
    "    for i in J:\n",
    "        a[i[0]]=i[1]\n",
    "    return a\n",
    "CKVL(Ilist)"
   ]
  },
  {
   "cell_type": "markdown",
   "id": "641d7619",
   "metadata": {},
   "source": [
    "## 5. Write a Python program to insertion at the beginning in OrderedDict?\n",
    "### Answere"
   ]
  },
  {
   "cell_type": "code",
   "execution_count": 13,
   "id": "1f389cfd",
   "metadata": {},
   "outputs": [],
   "source": [
    "from collections import OrderedDict\n",
    "a={'a': 20, 'b': 30, 'c': 54}\n",
    "b={'dm':30}\n",
    "a=OrderedDict(a)\n",
    "a.update(b)\n",
    "a.move_to_end('dm',last=False)"
   ]
  },
  {
   "cell_type": "code",
   "execution_count": 14,
   "id": "6d926353",
   "metadata": {},
   "outputs": [
    {
     "name": "stdout",
     "output_type": "stream",
     "text": [
      "OrderedDict([('dm', 30), ('a', 20), ('b', 30), ('c', 54)])\n"
     ]
    }
   ],
   "source": [
    "print(a)"
   ]
  },
  {
   "cell_type": "markdown",
   "id": "a53e32d1",
   "metadata": {},
   "source": [
    "## 6. Write a Python program to check order of character in string using OrderedDict()?\n",
    "### Answere"
   ]
  },
  {
   "cell_type": "code",
   "execution_count": 15,
   "id": "eb62dea2",
   "metadata": {},
   "outputs": [
    {
     "name": "stdout",
     "output_type": "stream",
     "text": [
      "OrderedDict([('a', 20), ('c', 54), ('d', 30), ('g', 98), ('p', 32)])\n"
     ]
    }
   ],
   "source": [
    "a={'a': 20, 'd': 30, 'c': 54,'g':98,'p':32}\n",
    "def h(a):\n",
    "    return OrderedDict(dict(sorted(a.items())))\n",
    "print(h(a))"
   ]
  },
  {
   "cell_type": "markdown",
   "id": "4a25d83c",
   "metadata": {},
   "source": [
    "## 7. Write a Python program to sort Python Dictionaries by Key or Value?\n",
    "### Answere"
   ]
  },
  {
   "cell_type": "code",
   "execution_count": 16,
   "id": "95e8155e",
   "metadata": {},
   "outputs": [],
   "source": [
    "def sd(a,st):\n",
    "    if st=='key':\n",
    "        return dict(sorted(a.items(),key=lambda x:x[0] , reverse=False))\n",
    "    else:\n",
    "        \n",
    "        return dict(sorted(a.items(),key=lambda x:x[1] , reverse=False))"
   ]
  },
  {
   "cell_type": "code",
   "execution_count": 17,
   "id": "a852f383",
   "metadata": {},
   "outputs": [
    {
     "name": "stdout",
     "output_type": "stream",
     "text": [
      "{'a': 20, 'c': 54, 'd': 30, 'g': 98, 'p': 32}\n"
     ]
    }
   ],
   "source": [
    "print(sd(a,'key'))"
   ]
  },
  {
   "cell_type": "code",
   "execution_count": null,
   "id": "fe525bab",
   "metadata": {},
   "outputs": [],
   "source": []
  }
 ],
 "metadata": {
  "kernelspec": {
   "display_name": "Python 3 (ipykernel)",
   "language": "python",
   "name": "python3"
  },
  "language_info": {
   "codemirror_mode": {
    "name": "ipython",
    "version": 3
   },
   "file_extension": ".py",
   "mimetype": "text/x-python",
   "name": "python",
   "nbconvert_exporter": "python",
   "pygments_lexer": "ipython3",
   "version": "3.9.12"
  }
 },
 "nbformat": 4,
 "nbformat_minor": 5
}
