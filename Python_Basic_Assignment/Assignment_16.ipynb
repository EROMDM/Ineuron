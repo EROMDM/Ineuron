{
 "cells": [
  {
   "cell_type": "markdown",
   "metadata": {},
   "source": [
    "<h1 align=center><font size = 10>Full Stack Data Science BootCamp 2.0</font></h1>\n",
    "<h2 align=center><font size = 7>Python Basic</font></h2>"
   ]
  },
  {
   "attachments": {},
   "cell_type": "markdown",
   "metadata": {},
   "source": [
    "<h3 align=left><font size = 5>Assignment_16</font></h3>\n",
    "<h4 align=left><font size = 4>Dnyaneshwar More</font></h4>"
   ]
  },
  {
   "attachments": {},
   "cell_type": "markdown",
   "metadata": {},
   "source": [
    "## Question 1. \n",
    "Create a list called years_list, starting with the year of your birth, and each year thereafter until\n",
    "the year of your fifth birthday. For example, if you were born in 1980. the list would be years_list =\n",
    "[1980, 1981, 1982, 1983, 1984, 1985].\n",
    "### Answere  "
   ]
  },
  {
   "cell_type": "code",
   "execution_count": 7,
   "metadata": {},
   "outputs": [
    {
     "name": "stdout",
     "output_type": "stream",
     "text": [
      "Years_list = [1997, 1998, 1999, 2000, 2001, 2002]\n"
     ]
    }
   ],
   "source": [
    "def Years_list(a):\n",
    "    years_list=[a]\n",
    "    for i in range(1,6):\n",
    "        years_list.append(a+i)\n",
    "    return years_list\n",
    "\n",
    "print(f'Years_list = {Years_list(1997)}')\n",
    "years_list =Years_list(1997)"
   ]
  },
  {
   "attachments": {},
   "cell_type": "markdown",
   "metadata": {},
   "source": [
    "## Question 2.\n",
    " In which year in years_list was your third birthday? Remember, you were 0 years of age for your\n",
    "first year.\n",
    "### Answere  \n"
   ]
  },
  {
   "cell_type": "code",
   "execution_count": 8,
   "metadata": {},
   "outputs": [
    {
     "data": {
      "text/plain": [
       "2000"
      ]
     },
     "execution_count": 8,
     "metadata": {},
     "output_type": "execute_result"
    }
   ],
   "source": [
    "years_list[3]"
   ]
  },
  {
   "cell_type": "markdown",
   "metadata": {},
   "source": [
    "## Question 3.\n",
    "In the years list, which year were you the oldest?\n",
    "### Answere  "
   ]
  },
  {
   "cell_type": "code",
   "execution_count": 9,
   "metadata": {},
   "outputs": [
    {
     "data": {
      "text/plain": [
       "2002"
      ]
     },
     "execution_count": 9,
     "metadata": {},
     "output_type": "execute_result"
    }
   ],
   "source": [
    "years_list[5]"
   ]
  },
  {
   "cell_type": "markdown",
   "metadata": {},
   "source": [
    "## Question 4.\n",
    " Make a list called things with these three strings as elements: \"mozzarella\", \"cinderella\",\n",
    "\"salmonella\".\n",
    "### Answere  "
   ]
  },
  {
   "cell_type": "code",
   "execution_count": 10,
   "metadata": {},
   "outputs": [],
   "source": [
    "things =[\"mozzarella\", \"cinderella\",\"salmonella\"]"
   ]
  },
  {
   "cell_type": "markdown",
   "metadata": {},
   "source": [
    "## Question 5.\n",
    " Capitalize the element in things that refers to a person and then print the list. Did it change the\n",
    "element in the list?\n",
    "### Answere  "
   ]
  },
  {
   "cell_type": "code",
   "execution_count": 11,
   "metadata": {},
   "outputs": [
    {
     "data": {
      "text/plain": [
       "'CINDERELLA'"
      ]
     },
     "execution_count": 11,
     "metadata": {},
     "output_type": "execute_result"
    }
   ],
   "source": [
    "things[1].upper()"
   ]
  },
  {
   "cell_type": "markdown",
   "metadata": {},
   "source": [
    "## Question 6.\n",
    " Make a surprise list with the elements \"Groucho,\" \"Chico,\" and \"Harpo.\"\n",
    "### Answere  "
   ]
  },
  {
   "cell_type": "code",
   "execution_count": 16,
   "metadata": {},
   "outputs": [],
   "source": [
    "SL = [\"Groucho,\",\"Chico,\",\"Harpo\"]"
   ]
  },
  {
   "cell_type": "markdown",
   "metadata": {},
   "source": [
    "## Question 7.\n",
    " Lowercase the last element of the surprise list, reverse it, and then capitalize it.\n",
    "### Answere  "
   ]
  },
  {
   "cell_type": "code",
   "execution_count": 17,
   "metadata": {},
   "outputs": [
    {
     "data": {
      "text/plain": [
       "'OPRAH'"
      ]
     },
     "execution_count": 17,
     "metadata": {},
     "output_type": "execute_result"
    }
   ],
   "source": [
    "SL[2][::-1].upper()"
   ]
  },
  {
   "cell_type": "markdown",
   "metadata": {},
   "source": [
    "## Question 8.\n",
    " Make an English-to-French dictionary called e2f and print it. Here are your starter words: dog is\n",
    "chien, cat is chat, and walrus is morse.\n",
    "### Answere  "
   ]
  },
  {
   "cell_type": "code",
   "execution_count": 18,
   "metadata": {},
   "outputs": [],
   "source": [
    "e2f= {'dog':'chin','cat':'chat','walrus':'morse'}"
   ]
  },
  {
   "cell_type": "markdown",
   "metadata": {},
   "source": [
    "## Question 9.\n",
    " Write the French word for walrus in your three-word dictionary e2f.\n",
    "### Answere  "
   ]
  },
  {
   "cell_type": "code",
   "execution_count": 21,
   "metadata": {},
   "outputs": [
    {
     "data": {
      "text/plain": [
       "'morse'"
      ]
     },
     "execution_count": 21,
     "metadata": {},
     "output_type": "execute_result"
    }
   ],
   "source": [
    "e2f['walrus'] = 'morse'\n",
    "e2f['walrus']"
   ]
  },
  {
   "cell_type": "markdown",
   "metadata": {},
   "source": [
    "## Question 10.\n",
    " Make a French-to-English dictionary called f2e from e2f. Use the items method.\n",
    "### Answere "
   ]
  },
  {
   "cell_type": "code",
   "execution_count": 22,
   "metadata": {},
   "outputs": [],
   "source": [
    "f2e=e2f.items()"
   ]
  },
  {
   "cell_type": "markdown",
   "metadata": {},
   "source": [
    " ## Question 11.\n",
    " Print the English version of the French word chien using f2e.\n",
    "### Answere "
   ]
  },
  {
   "cell_type": "code",
   "execution_count": 23,
   "metadata": {},
   "outputs": [
    {
     "data": {
      "text/plain": [
       "dict_items([('dog', 'chin'), ('cat', 'chat'), ('walrus', 'morse')])"
      ]
     },
     "execution_count": 23,
     "metadata": {},
     "output_type": "execute_result"
    }
   ],
   "source": [
    "f2e"
   ]
  },
  {
   "cell_type": "markdown",
   "metadata": {},
   "source": [
    " ## Question 12.\n",
    " Make and print a set of English words from the keys in e2f.\n",
    "### Answere "
   ]
  },
  {
   "cell_type": "code",
   "execution_count": 24,
   "metadata": {},
   "outputs": [
    {
     "data": {
      "text/plain": [
       "dict_keys(['dog', 'cat', 'walrus'])"
      ]
     },
     "execution_count": 24,
     "metadata": {},
     "output_type": "execute_result"
    }
   ],
   "source": [
    "e2f.keys()"
   ]
  },
  {
   "cell_type": "markdown",
   "metadata": {},
   "source": [
    " ## Question 13.\n",
    " Make a multilevel dictionary called life. Use these strings for the topmost keys: 'animals', 'plants',\n",
    "and 'other'. Make the 'animals' key refer to another dictionary with the keys 'cats', 'octopi', and\n",
    "'emus'. Make the 'cats' key refer to a list of strings with the values 'Henri', 'Grumpy', and 'Lucy'.\n",
    "Make all the other keys refer to empty dictionaries.\n",
    "### Answere "
   ]
  },
  {
   "cell_type": "code",
   "execution_count": 25,
   "metadata": {},
   "outputs": [],
   "source": [
    "life={'animals':{'cats':{'Henri', 'Grumpy' ,'Lucy'},'octopi':{},'emus':{}}}"
   ]
  },
  {
   "cell_type": "markdown",
   "metadata": {},
   "source": [
    " ## Question 14.\n",
    " Print the top-level keys of life.\n",
    "### Answere "
   ]
  },
  {
   "cell_type": "code",
   "execution_count": 26,
   "metadata": {},
   "outputs": [
    {
     "data": {
      "text/plain": [
       "dict_keys(['animals'])"
      ]
     },
     "execution_count": 26,
     "metadata": {},
     "output_type": "execute_result"
    }
   ],
   "source": [
    "life.keys()"
   ]
  },
  {
   "cell_type": "markdown",
   "metadata": {},
   "source": [
    " ## Question 15.\n",
    " Print the keys for life['animals'].\n",
    "### Answere "
   ]
  },
  {
   "cell_type": "code",
   "execution_count": 27,
   "metadata": {},
   "outputs": [
    {
     "name": "stdout",
     "output_type": "stream",
     "text": [
      "cats\n",
      "octopi\n",
      "emus\n"
     ]
    }
   ],
   "source": [
    "for i in life['animals']:\n",
    "    print(i)"
   ]
  },
  {
   "cell_type": "markdown",
   "metadata": {},
   "source": [
    " ## Question 16.\n",
    " Print the values for life['animals']['cats']\n",
    "### Answere  "
   ]
  },
  {
   "cell_type": "code",
   "execution_count": 28,
   "metadata": {},
   "outputs": [
    {
     "name": "stdout",
     "output_type": "stream",
     "text": [
      "Grumpy\n",
      "Lucy\n",
      "Henri\n"
     ]
    }
   ],
   "source": [
    "for key in life[\"animals\"]['cats']:\n",
    "    print(key)"
   ]
  },
  {
   "cell_type": "code",
   "execution_count": null,
   "metadata": {},
   "outputs": [],
   "source": []
  }
 ],
 "metadata": {
  "kernelspec": {
   "display_name": "Python 3",
   "language": "python",
   "name": "python3"
  },
  "language_info": {
   "codemirror_mode": {
    "name": "ipython",
    "version": 3
   },
   "file_extension": ".py",
   "mimetype": "text/x-python",
   "name": "python",
   "nbconvert_exporter": "python",
   "pygments_lexer": "ipython3",
   "version": "3.10.0"
  },
  "orig_nbformat": 4
 },
 "nbformat": 4,
 "nbformat_minor": 2
}
