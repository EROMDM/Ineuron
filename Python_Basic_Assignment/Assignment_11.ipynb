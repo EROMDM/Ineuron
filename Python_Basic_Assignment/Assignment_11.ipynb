{
 "cells": [
  {
   "cell_type": "markdown",
   "metadata": {},
   "source": [
    "<h1 align=center><font size = 10>Full Stack Data Science BootCamp 2.0</font></h1>\n",
    "<h2 align=center><font size = 7>Python Basic</font></h2>"
   ]
  },
  {
   "attachments": {},
   "cell_type": "markdown",
   "metadata": {},
   "source": [
    "<h3 align=left><font size = 5>Assignment_11</font></h3>\n",
    "<h4 align=left><font size = 4>Dnyaneshwar More</font></h4>"
   ]
  },
  {
   "attachments": {},
   "cell_type": "markdown",
   "metadata": {},
   "source": [
    "## Question 1.\n",
    " Create an assert statement that throws an AssertionError if the variable spam is a negative\n",
    "integer.\n",
    "### Answere  "
   ]
  },
  {
   "cell_type": "code",
   "execution_count": 2,
   "metadata": {},
   "outputs": [
    {
     "ename": "AssertionError",
     "evalue": "Variation spam shuld not be a -ve number",
     "output_type": "error",
     "traceback": [
      "\u001b[1;31m---------------------------------------------------------------------------\u001b[0m",
      "\u001b[1;31mAssertionError\u001b[0m                            Traceback (most recent call last)",
      "Cell \u001b[1;32mIn[2], line 2\u001b[0m\n\u001b[0;32m      1\u001b[0m code \u001b[39m=\u001b[39m \u001b[39m-\u001b[39m\u001b[39m22\u001b[39m\n\u001b[1;32m----> 2\u001b[0m \u001b[39massert\u001b[39;00m code\u001b[39m>\u001b[39m\u001b[39m=\u001b[39m\u001b[39m0\u001b[39m, \u001b[39m\"\u001b[39m\u001b[39mVariation spam shuld not be a -ve number\u001b[39m\u001b[39m\"\u001b[39m\n",
      "\u001b[1;31mAssertionError\u001b[0m: Variation spam shuld not be a -ve number"
     ]
    }
   ],
   "source": [
    "code = -22\n",
    "assert code>=0, \"Variation spam shuld not be a -ve number\""
   ]
  },
  {
   "attachments": {},
   "cell_type": "markdown",
   "metadata": {},
   "source": [
    "## Question 2.\n",
    " Write an assert statement that triggers an AssertionError if the variables eggs and bacon contain\n",
    "strings that are the same as each other, even if their cases are different (that is, \"hello\" and \"hello\" are\n",
    "considered the same, and \"goodbye\" and \"GOODbye\" are also considered the same).\n",
    "### Answere  "
   ]
  },
  {
   "cell_type": "code",
   "execution_count": 6,
   "metadata": {},
   "outputs": [],
   "source": [
    "def rai(e,b):\n",
    "    e = e.upper()\n",
    "    b = b.upper()\n",
    "    assert not(e==b), 'eggs/becon shuld not be same, which aresame now'"
   ]
  },
  {
   "cell_type": "code",
   "execution_count": 8,
   "metadata": {},
   "outputs": [
    {
     "ename": "AssertionError",
     "evalue": "eggs/becon shuld not be same, which aresame now",
     "output_type": "error",
     "traceback": [
      "\u001b[1;31m---------------------------------------------------------------------------\u001b[0m",
      "\u001b[1;31mAssertionError\u001b[0m                            Traceback (most recent call last)",
      "Cell \u001b[1;32mIn[8], line 1\u001b[0m\n\u001b[1;32m----> 1\u001b[0m rai(\u001b[39m'\u001b[39;49m\u001b[39mhello\u001b[39;49m\u001b[39m'\u001b[39;49m,\u001b[39m'\u001b[39;49m\u001b[39mHELLO\u001b[39;49m\u001b[39m'\u001b[39;49m)\n",
      "Cell \u001b[1;32mIn[6], line 4\u001b[0m, in \u001b[0;36mrai\u001b[1;34m(e, b)\u001b[0m\n\u001b[0;32m      2\u001b[0m e \u001b[39m=\u001b[39m e\u001b[39m.\u001b[39mupper()\n\u001b[0;32m      3\u001b[0m b \u001b[39m=\u001b[39m b\u001b[39m.\u001b[39mupper()\n\u001b[1;32m----> 4\u001b[0m \u001b[39massert\u001b[39;00m \u001b[39mnot\u001b[39;00m(e\u001b[39m==\u001b[39mb), \u001b[39m'\u001b[39m\u001b[39meggs/becon shuld not be same, which aresame now\u001b[39m\u001b[39m'\u001b[39m\n",
      "\u001b[1;31mAssertionError\u001b[0m: eggs/becon shuld not be same, which aresame now"
     ]
    }
   ],
   "source": [
    "rai('hello','HELLO')"
   ]
  },
  {
   "cell_type": "code",
   "execution_count": 9,
   "metadata": {},
   "outputs": [
    {
     "ename": "AssertionError",
     "evalue": "eggs/becon shuld not be same, which aresame now",
     "output_type": "error",
     "traceback": [
      "\u001b[1;31m---------------------------------------------------------------------------\u001b[0m",
      "\u001b[1;31mAssertionError\u001b[0m                            Traceback (most recent call last)",
      "Cell \u001b[1;32mIn[9], line 1\u001b[0m\n\u001b[1;32m----> 1\u001b[0m rai(\u001b[39m'\u001b[39;49m\u001b[39mgoodbye\u001b[39;49m\u001b[39m'\u001b[39;49m,\u001b[39m'\u001b[39;49m\u001b[39mGOODbye\u001b[39;49m\u001b[39m'\u001b[39;49m)\n",
      "Cell \u001b[1;32mIn[6], line 4\u001b[0m, in \u001b[0;36mrai\u001b[1;34m(e, b)\u001b[0m\n\u001b[0;32m      2\u001b[0m e \u001b[39m=\u001b[39m e\u001b[39m.\u001b[39mupper()\n\u001b[0;32m      3\u001b[0m b \u001b[39m=\u001b[39m b\u001b[39m.\u001b[39mupper()\n\u001b[1;32m----> 4\u001b[0m \u001b[39massert\u001b[39;00m \u001b[39mnot\u001b[39;00m(e\u001b[39m==\u001b[39mb), \u001b[39m'\u001b[39m\u001b[39meggs/becon shuld not be same, which aresame now\u001b[39m\u001b[39m'\u001b[39m\n",
      "\u001b[1;31mAssertionError\u001b[0m: eggs/becon shuld not be same, which aresame now"
     ]
    }
   ],
   "source": [
    "rai('goodbye','GOODbye')"
   ]
  },
  {
   "cell_type": "code",
   "execution_count": 10,
   "metadata": {},
   "outputs": [],
   "source": [
    "rai('jkjh','hjksah')"
   ]
  },
  {
   "cell_type": "markdown",
   "metadata": {},
   "source": [
    "## Question 3.\n",
    " Create an assert statement that throws an AssertionError every time.\n",
    "### Answere  "
   ]
  },
  {
   "cell_type": "code",
   "execution_count": 11,
   "metadata": {},
   "outputs": [
    {
     "ename": "AssertionError",
     "evalue": "Always Shows Assertion Error",
     "output_type": "error",
     "traceback": [
      "\u001b[1;31m---------------------------------------------------------------------------\u001b[0m",
      "\u001b[1;31mAssertionError\u001b[0m                            Traceback (most recent call last)",
      "Cell \u001b[1;32mIn[11], line 3\u001b[0m\n\u001b[0;32m      1\u001b[0m \u001b[39mdef\u001b[39;00m \u001b[39massert_always\u001b[39m():\n\u001b[0;32m      2\u001b[0m     \u001b[39massert\u001b[39;00m \u001b[39mFalse\u001b[39;00m, \u001b[39m'\u001b[39m\u001b[39mAlways Shows Assertion Error\u001b[39m\u001b[39m'\u001b[39m\n\u001b[1;32m----> 3\u001b[0m assert_always()\n",
      "Cell \u001b[1;32mIn[11], line 2\u001b[0m, in \u001b[0;36massert_always\u001b[1;34m()\u001b[0m\n\u001b[0;32m      1\u001b[0m \u001b[39mdef\u001b[39;00m \u001b[39massert_always\u001b[39m():\n\u001b[1;32m----> 2\u001b[0m     \u001b[39massert\u001b[39;00m \u001b[39mFalse\u001b[39;00m, \u001b[39m'\u001b[39m\u001b[39mAlways Shows Assertion Error\u001b[39m\u001b[39m'\u001b[39m\n",
      "\u001b[1;31mAssertionError\u001b[0m: Always Shows Assertion Error"
     ]
    }
   ],
   "source": [
    "def assert_always():\n",
    "    assert False, 'Always Shows Assertion Error'\n",
    "assert_always()"
   ]
  },
  {
   "cell_type": "markdown",
   "metadata": {},
   "source": [
    "## Question 4.\n",
    " What are the two lines that must be present in your software in order to call logging.debug()?\n",
    "### Answere  "
   ]
  },
  {
   "cell_type": "code",
   "execution_count": 12,
   "metadata": {},
   "outputs": [],
   "source": [
    "import logging\n",
    "logging.basicConfig(filename='Text.txt',level=logging.DEBUG,format=' %(asctime)s - %(levelname)s - %(message)s')"
   ]
  },
  {
   "cell_type": "markdown",
   "metadata": {},
   "source": [
    "## Question 5.\n",
    " What are the two lines that your program must have in order to have logging.debug() send a\n",
    "logging message to a file named programLog.txt?\n",
    "### Answere  "
   ]
  },
  {
   "cell_type": "code",
   "execution_count": 13,
   "metadata": {},
   "outputs": [],
   "source": [
    "logging.debug(\"data inserted suceecefully\")\n",
    "logging.debug(\"Connection closed successfully\")"
   ]
  },
  {
   "cell_type": "code",
   "execution_count": 14,
   "metadata": {},
   "outputs": [
    {
     "name": "stdout",
     "output_type": "stream",
     "text": [
      " 2023-04-11 15:26:19,542 - DEBUG - data inserted suceecefully\n",
      "\n",
      " 2023-04-11 15:26:19,542 - DEBUG - Connection closed successfully\n",
      "\n"
     ]
    }
   ],
   "source": [
    "file = open(\"Text.txt\",'r')\n",
    "for record in file.readlines():\n",
    "    print(record)"
   ]
  },
  {
   "cell_type": "markdown",
   "metadata": {},
   "source": [
    "## Question 6.\n",
    " What are the five levels of logging?\n",
    "### Answere  "
   ]
  },
  {
   "attachments": {},
   "cell_type": "markdown",
   "metadata": {},
   "source": [
    "The five  levels of Logging provided by Pytho'n logging module are\n",
    "__`CRITCAL(50),ERROR(40),WARNING(30),INFO(20),DEBUG(10),NOTSET(0)`__"
   ]
  },
  {
   "cell_type": "markdown",
   "metadata": {},
   "source": [
    "## Question 7.\n",
    " What line of code would you add to your software to disable all logging messages?\n",
    "### Answere  "
   ]
  },
  {
   "cell_type": "code",
   "execution_count": 15,
   "metadata": {},
   "outputs": [],
   "source": [
    "logging.disable = True"
   ]
  },
  {
   "cell_type": "markdown",
   "metadata": {},
   "source": [
    "## Question 8.\n",
    "Why is using logging messages better than using print() to display the same message?\n",
    "### Answere  "
   ]
  },
  {
   "attachments": {},
   "cell_type": "markdown",
   "metadata": {},
   "source": [
    "Post devlopment of your code can disable logging messages without removing the logging function, whereas you need to manually remove print() statement, which is tedious activity and also print is used when you want to display any perticular message or help whereas logging is used to record all events like error, info,debug message, timestamps."
   ]
  },
  {
   "cell_type": "markdown",
   "metadata": {},
   "source": [
    "## Question 9.\n",
    " What are the differences between the Step Over, Step In, and Step Out buttons in the debugger?\n",
    "### Answere  "
   ]
  },
  {
   "attachments": {},
   "cell_type": "markdown",
   "metadata": {},
   "source": [
    "The Diffrences between Step Over, Step in,Step  buttons in debugger are:\n",
    "- 1. Step in - Step in button will cause the debugger to execute the next line of code and then pause again.\n",
    "- 2. Step over- Step button will execute the next line of code, simillar to the step in button However if the next line of code is function calll , the Step over Button will 'Step over' the code in the function's code will be execute at full speed and the debugger will pause as soon as the function call return\n",
    "- 3. Step out - Step Out button will cause the debugger to execute lines of code at full speed until it returns from the the current function"
   ]
  },
  {
   "attachments": {},
   "cell_type": "markdown",
   "metadata": {},
   "source": [
    "##  Question 10\n",
    ".After you click Continue, when will the debugger stop ?\n",
    "### Answere"
   ]
  },
  {
   "attachments": {},
   "cell_type": "markdown",
   "metadata": {},
   "source": [
    "This will cause the programe to continue running normally, without pausing for debugging until lit terminates or reches a breakpoint."
   ]
  },
  {
   "cell_type": "markdown",
   "metadata": {},
   "source": [
    "## Question 11.\n",
    " What is the concept of a breakpoint?\n",
    " ### Answere  "
   ]
  },
  {
   "attachments": {},
   "cell_type": "markdown",
   "metadata": {},
   "source": [
    "Breakpoint is a setting on a line of code that causes the  debugger to pause when the program execution reaches the line"
   ]
  }
 ],
 "metadata": {
  "kernelspec": {
   "display_name": "Python 3",
   "language": "python",
   "name": "python3"
  },
  "language_info": {
   "codemirror_mode": {
    "name": "ipython",
    "version": 3
   },
   "file_extension": ".py",
   "mimetype": "text/x-python",
   "name": "python",
   "nbconvert_exporter": "python",
   "pygments_lexer": "ipython3",
   "version": "3.10.0"
  },
  "orig_nbformat": 4
 },
 "nbformat": 4,
 "nbformat_minor": 2
}
