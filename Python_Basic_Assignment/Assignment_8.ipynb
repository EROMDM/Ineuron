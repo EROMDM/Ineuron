{
 "cells": [
  {
   "cell_type": "markdown",
   "metadata": {},
   "source": [
    "<h1 align=center><font size = 10>Full Stack Data Science BootCamp 2.0</font></h1>\n",
    "<h2 align=center><font size = 7>Python Basic</font></h2>"
   ]
  },
  {
   "attachments": {},
   "cell_type": "markdown",
   "metadata": {},
   "source": [
    "<h3 align=left><font size = 5>Assignment_8</font></h3>\n",
    "<h4 align=left><font size = 4>Dnyaneshwar More</font></h4>"
   ]
  },
  {
   "attachments": {},
   "cell_type": "markdown",
   "metadata": {},
   "source": [
    " ## Question 1. \n",
    " Is the Python Standard Library included with PyInputPlus?\n",
    "### Answere  "
   ]
  },
  {
   "attachments": {},
   "cell_type": "markdown",
   "metadata": {},
   "source": [
    "No, **`PyInputplus`** is not part a of python standard library, it needs to be instaled explicity using the command `!pip install PyINputplus` "
   ]
  },
  {
   "cell_type": "markdown",
   "metadata": {},
   "source": [
    "## Question 2.\n",
    " Why is PyInputPlus commonly imported with import pyinputplus as pypi?\n",
    "### Answere  "
   ]
  },
  {
   "attachments": {},
   "cell_type": "markdown",
   "metadata": {},
   "source": [
    "Ou can import the module with **`import pyinputplus as pyip`** so that you can enter a shorter name whwn calling the module's functions."
   ]
  },
  {
   "cell_type": "markdown",
   "metadata": {},
   "source": [
    "## Question 3. \n",
    "How do you distinguish between inputInt() and inputFloat()?\n",
    "### Answere  "
   ]
  },
  {
   "attachments": {},
   "cell_type": "markdown",
   "metadata": {},
   "source": [
    "**`inputInt()`** function Accepts an interger value. This is alsi tajes addutuinal parameter `min,max,greaterthan,less than` for bounds, And is always returns an int.\n",
    "\n",
    "Whearas `inputfloat()` function Accepts a floating-point numeric value. this is also takes `min,max,greaterthan,less than` for bounds, And is always returns an float."
   ]
  },
  {
   "cell_type": "markdown",
   "metadata": {},
   "source": [
    "## Question 4. \n",
    "Using PyInputPlus, how do you ensure that the user enters a whole number between 0 and 99?\n",
    "### Answere  "
   ]
  },
  {
   "attachments": {},
   "cell_type": "markdown",
   "metadata": {},
   "source": [
    "**`PyInputsPlus`** module provides a functions called as __inputInt()__ which only retyrns only interger value inorder to restrict the input vetween 0 and 99 i;ii use upper paramerters like __min and max__ to ensure that user enters values between the defined range only."
   ]
  },
  {
   "cell_type": "markdown",
   "metadata": {},
   "source": [
    "## Question 5. \n",
    "What is transferred to the keyword arguments allowRegexes and blockRegexes?\n",
    "### Answere  "
   ]
  },
  {
   "attachments": {},
   "cell_type": "markdown",
   "metadata": {},
   "source": [
    "we can use `allowregexes` and `blackRegexes`  keywords arguments to take list of regular expression string  to determine what the pyinputplus function will reject or accept valid input.\n"
   ]
  },
  {
   "cell_type": "markdown",
   "metadata": {},
   "source": [
    "## Question 6. \n",
    "If a blank input is entered three times, what does inputStr(limit=3) do?\n",
    "### Answere  "
   ]
  },
  {
   "attachments": {},
   "cell_type": "markdown",
   "metadata": {},
   "source": [
    "the statement __inputstr(limit=3)__ will throw two exceptions __`ValidationException and RetryLimitException`__. the fist exception blank values are not allowed by input, inputstr() function by default, it we want to consider blank values as valid input we have to set __`bank=True`__"
   ]
  },
  {
   "attachments": {},
   "cell_type": "markdown",
   "metadata": {},
   "source": [
    "The secound exception is occured because we have reched the max limit we have specified by using `limit` parameter, inorder to avoid this exception we can use default parameter to return a default value whwn max limit is reached"
   ]
  },
  {
   "cell_type": "markdown",
   "metadata": {},
   "source": [
    "## Question 7. \n",
    "If blank input is entered three times, what does inputStr(limit=3, default=\"hello\") do?\n",
    "### Answere  "
   ]
  },
  {
   "attachments": {},
   "cell_type": "markdown",
   "metadata": {},
   "source": [
    "Since the default parameter is se to `hello` after blank input is entered three times instead of raising `RetryLimitException` exception the function will return __hello__ as response to calling function"
   ]
  }
 ],
 "metadata": {
  "kernelspec": {
   "display_name": "Python 3",
   "language": "python",
   "name": "python3"
  },
  "language_info": {
   "codemirror_mode": {
    "name": "ipython",
    "version": 3
   },
   "file_extension": ".py",
   "mimetype": "text/x-python",
   "name": "python",
   "nbconvert_exporter": "python",
   "pygments_lexer": "ipython3",
   "version": "3.10.0"
  },
  "orig_nbformat": 4
 },
 "nbformat": 4,
 "nbformat_minor": 2
}
