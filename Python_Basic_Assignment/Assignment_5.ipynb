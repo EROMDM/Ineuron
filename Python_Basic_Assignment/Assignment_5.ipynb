{
 "cells": [
  {
   "cell_type": "markdown",
   "id": "b7f7342b-a586-4ddc-b8be-9430d97aad60",
   "metadata": {},
   "source": [
    "<h1 align=center><font size = 10>Full Stack Data Science BootCamp 2.0</font></h1>\n",
    "<h2 align=center><font size = 7>Python Basic</font></h2>\n",
    "\n",
    "<h3 align=left><font size = 5>Assignment_5</font></h3>\n",
    "<h4 align=left><font size = 4>Dnyaneshwar More</font></h4>"
   ]
  },
  {
   "cell_type": "markdown",
   "id": "953347b4-0a8d-4953-8398-386689055bc5",
   "metadata": {},
   "source": [
    "# 1. What does an empty dictionary's code look like?_\n",
    "## Answere"
   ]
  },
  {
   "cell_type": "raw",
   "id": "b0faf5c7-e6b0-4fc1-8a6c-09814489a840",
   "metadata": {},
   "source": [
    "dic={}\n"
   ]
  },
  {
   "cell_type": "code",
   "execution_count": 16,
   "id": "8ed55cb4-1ba3-4976-9ee7-e60b3ac53eea",
   "metadata": {},
   "outputs": [
    {
     "data": {
      "text/plain": [
       "dict"
      ]
     },
     "execution_count": 16,
     "metadata": {},
     "output_type": "execute_result"
    }
   ],
   "source": [
    "dic={}\n",
    "type(dic)"
   ]
  },
  {
   "cell_type": "markdown",
   "id": "ad51d1e6-a157-444f-a1d6-4fab4c57c372",
   "metadata": {},
   "source": [
    "# 2. What is the value of a dictionary value with the key 'foo' and the value 42?\n",
    "## Answere"
   ]
  },
  {
   "cell_type": "code",
   "execution_count": 17,
   "id": "5ab16cb0-fdd2-4a0c-835c-ccc84cacd949",
   "metadata": {},
   "outputs": [
    {
     "data": {
      "text/plain": [
       "{'foo': 200}"
      ]
     },
     "execution_count": 17,
     "metadata": {},
     "output_type": "execute_result"
    }
   ],
   "source": [
    "{'foo':200}"
   ]
  },
  {
   "cell_type": "markdown",
   "id": "3272e2fd-be8f-4966-9c75-76df5b011427",
   "metadata": {},
   "source": [
    "# 3. What is the most significant distinction between a dictionary and a list?\n",
    "## Answere"
   ]
  },
  {
   "cell_type": "raw",
   "id": "9508f521-ac9a-4503-b358-a12dceb2aefd",
   "metadata": {},
   "source": [
    "most significant difference between list and dict is\n",
    "1] list items in list are orderd\n",
    "2] dict items in dectionary is unorderd"
   ]
  },
  {
   "cell_type": "markdown",
   "id": "68638402-f274-485d-b75b-fdeba5887149",
   "metadata": {},
   "source": [
    "# 4. What happens if you try to access spam['foo'] if spam is {'bar': 100}?\n",
    "## Answere"
   ]
  },
  {
   "cell_type": "markdown",
   "id": "ec86e178-6bc2-4d23-8474-af0eda33164b",
   "metadata": {},
   "source": [
    "this is give an key error"
   ]
  },
  {
   "cell_type": "code",
   "execution_count": 18,
   "id": "538507eb-3bea-48ce-88b6-662a193901d6",
   "metadata": {},
   "outputs": [
    {
     "ename": "KeyError",
     "evalue": "'foo'",
     "output_type": "error",
     "traceback": [
      "\u001b[1;31m---------------------------------------------------------------------------\u001b[0m",
      "\u001b[1;31mKeyError\u001b[0m                                  Traceback (most recent call last)",
      "Cell \u001b[1;32mIn [18], line 2\u001b[0m\n\u001b[0;32m      1\u001b[0m spam\u001b[38;5;241m=\u001b[39m{\u001b[38;5;124m'\u001b[39m\u001b[38;5;124mbar\u001b[39m\u001b[38;5;124m'\u001b[39m:\u001b[38;5;241m200\u001b[39m}\n\u001b[1;32m----> 2\u001b[0m \u001b[43mspam\u001b[49m\u001b[43m[\u001b[49m\u001b[38;5;124;43m'\u001b[39;49m\u001b[38;5;124;43mfoo\u001b[39;49m\u001b[38;5;124;43m'\u001b[39;49m\u001b[43m]\u001b[49m\n",
      "\u001b[1;31mKeyError\u001b[0m: 'foo'"
     ]
    }
   ],
   "source": [
    "spam={'bar':200}\n",
    "spam['foo']"
   ]
  },
  {
   "cell_type": "markdown",
   "id": "45989661-60da-457d-b56c-b0cc5ebec011",
   "metadata": {},
   "source": [
    "# 5. If a dictionary is stored in spam, what is the difference between the expressions 'cat' in spam and 'cat' in spam.keys()?\n",
    "## Answere"
   ]
  },
  {
   "cell_type": "code",
   "execution_count": 19,
   "id": "0bf49a5f-c853-4e09-8ccf-069aa44a3b26",
   "metadata": {},
   "outputs": [
    {
     "data": {
      "text/plain": [
       "True"
      ]
     },
     "execution_count": 19,
     "metadata": {},
     "output_type": "execute_result"
    }
   ],
   "source": [
    "spam={'cat':100}\n",
    "'cat' in spam"
   ]
  },
  {
   "cell_type": "markdown",
   "id": "83092605-7188-4313-b572-fdd6998d5849",
   "metadata": {},
   "source": [
    "# 6. If a dictionary is stored in spam, what is the difference between the expressions 'cat' in spam and 'cat' in spam.values()?\n",
    "## Answere"
   ]
  },
  {
   "cell_type": "code",
   "execution_count": 20,
   "id": "1727d2a0-f343-4500-be1d-aabbca4ef71f",
   "metadata": {},
   "outputs": [
    {
     "data": {
      "text/plain": [
       "False"
      ]
     },
     "execution_count": 20,
     "metadata": {},
     "output_type": "execute_result"
    }
   ],
   "source": [
    "spam={'cat':100}\n",
    "'cat' in spam.values()"
   ]
  },
  {
   "cell_type": "markdown",
   "id": "9383644b-0e8f-4f19-bcdd-e281aa961c2a",
   "metadata": {},
   "source": [
    "# 7. What is a shortcut for the following code?\n",
    "if 'color' not in spam:\n",
    "spam['color'] = 'black'\n",
    "## Answere"
   ]
  },
  {
   "cell_type": "code",
   "execution_count": 21,
   "id": "63f14fa3-8545-4765-85c4-614061b599b1",
   "metadata": {},
   "outputs": [
    {
     "data": {
      "text/plain": [
       "{'cat': 100, 'color': 'black'}"
      ]
     },
     "execution_count": 21,
     "metadata": {},
     "output_type": "execute_result"
    }
   ],
   "source": [
    "spam={'cat':100}\n",
    "spam.setdefault('color','black')\n",
    "spam"
   ]
  },
  {
   "cell_type": "markdown",
   "id": "fec148ba-49bf-4dc4-bab7-49eca1aa25ce",
   "metadata": {},
   "source": [
    "# 8. How do you \"pretty print\" dictionary values using which module and function?\n",
    "## Answere"
   ]
  },
  {
   "cell_type": "code",
   "execution_count": 22,
   "id": "6a6ef83e-674a-4725-b85a-4d8b8466ce73",
   "metadata": {},
   "outputs": [],
   "source": [
    "import pprint\n",
    "dic=[{'Name':'Morning ' ,'age':'76','Country':'PK '},{'Name':'Good ' ,'age':'22','Country':'US '},{'Name':'Hello ' ,'age':'35','Country':'IND '}]"
   ]
  },
  {
   "cell_type": "code",
   "execution_count": 23,
   "id": "2df8452c-a973-4469-ac7d-55fbccc0b2b7",
   "metadata": {},
   "outputs": [
    {
     "name": "stdout",
     "output_type": "stream",
     "text": [
      "[{'Country': 'PK ', 'Name': 'Morning ', 'age': '76'},\n",
      " {'Country': 'US ', 'Name': 'Good ', 'age': '22'},\n",
      " {'Country': 'IND ', 'Name': 'Hello ', 'age': '35'}]\n"
     ]
    }
   ],
   "source": [
    "pprint.pprint(dic)"
   ]
  },
  {
   "cell_type": "code",
   "execution_count": 24,
   "id": "bf8c1090-065b-4107-b0a1-3bea94ced324",
   "metadata": {},
   "outputs": [
    {
     "name": "stdout",
     "output_type": "stream",
     "text": [
      "[{'Name': 'Morning ', 'age': '76', 'Country': 'PK '}, {'Name': 'Good ', 'age': '22', 'Country': 'US '}, {'Name': 'Hello ', 'age': '35', 'Country': 'IND '}]\n"
     ]
    }
   ],
   "source": [
    "print(dic)"
   ]
  },
  {
   "cell_type": "code",
   "execution_count": null,
   "id": "12a7fc01-6844-4c06-94bd-297031b1e701",
   "metadata": {},
   "outputs": [],
   "source": []
  }
 ],
 "metadata": {
  "kernelspec": {
   "display_name": "Python 3 (ipykernel)",
   "language": "python",
   "name": "python3"
  },
  "language_info": {
   "codemirror_mode": {
    "name": "ipython",
    "version": 3
   },
   "file_extension": ".py",
   "mimetype": "text/x-python",
   "name": "python",
   "nbconvert_exporter": "python",
   "pygments_lexer": "ipython3",
   "version": "3.10.7"
  }
 },
 "nbformat": 4,
 "nbformat_minor": 5
}
