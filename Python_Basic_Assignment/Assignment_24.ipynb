{
 "cells": [
  {
   "cell_type": "markdown",
   "metadata": {},
   "source": [
    "<h1 align=center><font size = 10>Full Stack Data Science BootCamp 2.0</font></h1>\n",
    "<h2 align=center><font size = 7>Python Basic</font></h2>"
   ]
  },
  {
   "attachments": {},
   "cell_type": "markdown",
   "metadata": {},
   "source": [
    "<h3 align=left><font size = 5>Assignment_24</font></h3>\n",
    "<h4 align=left><font size = 4>Dnyaneshwar More</font></h4>"
   ]
  },
  {
   "attachments": {},
   "cell_type": "markdown",
   "metadata": {},
   "source": [
    "\n",
    "## Question 1. \n",
    "What is the relationship between def statements and lambda expressions ?\n",
    "### Answere  "
   ]
  },
  {
   "cell_type": "markdown",
   "metadata": {},
   "source": [
    "The only diffrence is that (a) the body of a lambda can consist of only a single \n",
    "expresion the result of which is returned from the function created amd (b) a lambda \n",
    "expresion is an expresion which evaluvate to a function object while a def statement has no \n",
    "value and creates a function"
   ]
  },
  {
   "cell_type": "markdown",
   "metadata": {},
   "source": [
    "## Question 2. \n",
    "What is the benefit of lambda?\n",
    "### Answere  "
   ]
  },
  {
   "cell_type": "markdown",
   "metadata": {},
   "source": [
    "the lambda Keyword in Python provides a shortcut for declaring small anonymous functions. lambda functions behave just like regular functions declared\n",
    "with the def Keyword. They can be used function object are required "
   ]
  },
  {
   "cell_type": "markdown",
   "metadata": {},
   "source": [
    "## Question 3. \n",
    "Compare and contrast map, filter, and reduce.\n",
    "### Answere  "
   ]
  },
  {
   "cell_type": "markdown",
   "metadata": {},
   "source": [
    "Both map and reduce have us input the array and function you define. They are in some\n",
    "way complementary: map connot return one single element for an arrau of multiple elements,\n",
    "while reduce will always return the accumulator you eventually changed."
   ]
  },
  {
   "cell_type": "markdown",
   "metadata": {},
   "source": [
    "## Question 4. \n",
    "What are function annotations, and how are they used?\n",
    "### Answere  "
   ]
  },
  {
   "cell_type": "markdown",
   "metadata": {},
   "source": [
    "Functions annotations are completely optional bot for parameter and return value.\n",
    "Function annotations provide a way of associating various part of a function with arbitaray Python\n",
    "expression at compile time."
   ]
  },
  {
   "cell_type": "markdown",
   "metadata": {},
   "source": [
    "## Question 5. \n",
    "What are recursive functions, and how are they used?\n",
    "### Answere  "
   ]
  },
  {
   "cell_type": "markdown",
   "metadata": {},
   "source": [
    "A recursive function is a function in code that refer to itself for execution \n",
    "Recursive function can be simple or elavorate. They allow for more efficent code wrting for instance in the \n",
    "listing or compiling of sets of numbers, strings or others variables through a single reiterated process."
   ]
  },
  {
   "cell_type": "markdown",
   "metadata": {},
   "source": [
    "## Question 6. \n",
    "What are some general design guidelines for coding functions?\n",
    "### Answere  "
   ]
  },
  {
   "cell_type": "markdown",
   "metadata": {},
   "source": [
    "Safe: It can be used without causing harm  \n",
    "Secure: It can't be hacked  \n",
    "Reliable: It functions as it should, every time.  \n",
    "Testable: It can be tested at the code level.  \n",
    "Maintainable: It can be maintained, even as your codebase grows.  \n",
    "Portable: It works the same in every environment.  "
   ]
  },
  {
   "cell_type": "markdown",
   "metadata": {},
   "source": [
    "## Question 7.\n",
    " Name three or more ways that functions can communicate results to a caller.\n",
    " ### Answere  "
   ]
  },
  {
   "cell_type": "markdown",
   "metadata": {},
   "source": [
    "The three ways are\n",
    "1. By Returning the value\n",
    "2. By printing the value \n",
    "3. By evaluting the value"
   ]
  }
 ],
 "metadata": {
  "kernelspec": {
   "display_name": "Python 3",
   "language": "python",
   "name": "python3"
  },
  "language_info": {
   "codemirror_mode": {
    "name": "ipython",
    "version": 3
   },
   "file_extension": ".py",
   "mimetype": "text/x-python",
   "name": "python",
   "nbconvert_exporter": "python",
   "pygments_lexer": "ipython3",
   "version": "3.10.0"
  },
  "orig_nbformat": 4
 },
 "nbformat": 4,
 "nbformat_minor": 2
}
