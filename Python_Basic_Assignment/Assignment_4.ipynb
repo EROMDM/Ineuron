{
 "cells": [
  {
   "cell_type": "markdown",
   "id": "ae7a1510-797e-48b6-9b05-5f0c71438be7",
   "metadata": {},
   "source": [
    "<h1 align=center><font size = 10>Full Stack Data Science BootCamp 2.0</font></h1>\n",
    "<h2 align=center><font size = 7>Python Basic</font></h2>"
   ]
  },
  {
   "cell_type": "markdown",
   "id": "6b62aa84-d4c1-4c6d-b1f1-23d6086d71d7",
   "metadata": {},
   "source": [
    "<h3 align=left><font size = 5>Assignment_4</font></h3>\n",
    "<h4 align=left><font size = 4>Dnyaneshwar More</font></h4>"
   ]
  },
  {
   "cell_type": "markdown",
   "id": "f8e44126-6376-400b-9416-bbf54b5f06bf",
   "metadata": {},
   "source": [
    "## 1. What exactly is []?"
   ]
  },
  {
   "cell_type": "markdown",
   "id": "fb7b13c7-0859-4d9d-be87-9a21fd9fe554",
   "metadata": {},
   "source": [
    "### Answere\n",
    "#### [] ihis is an empty list like A=[]"
   ]
  },
  {
   "cell_type": "code",
   "execution_count": 1,
   "id": "a4c0291a-4c3c-4b54-8226-0cbbca119d95",
   "metadata": {},
   "outputs": [
    {
     "data": {
      "text/plain": [
       "list"
      ]
     },
     "execution_count": 1,
     "metadata": {},
     "output_type": "execute_result"
    }
   ],
   "source": [
    "A=[]\n",
    "type(A)"
   ]
  },
  {
   "cell_type": "markdown",
   "id": "3db141ab-c05d-4ad6-bc58-c824242d0f34",
   "metadata": {},
   "source": [
    "## 2. In a list of values stored in a variable called spam, how would you assign the value &#39;hello&#39; as the third value? \n",
    " (Assume [2, 4, 6, 8, 10] are in spam.)\n",
    "# let's pretend the spam includes the list [&#39;a&#39;, &#39;b&#39;, &#39;c&#39;, &#39;d&#39;] for the next three queries."
   ]
  },
  {
   "cell_type": "markdown",
   "id": "ce88d739-80a3-4774-ae2b-bfb02c63a7ed",
   "metadata": {},
   "source": [
    "### Answere\n",
    "#### solution by changing the value in index 3"
   ]
  },
  {
   "cell_type": "code",
   "execution_count": 2,
   "id": "9623287a-cb6a-40dc-ba5f-fd75f3bc01e0",
   "metadata": {},
   "outputs": [
    {
     "data": {
      "text/plain": [
       "[2, 4, 'Hello', 8, 10]"
      ]
     },
     "execution_count": 2,
     "metadata": {},
     "output_type": "execute_result"
    }
   ],
   "source": [
    "spam=[2,4,6,8,10]\n",
    "spam[2]=\"Hello\"\n",
    "spam"
   ]
  },
  {
   "cell_type": "markdown",
   "id": "065108ed-5ee3-427e-a49b-809cea70c586",
   "metadata": {},
   "source": [
    "#### solution by inserting the value in index 3"
   ]
  },
  {
   "cell_type": "code",
   "execution_count": 3,
   "id": "5f60c3ae-769e-4f13-b816-e888121a4376",
   "metadata": {},
   "outputs": [
    {
     "data": {
      "text/plain": [
       "[2, 4, 'Hello', 6, 8, 10]"
      ]
     },
     "execution_count": 3,
     "metadata": {},
     "output_type": "execute_result"
    }
   ],
   "source": [
    "spam=[2,4,6,8,10]\n",
    "spam.insert(2,\"Hello\")\n",
    "spam"
   ]
  },
  {
   "cell_type": "markdown",
   "id": "a86f8e76-3f3d-43e3-829c-6674ef1cf28b",
   "metadata": {},
   "source": [
    "## 3. What is the value of spam[int(int(&#39;3&#39; * 2) / 11)]?"
   ]
  },
  {
   "cell_type": "markdown",
   "id": "0a4fd527-381d-497e-886c-445e0fbe4868",
   "metadata": {},
   "source": [
    "### Answere\n",
    "#### Here spam is an list which lenth is 4 in the above 2nd quetion \n",
    "#### then spam[int(int('3'*2)/11)]\n",
    "#### if we solve the above experetion then the value is 3 that is\n",
    "    spam[3]\n",
    "    \n",
    "#### this function gives spam list 4 orderd variable"
   ]
  },
  {
   "cell_type": "code",
   "execution_count": 4,
   "id": "ea63cfbc-5e3c-4971-bc25-d12b25d0d46a",
   "metadata": {},
   "outputs": [
    {
     "data": {
      "text/plain": [
       "'d'"
      ]
     },
     "execution_count": 4,
     "metadata": {},
     "output_type": "execute_result"
    }
   ],
   "source": [
    "spam = ['a', 'b','c','d']\n",
    "spam[int(int('3' * 2) / 11)] # spam[int(33/11)] = spam[3]"
   ]
  },
  {
   "cell_type": "markdown",
   "id": "da5bc0ea-39d7-4024-a10b-cb0f33a0afd9",
   "metadata": {},
   "source": [
    "## 4. What is the value of spam[-1]?"
   ]
  },
  {
   "cell_type": "markdown",
   "id": "84dbfd35-fc0e-43c8-8751-64b261525ac0",
   "metadata": {},
   "source": [
    "### Answere\n",
    "####  Spam[-1]  This funtion gives last variable of the fiven list\n",
    "#### that is this function print spam[3] variable means last \n",
    "### it is also called negative index"
   ]
  },
  {
   "cell_type": "code",
   "execution_count": 5,
   "id": "ad5e8d18-39f4-4306-901b-aa5c8f70f3d3",
   "metadata": {},
   "outputs": [
    {
     "data": {
      "text/plain": [
       "'d'"
      ]
     },
     "execution_count": 5,
     "metadata": {},
     "output_type": "execute_result"
    }
   ],
   "source": [
    "spam[-1]"
   ]
  },
  {
   "cell_type": "markdown",
   "id": "4c3cb578-e628-4b3a-9ed0-612a96741c7a",
   "metadata": {},
   "source": [
    "## 5. What is the value of spam[:2]?"
   ]
  },
  {
   "cell_type": "markdown",
   "id": "b7ae1726-a560-474c-aa22-bf76ce7d5256",
   "metadata": {},
   "source": [
    "### Answere\n",
    "#### this value is the index of fist two variables \n",
    "#### which is 0,1"
   ]
  },
  {
   "cell_type": "code",
   "execution_count": 6,
   "id": "471f22d9-3da1-45e9-9880-dad951869805",
   "metadata": {},
   "outputs": [
    {
     "data": {
      "text/plain": [
       "['a', 'b']"
      ]
     },
     "execution_count": 6,
     "metadata": {},
     "output_type": "execute_result"
    }
   ],
   "source": [
    "spam[:2]"
   ]
  },
  {
   "cell_type": "markdown",
   "id": "bac511eb-657e-412c-ae97-a83d34d17572",
   "metadata": {},
   "source": [
    "# Let&#39;s pretend bacon has the list [3.14, &#39;cat,&#39; 11, &#39;cat,&#39; True] for the next three questions."
   ]
  },
  {
   "cell_type": "code",
   "execution_count": 7,
   "id": "ad6c427d-cb07-4f61-961f-ff47ec96f065",
   "metadata": {},
   "outputs": [],
   "source": [
    "bacon=[3.14,'cat',11,'cat',True]"
   ]
  },
  {
   "cell_type": "markdown",
   "id": "10485b45-1a27-4276-b55a-a8a4416a60ad",
   "metadata": {},
   "source": [
    "## 6. What is the value of bacon.index(&#39;cat&#39;)?"
   ]
  },
  {
   "cell_type": "markdown",
   "id": "51acf00c-3811-4719-aed1-3854aed4ec7a",
   "metadata": {},
   "source": [
    "### Answere \n",
    "#### this function is used for the variale is present in thlist or not lis \n",
    "#### if variable is present in list then we give return value one otherwise we give an value error Is not in list"
   ]
  },
  {
   "cell_type": "code",
   "execution_count": 8,
   "id": "9f08881b-2740-4f1c-a4b8-31cedbeb56cc",
   "metadata": {},
   "outputs": [
    {
     "data": {
      "text/plain": [
       "1"
      ]
     },
     "execution_count": 8,
     "metadata": {},
     "output_type": "execute_result"
    }
   ],
   "source": [
    "bacon.index('cat')"
   ]
  },
  {
   "cell_type": "code",
   "execution_count": 9,
   "id": "025f390b-ee55-4b5f-9824-612c675911ae",
   "metadata": {},
   "outputs": [
    {
     "ename": "ValueError",
     "evalue": "'Hello' is not in list",
     "output_type": "error",
     "traceback": [
      "\u001b[1;31m---------------------------------------------------------------------------\u001b[0m",
      "\u001b[1;31mValueError\u001b[0m                                Traceback (most recent call last)",
      "Cell \u001b[1;32mIn [9], line 1\u001b[0m\n\u001b[1;32m----> 1\u001b[0m \u001b[43mbacon\u001b[49m\u001b[38;5;241;43m.\u001b[39;49m\u001b[43mindex\u001b[49m\u001b[43m(\u001b[49m\u001b[38;5;124;43m\"\u001b[39;49m\u001b[38;5;124;43mHello\u001b[39;49m\u001b[38;5;124;43m\"\u001b[39;49m\u001b[43m)\u001b[49m\n",
      "\u001b[1;31mValueError\u001b[0m: 'Hello' is not in list"
     ]
    }
   ],
   "source": [
    "bacon.index(\"Hello\")"
   ]
  },
  {
   "cell_type": "markdown",
   "id": "3f55d05a-e699-4b75-ab88-8bb1eb88df69",
   "metadata": {},
   "source": [
    "## 7. How does bacon.append(99) change the look of the list value in bacon?"
   ]
  },
  {
   "cell_type": "markdown",
   "id": "e57c88b9-598b-4fc9-b96e-0cda7d4e43e2",
   "metadata": {},
   "source": [
    "### Answere\n",
    "####  append this is use for append the list this variable add in the end of list"
   ]
  },
  {
   "cell_type": "code",
   "execution_count": null,
   "id": "45a8a8da-be93-45f5-a6ef-285e54a1b66d",
   "metadata": {},
   "outputs": [],
   "source": [
    "bacon.append(99)\n",
    "bacon"
   ]
  },
  {
   "cell_type": "markdown",
   "id": "5aa050f9-2652-472c-bb68-8d5baa74b02b",
   "metadata": {},
   "source": [
    "## 8. How does bacon.remove(&#39;cat&#39;) change the look of the list in bacon?"
   ]
  },
  {
   "cell_type": "markdown",
   "id": "1246f2cd-b3b4-48ae-9ed0-06452634c753",
   "metadata": {},
   "source": [
    "### Answere\n",
    "####  remove this is use for remove  the fist variable in  list this element if this varable not occure then X is not in list value error is given"
   ]
  },
  {
   "cell_type": "code",
   "execution_count": 10,
   "id": "c8804cda-357e-4dfc-ae81-5677dd2cc6a7",
   "metadata": {},
   "outputs": [
    {
     "data": {
      "text/plain": [
       "[3.14, 11, 'cat', True]"
      ]
     },
     "execution_count": 10,
     "metadata": {},
     "output_type": "execute_result"
    }
   ],
   "source": [
    "bacon.remove('cat')\n",
    "bacon"
   ]
  },
  {
   "cell_type": "code",
   "execution_count": 11,
   "id": "5886e400-8dd3-4bf7-9915-a99a692955d6",
   "metadata": {},
   "outputs": [
    {
     "ename": "ValueError",
     "evalue": "list.remove(x): x not in list",
     "output_type": "error",
     "traceback": [
      "\u001b[1;31m---------------------------------------------------------------------------\u001b[0m",
      "\u001b[1;31mValueError\u001b[0m                                Traceback (most recent call last)",
      "Cell \u001b[1;32mIn [11], line 1\u001b[0m\n\u001b[1;32m----> 1\u001b[0m \u001b[43mbacon\u001b[49m\u001b[38;5;241;43m.\u001b[39;49m\u001b[43mremove\u001b[49m\u001b[43m(\u001b[49m\u001b[38;5;124;43m'\u001b[39;49m\u001b[38;5;124;43mcot\u001b[39;49m\u001b[38;5;124;43m'\u001b[39;49m\u001b[43m)\u001b[49m\n\u001b[0;32m      2\u001b[0m bacon\n",
      "\u001b[1;31mValueError\u001b[0m: list.remove(x): x not in list"
     ]
    }
   ],
   "source": [
    "bacon.remove('cot')\n",
    "bacon"
   ]
  },
  {
   "cell_type": "markdown",
   "id": "42a9df28-4e6c-4cb1-be8a-3766645e15fc",
   "metadata": {},
   "source": [
    "## 9. What are the list concatenation and list replication operators?"
   ]
  },
  {
   "cell_type": "markdown",
   "id": "68409cf1-0635-48e9-b6f1-1053c5096223",
   "metadata": {},
   "source": [
    "### Answere\n",
    "#### * -> is list replication operatotor\n",
    "#### + -> is list cancatination operator"
   ]
  },
  {
   "cell_type": "code",
   "execution_count": 12,
   "id": "a36fe23a-5034-4fca-a652-cf23d4240181",
   "metadata": {},
   "outputs": [
    {
     "data": {
      "text/plain": [
       "[2, 4, 5, 1]"
      ]
     },
     "execution_count": 12,
     "metadata": {},
     "output_type": "execute_result"
    }
   ],
   "source": [
    "l1=[2,4]\n",
    "l2=[5,1]\n",
    "# This is an example of of list cancatination\n",
    "# inthis example there is need to both ithe variable type is same\n",
    "l1+l2"
   ]
  },
  {
   "cell_type": "code",
   "execution_count": 13,
   "id": "96e99865-6e5b-4f79-b2eb-faed75cc661a",
   "metadata": {},
   "outputs": [
    {
     "data": {
      "text/plain": [
       "[5, 1, 5, 1, 5, 1, 5, 1]"
      ]
     },
     "execution_count": 13,
     "metadata": {},
     "output_type": "execute_result"
    }
   ],
   "source": [
    "l2=[5,1]\n",
    "# This is an example of of list r5eplication\n",
    "l2*4"
   ]
  },
  {
   "cell_type": "markdown",
   "id": "8c1df2ff-7174-4e2a-babe-7e155be59ae1",
   "metadata": {},
   "source": [
    "## 10. What is difference between the list methods append() and insert()?"
   ]
  },
  {
   "cell_type": "markdown",
   "id": "d61db0d8-0de0-41df-b60e-e1023ce7ca20",
   "metadata": {},
   "source": [
    "### Answere \n",
    "####     append() ->Appends object to the end of the list\n",
    "####    insert() -> Insert object before index"
   ]
  },
  {
   "cell_type": "code",
   "execution_count": 14,
   "id": "5c8898dd-641d-4257-ae54-5fb864b08b86",
   "metadata": {},
   "outputs": [
    {
     "name": "stdout",
     "output_type": "stream",
     "text": [
      "[3.14, 11, 'cat', True, 23]\n",
      "[3.14, 11, 99, 'cat', True, 23]\n"
     ]
    }
   ],
   "source": [
    "bacon.append(23)\n",
    "print(bacon)\n",
    "\n",
    "bacon.insert(2,99)\n",
    "print(bacon)"
   ]
  },
  {
   "cell_type": "markdown",
   "id": "5c923bb1-6084-4e06-afed-97dc1a44a764",
   "metadata": {},
   "source": [
    "## 11. What are the two methods for removing items from a list?"
   ]
  },
  {
   "cell_type": "markdown",
   "id": "af7f5f2b-c964-4c5d-841c-0bb4fd0b50f6",
   "metadata": {},
   "source": [
    "### Answere\n",
    "####  remove(item) - remove words first occurence of a item\n",
    "####  pop() - Remove and returns item at index (default last)."
   ]
  },
  {
   "cell_type": "code",
   "execution_count": 15,
   "id": "5b105f0c-2ef5-4285-bb74-0af1aa68f1e0",
   "metadata": {},
   "outputs": [
    {
     "data": {
      "text/plain": [
       "[3.14, 11, 99, True, 23]"
      ]
     },
     "execution_count": 15,
     "metadata": {},
     "output_type": "execute_result"
    }
   ],
   "source": [
    "bacon.remove('cat')\n",
    "bacon"
   ]
  },
  {
   "cell_type": "code",
   "execution_count": 16,
   "id": "12cae4fe-e662-4ded-adbf-908f5b8b910b",
   "metadata": {},
   "outputs": [
    {
     "data": {
      "text/plain": [
       "23"
      ]
     },
     "execution_count": 16,
     "metadata": {},
     "output_type": "execute_result"
    }
   ],
   "source": [
    "bacon.pop()"
   ]
  },
  {
   "cell_type": "markdown",
   "id": "6ba47be8-ffda-4d89-888b-a5e7cfdb97ce",
   "metadata": {},
   "source": [
    "## 12. Describe how list values and string values are identical."
   ]
  },
  {
   "cell_type": "markdown",
   "id": "af8fcf02-25ce-4eb1-8805-2deaa325d882",
   "metadata": {},
   "source": [
    "### Answere\n",
    "    1. Both lists and strings can be passed to len()\n",
    "    2. Have indexes and slices\n",
    "    3. Can be used in for loops\n",
    "    4. Can be concatenated or replicated\n",
    "    5. Can be used with the in and not in operators"
   ]
  },
  {
   "cell_type": "markdown",
   "id": "23debabc-a05f-4a3b-a1e3-e0b8dbade83f",
   "metadata": {},
   "source": [
    "## 13. What&#39;s the difference between tuples and lists?"
   ]
  },
  {
   "cell_type": "markdown",
   "id": "46789656-dcdd-4499-8102-159d03244071",
   "metadata": {},
   "source": [
    "### Answere\n",
    "    Lists :\n",
    "    are mutable - they can have values added, removed, or changed. \n",
    "    lists use the square brackets, [ and ]\n",
    "    Tuples :\n",
    "    are immutable; they cannot be changed at all. \n",
    "    Tuples are written using parentheses, ( and ) while "
   ]
  },
  {
   "cell_type": "markdown",
   "id": "32dc437c-0eef-4050-bf23-c3fefbf36c81",
   "metadata": {},
   "source": [
    "## 14. How do you type a tuple value that only contains the integer 42?"
   ]
  },
  {
   "cell_type": "markdown",
   "id": "2b3fd321-9385-445d-b66e-2287eb135579",
   "metadata": {},
   "source": [
    "### Answere"
   ]
  },
  {
   "cell_type": "code",
   "execution_count": 17,
   "id": "374922b8-83a5-4213-bf4a-35095e737644",
   "metadata": {},
   "outputs": [
    {
     "data": {
      "text/plain": [
       "tuple"
      ]
     },
     "execution_count": 17,
     "metadata": {},
     "output_type": "execute_result"
    }
   ],
   "source": [
    "tp=(42,)\n",
    "type(tp)"
   ]
  },
  {
   "cell_type": "markdown",
   "id": "62bbf019-f5a2-47d7-8acd-02b9945781c9",
   "metadata": {},
   "source": [
    "## 15. How do you get a list value&#39;s tuple form? How do you get a tuple value&#39;s list form?"
   ]
  },
  {
   "cell_type": "markdown",
   "id": "30475308-90a5-49e6-9c85-816fc0c8d568",
   "metadata": {},
   "source": [
    "### Answere\n",
    "#### by  using tupple() and list()"
   ]
  },
  {
   "cell_type": "code",
   "execution_count": 18,
   "id": "00d7194f-bdac-4b75-8654-2ca6b0b4519b",
   "metadata": {},
   "outputs": [
    {
     "data": {
      "text/plain": [
       "(2, 5, 4, 3)"
      ]
     },
     "execution_count": 18,
     "metadata": {},
     "output_type": "execute_result"
    }
   ],
   "source": [
    "l1=[2,5,4,3]\n",
    "tuple(l1)"
   ]
  },
  {
   "cell_type": "code",
   "execution_count": 19,
   "id": "d76a9ea8-937c-40fd-bc29-4688b673e89a",
   "metadata": {},
   "outputs": [
    {
     "data": {
      "text/plain": [
       "[4, 3, 1, 6, 9]"
      ]
     },
     "execution_count": 19,
     "metadata": {},
     "output_type": "execute_result"
    }
   ],
   "source": [
    "l2=(4,3,1,6,9)\n",
    "list(l2)"
   ]
  },
  {
   "cell_type": "markdown",
   "id": "04852aef-8236-43f9-959f-f398d60fe155",
   "metadata": {},
   "source": [
    " ## 16. Variables that &quot;contain&quot; list values are not necessarily lists themselves. Instead, what do they contain?"
   ]
  },
  {
   "cell_type": "markdown",
   "id": "8e1a03d1-886a-4f82-a8b0-77a83a5fa14b",
   "metadata": {},
   "source": [
    "### Answere\n",
    "####  They contain references to list values\n"
   ]
  },
  {
   "cell_type": "markdown",
   "id": "d74352b4-8dbc-4fad-9dd5-f984fa5d9afc",
   "metadata": {},
   "source": [
    "## 17. How do you distinguish between copy.copy() and copy.deepcopy()?"
   ]
  },
  {
   "cell_type": "markdown",
   "id": "46eeae2a-d9a7-421d-aab7-1a5f7ec6520f",
   "metadata": {},
   "source": [
    "### Answere\n",
    "    The copy.copy() function will do a shallow copy of a list, \n",
    "    The copy.deepcopy() function will do a deep copy of a list. only copy.deepcopy() will duplicate any lists inside the \n",
    "    list"
   ]
  },
  {
   "cell_type": "code",
   "execution_count": null,
   "id": "0c93bca5-03ca-43e2-9584-a4966df236de",
   "metadata": {},
   "outputs": [],
   "source": []
  }
 ],
 "metadata": {
  "kernelspec": {
   "display_name": "Python 3 (ipykernel)",
   "language": "python",
   "name": "python3"
  },
  "language_info": {
   "codemirror_mode": {
    "name": "ipython",
    "version": 3
   },
   "file_extension": ".py",
   "mimetype": "text/x-python",
   "name": "python",
   "nbconvert_exporter": "python",
   "pygments_lexer": "ipython3",
   "version": "3.10.7"
  }
 },
 "nbformat": 4,
 "nbformat_minor": 5
}
