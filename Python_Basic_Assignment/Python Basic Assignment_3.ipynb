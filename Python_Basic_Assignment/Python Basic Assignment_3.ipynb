{
 "cells": [
  {
   "cell_type": "markdown",
   "id": "7cf7bfb4-3279-45f9-89b4-57e4de1daff7",
   "metadata": {},
   "source": [
    "<h1 align=center><font size = 10>Full Stack Data Science BootCamp 2.0</font></h1>\n",
    "<h2 align=center><font size = 7>Python Basic</font></h2>"
   ]
  },
  {
   "cell_type": "markdown",
   "id": "a47ccb6b-66af-4b3c-b8c5-8ea99edfaaca",
   "metadata": {},
   "source": [
    "<h3 align=left><font size = 5>Assignment_3</font></h3>\n",
    "<h4 align=left><font size = 4>Dnyaneshwar More</font></h4>"
   ]
  },
  {
   "cell_type": "markdown",
   "id": "553b68a7-dca4-46e7-bc87-c678cc1b0422",
   "metadata": {
    "tags": []
   },
   "source": [
    "## 1. Why are functions advantageous to have in your programs?\n",
    "\n"
   ]
  },
  {
   "cell_type": "markdown",
   "id": "e1899d3e-2f16-4387-abf5-e9ebe72684d0",
   "metadata": {
    "jp-MarkdownHeadingCollapsed": true,
    "tags": []
   },
   "source": [
    "### Answer \n",
    "#### The advantages of using functions are:\n",
    "        - Avoid repetition of codes.\n",
    "        - Increases program readability and modularity\n",
    "        - Divide a complex problem into simpler ones.\n",
    "        - Reduces chances of error.\n",
    "        - Modifying a program becomes easier by using function.\n",
    "\n"
   ]
  },
  {
   "cell_type": "markdown",
   "id": "b60d7295-237a-422f-b9f3-36ff7066b710",
   "metadata": {
    "tags": []
   },
   "source": [
    "\n",
    "## 2. When does the code in a function run: when it&#39;s specified or when it&#39;s called?\n"
   ]
  },
  {
   "cell_type": "markdown",
   "id": "9c6bfee0-9653-46cb-bdfe-c9c83a6fc2a5",
   "metadata": {
    "jp-MarkdownHeadingCollapsed": true,
    "tags": []
   },
   "source": [
    "\n",
    "### Answer\n",
    "####  The code in a function executes when the function is called, not when the function is defined."
   ]
  },
  {
   "cell_type": "markdown",
   "id": "4ab561f3-4792-49cd-9cbe-dbfc5c3850d2",
   "metadata": {
    "tags": []
   },
   "source": [
    "\n",
    "## 3. What statement creates a function?\n"
   ]
  },
  {
   "cell_type": "markdown",
   "id": "f4969354-20c0-4f20-834e-7cd561c77ab2",
   "metadata": {
    "jp-MarkdownHeadingCollapsed": true,
    "tags": []
   },
   "source": [
    "\n",
    "### Answer\n",
    "#### The def functionName() createes a function\n"
   ]
  },
  {
   "cell_type": "markdown",
   "id": "bf8dc377-2527-4b8a-8e68-a72e03bc3a0c",
   "metadata": {
    "tags": []
   },
   "source": [
    "\n",
    "## 4. What is the difference between a function and a function call?\n"
   ]
  },
  {
   "cell_type": "markdown",
   "id": "1e908757-94d6-4366-892a-362ff1957a1e",
   "metadata": {
    "jp-MarkdownHeadingCollapsed": true,
    "tags": []
   },
   "source": [
    "\n",
    "### Answer\n",
    "    A function : is a block of code that does a particular operation and returns a result. It usually accepts inputs as \n",
    "    parameters and returns a result. The parameters are not mandatory. \n",
    "    A Function call : is the code used to pass control to a function\n",
    "\n"
   ]
  },
  {
   "cell_type": "markdown",
   "id": "01ccb2b4-6c3d-4259-97ef-6d36a8411c61",
   "metadata": {
    "tags": []
   },
   "source": [
    "\n",
    "## 5. How many global scopes are there in a Python program? How many local scopes?\n"
   ]
  },
  {
   "cell_type": "markdown",
   "id": "2bd3890e-1072-46f5-bbbf-146da578134c",
   "metadata": {
    "tags": []
   },
   "source": [
    "\n",
    "### Answere\n",
    "#### There is one global scope, and a local scope is created whenever a function is called\n"
   ]
  },
  {
   "cell_type": "markdown",
   "id": "4d44937e-8396-40bf-9fd9-add27f5d2621",
   "metadata": {
    "tags": []
   },
   "source": [
    "\n",
    "## 6. What happens to variables in a local scope when the function call returns?\n"
   ]
  },
  {
   "cell_type": "markdown",
   "id": "363f4ef6-91f2-422c-8c94-6dd30b2b1349",
   "metadata": {},
   "source": [
    "### Answere \n",
    "#### When a function returns, the local scope is destroyed, and all the variables in it are forgotten."
   ]
  },
  {
   "cell_type": "markdown",
   "id": "4de914d6-3198-491f-a44e-e00d96c3155c",
   "metadata": {
    "tags": []
   },
   "source": [
    "\n",
    "## 7. What is the concept of a return value? Is it possible to have a return value in an expression?\n"
   ]
  },
  {
   "cell_type": "markdown",
   "id": "e8d23495-91ae-4590-8563-e9a4bd1a0544",
   "metadata": {},
   "source": [
    "### Answere\n",
    "####  A return value is the value that a function call evaluates to. A return value can be used as part of an expression, Like any value\n"
   ]
  },
  {
   "cell_type": "markdown",
   "id": "f5b70476-5f54-4546-8ce3-997923a1e7a6",
   "metadata": {
    "tags": []
   },
   "source": [
    "## 8. If a function does not have a return statement, what is the return value of a call to that function?\n"
   ]
  },
  {
   "cell_type": "markdown",
   "id": "dfadaad9-ae08-4590-b4ab-586bc693c813",
   "metadata": {},
   "source": [
    "### Answere\n",
    "#### If there is no return statement for a function, its return value is None"
   ]
  },
  {
   "cell_type": "markdown",
   "id": "5fba0d18-a166-4bd2-92f6-18db9af7e1f7",
   "metadata": {
    "tags": []
   },
   "source": [
    "## 9. How do you make a function variable refer to the global variable?\n"
   ]
  },
  {
   "cell_type": "markdown",
   "id": "580f295f-d3d2-4214-850e-145a3928037b",
   "metadata": {},
   "source": [
    "### Answere\n",
    "#### By representing a valible by global keywaord in the body of a function Example : global a"
   ]
  },
  {
   "cell_type": "markdown",
   "id": "4ce9f5c4-3941-4f77-8c71-8b071f9c06be",
   "metadata": {
    "tags": []
   },
   "source": [
    "\n",
    "## 10. What is the data type of None?\n"
   ]
  },
  {
   "cell_type": "markdown",
   "id": "40a76f1d-5d23-46fb-8543-5bee6195569c",
   "metadata": {
    "jp-MarkdownHeadingCollapsed": true,
    "tags": []
   },
   "source": [
    "### Answere\n",
    "#### The data Type of None is : NoneType"
   ]
  },
  {
   "cell_type": "markdown",
   "id": "722c578f-ce16-404c-b826-1dd10da9d356",
   "metadata": {
    "tags": []
   },
   "source": [
    "\n",
    "## 11. What does the sentence import areallyourpetsnamederic do?\n"
   ]
  },
  {
   "cell_type": "markdown",
   "id": "ccfaf788-5246-4917-b686-f549754d0c24",
   "metadata": {},
   "source": [
    "### Answere\n",
    "#### areallyourpetsnamederic ia not a python module. Importing this module will throughs ModuleNotFoundError exception: No module named 'areallyourpetsnamederic"
   ]
  },
  {
   "cell_type": "code",
   "execution_count": 3,
   "id": "a8ab8d7a-a2d5-47d5-b1dd-633e0ab1a1c3",
   "metadata": {},
   "outputs": [
    {
     "ename": "ModuleNotFoundError",
     "evalue": "No module named 'areallyourpetsnamederic'",
     "output_type": "error",
     "traceback": [
      "\u001b[1;31m---------------------------------------------------------------------------\u001b[0m",
      "\u001b[1;31mModuleNotFoundError\u001b[0m                       Traceback (most recent call last)",
      "Cell \u001b[1;32mIn [3], line 1\u001b[0m\n\u001b[1;32m----> 1\u001b[0m \u001b[38;5;28;01mimport\u001b[39;00m \u001b[38;5;21;01mareallyourpetsnamederic\u001b[39;00m\n",
      "\u001b[1;31mModuleNotFoundError\u001b[0m: No module named 'areallyourpetsnamederic'"
     ]
    }
   ],
   "source": [
    "import areallyourpetsnamederic"
   ]
  },
  {
   "cell_type": "markdown",
   "id": "666db9f4-055f-4d22-9825-5f7d81706128",
   "metadata": {
    "tags": []
   },
   "source": [
    "\n",
    "## 12. If you had a bacon() feature in a spam module, what would you call it after importing spam?\n"
   ]
  },
  {
   "cell_type": "markdown",
   "id": "e17e1eb2-a0ce-4f0e-8008-c9282643a7a9",
   "metadata": {
    "jp-MarkdownHeadingCollapsed": true,
    "tags": []
   },
   "source": [
    "\n",
    "### Answer\n",
    "#### This function can be called with spam.bacon(). like below\n",
    "        import spam\n",
    "        spam.bacon()"
   ]
  },
  {
   "cell_type": "markdown",
   "id": "b12c7569-5f11-4232-8b4b-07bb36042985",
   "metadata": {},
   "source": [
    "\n",
    "## 13. What can you do to save a programme from crashing if it encounters an error?\n"
   ]
  },
  {
   "cell_type": "markdown",
   "id": "29b6ea16-00be-46d8-bdd8-d8fde18497bb",
   "metadata": {
    "jp-MarkdownHeadingCollapsed": true,
    "tags": []
   },
   "source": [
    "\n",
    "### Answer\n",
    "####  we can write lines of code in try block. This will not crash the programme. And in except block we can catch the exception\n",
    "\n"
   ]
  },
  {
   "cell_type": "markdown",
   "id": "dfe55e45-eb28-4de6-9b85-709c89700e0e",
   "metadata": {},
   "source": [
    "\n",
    "## 14. What is the purpose of the try clause? What is the purpose of the except clause?"
   ]
  },
  {
   "cell_type": "markdown",
   "id": "b2ffaafc-32f8-4172-96ad-ac83bf023128",
   "metadata": {
    "tags": []
   },
   "source": [
    "\n",
    "### Answer\n",
    "#### Try : The code that could potentially cause an error goes in the try clause. except : The code that executes if an error happens goes in the except clause, like print statments about exceptions, loggin statements.\n"
   ]
  }
 ],
 "metadata": {
  "kernelspec": {
   "display_name": "Python 3 (ipykernel)",
   "language": "python",
   "name": "python3"
  },
  "language_info": {
   "codemirror_mode": {
    "name": "ipython",
    "version": 3
   },
   "file_extension": ".py",
   "mimetype": "text/x-python",
   "name": "python",
   "nbconvert_exporter": "python",
   "pygments_lexer": "ipython3",
   "version": "3.10.7"
  }
 },
 "nbformat": 4,
 "nbformat_minor": 5
}
