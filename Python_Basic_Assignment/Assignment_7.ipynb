{
 "cells": [
  {
   "cell_type": "markdown",
   "id": "7cf7bfb4-3279-45f9-89b4-57e4de1daff7",
   "metadata": {},
   "source": [
    "<h1 align=center><font size = 10>Full Stack Data Science BootCamp 2.0</font></h1>\n",
    "<h2 align=center><font size = 7>Python Basic</font></h2>"
   ]
  },
  {
   "attachments": {},
   "cell_type": "markdown",
   "id": "a47ccb6b-66af-4b3c-b8c5-8ea99edfaaca",
   "metadata": {},
   "source": [
    "<h3 align=left><font size = 5>Assignment_7</font></h3>\n",
    "<h4 align=left><font size = 4>Dnyaneshwar More</font></h4>"
   ]
  },
  {
   "attachments": {},
   "cell_type": "markdown",
   "id": "0d954e75",
   "metadata": {},
   "source": [
    "## Question 1. \n",
    "What is the name of the feature responsible for generating Regex objects?  \n",
    "### Answere  "
   ]
  },
  {
   "attachments": {},
   "cell_type": "markdown",
   "id": "1ecf5e4a",
   "metadata": {},
   "source": [
    "__`re.compile()`__is the feature responsible for generation of Regex object"
   ]
  },
  {
   "cell_type": "code",
   "execution_count": 1,
   "id": "3a77296d",
   "metadata": {},
   "outputs": [
    {
     "name": "stdout",
     "output_type": "stream",
     "text": [
      "<class 're.Pattern'>\n",
      "re.compile('somerandom patten')\n"
     ]
    }
   ],
   "source": [
    "import re\n",
    "x = re.compile(\"somerandom patten\")\n",
    "print(type(x))\n",
    "print(x)"
   ]
  },
  {
   "attachments": {},
   "cell_type": "markdown",
   "id": "59e459d1",
   "metadata": {},
   "source": [
    "## Question  2. \n",
    "Why do raw strings often appear in Regex objects?  \n",
    "### Answere  "
   ]
  },
  {
   "attachments": {},
   "cell_type": "markdown",
   "id": "58ad5002",
   "metadata": {},
   "source": [
    "Regular expressions use the backslash character __('/')__ to indicatae spectal froms __(Metacharasters)__ or to allow special sequences to be used wothout invoking thier special meaning. This collides with python usage of some vharacter for the some purpose in string literals. Hence \n",
    "Raw strings are used so that backslasjes do not have to be escaped\n"
   ]
  },
  {
   "attachments": {},
   "cell_type": "markdown",
   "id": "706f3c81",
   "metadata": {},
   "source": [
    "## Question 3. \n",
    "What is the return value of the search() method?  \n",
    "### Answere  "
   ]
  },
  {
   "attachments": {},
   "cell_type": "markdown",
   "id": "6eb85143",
   "metadata": {},
   "source": [
    "The return value of __`re.search(pattern,string)`__ method is a match object if pattern is observed in the string else it returns a None"
   ]
  },
  {
   "cell_type": "code",
   "execution_count": 2,
   "id": "4accbf7d",
   "metadata": {},
   "outputs": [
    {
     "name": "stdout",
     "output_type": "stream",
     "text": [
      "Output <re.Match object; span=(1, 2), match='I'>\n",
      "Output None\n"
     ]
    }
   ],
   "source": [
    "match = re.search('I',\" Inuron full stock \",flags=re.IGNORECASE)\n",
    "print('Output',match)\n",
    "match = re.search('x',\" Inuron full stock \",flags=re.IGNORECASE)\n",
    "print('Output',match)"
   ]
  },
  {
   "attachments": {},
   "cell_type": "markdown",
   "id": "aedab6d7",
   "metadata": {},
   "source": [
    "## Question 4.\n",
    " From a Match item, how do you get the actual strings that match the pattern?  \n",
    "### Answere  "
   ]
  },
  {
   "attachments": {},
   "cell_type": "markdown",
   "id": "f2a9a7dc",
   "metadata": {},
   "source": [
    "For Matched iterms `group()` method returns actual string that match the patern"
   ]
  },
  {
   "cell_type": "code",
   "execution_count": 3,
   "id": "13f2b320",
   "metadata": {},
   "outputs": [
    {
     "name": "stdout",
     "output_type": "stream",
     "text": [
      "Output Inuron\n"
     ]
    }
   ],
   "source": [
    "match = re.search('Inuron',\" Inuron full stock \",flags=re.IGNORECASE)\n",
    "print('Output',match.group())"
   ]
  },
  {
   "attachments": {},
   "cell_type": "markdown",
   "id": "6617151d",
   "metadata": {},
   "source": [
    "## Question 5. \n",
    "In the regex which created from the '(\\d\\d\\d)-(\\d\\d\\d-\\d\\d\\d\\d)', what does   group zero cover? Group 2? Group 1?\n",
    "### Answere  "
   ]
  },
  {
   "attachments": {},
   "cell_type": "markdown",
   "id": "ae758fd2",
   "metadata": {},
   "source": [
    "the regex `r'(\\d\\d\\d)-(\\d\\d\\d-\\d\\d\\d\\d)'` the zero group civers the entire pattern match where as the fisr group cover `(\\d\\d\\d)` and secound group cover `(\\d\\d\\d-\\d\\d\\d\\d)`"
   ]
  },
  {
   "cell_type": "code",
   "execution_count": 4,
   "id": "2ab97242",
   "metadata": {},
   "outputs": [
    {
     "name": "stdout",
     "output_type": "stream",
     "text": [
      "('415', '555-4332')\n",
      "415-555-4332\n",
      "415\n",
      "555-4332\n"
     ]
    }
   ],
   "source": [
    "import re\n",
    "pn = re.compile(r'(\\d\\d\\d)-(\\d\\d\\d-\\d\\d\\d\\d)')\n",
    "mo = pn.search('my numbear is 415-555-4332')\n",
    "print(mo.groups())\n",
    "print(mo.group())\n",
    "print(mo.group(1))\n",
    "print(mo.group(2))\n"
   ]
  },
  {
   "attachments": {},
   "cell_type": "markdown",
   "id": "a22ed2ce",
   "metadata": {},
   "source": [
    "## Question 6. \n",
    "In standard expression syntax, parentheses and intervals have distinct meanings. How can you tell a regex that you want it to fit real parentheses and periods?\n",
    "### Answere  "
   ]
  },
  {
   "attachments": {},
   "cell_type": "markdown",
   "id": "a9ee5d8f",
   "metadata": {},
   "source": [
    "Thr `\\.\\(and\\)` escape charaster in the row string passed to re.compile() will match actual parenthesis charasters"
   ]
  },
  {
   "cell_type": "code",
   "execution_count": 5,
   "id": "3513326c",
   "metadata": {},
   "outputs": [
    {
     "name": "stdout",
     "output_type": "stream",
     "text": [
      "(415) 555-4332\n"
     ]
    }
   ],
   "source": [
    "import re\n",
    "pn = re.compile(r'(\\(\\d\\d\\d\\)) (\\d\\d\\d-\\d\\d\\d\\d)')\n",
    "mo = pn.search('my numbear is (415) 555-4332')\n",
    "print(mo.group())"
   ]
  },
  {
   "attachments": {},
   "cell_type": "markdown",
   "id": "2064d826",
   "metadata": {},
   "source": [
    "## Question 7. \n",
    "The findall() method returns a string list or a list of string tuples. What causes it to return one of the two options?  \n",
    "### Answere  "
   ]
  },
  {
   "attachments": {},
   "cell_type": "markdown",
   "id": "54e3c708",
   "metadata": {},
   "source": [
    "if the regax pattern has no groups, a list of strings matched is returned if the regex has groups, a lisr of tuple of string is returned"
   ]
  },
  {
   "cell_type": "code",
   "execution_count": 6,
   "id": "201a2bb4",
   "metadata": {},
   "outputs": [
    {
     "name": "stdout",
     "output_type": "stream",
     "text": [
      "[('(415)', '555-4242')]\n"
     ]
    }
   ],
   "source": [
    "import re\n",
    "phoneNumRegex = re.compile(r'(\\(\\d\\d\\d\\)) (\\d\\d\\d-\\d\\d\\d\\d)')\n",
    "mo = phoneNumRegex.findall('My phone number is (415) 555-4242.')\n",
    "print(mo)"
   ]
  },
  {
   "cell_type": "code",
   "execution_count": 7,
   "id": "a0fdb184",
   "metadata": {},
   "outputs": [
    {
     "name": "stdout",
     "output_type": "stream",
     "text": [
      "['415-555-4242']\n"
     ]
    }
   ],
   "source": [
    "\n",
    "import re\n",
    "phoneNumRegex = re.compile(r'\\d{3}-\\d{3}-\\d{4}')\n",
    "mo = phoneNumRegex.findall('My number is 415-555-4242.')\n",
    "print(mo) # Prints all groups in a tuple format"
   ]
  },
  {
   "attachments": {},
   "cell_type": "markdown",
   "id": "c04c7907",
   "metadata": {},
   "source": [
    "## Question 8. \n",
    "In standard expressions, what does the | character mean?  \n",
    "### Answere  "
   ]
  },
  {
   "attachments": {},
   "cell_type": "markdown",
   "id": "1bcaca3f",
   "metadata": {},
   "source": [
    "In Standard expression | means OR Opration"
   ]
  },
  {
   "attachments": {},
   "cell_type": "markdown",
   "id": "e0bec37c",
   "metadata": {},
   "source": [
    "## Question 9. \n",
    "In regular expressions, what does the character stand for?  \n",
    "### Answere  "
   ]
  },
  {
   "attachments": {},
   "cell_type": "markdown",
   "id": "e489465b",
   "metadata": {},
   "source": [
    "In regular Expression ? characters represents zero or one matfh of the preceeding group"
   ]
  },
  {
   "cell_type": "code",
   "execution_count": 8,
   "id": "6511be89",
   "metadata": {},
   "outputs": [
    {
     "name": "stdout",
     "output_type": "stream",
     "text": [
      "<re.Match object; span=(0, 6), match='Batman'>\n"
     ]
    }
   ],
   "source": [
    "import re \n",
    "mat= re.search(\"Bat(wo)?man\",\"Batman retuen\")\n",
    "print(mat)"
   ]
  },
  {
   "cell_type": "code",
   "execution_count": 9,
   "id": "09a8fddd",
   "metadata": {},
   "outputs": [
    {
     "name": "stdout",
     "output_type": "stream",
     "text": [
      "<re.Match object; span=(0, 8), match='Batwoman'>\n"
     ]
    }
   ],
   "source": [
    "import re \n",
    "mat= re.search(\"Bat(wo)?man\",\"Batwoman retuen\")\n",
    "print(mat)"
   ]
  },
  {
   "attachments": {},
   "cell_type": "markdown",
   "id": "b7ad44bc",
   "metadata": {},
   "source": [
    "## Question 10.\n",
    "In regular expressions, what is the difference between the + and * characters?  \n",
    "### Answere  "
   ]
  },
  {
   "attachments": {},
   "cell_type": "markdown",
   "id": "6607b6e9",
   "metadata": {},
   "source": [
    "In regular Expression * representZero ore more occureance of the preceeding group wheres+represents one or more occurance preceeding"
   ]
  },
  {
   "cell_type": "code",
   "execution_count": 10,
   "id": "f70181c4",
   "metadata": {},
   "outputs": [
    {
     "name": "stdout",
     "output_type": "stream",
     "text": [
      "<re.Match object; span=(0, 6), match='Batman'>\n",
      "None\n"
     ]
    }
   ],
   "source": [
    "import re\n",
    "match_1 = re.search(\"Bat(wo)*man\",\"Batman returns\")\n",
    "print(match_1)\n",
    "match_2 = re.search(\"Bat(wo)+man\",\"Batman returns\")\n",
    "print(match_2)"
   ]
  },
  {
   "attachments": {},
   "cell_type": "markdown",
   "id": "62c6ccd3",
   "metadata": {},
   "source": [
    "## Question 11.\n",
    " What is the difference between {4} and {4,5} in regular expression?  \n",
    "### Answere  "
   ]
  },
  {
   "attachments": {},
   "cell_type": "markdown",
   "id": "0ee44239",
   "metadata": {},
   "source": [
    "`{4}` means that ots preceeding groups shild repeat r times . where as {4,5} means that its prexeeding groups should repeat mininum 4 times and maximum 5 times"
   ]
  },
  {
   "cell_type": "code",
   "execution_count": 11,
   "id": "e21b93b0",
   "metadata": {},
   "outputs": [
    {
     "name": "stdout",
     "output_type": "stream",
     "text": [
      "HaHaHa\n",
      "None\n"
     ]
    }
   ],
   "source": [
    "import re\n",
    "haRegex = re.compile(r'(Ha){3}')\n",
    "mo1 = haRegex.search('HaHaHa')\n",
    "mo2 = haRegex.search('Ha')\n",
    "print(mo1.group())\n",
    "print(mo2)"
   ]
  },
  {
   "attachments": {},
   "cell_type": "markdown",
   "id": "cb71a573",
   "metadata": {},
   "source": [
    "## Question 12. \n",
    "What do you mean by the \\d, \\w, and \\s shorthand character classes signify in regular expressions?  \n",
    "### Answere  "
   ]
  },
  {
   "attachments": {},
   "cell_type": "markdown",
   "id": "35988525",
   "metadata": {},
   "source": [
    "- \\w matches a word charaster equivalent to [a-z A-Z 0-9]\n",
    "- \\d matche digit charaster equivalent to [0-9]\n",
    "- \\s matches whitespace charaster (space tab newlinw etc)"
   ]
  },
  {
   "attachments": {},
   "cell_type": "markdown",
   "id": "c6d24eba",
   "metadata": {},
   "source": [
    "## Question 13.\n",
    " What do means by \\D, \\W, and \\S shorthand character classes signify in regular expressions?  \n",
    "### Answere  "
   ]
  },
  {
   "attachments": {},
   "cell_type": "markdown",
   "id": "98b73566",
   "metadata": {},
   "source": [
    "\\D matches any non digit charaster \n",
    "\\W maches any non alphanumeric charaster \n",
    "\\S match any non whitespace charaster"
   ]
  },
  {
   "attachments": {},
   "cell_type": "markdown",
   "id": "48e45988",
   "metadata": {},
   "source": [
    "## Question 14. \n",
    "What is the difference between .*? and .*?  \n",
    "### Answere  "
   ]
  },
  {
   "attachments": {},
   "cell_type": "markdown",
   "id": "bac132f6",
   "metadata": {},
   "source": [
    ".* is Greedy mode which returns the lingest string that meets the condition whereas .*? is non greedy mode which returns the shortest string that meets the condition "
   ]
  },
  {
   "attachments": {},
   "cell_type": "markdown",
   "id": "01b1e2c2",
   "metadata": {},
   "source": [
    "## Question 15. \n",
    "What is the syntax for matching both numbers and lowercase letters with a character class?  \n",
    "### Answere  "
   ]
  },
  {
   "attachments": {},
   "cell_type": "markdown",
   "id": "219b0017",
   "metadata": {},
   "source": [
    "The santax is Either __[a-z 0-9]__ or __[0-9a-z]__"
   ]
  },
  {
   "attachments": {},
   "cell_type": "markdown",
   "id": "41b3ee26",
   "metadata": {},
   "source": [
    "## Question 16. \n",
    "What is the procedure for making a normal expression in regax case insensitive?  \n",
    "### Answere  "
   ]
  },
  {
   "attachments": {},
   "cell_type": "markdown",
   "id": "20423619",
   "metadata": {},
   "source": [
    "we can pass `re.IGNORECASE` as a flag to make a normal expression xase insentive"
   ]
  },
  {
   "attachments": {},
   "cell_type": "markdown",
   "id": "8b13def5",
   "metadata": {},
   "source": [
    "## Question 17. \n",
    "What does the . character normally match? What does it match if re.DOTALL is passed as 2ndargument in re.compile()?  \n",
    "### Answere  "
   ]
  },
  {
   "attachments": {},
   "cell_type": "markdown",
   "id": "854d4648",
   "metadata": {},
   "source": [
    "Dot character matches eberything in iput except newline character . by passing `re.DOTALL` as a flag to `re.compile()` you can make dot character match all characters including the newline character"
   ]
  },
  {
   "attachments": {},
   "cell_type": "markdown",
   "id": "9bd74611",
   "metadata": {},
   "source": [
    "## Question 18. \n",
    "If numReg = re.compile('\\d+'), what will numRegex.sub('X', '11 drummers, 10 pipers, five rings, 4 hen') return?  \n",
    "### Answere  "
   ]
  },
  {
   "attachments": {},
   "cell_type": "markdown",
   "id": "9a66f72e",
   "metadata": {},
   "source": [
    "The Output will be __X drummers, X pipers five rings, X hen__"
   ]
  },
  {
   "cell_type": "code",
   "execution_count": 12,
   "id": "788fd3e2",
   "metadata": {},
   "outputs": [
    {
     "data": {
      "text/plain": [
       "'X drums,X pipers, five rings, X hen'"
      ]
     },
     "execution_count": 12,
     "metadata": {},
     "output_type": "execute_result"
    }
   ],
   "source": [
    "import re \n",
    "ni = re.compile(r'\\d+')\n",
    "ni.sub('X','11 drums,10 pipers, five rings, 4 hen')"
   ]
  },
  {
   "attachments": {},
   "cell_type": "markdown",
   "id": "006d9fbb",
   "metadata": {},
   "source": [
    "## Question 19. \n",
    "What does passing re.VERBOSE as the 2nd argument to re.compile() allow to do?\n",
    "### Answere  "
   ]
  },
  {
   "attachments": {},
   "cell_type": "markdown",
   "id": "028b0643",
   "metadata": {},
   "source": [
    "__`re.VERBOSE`__  will allow to add whitespace and comments to steing passed to recompile()"
   ]
  },
  {
   "cell_type": "code",
   "execution_count": 13,
   "id": "59673053",
   "metadata": {},
   "outputs": [],
   "source": [
    "# Without Using VERBOSE\n",
    "regex_email = re.compile(r'^([a-z0-9_\\.-]+)@([0-9a-z\\.-]+)\\.([a-z\\.]{2, 6})$', re.IGNORECASE)\n",
    " \n",
    "# Using VERBOSE\n",
    "regex_email = re.compile(r\"\"\"\n",
    "                            ^([a-z0-9_\\.-]+)              # local Part like username\n",
    "                            @                             # single @ sign \n",
    "                            ([0-9a-z\\.-]+)                # Domain name like google\n",
    "                            \\.                            # single Dot .\n",
    "                            ([a-z]{2,6})$                 # Top level Domain  like com/in/org\n",
    "                         \"\"\",re.VERBOSE | re.IGNORECASE)"
   ]
  },
  {
   "attachments": {},
   "cell_type": "markdown",
   "id": "105565e4",
   "metadata": {},
   "source": [
    "## Question 20. \n",
    "How would you write a regex that match a number with comma for every three digits? It must match the given following:  \n",
    "'42'  \n",
    "'1,234'  \n",
    "'6,368,745'  \n",
    "\n",
    "but not the following:  \n",
    "'12,34,567' (which has only two digits between the commas)  \n",
    "'1234' (which lacks commas)  \n",
    "### Answere"
   ]
  },
  {
   "cell_type": "code",
   "execution_count": 14,
   "id": "c71d951a",
   "metadata": {},
   "outputs": [
    {
     "name": "stdout",
     "output_type": "stream",
     "text": [
      "Output: 42 -> <re.Match object; span=(0, 2), match='42'>\n",
      "Output: 1,234 -> <re.Match object; span=(0, 5), match='1,234'>\n",
      "Output: 6,368,745 -> <re.Match object; span=(0, 9), match='6,368,745'>\n",
      "Output: 12,34,567 -> None\n",
      "Output: 1234 -> None\n"
     ]
    }
   ],
   "source": [
    "import re\n",
    "pattern = r'^\\d{1,3}(,\\d{3})*$'\n",
    "pagex = re.compile(pattern)\n",
    "for ele in ['42','1,234', '6,368,745','12,34,567','1234']:\n",
    "    print('Output:',ele, '->', pagex.search(ele))"
   ]
  },
  {
   "attachments": {},
   "cell_type": "markdown",
   "id": "02d9d937",
   "metadata": {},
   "source": [
    "  ## Question 21. \n",
    "How would you write a regex that matches the full name of someone whose last name is Watanabe? You can assume that the first name that comes before it will always be one word that\n",
    "begins with a capital letter. The regex must match the following:  \n",
    "'Haruto Watanabe'  \n",
    "'Alice Watanabe'  \n",
    "'RoboCop Watanabe'  \n",
    "but not the following:  \n",
    "'haruto Watanabe' (where the first name is not capitalized)  \n",
    "'Mr. Watanabe' (where the preceding word has a nonletter character)  \n",
    "'Watanabe' (which has no first name)  \n",
    "'Haruto watanabe' (where Watanabe is not capitalized)  \n",
    "\n",
    "### Answere"
   ]
  },
  {
   "attachments": {},
   "cell_type": "markdown",
   "id": "642f87a5",
   "metadata": {},
   "source": [
    "**`pattern = r'[A-Z]{1}[a-z]*\\sWatanabe'`**"
   ]
  },
  {
   "cell_type": "code",
   "execution_count": 15,
   "id": "2bb2fb4a",
   "metadata": {},
   "outputs": [
    {
     "name": "stdout",
     "output_type": "stream",
     "text": [
      "Output:  Haruto Watanabe -> <re.Match object; span=(0, 15), match='Haruto Watanabe'>\n",
      "Output:  Alice Watanabe -> <re.Match object; span=(0, 14), match='Alice Watanabe'>\n",
      "Output:  RoboCop Watanabe -> <re.Match object; span=(4, 16), match='Cop Watanabe'>\n",
      "Output:  haruto Watanabe -> None\n",
      "Output:  Mr. Watanabe -> None\n",
      "Output:  Watanabe -> None\n",
      "Output:  Haruto watanabe -> None\n"
     ]
    }
   ],
   "source": [
    "import re\n",
    "pattern = r'[A-Z]{1}[a-z]*\\sWatanabe'\n",
    "namex = re.compile(pattern)\n",
    "for name in ['Haruto Watanabe','Alice Watanabe','RoboCop Watanabe','haruto Watanabe','Mr. Watanabe','Watanabe','Haruto watanabe']:\n",
    "    print('Output: ',name,'->',namex.search(name))"
   ]
  },
  {
   "attachments": {},
   "cell_type": "markdown",
   "id": "bce8ad97",
   "metadata": {},
   "source": [
    "  ## Question 22.\n",
    "   How would you write a regex that matches a sentence where the first word is either Alice, Bob, or Carol; the second word is either eats, pets, or throws; the third word is apples, cats, or baseballs; and the sentence ends with a period? This regex should be case-insensitive. It must match the  \n",
    "following:  \n",
    "'Alice eats apples.'  \n",
    "'Bob pets cats.'  \n",
    "'Carol throws baseballs.'  \n",
    "'Alice throws Apples.'  \n",
    "'BOB EATS CATS.'  \n",
    "but not the following:  \n",
    "'RoboCop eats apples.'  \n",
    "'ALICE THROWS FOOTBALLS.'  \n",
    "'Carol eats 7 cats.'  \n",
    "### Answere "
   ]
  },
  {
   "attachments": {},
   "cell_type": "markdown",
   "id": "3af62b01",
   "metadata": {},
   "source": [
    "pattern = **`r'(Alice|Bob|Carol)\\s(eats|pets|throws)\\s(apples|cats|baseballs)\\.'`**"
   ]
  },
  {
   "cell_type": "code",
   "execution_count": 16,
   "id": "0259f32a",
   "metadata": {},
   "outputs": [
    {
     "name": "stdout",
     "output_type": "stream",
     "text": [
      "Output:  Alice eats apples. -> <re.Match object; span=(0, 18), match='Alice eats apples.'>\n",
      "Output:  Bob pets cats. -> <re.Match object; span=(0, 14), match='Bob pets cats.'>\n",
      "Output:  Carol throws baseballs. -> <re.Match object; span=(0, 23), match='Carol throws baseballs.'>\n",
      "Output:  Alice throws Apples. -> <re.Match object; span=(0, 20), match='Alice throws Apples.'>\n",
      "Output:  BOB EATS CATS. -> <re.Match object; span=(0, 14), match='BOB EATS CATS.'>\n",
      "Output:  RoboCop eats apples. -> None\n",
      "Output:  ALICE THROWS FOOTBALLS. -> None\n",
      "Output:  Carol eats 7 cats. -> None\n"
     ]
    }
   ],
   "source": [
    "import re\n",
    "pattern = r'(Alice|Bob|Carol)\\s(eats|pets|throws)\\s(apples|cats|baseballs)\\.'\n",
    "casex = re.compile(pattern,re.IGNORECASE)\n",
    "for ele in ['Alice eats apples.','Bob pets cats.','Carol throws baseballs.','Alice throws Apples.','BOB EATS CATS.','RoboCop eats apples.'\n",
    ",'ALICE THROWS FOOTBALLS.','Carol eats 7 cats.']:\n",
    "    print('Output: ',ele,'->',casex.search(ele))"
   ]
  }
 ],
 "metadata": {
  "kernelspec": {
   "display_name": "Python 3 (ipykernel)",
   "language": "python",
   "name": "python3"
  },
  "language_info": {
   "codemirror_mode": {
    "name": "ipython",
    "version": 3
   },
   "file_extension": ".py",
   "mimetype": "text/x-python",
   "name": "python",
   "nbconvert_exporter": "python",
   "pygments_lexer": "ipython3",
   "version": "3.10.0"
  }
 },
 "nbformat": 4,
 "nbformat_minor": 5
}
