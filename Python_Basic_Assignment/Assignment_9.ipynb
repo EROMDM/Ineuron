{
 "cells": [
  {
   "cell_type": "code",
   "execution_count": null,
   "metadata": {},
   "outputs": [],
   "source": [
    "<h1 align=center><font size = 10>Full Stack Data Science BootCamp 2.0</font></h1>\n",
    "<h2 align=center><font size = 7>Python Basic</font></h2>"
   ]
  },
  {
   "attachments": {},
   "cell_type": "markdown",
   "metadata": {},
   "source": [
    "<h3 align=left><font size = 5>Assignment_9</font></h3>\n",
    "<h4 align=left><font size = 4>Dnyaneshwar More</font></h4>"
   ]
  },
  {
   "attachments": {},
   "cell_type": "markdown",
   "metadata": {},
   "source": [
    "\n",
    "## Question 1.\n",
    " To what does a relative path refer?\n",
    "### Answere  "
   ]
  },
  {
   "attachments": {},
   "cell_type": "markdown",
   "metadata": {},
   "source": [
    "The relative path is the path to some file with respect to your courent working dictonary(PWD)\n",
    "\n",
    "for example if absolute path to a file called dm.txt is \n",
    "`c:/user/admin/er0m_dm/dm.txt` if my pwd ia `c:/user/admin/er0m_dm/` "
   ]
  },
  {
   "cell_type": "markdown",
   "metadata": {},
   "source": [
    "## Question 2.\n",
    " What does an absolute path start with your operating system?\n",
    "### Answere  "
   ]
  },
  {
   "attachments": {},
   "cell_type": "markdown",
   "metadata": {},
   "source": [
    "In Linux vased system the absolute path start with __/__ Whears as in Windows based system absolute path start eith __c:__"
   ]
  },
  {
   "cell_type": "code",
   "execution_count": null,
   "metadata": {},
   "outputs": [],
   "source": [
    "## Question 3.\n",
    " What do the functions os.getcwd() and os.chdir() do?\n",
    "### Answere  "
   ]
  },
  {
   "attachments": {},
   "cell_type": "markdown",
   "metadata": {},
   "source": [
    "`os.getcwd()` method tell us the location of current working directory Whereas `os.chidr()` method in python used to change the current working directory to specified path. Those functions are similar to linux commands PWD and cd "
   ]
  },
  {
   "cell_type": "code",
   "execution_count": 3,
   "metadata": {},
   "outputs": [
    {
     "name": "stdout",
     "output_type": "stream",
     "text": [
      "c:\\Users\\ER0M_DM\\OneDrive\\Documents\\Ineuron\\Python_Basic_Assignment\n"
     ]
    }
   ],
   "source": [
    "import os\n",
    "print(os.getcwd())"
   ]
  },
  {
   "cell_type": "code",
   "execution_count": 8,
   "metadata": {},
   "outputs": [
    {
     "name": "stdout",
     "output_type": "stream",
     "text": [
      "c:\\Users\\ER0M_DM\\OneDrive\\Documents\\Ineuron\\Python_Basic_Assignment\n",
      "C:\\Users\\ER0M_DM\\OneDrive\\Documents\n"
     ]
    }
   ],
   "source": [
    "import os\n",
    "print(os.getcwd())\n",
    "path = r'C:\\Users\\ER0M_DM\\OneDrive\\Documents'\n",
    "os.chdir(path)\n",
    "print(os.getcwd())\n",
    "\n"
   ]
  },
  {
   "cell_type": "markdown",
   "metadata": {},
   "source": [
    "## Question 4.\n",
    " What are the . and .. folders?\n",
    "### Answere  "
   ]
  },
  {
   "attachments": {},
   "cell_type": "markdown",
   "metadata": {},
   "source": [
    "Represents the current Directory Whereas -- Repressents the parent Dictonary of the current Directonary\n",
    "\n",
    "\n",
    "example \n",
    "this path is my absolute path\n",
    "__`C:\\Users\\ER0M_DM\\OneDrive\\Documents\\Ineuron`__\n",
    "then Whears as represent the path __`C:\\Users\\ER0M_DM\\OneDrive\\Documents`__"
   ]
  },
  {
   "cell_type": "markdown",
   "metadata": {},
   "source": [
    "## Question 5.\n",
    " In C:\\bacon\\eggs\\spam.txt, which part is the dir name, and which part is the base name?\n",
    "### Answere  "
   ]
  },
  {
   "attachments": {},
   "cell_type": "markdown",
   "metadata": {},
   "source": [
    "For .__C:\\Users\\ER0M_DM\\OneDrive\\Documents\\Ineuron\\Python_Advanced\\Text.txt__\n",
    "The dic name is __C:\\Users\\ER0M_DM\\OneDrive\\Documents\\Ineuron\\Python_Advanced__\n",
    "the Base name is __Text.txt__"
   ]
  },
  {
   "cell_type": "code",
   "execution_count": 10,
   "metadata": {},
   "outputs": [
    {
     "name": "stdout",
     "output_type": "stream",
     "text": [
      "C:\\Users\\ER0M_DM\\OneDrive\\Documents\\Ineuron\\Python_Advanced\n",
      "Text.txt\n"
     ]
    }
   ],
   "source": [
    "import os \n",
    "path = r'C:\\Users\\ER0M_DM\\OneDrive\\Documents\\Ineuron\\Python_Advanced\\Text.txt'\n",
    "print(os.path.dirname(path))\n",
    "print(os.path.basename(path))"
   ]
  },
  {
   "cell_type": "markdown",
   "metadata": {},
   "source": [
    "## Question 6.\n",
    " What are the three “mode” arguments that can be passed to the open() function?\n",
    "### Answere  "
   ]
  },
  {
   "attachments": {},
   "cell_type": "markdown",
   "metadata": {},
   "source": [
    "A file can ve accessed in python usuing open() function open function takes two arguments filename and mode of operation if mode is not provided the default mode of opening is read mode\n",
    "So, the syantax being: __open(filename,mode)__\n",
    "- 'r'  read mode this is the default mode for open() the file is opend and a pointer is positioned at the beginning of the file's contant\n",
    "\n",
    "- 'w' write mode using this mode will overwrite any existing content in a file of the given file does not exit, a new one will be created \n",
    "- 'r+' read/write mode use this mode the user can append the data without overwriting any olrady existing data in the file\n",
    "\n",
    "- 'a+' Append and read mode in this mode you can read and append the data without overwriting the original file \n",
    "- 'w' exclusive file this mode is for the file to be written doesn't\n",
    "exist before"
   ]
  },
  {
   "cell_type": "markdown",
   "metadata": {},
   "source": [
    "## Question 7.\n",
    " What happens if an existing file is opened in write mode?\n",
    "### Answere  "
   ]
  },
  {
   "attachments": {},
   "cell_type": "markdown",
   "metadata": {},
   "source": [
    "Using this mode will overwrite any existing contain in a file If the given file does not exist a new one will be created"
   ]
  },
  {
   "cell_type": "markdown",
   "metadata": {},
   "source": [
    "## Question 8.\n",
    " How do you tell the difference between read() and readlines()?\n",
    "### Answere  "
   ]
  },
  {
   "attachments": {},
   "cell_type": "markdown",
   "metadata": {},
   "source": [
    "The main difference os the read() woll read the whole foel at once and then print out the fost characters that take up as many bytes as you specify in the parenthesis\n",
    "\n",
    "- whereas the readline() that will read and print out only the fist characters thae take up as many bytes as you specify the parenthesis \n",
    "\n",
    "- The read() would trat each character in the file seperately meaning that the iteration would happen for every character \n",
    "\n",
    "- The readline() function, on the other hand only reads a single line of the file This means that if the first line of the file were three lines  long the readlilne() function would only parse on the first line of the file"
   ]
  },
  {
   "cell_type": "markdown",
   "metadata": {},
   "source": [
    "## Question 9.\n",
    " What data structure does a shelf value resemble?\n",
    " ### Answere "
   ]
  },
  {
   "attachments": {},
   "cell_type": "markdown",
   "metadata": {},
   "source": [
    "It contains key and values it represents dictionary"
   ]
  },
  {
   "cell_type": "markdown",
   "metadata": {},
   "source": []
  }
 ],
 "metadata": {
  "kernelspec": {
   "display_name": "Python 3",
   "language": "python",
   "name": "python3"
  },
  "language_info": {
   "codemirror_mode": {
    "name": "ipython",
    "version": 3
   },
   "file_extension": ".py",
   "mimetype": "text/x-python",
   "name": "python",
   "nbconvert_exporter": "python",
   "pygments_lexer": "ipython3",
   "version": "3.10.0"
  },
  "orig_nbformat": 4
 },
 "nbformat": 4,
 "nbformat_minor": 2
}
