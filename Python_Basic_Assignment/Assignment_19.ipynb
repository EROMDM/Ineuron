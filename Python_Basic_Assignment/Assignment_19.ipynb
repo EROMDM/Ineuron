{
 "cells": [
  {
   "cell_type": "markdown",
   "metadata": {},
   "source": [
    "<h1 align=center><font size = 10>Full Stack Data Science BootCamp 2.0</font></h1>\n",
    "<h2 align=center><font size = 7>Python Basic</font></h2>"
   ]
  },
  {
   "attachments": {},
   "cell_type": "markdown",
   "metadata": {},
   "source": [
    "<h3 align=left><font size = 5>Assignment_19</font></h3>\n",
    "<h4 align=left><font size = 4>Dnyaneshwar More</font></h4>"
   ]
  },
  {
   "attachments": {},
   "cell_type": "markdown",
   "metadata": {},
   "source": [
    "## Question 1.\n",
    " Make a class called Thing with no contents and print it. Then, create an object called example\n",
    "from this class and also print it. Are the printed values the same or different?\n",
    "### Answere  "
   ]
  },
  {
   "cell_type": "code",
   "execution_count": 1,
   "metadata": {},
   "outputs": [
    {
     "name": "stdout",
     "output_type": "stream",
     "text": [
      "<class '__main__.Thing'>\n",
      "<__main__.Thing object at 0x000001EC0C7C73D0>\n"
     ]
    }
   ],
   "source": [
    "class Thing():\n",
    "    pass\n",
    "print(Thing)\n",
    "\n",
    "example = Thing()\n",
    "print(example)"
   ]
  },
  {
   "attachments": {},
   "cell_type": "markdown",
   "metadata": {},
   "source": [
    "cal"
   ]
  },
  {
   "cell_type": "markdown",
   "metadata": {},
   "source": [
    "## Question 2.\n",
    " Create a new class called Thing2 and add the value 'abc' to the letters class attribute. Letters\n",
    "should be printed.\n",
    "### Answere  "
   ]
  },
  {
   "cell_type": "code",
   "execution_count": 3,
   "metadata": {},
   "outputs": [
    {
     "name": "stdout",
     "output_type": "stream",
     "text": [
      "ER0M_DM\n"
     ]
    }
   ],
   "source": [
    "class thing2:\n",
    "    latters = 'ER0M_DM'\n",
    "\n",
    "\n",
    "print(thing2.latters)\n"
   ]
  },
  {
   "cell_type": "markdown",
   "metadata": {},
   "source": [
    "## Question 3. \n",
    "Make yet another class called, of course, Thing3. This time, assign the value 'xyz' to an instance\n",
    "(object) attribute called letters. Print letters. Do you need to make an object from the class to do\n",
    "this?\n",
    "### Answere  "
   ]
  },
  {
   "cell_type": "code",
   "execution_count": 5,
   "metadata": {},
   "outputs": [
    {
     "name": "stdout",
     "output_type": "stream",
     "text": [
      "ER0M_DM\n"
     ]
    }
   ],
   "source": [
    "class Thing3:\n",
    "    def __init__(self):\n",
    "        self.latters = \"ER0M_DM\"\n",
    "\n",
    "\n",
    "try:\n",
    "    print(Thing3.latters)\n",
    "except:\n",
    "    my_thing = Thing3()\n",
    "    print(my_thing.latters)"
   ]
  },
  {
   "cell_type": "markdown",
   "metadata": {},
   "source": [
    "## Question 4. \n",
    "Create an Element class with the instance attributes name, symbol, and number. Create a class\n",
    "object with the values 'Hydrogen,' 'H,' and 1.\n",
    "### Answere  "
   ]
  },
  {
   "cell_type": "code",
   "execution_count": 6,
   "metadata": {},
   "outputs": [],
   "source": [
    "class element:\n",
    "    def __init__(self,name, symbol,number):\n",
    "        self.name = name\n",
    "        self.symbol = symbol\n",
    "        self.number = number\n",
    "my_ele = element('Hydrogen','H',1)"
   ]
  },
  {
   "cell_type": "markdown",
   "metadata": {},
   "source": [
    "## Question 5. \n",
    "Make a dictionary with these keys and values: 'name': 'Hydrogen', 'symbol': 'H', 'number': 1. Then,\n",
    "create an object called hydrogen from class Element using this dictionary.\n",
    "### Answere  "
   ]
  },
  {
   "cell_type": "code",
   "execution_count": 8,
   "metadata": {},
   "outputs": [
    {
     "name": "stdout",
     "output_type": "stream",
     "text": [
      "{'name': 'Hydeoigen', 'symbol': 'H', 'number': 1}\n"
     ]
    }
   ],
   "source": [
    "cdict={'name':'Hydeoigen','symbol':'H','number':1}\n",
    "print(cdict)"
   ]
  },
  {
   "cell_type": "code",
   "execution_count": 10,
   "metadata": {},
   "outputs": [
    {
     "name": "stdout",
     "output_type": "stream",
     "text": [
      "Using Method fist Hydeoigen H 1\n"
     ]
    }
   ],
   "source": [
    "Hydro = element(*cdict.values())\n",
    "print('Using Method fist',Hydro.name,Hydro.symbol,Hydro.number)"
   ]
  },
  {
   "cell_type": "code",
   "execution_count": 11,
   "metadata": {},
   "outputs": [
    {
     "name": "stdout",
     "output_type": "stream",
     "text": [
      "Using Method secound Hydeoigen H 1\n"
     ]
    }
   ],
   "source": [
    "Hydro = element(**cdict)\n",
    "print('Using Method secound',Hydro.name,Hydro.symbol,Hydro.number)"
   ]
  },
  {
   "cell_type": "markdown",
   "metadata": {},
   "source": [
    "## Question 6. \n",
    "For the Element class, define a method called dump() that prints the values of the object’s\n",
    "attributes (name, symbol, and number). Create the hydrogen object from this new definition and\n",
    "use dump() to print its attributes.\n",
    "### Answere  "
   ]
  },
  {
   "cell_type": "code",
   "execution_count": 12,
   "metadata": {},
   "outputs": [
    {
     "name": "stdout",
     "output_type": "stream",
     "text": [
      "hydro H 1\n"
     ]
    }
   ],
   "source": [
    "class element:\n",
    "    def __init__(self,name, symbol,number):\n",
    "        self.name = name\n",
    "        self.symbol = symbol\n",
    "        self.number = number\n",
    "    def dum(self):\n",
    "        print(self.name,self.symbol,self.number)\n",
    "h = element(\"hydro\",'H',1)\n",
    "h.dum()    "
   ]
  },
  {
   "cell_type": "markdown",
   "metadata": {},
   "source": [
    "## Question 7. \n",
    "Call print(hydrogen). In the definition of Element, change the name of method dump to __str__,\n",
    "create a new hydrogen object, and call print(hydrogen) again.\n",
    "### Answere  "
   ]
  },
  {
   "cell_type": "code",
   "execution_count": 15,
   "metadata": {},
   "outputs": [
    {
     "name": "stdout",
     "output_type": "stream",
     "text": [
      "<__main__.element object at 0x000001EC0DACB910>\n",
      "Hydro h 1\n"
     ]
    }
   ],
   "source": [
    "print(h)\n",
    "class element:\n",
    "    def __init__(self,name, symbol,number):\n",
    "        self.name = name\n",
    "        self.symbol = symbol\n",
    "        self.number = number\n",
    "    def __str__(self):\n",
    "        return f'{self.name} {self.symbol} {self.number}'\n",
    "\n",
    "\n",
    "h = element('Hydro',\"h\",1)\n",
    "print(h)"
   ]
  },
  {
   "cell_type": "markdown",
   "metadata": {},
   "source": [
    "## Question 8. \n",
    "Modify Element to make the attributes name, symbol, and number private. Define a getter\n",
    "property for each to return its value.\n",
    "### Answere  "
   ]
  },
  {
   "cell_type": "code",
   "execution_count": 18,
   "metadata": {},
   "outputs": [
    {
     "name": "stdout",
     "output_type": "stream",
     "text": [
      "Hydro\n",
      "h\n",
      "1\n"
     ]
    }
   ],
   "source": [
    "class element:\n",
    "    def __init__(self,name, symbol,number):\n",
    "        self.name = name\n",
    "        self.symbol = symbol\n",
    "        self.number = number\n",
    "\n",
    "\n",
    "    @property\n",
    "    def get_na(self):\n",
    "        return self.name\n",
    "    \n",
    "\n",
    "    @property\n",
    "    def get_sm(self):\n",
    "        return self.symbol\n",
    "    \n",
    "\n",
    "    @property\n",
    "    def get_num(self):\n",
    "        return self.number\n",
    "   \n",
    "h = element('Hydro',\"h\",1)\n",
    "print(h.get_na)\n",
    "print(h.get_sm)\n",
    "print(h.get_num)"
   ]
  },
  {
   "cell_type": "markdown",
   "metadata": {},
   "source": [
    "## Question 9. \n",
    "Define three classes: Bear, Rabbit, and Octothorpe. For each, define only one method: eats(). This\n",
    "should return 'berries' (Bear), 'clover' (Rabbit), or 'campers' (Octothorpe). Create one object from\n",
    "each and print what it eats.\n",
    "### Answere  "
   ]
  },
  {
   "cell_type": "code",
   "execution_count": 20,
   "metadata": {},
   "outputs": [
    {
     "name": "stdout",
     "output_type": "stream",
     "text": [
      "Berries\n",
      "Rabbit\n"
     ]
    }
   ],
   "source": [
    "class bear:\n",
    "    def eat(self):\n",
    "        print(\"Berries\")\n",
    "    \n",
    "class Rab:\n",
    "    def eat(self):\n",
    "        print(\"Rabbit\")\n",
    "\n",
    "b = bear()\n",
    "r = Rab()\n",
    "b.eat()\n",
    "r.eat()"
   ]
  },
  {
   "cell_type": "markdown",
   "metadata": {},
   "source": [
    "## Question 10. \n",
    "Define these classes: Laser, Claw, and SmartPhone. Each has only one method: does(). This\n",
    "returns 'disintegrate' (Laser), 'crush' (Claw), or 'ring' (SmartPhone). Then, define the class Robot that\n",
    "has one instance (object) of each of these. Define a does() method for the Robot that prints what its\n",
    "component objects do.\n",
    "### Answere  "
   ]
  },
  {
   "cell_type": "code",
   "execution_count": null,
   "metadata": {},
   "outputs": [],
   "source": []
  },
  {
   "cell_type": "code",
   "execution_count": 26,
   "metadata": {},
   "outputs": [],
   "source": [
    "class leser:\n",
    "    def doe(self):\n",
    "        return 'distingunish'\n",
    "class claw:\n",
    "    def doe(self):\n",
    "        return 'crush '\n",
    "class samrt:\n",
    "    def doe(self):\n",
    "        return 'Ring'\n",
    "class Robot:\n",
    "    def __init__(self):\n",
    "        self.laser = leser()\n",
    "        self.claw =claw()\n",
    "        self.samrt = samrt()\n",
    "    def doi(self):\n",
    "        print(self.laser.doe(),self.claw.doe(),self.samrt.doe())"
   ]
  },
  {
   "cell_type": "code",
   "execution_count": 27,
   "metadata": {},
   "outputs": [
    {
     "name": "stdout",
     "output_type": "stream",
     "text": [
      "distingunish crush  Ring\n"
     ]
    }
   ],
   "source": [
    "r2d = Robot()\n",
    "r2d.doi()"
   ]
  },
  {
   "cell_type": "code",
   "execution_count": null,
   "metadata": {},
   "outputs": [],
   "source": []
  }
 ],
 "metadata": {
  "kernelspec": {
   "display_name": "Python 3",
   "language": "python",
   "name": "python3"
  },
  "language_info": {
   "codemirror_mode": {
    "name": "ipython",
    "version": 3
   },
   "file_extension": ".py",
   "mimetype": "text/x-python",
   "name": "python",
   "nbconvert_exporter": "python",
   "pygments_lexer": "ipython3",
   "version": "3.10.0"
  },
  "orig_nbformat": 4
 },
 "nbformat": 4,
 "nbformat_minor": 2
}
