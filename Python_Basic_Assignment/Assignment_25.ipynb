{
 "cells": [
  {
   "cell_type": "markdown",
   "metadata": {},
   "source": [
    "<h1 align=center><font size = 10>Full Stack Data Science BootCamp 2.0</font></h1>\n",
    "<h2 align=center><font size = 7>Python Basic</font></h2>"
   ]
  },
  {
   "attachments": {},
   "cell_type": "markdown",
   "metadata": {},
   "source": [
    "<h3 align=left><font size = 5>Assignment_25</font></h3>\n",
    "<h4 align=left><font size = 4>Dnyaneshwar More</font></h4>"
   ]
  },
  {
   "cell_type": "markdown",
   "metadata": {},
   "source": [
    "## Question 1. \n",
    "What is the difference between enclosing a list comprehension in square brackets and\n",
    "parentheses?\n",
    "### Answere  "
   ]
  },
  {
   "cell_type": "markdown",
   "metadata": {},
   "source": [
    "Enclosing a list comprehension is square brackets returns a list but where as Enclosing a list comprehension in parenthsis returns a generator object"
   ]
  },
  {
   "cell_type": "code",
   "execution_count": 11,
   "metadata": {},
   "outputs": [
    {
     "name": "stdout",
     "output_type": "stream",
     "text": [
      "[0, 1, 2, 3, 4, 5, 6, 7, 8, 9] <class 'list'>\n"
     ]
    }
   ],
   "source": [
    "lst = [li for li in range(10)]\n",
    "print(lst,type(lst))"
   ]
  },
  {
   "cell_type": "code",
   "execution_count": 12,
   "metadata": {},
   "outputs": [
    {
     "name": "stdout",
     "output_type": "stream",
     "text": [
      "<generator object <genexpr> at 0x0000026F2643B0D0> <class 'generator'>\n"
     ]
    }
   ],
   "source": [
    "gen = (gen for gen in range(10))\n",
    "print(gen,type(gen))"
   ]
  },
  {
   "cell_type": "markdown",
   "metadata": {},
   "source": [
    "## Question 2. \n",
    "What is the relationship between generators and iterators?\n",
    "### Answere  "
   ]
  },
  {
   "attachments": {},
   "cell_type": "markdown",
   "metadata": {},
   "source": [
    "An iterator is an object which contain a countable number of values and it is used\n",
    "to iterate over iterable objects like list tuples srts,etc lterators are implemened using a class. It follows lazy evalution\n",
    "where the evalution of the expresion will be on hold and sotred in the memory until the \n",
    "otem is called specifically which helps us to avoid repeated evalution. As lazy evalution is implemented it required only one memory location to process \n",
    "the value and when we are using a large dataset then m wastage of RAM space will be reduced.\n",
    "\n",
    "    similarlly Generators are an anather way of creating iterator in a simpal\n",
    "way where it uses the keyword\n",
    "yeild statement instead of returns statement in a defined function generator are implemened using a function Just as iterators generators also follow \n",
    "lazy evalution. Here the yeild function returns the data without affecting or exiting the function."
   ]
  },
  {
   "cell_type": "code",
   "execution_count": 13,
   "metadata": {},
   "outputs": [
    {
     "name": "stdout",
     "output_type": "stream",
     "text": [
      "<class 'list_iterator'>\n",
      "Dnyaneshwar\n",
      "Vishnu\n",
      "More\n",
      "to good help\n",
      "<list_iterator object at 0x0000026F2646C430>\n"
     ]
    }
   ],
   "source": [
    "instring = iter(['Dnyaneshwar','Vishnu','More','to good help'])\n",
    "\n",
    "print(type(instring))\n",
    "print(next(instring))\n",
    "print(next(instring))\n",
    "print(next(instring))\n",
    "print(next(instring))\n",
    "print(instring) "
   ]
  },
  {
   "cell_type": "code",
   "execution_count": 14,
   "metadata": {},
   "outputs": [
    {
     "name": "stdout",
     "output_type": "stream",
     "text": [
      "0\n",
      "1\n",
      "4\n",
      "9\n",
      "16\n"
     ]
    }
   ],
   "source": [
    "def sn(num):\n",
    "    for i in range(num+1):\n",
    "        yield i**2\n",
    "\n",
    "o = sn(4)\n",
    "print(next(o))\n",
    "print(next(o))\n",
    "print(next(o))\n",
    "print(next(o))\n",
    "print(next(o))"
   ]
  },
  {
   "cell_type": "markdown",
   "metadata": {},
   "source": [
    "## Question 3. \n",
    "What are the signs that a function is a generator function?\n",
    "### Answere  "
   ]
  },
  {
   "cell_type": "markdown",
   "metadata": {},
   "source": [
    "A generator function uses a yeild statement instead of a redurn statement. A generator function will\n",
    "always returns a literable object called generator. Where as a normal function can reurn a string list tuples etc."
   ]
  },
  {
   "cell_type": "markdown",
   "metadata": {},
   "source": [
    "## Question 4. \n",
    "What is the purpose of a yield statement?\n",
    "### Answere  "
   ]
  },
  {
   "cell_type": "markdown",
   "metadata": {},
   "source": [
    "The yeild statement suspects function execution and sends a value vack to the caller, remain same enough state to be enable function to resume where itis left off. When resumed the function cintinous\n",
    "execution immeditly after the last yield run."
   ]
  },
  {
   "cell_type": "markdown",
   "metadata": {},
   "source": [
    "## Question 5.\n",
    " What is the relationship between map calls and list comprehensions? Make a comparison and\n",
    "contrast between the two.\n",
    "### Answere  "
   ]
  },
  {
   "cell_type": "markdown",
   "metadata": {},
   "source": [
    "The main difference between map call and list comprehension are follows:-\n",
    "list comprehension is more concise and easier to read as compered to map.\n",
    "list comprehension alloes filtering. In map we have no suvh facility \n",
    "for example:- to print all odd numbers in range of 50 we can write [n for n in range(50): if n%2!=0] There is no alternate for it in map\n",
    "\n",
    "list comprehension are used when a list of result is required as final output but map \n",
    "only returns a map object. It need to be explicity coverted to desired datatype\n",
    "\n",
    "list comprehension is faster than map when we need to evaluvate expression that are too long complicated to express"
   ]
  },
  {
   "cell_type": "code",
   "execution_count": null,
   "metadata": {},
   "outputs": [],
   "source": []
  }
 ],
 "metadata": {
  "kernelspec": {
   "display_name": "Python 3",
   "language": "python",
   "name": "python3"
  },
  "language_info": {
   "codemirror_mode": {
    "name": "ipython",
    "version": 3
   },
   "file_extension": ".py",
   "mimetype": "text/x-python",
   "name": "python",
   "nbconvert_exporter": "python",
   "pygments_lexer": "ipython3",
   "version": "3.10.0"
  },
  "orig_nbformat": 4
 },
 "nbformat": 4,
 "nbformat_minor": 2
}
