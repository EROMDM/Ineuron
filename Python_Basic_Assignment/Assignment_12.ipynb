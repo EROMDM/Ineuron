{
 "cells": [
  {
   "cell_type": "markdown",
   "metadata": {},
   "source": [
    "<h1 align=center><font size = 10>Full Stack Data Science BootCamp 2.0</font></h1>\n",
    "<h2 align=center><font size = 7>Python Basic</font></h2>"
   ]
  },
  {
   "attachments": {},
   "cell_type": "markdown",
   "metadata": {},
   "source": [
    "<h3 align=left><font size = 5>Assignment_</font></h3>\n",
    "<h4 align=left><font size = 4>Dnyaneshwar More</font></h4>"
   ]
  },
  {
   "attachments": {},
   "cell_type": "markdown",
   "metadata": {},
   "source": [
    "## Question  1.\n",
    " In what modes should the PdfFileReader() and PdfFileWriter() File objects will be opened?\n",
    "### Answere  "
   ]
  },
  {
   "cell_type": "markdown",
   "metadata": {},
   "source": [
    "For **PdfFileReader()** file object shuld be opended in => read binary mode, Wheneras for **PdfFileReader()** file object shuld be open in **wb** write binary mode."
   ]
  },
  {
   "attachments": {},
   "cell_type": "markdown",
   "metadata": {},
   "source": [
    "## Question 2.\n",
    " From a PdfFileReader object, how do you get a Page object for page 5?\n",
    "### Answere  "
   ]
  },
  {
   "cell_type": "markdown",
   "metadata": {},
   "source": [
    "**PdfFileReader()** class provides a method callaled **getPage(page_no)** to get a page object."
   ]
  },
  {
   "cell_type": "code",
   "execution_count": 1,
   "metadata": {},
   "outputs": [
    {
     "name": "stdout",
     "output_type": "stream",
     "text": [
      "24\n"
     ]
    }
   ],
   "source": [
    "from PyPDF2 import PdfFileReader\n",
    "pdf_reader = PdfFileReader('Statistics.pdf')\n",
    "print(pdf_reader.getNumPages())\n",
    "for page in range(pdf_reader.getNumPages()):\n",
    "    pdf_reader.getPage(page)"
   ]
  },
  {
   "cell_type": "markdown",
   "metadata": {},
   "source": [
    "## Question 3.\n",
    " What PdfFileReader variable stores the number of pages in the PDF document?\n",
    "### Answere  "
   ]
  },
  {
   "attachments": {},
   "cell_type": "markdown",
   "metadata": {},
   "source": [
    "**`getNumPages()`** method of **`PdfFileReader`** class stores the no pages in a PDF document"
   ]
  },
  {
   "cell_type": "code",
   "execution_count": 2,
   "metadata": {},
   "outputs": [
    {
     "name": "stdout",
     "output_type": "stream",
     "text": [
      "24\n"
     ]
    }
   ],
   "source": [
    "from PyPDF2 import PdfFileReader\n",
    "pdf_reader = PdfFileReader('Statistics.pdf')\n",
    "print(pdf_reader.getNumPages())"
   ]
  },
  {
   "cell_type": "markdown",
   "metadata": {},
   "source": [
    "## Question 4.\n",
    " If a PdfFileReader object’s PDF is encrypted with the password swordfish, what must you do\n",
    "before you can obtain Page objects from it?\n",
    "### Answere  "
   ]
  },
  {
   "attachments": {},
   "cell_type": "markdown",
   "metadata": {},
   "source": [
    "If a PdfFileReader object PDF id encrypted with password `swordfish` and you are not aware of ot, fist read the pdf usung the pdffilereader class. fdffilereader class provides a attributes called __isEncrypted__ to check weither a pdf is encrypted or not . the method returns true if a pdf is enxrypted and vice versa.\n",
    "\n",
    "If pdf is encrypted use the decrypt() method provided by pdffilereader class fist then try to read the contents of the pdf else PyPDF will raise the folloeinf error\n",
    "__PyPDF.utils.PdfReadError: file has not been deccrypted__"
   ]
  },
  {
   "cell_type": "code",
   "execution_count": 3,
   "metadata": {},
   "outputs": [
    {
     "name": "stdout",
     "output_type": "stream",
     "text": [
      "\n",
      "\n",
      "\n",
      "\n",
      "\n",
      "\n",
      "\n",
      "\n",
      "\n",
      "\n",
      "\n",
      "\n",
      "\n",
      "\n",
      "\n",
      "\n",
      "\n",
      "\n",
      "\n",
      "\n",
      "\n",
      "\n",
      "\n",
      "\n"
     ]
    }
   ],
   "source": [
    "from PyPDF2 import PdfFileReader\n",
    "pdf_reade = PdfFileReader('Statistics.pdf')\n",
    "if pdf_reade.isEncrypted:\n",
    "    pdf_reade.decrypt(\"er0m\")\n",
    "for p in pdf_reade.pages:\n",
    "    print(p.extractText())"
   ]
  },
  {
   "cell_type": "markdown",
   "metadata": {},
   "source": [
    "## Question 5.\n",
    " What methods do you use to rotate a page?\n",
    "### Answere  "
   ]
  },
  {
   "attachments": {},
   "cell_type": "markdown",
   "metadata": {},
   "source": [
    "PyPDF2 package provides 2 methods to rotate a page.\n",
    "\n",
    "1. __`rotateClockwise()`__ -> For clockwise rotation \n",
    "2. __`rotateCounterClockwise()`__ -> For  Counter clockwise otation\n",
    "\n",
    "\n",
    "    The PyPDF2 packages onle alloe you rotate a page in increment\n",
    "    of 90 degree . You will recive an Assertion Error otherwise "
   ]
  },
  {
   "cell_type": "markdown",
   "metadata": {},
   "source": [
    "## Question 6.\n",
    " What is the difference between a Run object and a Paragraph object?\n",
    "### Answere  "
   ]
  },
  {
   "attachments": {},
   "cell_type": "markdown",
   "metadata": {},
   "source": [
    "The structure of a documen t os represented by three diffrent data types in `python-docx`. At the highest level a `Document` object represents the entire documents. The documents contains a list of paragraph objects for the paragraphs in the document. Each of those paragraph objct contains a list of one or more `Run` objects.\n",
    "\n",
    "\n",
    "The next in word document is more than just  a string. It has font, size, colore other styling information associated with it . A style in woed is a collection of these attributes. A Run object is a contiguors run of text with the some style . A new Run objects is needed whenever the texr style changes."
   ]
  },
  {
   "cell_type": "markdown",
   "metadata": {},
   "source": [
    "## Question 7.\n",
    " How do you obtain a list of Paragraph objects for a Document object that’s stored in a variable\n",
    "named doc?\n",
    "### Answere  "
   ]
  },
  {
   "cell_type": "code",
   "execution_count": 4,
   "metadata": {},
   "outputs": [
    {
     "name": "stdout",
     "output_type": "stream",
     "text": [
      "[<docx.text.paragraph.Paragraph object at 0x00000203BC14D1B0>]\n",
      " ## Question 10. How do you create a Document object for a new Word document?### Answere  \n"
     ]
    }
   ],
   "source": [
    "from docx import Document\n",
    "doc = Document('mydocument.docx')\n",
    "print(doc.paragraphs)\n",
    "for i in doc.paragraphs:\n",
    "    print(i.text)"
   ]
  },
  {
   "cell_type": "markdown",
   "metadata": {},
   "source": [
    "## Question 8.\n",
    " What type of object has bold, underline, italic, strike, and outline variables?\n",
    "### Answere  "
   ]
  },
  {
   "attachments": {},
   "cell_type": "markdown",
   "metadata": {},
   "source": [
    "`Run` object has bold, underline, otalic, steike and outline variables . The document is more than just string. ot has font size, color, ans other styling information associsted with it.\n",
    "\n",
    "A style in word is a collection of these attributes. A run object is a contigous run of text with the same style. A new run object is needed whwnever the next style changes"
   ]
  },
  {
   "cell_type": "markdown",
   "metadata": {},
   "source": [
    "## Question 9.\n",
    " What is the difference between False, True, and None for the bold variable?\n",
    "### Answere  "
   ]
  },
  {
   "cell_type": "code",
   "execution_count": 5,
   "metadata": {},
   "outputs": [],
   "source": [
    "bold = True  # style set t bold\n",
    "bold = False # Style not set to bold\n",
    "bold = None  # style is not applicable"
   ]
  },
  {
   "cell_type": "markdown",
   "metadata": {},
   "source": [
    "## Question 10\n",
    ". How do you create a Document object for a new Word document?\n",
    "### Answere  "
   ]
  },
  {
   "cell_type": "code",
   "execution_count": 6,
   "metadata": {},
   "outputs": [],
   "source": [
    "from docx import Document\n",
    "dacu = Document()\n",
    "dacu.add_paragraph(\" ## Question 10. How do you create a Document object for a new Word document?### Answere  \")\n",
    "dacu.save('mydocument.docx')"
   ]
  },
  {
   "cell_type": "markdown",
   "metadata": {},
   "source": [
    "## Question 11.\n",
    " How do you add a paragraph with the text \"Hello, there!\" to a Document object stored in a\n",
    "variable named doc?\n",
    "### Answere  "
   ]
  },
  {
   "cell_type": "code",
   "execution_count": 7,
   "metadata": {},
   "outputs": [],
   "source": [
    "from docx import Document\n",
    "doc = Document()\n",
    "doc.add_paragraph('Hello,there')\n",
    "doc.save('Hello.docx')"
   ]
  },
  {
   "cell_type": "markdown",
   "metadata": {},
   "source": [
    "## Question 12.\n",
    " What integers represent the levels of headings available in Word documents?\n",
    "### Answere  "
   ]
  },
  {
   "attachments": {},
   "cell_type": "markdown",
   "metadata": {},
   "source": [
    "The level for a heading in a word document can be specified the level of attribute inside the add_heading methos. There are a toatal 5 levels statring for 0 to 3 where level 0 makes a headline with the horizantal line below in the text wheresthe heaading level 1 is the main heading similarlly "
   ]
  },
  {
   "attachments": {},
   "cell_type": "markdown",
   "metadata": {},
   "source": [
    "Print(\"THank You)"
   ]
  },
  {
   "cell_type": "markdown",
   "metadata": {},
   "source": []
  }
 ],
 "metadata": {
  "kernelspec": {
   "display_name": "Python 3",
   "language": "python",
   "name": "python3"
  },
  "language_info": {
   "codemirror_mode": {
    "name": "ipython",
    "version": 3
   },
   "file_extension": ".py",
   "mimetype": "text/x-python",
   "name": "python",
   "nbconvert_exporter": "python",
   "pygments_lexer": "ipython3",
   "version": "3.10.0"
  },
  "orig_nbformat": 4
 },
 "nbformat": 4,
 "nbformat_minor": 2
}
