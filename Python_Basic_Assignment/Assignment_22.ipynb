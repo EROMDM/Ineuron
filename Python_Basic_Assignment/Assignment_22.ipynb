{
 "cells": [
  {
   "cell_type": "markdown",
   "metadata": {},
   "source": [
    "<h1 align=center><font size = 10>Full Stack Data Science BootCamp 2.0</font></h1>\n",
    "<h2 align=center><font size = 7>Python Basic</font></h2>"
   ]
  },
  {
   "attachments": {},
   "cell_type": "markdown",
   "metadata": {},
   "source": [
    "<h3 align=left><font size = 5>Assignment_22</font></h3>\n",
    "<h4 align=left><font size = 4>Dnyaneshwar More</font></h4>"
   ]
  },
  {
   "cell_type": "raw",
   "metadata": {},
   "source": [
    "## Question 1. \n",
    "What is the result of the code, and explain?\n",
    "\n",
    ">>> X = 'iNeuron'\n",
    ">>> def func():\n",
    "print(X)\n",
    "\n",
    ">>> func()\n",
    "\n",
    "\n",
    "### Answere  "
   ]
  },
  {
   "cell_type": "raw",
   "metadata": {},
   "source": [
    "The result of the code is print the \"iNeuron\" word which means we have to defind x values as iNeuron \n",
    "its returns the value of global variable x is iNeuron"
   ]
  },
  {
   "cell_type": "code",
   "execution_count": 1,
   "metadata": {},
   "outputs": [
    {
     "name": "stdout",
     "output_type": "stream",
     "text": [
      "iNeuron\n"
     ]
    }
   ],
   "source": [
    "x='iNeuron'\n",
    "def func():\n",
    "    print(x)\n",
    "func()"
   ]
  },
  {
   "cell_type": "markdown",
   "metadata": {},
   "source": [
    "## Question 2. \n",
    "What is the result of the code, and explain?\n",
    "\n",
    ">>> X = 'iNeuron'\n",
    ">>> def func():\n",
    "X = 'NI!'\n",
    "\n",
    ">>> func()\n",
    ">>> print(X)\n",
    "\n",
    "### Answere  "
   ]
  },
  {
   "cell_type": "raw",
   "metadata": {},
   "source": [
    "result of the code is print the \"iNeuron\" word which means we have to defind x values as iNeuron\n",
    "but x values NII when use the function recal in the inside of the print command \n",
    "otherwise x values take already definded valued \n",
    "if er recal the func() then inside x take values NII"
   ]
  },
  {
   "cell_type": "code",
   "execution_count": 2,
   "metadata": {},
   "outputs": [
    {
     "name": "stdout",
     "output_type": "stream",
     "text": [
      "iNeuron\n"
     ]
    }
   ],
   "source": [
    "x='iNeuron'\n",
    "def func():\n",
    "    x='NII'\n",
    "func()\n",
    "print(x)\n"
   ]
  },
  {
   "cell_type": "markdown",
   "metadata": {},
   "source": [
    "## Question 3. \n",
    "What does this code print, and why?\n",
    "\n",
    ">>> X = 'iNeuron'\n",
    ">>> def func():\n",
    "X = 'NI'\n",
    "print(X)\n",
    "\n",
    ">>> func()\n",
    ">>> print(X)\n",
    "\n",
    "### Answere  "
   ]
  },
  {
   "cell_type": "raw",
   "metadata": {},
   "source": [
    "In this code here defind the func() which have set x vales as NI and then print the x value\n",
    "if we recal the func()\n",
    "then print the NI value which is printed fist line in below command\n",
    "and then without recal function if we print the x value the x takes already defind vales\n",
    "which is \"iNeuron\"\n",
    "this is printed in secound line "
   ]
  },
  {
   "cell_type": "code",
   "execution_count": 3,
   "metadata": {},
   "outputs": [
    {
     "name": "stdout",
     "output_type": "stream",
     "text": [
      "NI\n",
      "Ineuron\n"
     ]
    }
   ],
   "source": [
    "x= \"Ineuron\"\n",
    "def func():\n",
    "    x='NI'\n",
    "    print(x)\n",
    "func()\n",
    "print(x)"
   ]
  },
  {
   "cell_type": "raw",
   "metadata": {},
   "source": [
    "## Question 4.\n",
    " What output does this code produce? Why?  \n",
    "\n",
    ">>> X = 'iNeuron'  \n",
    ">>> def func():  \n",
    "global X  \n",
    "X = 'NI'  \n",
    "\n",
    ">>> func()  \n",
    ">>> print(X)  \n",
    "\n",
    "### Answere  "
   ]
  },
  {
   "cell_type": "markdown",
   "metadata": {},
   "source": [
    "The output of the code NI. the global keyword allows a variable to be accessible in the current scope. science we are using global keyword inside the function func it directlyacees the variable in x in global scope and changes its value to NI\n",
    "hence output of the code is NI"
   ]
  },
  {
   "cell_type": "code",
   "execution_count": 4,
   "metadata": {},
   "outputs": [
    {
     "name": "stdout",
     "output_type": "stream",
     "text": [
      "NI\n"
     ]
    }
   ],
   "source": [
    "x='Ineuron'\n",
    "def func():\n",
    "    global x\n",
    "    x='NI'\n",
    "func()\n",
    "print(x)\n"
   ]
  },
  {
   "cell_type": "markdown",
   "metadata": {},
   "source": [
    "## Question 5. \n",
    "What about this code—what’s the output, and why?  \n",
    "\n",
    ">>> X = 'iNeuron'  \n",
    ">>> def func():  \n",
    "X = 'NI'  \n",
    "def nested():  \n",
    "print(X)  \n",
    "nested()  \n",
    "\n",
    ">>> func()  \n",
    ">>> X  \n",
    "\n",
    "### Answere  "
   ]
  },
  {
   "cell_type": "raw",
   "metadata": {},
   "source": [
    "the output of the code is NI. the reson for this output is if a function \n",
    "want to access a variable, if its not available in its localscope. it looks for variable \n",
    "in its global scope. similarly here also function nested looks for variable \n",
    "x in its global scope hence output of the code is NI"
   ]
  },
  {
   "cell_type": "code",
   "execution_count": 5,
   "metadata": {},
   "outputs": [
    {
     "name": "stdout",
     "output_type": "stream",
     "text": [
      "NI\n"
     ]
    },
    {
     "data": {
      "text/plain": [
       "'Ineuron'"
      ]
     },
     "execution_count": 5,
     "metadata": {},
     "output_type": "execute_result"
    }
   ],
   "source": [
    "x='Ineuron'\n",
    "def func():\n",
    "    x='NI'\n",
    "    def nested():\n",
    "        print(x)\n",
    "    nested()\n",
    "func()\n",
    "x"
   ]
  },
  {
   "cell_type": "markdown",
   "metadata": {},
   "source": [
    "## Question 6. \n",
    "How about this code: what is its output in Python 3, and explain?  \n",
    "\n",
    ">>> def func():  \n",
    "X = 'NI'  \n",
    "def nested():  \n",
    "nonlocal X  \n",
    "X = 'Spam'  \n",
    "nested()  \n",
    "print(X)  \n",
    "\n",
    ">>> func()  \n",
    "### Answere  "
   ]
  },
  {
   "cell_type": "raw",
   "metadata": {},
   "source": [
    "The output of the code is spam nonlocal keywords in python is used to declare a variable \n",
    "as not local Hence the statement x ='spam' is modified in te global scope\n",
    "Hence the output of print(x) statement is spam"
   ]
  },
  {
   "cell_type": "code",
   "execution_count": 6,
   "metadata": {},
   "outputs": [
    {
     "name": "stdout",
     "output_type": "stream",
     "text": [
      "Spam\n"
     ]
    }
   ],
   "source": [
    "def func():\n",
    "    X = 'NI'\n",
    "    def nested():\n",
    "        nonlocal X\n",
    "        X = 'Spam'\n",
    "    nested()\n",
    "    print(X)\n",
    "func()"
   ]
  },
  {
   "cell_type": "code",
   "execution_count": null,
   "metadata": {},
   "outputs": [],
   "source": []
  }
 ],
 "metadata": {
  "kernelspec": {
   "display_name": "Python 3",
   "language": "python",
   "name": "python3"
  },
  "language_info": {
   "codemirror_mode": {
    "name": "ipython",
    "version": 3
   },
   "file_extension": ".py",
   "mimetype": "text/x-python",
   "name": "python",
   "nbconvert_exporter": "python",
   "pygments_lexer": "ipython3",
   "version": "3.10.0"
  },
  "orig_nbformat": 4
 },
 "nbformat": 4,
 "nbformat_minor": 2
}
