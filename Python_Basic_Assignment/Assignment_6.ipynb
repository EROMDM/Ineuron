{
 "cells": [
  {
   "cell_type": "markdown",
   "id": "ba1383a9-f1a3-4dc6-8279-fa5bad1a7be1",
   "metadata": {},
   "source": [
    "<h1 align=center><font size = 10>Full Stack Data Science BootCamp 2.0</font></h1>\n",
    "<h2 align=center><font size = 7>Python Basic</font></h2>\n",
    "\n",
    "<h3 align=left><font size = 5>Assignment_6</font></h3>\n",
    "<h4 align=left><font size = 4>Dnyaneshwar More</font></h4>"
   ]
  },
  {
   "cell_type": "markdown",
   "id": "041e8b7c-a56f-46d1-b718-77665dc1547b",
   "metadata": {},
   "source": [
    "# 1. What are escape characters, and how do you use them?\n",
    "## Answere"
   ]
  },
  {
   "cell_type": "raw",
   "id": "c362bec4-26be-4d25-9485-1f4eea208712",
   "metadata": {},
   "source": [
    " In Python strings, the backslash \"\\\" is a special character, also called the \"escape\" character. It is used in representing certain whitespace characters: \"\\t\" is a tab, \"\\n\" is a newline, and \"\\r\" is a carriage return\n",
    "    \n",
    "    prefixing a special character with \"\\\" turns it into an ordinary character. This is called \"escaping\". For example, \"\\'\" is the single quote character. 'It\\'s Sunday' therefore is a valid string and equivalent to \"It's Sunday\". Likewise, '\"' can be escaped: \"\\\"hello\\\"\" is a string begins and ends with the literal double quote character. Finally, \"\\\" can be used to escape itself: \"\\\\\" is the literal backslash character.\n"
   ]
  },
  {
   "cell_type": "code",
   "execution_count": 1,
   "id": "dd2c6c26-6ab7-48b4-9028-b682ede42101",
   "metadata": {},
   "outputs": [
    {
     "name": "stdout",
     "output_type": "stream",
     "text": [
      "it's Sunday\n",
      "it's Sunday\n"
     ]
    }
   ],
   "source": [
    "print(\"it's Sunday\")\n",
    "#above sentence can be reperesented using escape charecter as\n",
    "print('it\\'s Sunday')"
   ]
  },
  {
   "cell_type": "markdown",
   "id": "dff3ae32-7d9d-4640-b166-d32d75c0d8e9",
   "metadata": {},
   "source": [
    "# 2. What do the escape characters n and t stand for?\n",
    "## Answere"
   ]
  },
  {
   "cell_type": "raw",
   "id": "8ae6d072-828c-4055-8d07-15d897b0d967",
   "metadata": {},
   "source": [
    "\"\\t\" is a tab, \"\\n\" is a newline"
   ]
  },
  {
   "cell_type": "markdown",
   "id": "e1a9cf43-d6b6-4558-bbdd-edeee83353e4",
   "metadata": {},
   "source": [
    "# 3. What is the way to include backslash characters in a string?\n",
    "## Answere"
   ]
  },
  {
   "cell_type": "raw",
   "id": "7801a242-e897-4255-87be-2d177e8772db",
   "metadata": {},
   "source": [
    "print('its a back slash \\\\ in a sentence')"
   ]
  },
  {
   "cell_type": "code",
   "execution_count": 2,
   "id": "24d3abc8-8109-4afc-a339-f310d1118e04",
   "metadata": {},
   "outputs": [
    {
     "name": "stdout",
     "output_type": "stream",
     "text": [
      "its a back slash \\ in a sentence\n"
     ]
    }
   ],
   "source": [
    "print('its a back slash \\\\ in a sentence')"
   ]
  },
  {
   "cell_type": "markdown",
   "id": "5ea1cf8a-f392-475a-8ff7-c4d0601187f0",
   "metadata": {},
   "source": [
    "# 4. The string \"Howl's Moving Castle\" is a correct value. Why isn't the single quote character in the word Howl's not escaped a problem?\n",
    "## Answere"
   ]
  },
  {
   "cell_type": "markdown",
   "id": "fadf0b47-2727-4d39-9b8c-fc501d01f024",
   "metadata": {},
   "source": [
    "    The single quote in Howl's is fine because you've used double quotes to mark the beginning and end of the string. \n",
    "    like wise we can use double quotes in with single quotes."
   ]
  },
  {
   "cell_type": "code",
   "execution_count": 3,
   "id": "f0e2e06a-9917-4f6b-a7c1-6bd35fa958f8",
   "metadata": {},
   "outputs": [
    {
     "name": "stdout",
     "output_type": "stream",
     "text": [
      "HowI's Moving Castle\n"
     ]
    }
   ],
   "source": [
    "print(\"HowI's Moving Castle\")"
   ]
  },
  {
   "cell_type": "code",
   "execution_count": 4,
   "id": "52c9ede8-8caa-4e78-8f6a-ded10965b525",
   "metadata": {},
   "outputs": [
    {
     "name": "stdout",
     "output_type": "stream",
     "text": [
      "Its a \"Nice\" Sunday\n"
     ]
    }
   ],
   "source": [
    "# like wise we can use double quote in side single quote\n",
    "print('Its a \"Nice\" Sunday')"
   ]
  },
  {
   "cell_type": "markdown",
   "id": "623d506f-07f2-485e-b10b-0476f0973cd2",
   "metadata": {},
   "source": [
    "# 5. How do you write a string of newlines if you don't want to use the n character?\n",
    "## Answere"
   ]
  },
  {
   "cell_type": "markdown",
   "id": "89c6390d-489e-45ef-81b8-ab0da4125c2c",
   "metadata": {},
   "source": [
    "    we can use the parameter end ='\\n' in print function\n"
   ]
  },
  {
   "cell_type": "code",
   "execution_count": 5,
   "id": "40e618b5-5e21-43c0-967b-222d8a459ffc",
   "metadata": {},
   "outputs": [
    {
     "name": "stdout",
     "output_type": "stream",
     "text": [
      "i have a good day\n",
      "goog\n"
     ]
    }
   ],
   "source": [
    "print(\"i have a good day\",end='\\n')\n",
    "print(\"goog\")"
   ]
  },
  {
   "cell_type": "markdown",
   "id": "e6d242c5-59f5-46dc-a179-3506cdd033ec",
   "metadata": {},
   "source": [
    "# 6. What are the values of the given expressions?\n",
    "'Hello, world!'[1]\n",
    "'Hello, world!'[0:5]\n",
    "'Hello, world!'[:5]\n",
    "'Hello, world!'[3:]\n",
    "## Answere"
   ]
  },
  {
   "cell_type": "code",
   "execution_count": 6,
   "id": "b69b27a3-dda9-48eb-b0b2-12147c642ba0",
   "metadata": {},
   "outputs": [
    {
     "data": {
      "text/plain": [
       "'e'"
      ]
     },
     "execution_count": 6,
     "metadata": {},
     "output_type": "execute_result"
    }
   ],
   "source": [
    "'Hello, world!'[1]"
   ]
  },
  {
   "cell_type": "code",
   "execution_count": 7,
   "id": "ff508ebc-b2af-46aa-9f8f-773359b01b6e",
   "metadata": {},
   "outputs": [
    {
     "data": {
      "text/plain": [
       "'Hello'"
      ]
     },
     "execution_count": 7,
     "metadata": {},
     "output_type": "execute_result"
    }
   ],
   "source": [
    "'Hello, world!'[0:5]"
   ]
  },
  {
   "cell_type": "code",
   "execution_count": 8,
   "id": "cea1ca62-7916-4c58-bc88-1c4acb9e2e04",
   "metadata": {},
   "outputs": [
    {
     "data": {
      "text/plain": [
       "'Hello'"
      ]
     },
     "execution_count": 8,
     "metadata": {},
     "output_type": "execute_result"
    }
   ],
   "source": [
    "'Hello, world!'[:5]"
   ]
  },
  {
   "cell_type": "code",
   "execution_count": 9,
   "id": "ca9dd49b-2268-453a-abd8-dc59d0ed2780",
   "metadata": {},
   "outputs": [
    {
     "data": {
      "text/plain": [
       "'lo, world!'"
      ]
     },
     "execution_count": 9,
     "metadata": {},
     "output_type": "execute_result"
    }
   ],
   "source": [
    "'Hello, world!'[3:]"
   ]
  },
  {
   "cell_type": "markdown",
   "id": "7245a4d0-1317-426a-ba00-078f0435dcef",
   "metadata": {},
   "source": [
    "# 7. What are the values of the following expressions?\n",
    "'Hello'.upper()\n",
    "'Hello'.upper().isupper()\n",
    "'Hello'.upper().lower()\n",
    "## Answere"
   ]
  },
  {
   "cell_type": "code",
   "execution_count": 10,
   "id": "8df9e6df-f241-4fca-83be-191a5cd45c06",
   "metadata": {},
   "outputs": [
    {
     "data": {
      "text/plain": [
       "'HELLO'"
      ]
     },
     "execution_count": 10,
     "metadata": {},
     "output_type": "execute_result"
    }
   ],
   "source": [
    "'Hello'.upper()"
   ]
  },
  {
   "cell_type": "code",
   "execution_count": 11,
   "id": "ab4cc491-6c07-43dd-b357-e82924100a0d",
   "metadata": {},
   "outputs": [
    {
     "data": {
      "text/plain": [
       "True"
      ]
     },
     "execution_count": 11,
     "metadata": {},
     "output_type": "execute_result"
    }
   ],
   "source": [
    "'Hello'.upper().isupper()"
   ]
  },
  {
   "cell_type": "code",
   "execution_count": 12,
   "id": "cbe84b20-361a-433e-8e9f-a1a4b0970dc2",
   "metadata": {},
   "outputs": [
    {
     "data": {
      "text/plain": [
       "'hello'"
      ]
     },
     "execution_count": 12,
     "metadata": {},
     "output_type": "execute_result"
    }
   ],
   "source": [
    "'Hello'.upper().lower()"
   ]
  },
  {
   "cell_type": "markdown",
   "id": "5fb59bb6-9e83-4c06-944f-f654328cb88b",
   "metadata": {},
   "source": [
    "# 8. What are the values of the following expressions?\n",
    "'Remember, remember, the fifth of July.'.split()\n",
    "'-'.join('There can only one.'.split())\n",
    "## Answere"
   ]
  },
  {
   "cell_type": "code",
   "execution_count": 13,
   "id": "5463be4f-e989-46f2-b2e7-af11d77396d7",
   "metadata": {},
   "outputs": [
    {
     "data": {
      "text/plain": [
       "['Remember,', 'remember,', 'the', 'fifth', 'of', 'July.']"
      ]
     },
     "execution_count": 13,
     "metadata": {},
     "output_type": "execute_result"
    }
   ],
   "source": [
    "'Remember, remember, the fifth of July.'.split()"
   ]
  },
  {
   "cell_type": "code",
   "execution_count": 14,
   "id": "d4e0b9ae-e211-4713-9055-c0c4ed63468f",
   "metadata": {},
   "outputs": [
    {
     "data": {
      "text/plain": [
       "'There-can-only-one.'"
      ]
     },
     "execution_count": 14,
     "metadata": {},
     "output_type": "execute_result"
    }
   ],
   "source": [
    "'-'.join('There can only one.'.split())"
   ]
  },
  {
   "cell_type": "markdown",
   "id": "02d668a9-9fb5-416a-9eb0-04dd4b237f51",
   "metadata": {},
   "source": [
    "# 9. What are the methods for right-justifying, left-justifying, and centering a string?\n",
    "## Answere"
   ]
  },
  {
   "cell_type": "raw",
   "id": "98504d1d-c2d0-4a65-ad45-c0f927f3a113",
   "metadata": {},
   "source": [
    " The following methods are used for justifying strings\n",
    "    ljust()\n",
    "    rjust()\n",
    "    center()"
   ]
  },
  {
   "cell_type": "code",
   "execution_count": 15,
   "id": "992898a9-c042-4edc-9e99-a2b4e5c659e8",
   "metadata": {},
   "outputs": [
    {
     "data": {
      "text/plain": [
       "'ER0M_DM_________________________________'"
      ]
     },
     "execution_count": 15,
     "metadata": {},
     "output_type": "execute_result"
    }
   ],
   "source": [
    "st=\"ER0M_DM\"\n",
    "st.ljust(40,\"_\")"
   ]
  },
  {
   "cell_type": "code",
   "execution_count": 16,
   "id": "1478a148-b56f-4428-8697-bb796234e976",
   "metadata": {},
   "outputs": [
    {
     "data": {
      "text/plain": [
       "'---------------------------------ER0M_DM'"
      ]
     },
     "execution_count": 16,
     "metadata": {},
     "output_type": "execute_result"
    }
   ],
   "source": [
    "st=\"ER0M_DM\"\n",
    "st.rjust(40,\"-\")"
   ]
  },
  {
   "cell_type": "code",
   "execution_count": 17,
   "id": "24850a2e-6e77-4e2f-8e99-bb25a5d0bd80",
   "metadata": {},
   "outputs": [
    {
     "data": {
      "text/plain": [
       "'*****************ER0M_DM*****************'"
      ]
     },
     "execution_count": 17,
     "metadata": {},
     "output_type": "execute_result"
    }
   ],
   "source": [
    "st=\"ER0M_DM\"\n",
    "st.center(41,\"*\")"
   ]
  },
  {
   "cell_type": "markdown",
   "id": "fcbf68f2-fa68-4b1c-9766-9ff46aa0117e",
   "metadata": {},
   "source": [
    "# 10. What is the best way to remove whitespace characters from the start or end?\n",
    "## Answere"
   ]
  },
  {
   "cell_type": "raw",
   "id": "a5eca62b-71de-42bc-980c-85a2bbc20dea",
   "metadata": {},
   "source": [
    "   lstrip() -> removes white spaces from left of the string\n",
    "    rstrip() -> removes whitespaces from right of the string\n"
   ]
  },
  {
   "cell_type": "code",
   "execution_count": 18,
   "id": "014321df-5389-4b4b-b43c-e95031ef2b5c",
   "metadata": {},
   "outputs": [
    {
     "data": {
      "text/plain": [
       "'hkjhjdfhjd jkhjhd  '"
      ]
     },
     "execution_count": 18,
     "metadata": {},
     "output_type": "execute_result"
    }
   ],
   "source": [
    "str =\"  hkjhjdfhjd jkhjhd  \"\n",
    "str.lstrip()"
   ]
  },
  {
   "cell_type": "code",
   "execution_count": 19,
   "id": "b4f9177f-05d3-498d-b757-e89919dcb1a8",
   "metadata": {},
   "outputs": [
    {
     "data": {
      "text/plain": [
       "'  hkjhjdfhjd jkhjhd'"
      ]
     },
     "execution_count": 19,
     "metadata": {},
     "output_type": "execute_result"
    }
   ],
   "source": [
    "str.rstrip()"
   ]
  },
  {
   "cell_type": "code",
   "execution_count": null,
   "id": "bc20cf1f-ea8a-420c-ba36-bc82c7507ef8",
   "metadata": {},
   "outputs": [],
   "source": []
  }
 ],
 "metadata": {
  "kernelspec": {
   "display_name": "Python 3 (ipykernel)",
   "language": "python",
   "name": "python3"
  },
  "language_info": {
   "codemirror_mode": {
    "name": "ipython",
    "version": 3
   },
   "file_extension": ".py",
   "mimetype": "text/x-python",
   "name": "python",
   "nbconvert_exporter": "python",
   "pygments_lexer": "ipython3",
   "version": "3.10.7"
  }
 },
 "nbformat": 4,
 "nbformat_minor": 5
}
