{
 "cells": [
  {
   "cell_type": "markdown",
   "metadata": {},
   "source": [
    "<h1 align=center><font size = 10>Full Stack Data Science BootCamp 2.0</font></h1>\n",
    "<h2 align=center><font size = 7>Python Basic</font></h2>"
   ]
  },
  {
   "attachments": {},
   "cell_type": "markdown",
   "metadata": {},
   "source": [
    "<h3 align=left><font size = 5>Assignment_13</font></h3>\n",
    "<h4 align=left><font size = 4>Dnyaneshwar More</font></h4>"
   ]
  },
  {
   "attachments": {},
   "cell_type": "markdown",
   "metadata": {},
   "source": [
    " ## Question  1.\n",
    "  What advantages do Excel spreadsheets have over CSV spreadsheets?\n",
    "### Answere  "
   ]
  },
  {
   "cell_type": "markdown",
   "metadata": {},
   "source": [
    "Excel is more superior when compared with the csv file format. thus CSV cinsumes lwss amount of file size when the user is importing the data, it is a much faster format compared to excel. CSV does not mainipulate data nad stores it as is, excel alsi allows the user the add-in feature"
   ]
  },
  {
   "attachments": {},
   "cell_type": "markdown",
   "metadata": {},
   "source": [
    "## Question 2.\n",
    "What do you pass to csv.reader() and csv.writer() to create reader and writer objects?\n",
    "### Answere  "
   ]
  },
  {
   "cell_type": "markdown",
   "metadata": {},
   "source": [
    "we pass the object if the file which we have open or on which file operation needs to be perfrome mformed \n",
    "\n",
    "Example `open(filename,'r')` as csv file \n",
    "creating a csv reader object __`csvreader = csv.reader(csvfile)`__"
   ]
  },
  {
   "cell_type": "code",
   "execution_count": null,
   "metadata": {},
   "outputs": [],
   "source": []
  },
  {
   "attachments": {},
   "cell_type": "markdown",
   "metadata": {},
   "source": [
    "## Question 3.\n",
    " What modes do File objects for reader and writer objects need to be opened in?\n",
    "### Answere  "
   ]
  },
  {
   "attachments": {},
   "cell_type": "markdown",
   "metadata": {},
   "source": [
    "the reader and writer can be opened in the following modes:-\n",
    "'r' Open a file for reading. 'w' open file writing . creates a new file if it does not exist or trunvates the file if it exists. 'x' Opens a file for exclisive creation. if the file already exists, the operation fails. 'a' open for appemding at the end of the file without truncationg it. creates a mew file if it doesnot exist. 't' Open text mode. 'b' Open binary mode.'+' open a file for updatuing"
   ]
  },
  {
   "attachments": {},
   "cell_type": "markdown",
   "metadata": {},
   "source": [
    "## Question 4. \n",
    "What method takes a list argument and writes it to a CSV file?\n",
    "### Answere  "
   ]
  },
  {
   "attachments": {},
   "cell_type": "markdown",
   "metadata": {},
   "source": [
    "The `csv.writer()` writer method takes an iterable as an argumenat, the resulat set to be a list(rows)of list (columns)"
   ]
  },
  {
   "attachments": {},
   "cell_type": "markdown",
   "metadata": {},
   "source": [
    "## Question 5.\n",
    " What do the keyword arguments delimiter and line terminator do?\n",
    "### Answere  "
   ]
  },
  {
   "attachments": {},
   "cell_type": "markdown",
   "metadata": {},
   "source": [
    "The line terminator is the character that comes at the end of a row. By default the line terminator is a newline. you can change characters to diffrent values by using the delimiter and lineterminator keyword arguments with __`csv.writer()`__"
   ]
  },
  {
   "attachments": {},
   "cell_type": "markdown",
   "metadata": {},
   "source": [
    "## Question 6. \n",
    "What function takes a string of JSON data and returns a Python data structure?\n",
    "### Answere  "
   ]
  },
  {
   "attachments": {},
   "cell_type": "markdown",
   "metadata": {},
   "source": [
    "__`drump()`__ methods retrun the python data structure of JSON string or data"
   ]
  },
  {
   "attachments": {},
   "cell_type": "markdown",
   "metadata": {},
   "source": [
    "## Question 7.\n",
    " What function takes a Python data structure and returns a string of JSON data?\n",
    "\n",
    "### Answere "
   ]
  },
  {
   "attachments": {},
   "cell_type": "markdown",
   "metadata": {},
   "source": [
    "__`loads()`__ methods retrun the python data structure of JSON string or data"
   ]
  }
 ],
 "metadata": {
  "kernelspec": {
   "display_name": "Python 3",
   "language": "python",
   "name": "python3"
  },
  "language_info": {
   "codemirror_mode": {
    "name": "ipython",
    "version": 3
   },
   "file_extension": ".py",
   "mimetype": "text/x-python",
   "name": "python",
   "nbconvert_exporter": "python",
   "pygments_lexer": "ipython3",
   "version": "3.10.0"
  },
  "orig_nbformat": 4
 },
 "nbformat": 4,
 "nbformat_minor": 2
}
