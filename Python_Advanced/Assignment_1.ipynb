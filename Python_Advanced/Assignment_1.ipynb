{
 "cells": [
  {
   "attachments": {},
   "cell_type": "markdown",
   "metadata": {},
   "source": [
    "<h1 align=center><font size = 10>Full Stack Data Science BootCamp 2.0</font></h1>\n",
    "<h2 align=center><font size = 7>Python Advanced</font></h2>"
   ]
  },
  {
   "attachments": {},
   "cell_type": "markdown",
   "metadata": {},
   "source": [
    "<h3 align=left><font size = 5>Assignment_1</font></h3>\n",
    "<h4 align=left><font size = 4>Dnyaneshwar More</font></h4>"
   ]
  },
  {
   "attachments": {},
   "cell_type": "markdown",
   "metadata": {},
   "source": [
    "## Q1. What is the purpose of Python's OOP?\n"
   ]
  },
  {
   "attachments": {},
   "cell_type": "markdown",
   "metadata": {},
   "source": [
    "### Ans\n",
    "Object-orented programming patadugm that provides a means of structureing progtams so that properties and behaviours are vundled in to individual objects\n",
    "\n",
    "- In Python,object-oriented programming uses objects and classes in programming.\n",
    "- In aims to implecement real-wold entites like inheritance,polymorphisum,enaxapsulation,etc in programming.\n",
    "- Thr main concept of OOPs is to bind the data and the functions that work on that together as a single unit so that no other part of the code access this data.\n",
    "- It comes up with the following advantages\n",
    "- I)  it help to divide our over all programs into diffrent small segments and thus making ot solving easy with the use of objects.\n",
    "- II) Helps in easy mauntenance and modification of exisring program\n",
    "- III) Multiple instnces of an object can be made\n",
    "\n"
   ]
  },
  {
   "cell_type": "markdown",
   "metadata": {},
   "source": [
    "\n",
    "## Q2. Where does an inheritance search look for an attribute?\n"
   ]
  },
  {
   "attachments": {},
   "cell_type": "markdown",
   "metadata": {},
   "source": [
    "### Ans\n",
    " Python searches for an attributes in an upward tree of atrivutes it forst searches for the attrivute in its insrance and then looks in the class it it generated from to all super class listed in its class header"
   ]
  },
  {
   "cell_type": "markdown",
   "metadata": {},
   "source": [
    "\n",
    "## Q3. How do you distinguish between a class object and an instance object?\n"
   ]
  },
  {
   "attachments": {},
   "cell_type": "markdown",
   "metadata": {},
   "source": [
    "### Ans\n",
    "The differences between a class and an instance  object are:\n",
    "1. Class is a temple for creatinh oobjrcts  whereas oibject is an instance of class\n",
    "2. Seoerate memory is allocated for each object whenever an object is create, but for a class this doesnot happens.\n",
    "3. A class is created once, Many ovjects are created using a class.\n",
    "4. As Classes have no allocated memoru they can't be manupulate. but object can be manupulated"
   ]
  },
  {
   "attachments": {},
   "cell_type": "markdown",
   "metadata": {},
   "source": [
    "\n",
    "## Q4. What makes the first argument in a class’s method function special?\n"
   ]
  },
  {
   "attachments": {},
   "cell_type": "markdown",
   "metadata": {},
   "source": [
    "### Ans\n",
    "Python classes usually have three tupes of mrthods which are:\n",
    "\n",
    "- instance Method (Object level methods)\n",
    "- Class method (Class level method)\n",
    "- Static methods (general utility-  methods)\n",
    "- **`self`** is the fist argument for instance mehods ehich refers to the object itself\n",
    "- **` class`** is the fist argumrnt for class methods ehivh refer to the class itself \n",
    "\n"
   ]
  },
  {
   "cell_type": "markdown",
   "metadata": {},
   "source": [
    "\n",
    "## Q5. What is the purpose of the __init__ method?\n"
   ]
  },
  {
   "attachments": {},
   "cell_type": "markdown",
   "metadata": {},
   "source": [
    "### Ans \n",
    "**`__init__`** is a reseved method in python classes. It serves the role of **constructor** in object oriented terminology this method is called when an object os created from a class and  alloes the class to initilize the attribute of class"
   ]
  },
  {
   "cell_type": "markdown",
   "metadata": {},
   "source": [
    "\n",
    "## Q6. What is the process for creating a class instance?\n"
   ]
  },
  {
   "attachments": {},
   "cell_type": "markdown",
   "metadata": {},
   "source": [
    "### Ans\n",
    "To create a class instance, we need to call the class by its name and pass the argumrnts to the class, which its init methid accepts.\n",
    "\n",
    "**Example `my_name = my_class(\"Dm\",\"Vi\")`** Here `my_name` is an instance of class `my_class` with attributes \"DM\" and \"Vishnu\". "
   ]
  },
  {
   "cell_type": "markdown",
   "metadata": {},
   "source": [
    "\n",
    "## Q7. What is the process for creating a class?\n",
    "\n"
   ]
  },
  {
   "attachments": {},
   "cell_type": "markdown",
   "metadata": {},
   "source": [
    "### Ans\n",
    "**`Class`** keyword is used to created a class in python The syantax to create a class in python is `class <class name>`\n",
    "\n",
    "**Example**  **`class Car: `** this creats a class called Car\n",
    "\n",
    "`"
   ]
  },
  {
   "cell_type": "markdown",
   "metadata": {},
   "source": [
    "## Q8. How would you define the superclasses of a class?"
   ]
  },
  {
   "attachments": {},
   "cell_type": "markdown",
   "metadata": {},
   "source": [
    "### Ans \n",
    "Supperclass Parent class is given as a rtugmrnt to the child class\n",
    "\n",
    "** Example** \n",
    "`class Employee(Person)` here child class `Employee`inherits attributes and methodsfrom superclass `Person`"
   ]
  },
  {
   "attachments": {},
   "cell_type": "markdown",
   "metadata": {},
   "source": [
    "Thank You for read some my own words"
   ]
  },
  {
   "cell_type": "markdown",
   "metadata": {},
   "source": []
  }
 ],
 "metadata": {
  "language_info": {
   "name": "python"
  },
  "orig_nbformat": 4
 },
 "nbformat": 4,
 "nbformat_minor": 2
}
