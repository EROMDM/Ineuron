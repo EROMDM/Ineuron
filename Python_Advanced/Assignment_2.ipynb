{
 "cells": [
  {
   "attachments": {},
   "cell_type": "markdown",
   "metadata": {},
   "source": [
    "<h1 align=center><font size = 10>Full Stack Data Science BootCamp 2.0</font></h1>\n",
    "<h2 align=center><font size = 7>Python Advanced</font></h2>"
   ]
  },
  {
   "attachments": {},
   "cell_type": "markdown",
   "metadata": {},
   "source": [
    "<h3 align=left><font size = 5>Assignment_</font></h3>\n",
    "<h4 align=left><font size = 4>Dnyaneshwar More</font></h4>"
   ]
  },
  {
   "attachments": {},
   "cell_type": "markdown",
   "metadata": {},
   "source": [
    "Q1. What is the relationship between classes and modules?\n",
    "\n",
    "### **`Ans`**  "
   ]
  },
  {
   "attachments": {},
   "cell_type": "markdown",
   "metadata": {},
   "source": [
    "A python **`class`** is like a outline/blueprint/mold for creating a new object. An object os anything that you wish to mainpulate or chang while working thrpug the code. Every time a **`class`** object is instantiated, ehich is whwn we declare a variable, a new object is initiated from scrach\n",
    "\n",
    "whereas in Python,Modules are simply files with he **`.py`** extention containing Python code that can be imported inside anather Python Programe. Im simple terms, we can consider a module to be the same as a cide libaray or a file that contain a set of functions/Classes that you want to include in your application."
   ]
  },
  {
   "attachments": {},
   "cell_type": "markdown",
   "metadata": {},
   "source": [
    "Q2. How do you make instances and classes?\n",
    "\n",
    "### **`Ans`** "
   ]
  },
  {
   "attachments": {},
   "cell_type": "markdown",
   "metadata": {},
   "source": [
    "For any creating **`class`** instance. we call a **`class`** by its name and pass the arfument which its **`__init`** method accepts.\n",
    "\n",
    "**Examople** `md = employee('Male',200)` , here  md is an instance of **`class`** employee with attribute 'male' and 200\n",
    "\n",
    "Wheares fpr creating **`class`**, we use the **`class`** keyword. **`class`** keuword is followed by classnamw and semicolon.\n",
    "\n",
    "*`Example`* :- Here Employee is a **`class`** created with **`class`** keyword with arguments gender and salary\n",
    "\n"
   ]
  },
  {
   "cell_type": "code",
   "execution_count": 13,
   "metadata": {},
   "outputs": [],
   "source": [
    "class Employee:\n",
    "    def __init__(self,gender,salary):\n",
    "        self.gender = gender\n",
    "        self.salary = salary\n"
   ]
  },
  {
   "attachments": {},
   "cell_type": "markdown",
   "metadata": {},
   "source": [
    " Q3. Where and how should be *****`class`***** attributes created?\n",
    "\n",
    "### **`Ans`** "
   ]
  },
  {
   "attachments": {},
   "cell_type": "markdown",
   "metadata": {},
   "source": [
    "**`class`** attributes or **`class`** level Attributes velong to the **`class`** itself. these attributes will ve shared by all the instances of the **`class`**. Hence these attributes are usually ctrated/defined in the top of **`class`** defination outside all methods.\n"
   ]
  },
  {
   "attachments": {},
   "cell_type": "markdown",
   "metadata": {},
   "source": [
    "**Example** in the below code we are defining a **`class`** attribute called no_of _wheels  which will be shared by all the instances of the **`class`** Car"
   ]
  },
  {
   "cell_type": "code",
   "execution_count": 14,
   "metadata": {},
   "outputs": [],
   "source": [
    "class Car:\n",
    "    no_of_wheels = 4\n",
    "    def __init__(self,color,price,engine):\n",
    "        self.color = color # All this are instance attributes\n",
    "        self.price = price\n",
    "        self.engine = engine\n"
   ]
  },
  {
   "attachments": {},
   "cell_type": "markdown",
   "metadata": {},
   "source": [
    " Q4. Where and how are instance attributes created?\n",
    "\n",
    "### **`Ans`** "
   ]
  },
  {
   "attachments": {},
   "cell_type": "markdown",
   "metadata": {},
   "source": [
    "Instances attributes are passed to the **`class`** when an object of the **`class`** is created. Unlike **`class`** attributes, instance attributes are not shared by all objects of the classs. instead each object maintains its own copy of instance attributes at object level. whereas incase of **`class`** attributes all instances of **`class`** refer to a single copy. Usually instance attributes are defined within the **`__init__`** method of **`class`**\n",
    "\n",
    "**Example:** In the below sample code we are creating a **`class`** Car with instance varaibles color, price, engine, which will be provided when an instance of **`class`** Car is created."
   ]
  },
  {
   "cell_type": "code",
   "execution_count": 15,
   "metadata": {},
   "outputs": [],
   "source": [
    "class Car:\n",
    "    def __init__(self,color,price,engine):\n",
    "        self.color = color # All this are instance attributes\n",
    "        self.price = price\n",
    "        self.engine = engine\n",
    "\n",
    "n = Car(\"Indigo Blue\",400000,\"eletric\")\n",
    "sa = Car('Safari Black',59908,'disel')"
   ]
  },
  {
   "attachments": {},
   "cell_type": "markdown",
   "metadata": {},
   "source": [
    "n and sa are the inheristance of **`class`** Car with diffrent instance Variable"
   ]
  },
  {
   "attachments": {},
   "cell_type": "markdown",
   "metadata": {},
   "source": [
    " Q5. What does the term **`\"self\"`** in a Python ****`class`**** mean?\n",
    "\n",
    "### **`Ans`** "
   ]
  },
  {
   "attachments": {},
   "cell_type": "markdown",
   "metadata": {},
   "source": [
    "**`self`** represents the instance of the **`class`** (it represent the object itself) By using the \"self\" keyword we can access the attributes and methods of the **`class`** with in the **`class`** in python. It binds the attributes woth the given arguments."
   ]
  },
  {
   "cell_type": "code",
   "execution_count": 16,
   "metadata": {},
   "outputs": [
    {
     "name": "stdout",
     "output_type": "stream",
     "text": [
      "{'color': 'Indigo Blue', 'price': 400000, 'engine': 'eletric'}\n",
      "{'color': 'Safari Black', 'price': 59908, 'engine': 'disel'}\n"
     ]
    }
   ],
   "source": [
    "class Car:\n",
    "    def __init__(self, color,price,engine):\n",
    "        self.color = color\n",
    "        self.price = price\n",
    "        self.engine = engine\n",
    "\n",
    "n = Car(\"Indigo Blue\",400000,\"eletric\")\n",
    "sa = Car('Safari Black',59908,'disel')\n",
    "print(n.__dict__)\n",
    "print(sa.__dict__)\n",
    "\n",
    "        "
   ]
  },
  {
   "attachments": {},
   "cell_type": "markdown",
   "metadata": {},
   "source": [
    " Q6. How does a Python ****`class`**** handle operator overloading?\n",
    "\n",
    "### **`Ans`** "
   ]
  },
  {
   "attachments": {},
   "cell_type": "markdown",
   "metadata": {},
   "source": [
    "Python Classes handle operator overloading by using special methods called **Magic methods**. these special methods usually begin and end with **`__`** (double underscore)  \n",
    "**Example:** Magic methods for basic arithmetic operators are:\n",
    "- `+ -> __add__()`\n",
    "- `- -> __sub__()`\n",
    "- `* -> __mul__()`\n",
    "- `/ -> __div__()`"
   ]
  },
  {
   "cell_type": "code",
   "execution_count": 17,
   "metadata": {},
   "outputs": [
    {
     "name": "stdout",
     "output_type": "stream",
     "text": [
      "The total number of pages in 2 books is 300\n"
     ]
    }
   ],
   "source": [
    "class Book:\n",
    "    def __init__(self,pages):\n",
    "        self.pages = pages\n",
    "    def __add__(self,other):\n",
    "        return self.pages + other.pages\n",
    "b1 = Book(100)\n",
    "b2 = Book(200)\n",
    "print(f'The total number of pages in 2 books is {b1+b2}')"
   ]
  },
  {
   "attachments": {},
   "cell_type": "markdown",
   "metadata": {},
   "source": [
    " Q7. When do you consider allowing operator overloading of your classes?\n",
    "\n",
    "### **`Ans`** "
   ]
  },
  {
   "attachments": {},
   "cell_type": "markdown",
   "metadata": {},
   "source": [
    "When we want to diffrent meaning for the some oprating according to the context we use operater oveloading"
   ]
  },
  {
   "attachments": {},
   "cell_type": "markdown",
   "metadata": {},
   "source": [
    " Q8. What is the most popular form of operator overloading?\n",
    "\n",
    "### **`Ans`** "
   ]
  },
  {
   "attachments": {},
   "cell_type": "markdown",
   "metadata": {},
   "source": [
    "The most popular from of operater overloading in python is by special methods called **Magic Methods,** Which usually beign and end with double underscore **`__<Method Name>`**"
   ]
  },
  {
   "cell_type": "code",
   "execution_count": 18,
   "metadata": {},
   "outputs": [],
   "source": [
    "class A:\n",
    "    def __init__(self,a):\n",
    "        self.a = a\n",
    "    def __add__(self,o):\n",
    "        return self.a+o.a"
   ]
  },
  {
   "cell_type": "code",
   "execution_count": 19,
   "metadata": {},
   "outputs": [
    {
     "name": "stdout",
     "output_type": "stream",
     "text": [
      "Sum -> 3\n",
      "String Concatenation -> DMmd\n"
     ]
    }
   ],
   "source": [
    "aa=A(1)\n",
    "aa1 = A(2)\n",
    "az = A('DM')\n",
    "aq = A(\"md\")\n",
    "print(f'Sum -> {aa+aa1}')\n",
    "print(f'String Concatenation -> {az+aq}')"
   ]
  },
  {
   "attachments": {},
   "cell_type": "markdown",
   "metadata": {},
   "source": [
    " Q9. What are the two most important concepts to grasp in order to comprehend Python OOP code?\n",
    "### **`Ans`**"
   ]
  },
  {
   "attachments": {},
   "cell_type": "markdown",
   "metadata": {},
   "source": [
    "**Classes** and **Objects** are the two concepts to compreheand python OOP code as more formallu objects are entities that represent instances of general abstract concept called **`class`**"
   ]
  },
  {
   "attachments": {},
   "cell_type": "markdown",
   "metadata": {},
   "source": [
    "Along with classes and objects the important concepts to graso are:\n",
    "\n",
    "1. Inheritence\n",
    "2. Abstraction \n",
    "3. Polymorphisum \n",
    "4. Encapsulation"
   ]
  },
  {
   "cell_type": "markdown",
   "metadata": {},
   "source": []
  },
  {
   "cell_type": "markdown",
   "metadata": {},
   "source": []
  }
 ],
 "metadata": {
  "kernelspec": {
   "display_name": "Python 3",
   "language": "python",
   "name": "python3"
  },
  "language_info": {
   "codemirror_mode": {
    "name": "ipython",
    "version": 3
   },
   "file_extension": ".py",
   "mimetype": "text/x-python",
   "name": "python",
   "nbconvert_exporter": "python",
   "pygments_lexer": "ipython3",
   "version": "3.10.0"
  },
  "orig_nbformat": 4
 },
 "nbformat": 4,
 "nbformat_minor": 2
}
