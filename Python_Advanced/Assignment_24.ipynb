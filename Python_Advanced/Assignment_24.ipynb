{
 "cells": [
  {
   "attachments": {},
   "cell_type": "markdown",
   "metadata": {},
   "source": [
    "<h1 align=center><font size = 10>Full Stack Data Science BootCamp 2.0</font></h1>\n",
    "<h2 align=center><font size = 7>Python Advanced</font></h2>"
   ]
  },
  {
   "attachments": {},
   "cell_type": "markdown",
   "metadata": {},
   "source": [
    "<h3 align=left><font size = 5>Assignment_24</font></h3>\n",
    "<h4 align=left><font size = 4>Dnyaneshwar More</font></h4>"
   ]
  },
  {
   "attachments": {},
   "cell_type": "markdown",
   "metadata": {},
   "source": [
    "## Q1. Is it permissible to use several import statements to import the same module? What would he goal be? Can you think of a situation where it would be beneficial\n",
    "### **Answere**\n"
   ]
  },
  {
   "attachments": {},
   "cell_type": "markdown",
   "metadata": {},
   "source": [
    "Yes, it is permissible to use several import statements to import the some module. It is used in case when we have to import multiple functions from some mofule."
   ]
  },
  {
   "cell_type": "markdown",
   "metadata": {},
   "source": [
    "## Q2. What are some of a module's characteristics? (Name at least one.)\n",
    "### **Answere**\n"
   ]
  },
  {
   "attachments": {},
   "cell_type": "markdown",
   "metadata": {},
   "source": [
    "The followung are some of a module's characterstics:\n",
    "\n",
    "- **`__name__:`** its retrn the name of the  module \n",
    "- **`__doc__:`** ot denoes the documentation string lune weitten in a module code.\n",
    "- **`__file__:`** It holds the name and path of the module file from which it is loaded\n",
    "- **`__dict__:`** It return a dictionary object of module attributes, functions and other definations and their respective values."
   ]
  },
  {
   "cell_type": "markdown",
   "metadata": {},
   "source": [
    "## Q3. Circular importing, such as when two modules import each other, can lead to dependencies and bugs that aren't visible. How can you go about creating a program that avoids mutual importing\n",
    "### **Answere**\n"
   ]
  },
  {
   "attachments": {},
   "cell_type": "markdown",
   "metadata": {},
   "source": [
    "One way to avoid mutual importig is to use a design patttern known as the \"Circle-Ellips\" pattern in ehivh a mofule in the circular dependency chain  is refactored to import onlu the specific itens it need from the other module rather than importing the rntire midule. this is breaks the circle deoendency and allows the modules to be imported in a specific order, Ajother method is to use a 'Facade' pattern, where a single module acts as an interface to the functionally provided by the mutually importing modules. this avoiding the circular import.\n",
    "\n",
    "Anather approch would be to use an import statement inside a functon, SO THAT THE IMPORT OCCUTS ONLY WHEN THE FUNCTION IS CALLED, RATHER THAN WHEN THE MODULE IS IMPORTED. THIS WAY THE MODULE THAT IS BEING IMPORTED WON'T BE IN THE MEMORY UNTIL THE FUNCTION IS CALLED AND THE IMPORT STATEMENT OS EXECUTED."
   ]
  },
  {
   "cell_type": "markdown",
   "metadata": {},
   "source": [
    "\n",
    "## Q4. Why is _ _all_ _ in Python?\n",
    "### **Answere**\n",
    "\n"
   ]
  },
  {
   "attachments": {},
   "cell_type": "markdown",
   "metadata": {},
   "source": [
    "it provide lis of all modules present in a livarary."
   ]
  },
  {
   "cell_type": "markdown",
   "metadata": {},
   "source": [
    "## Q5. In what situation is it useful to refer to the _ _name_ _ attribute or the string '_ _main_ _'?\n",
    "### **Answere**\n"
   ]
  },
  {
   "attachments": {},
   "cell_type": "markdown",
   "metadata": {},
   "source": [
    "During the time of execution of the cide if er eant to refer the module in which we are working on then we uses name attribute. In that case it will retyrn the module in which we are working on. Suppose if the module is bring imported from some other module then name will have the name if that module from where the courent module jas been imported. the current module in which we are working is refer to the string `__main__`"
   ]
  },
  {
   "cell_type": "markdown",
   "metadata": {},
   "source": [
    "\n",
    "## Q6. What are some of the benefits of attaching a program counter to the RPN interpreter application, which interprets an RPN script line by line?\n",
    "### **Answere**\n"
   ]
  },
  {
   "attachments": {},
   "cell_type": "markdown",
   "metadata": {},
   "source": [
    "A programe center(PC) van be useful in an RPN interpreter appllication as it allows the interpreter to keep track of the current line or instructior veing executed, and to move to the next instruction or line of code as appropriate. this can make it easier to debug and troubleshoot the interpreter as well as to add features such as  breakpoint and stepping through the code. Additonally, a pc can also be used to implement features such as suvtoutinrs, loops and jump statements allowing for more complex scripts to ve executed with the RPN interpreter."
   ]
  },
  {
   "cell_type": "markdown",
   "metadata": {},
   "source": [
    "\n",
    "## Q7. What are the minimum expressions or statements (or both) that you'd need to render a basic programming language like RPN primitive but complete— that is, capable of carrying out any computerised task theoretically possible?\n",
    "### **Answere**"
   ]
  },
  {
   "attachments": {},
   "cell_type": "markdown",
   "metadata": {},
   "source": [
    "A vasic RPN interpreter would need at least the following expression or statement to be considerd primitive bit complete:\n",
    "- Arithmatic operations sucg as addition, subtraction, multiplication, and division.\n",
    "- Comparision operations such as eual to, less than. grater thann, etc.\n",
    "- Logical operations such as AND, OR , NOT, etc.\n",
    "- Basic input/output operations such as reading input fron the user and displaying output to the screen.\n",
    "- Stack mainpulation operation such as  push, pop, dup, swap, etc.\n",
    "- Control flow statements such as if-else , while loop and subroutine calls. \n",
    "- Memory management operations such as allocating and deallocating memory ,\n",
    "- Data types such as float int chat and numbers\n",
    "\n",
    "eith these basic building vlocksm the RPN interopreter can perforn any computationallu expressivle task theoretocallu possible Howevwe for more advance features such as file handling metworking and FUI additional linraries or modules would have to be used."
   ]
  },
  {
   "cell_type": "markdown",
   "metadata": {},
   "source": []
  }
 ],
 "metadata": {
  "language_info": {
   "name": "python"
  },
  "orig_nbformat": 4
 },
 "nbformat": 4,
 "nbformat_minor": 2
}
