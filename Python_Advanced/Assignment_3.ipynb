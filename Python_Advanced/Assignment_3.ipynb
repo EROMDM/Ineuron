{
 "cells": [
  {
   "attachments": {},
   "cell_type": "markdown",
   "metadata": {},
   "source": [
    "<h1 align=center><font size = 10>Full Stack Data Science BootCamp 2.0</font></h1>\n",
    "<h2 align=center><font size = 7>Python Advanced</font></h2>"
   ]
  },
  {
   "attachments": {},
   "cell_type": "markdown",
   "metadata": {},
   "source": [
    "<h3 align=left><font size = 5>Assignment_3</font></h3>\n",
    "<h4 align=left><font size = 4>Dnyaneshwar More</font></h4>"
   ]
  },
  {
   "attachments": {},
   "cell_type": "markdown",
   "metadata": {},
   "source": [
    "## 1. What is the concept of an abstract superclass?    \n",
    " ### Answere\n"
   ]
  },
  {
   "attachments": {},
   "cell_type": "markdown",
   "metadata": {},
   "source": [
    "An abstact class in python is typically created to declare a set of methods that must be created in any child class build on top of this abstract clss. A xlass which contains one or more abstract methods os called an abstract class. whwewas an abstract method is a method that a declaration but does not have am implementation."
   ]
  },
  {
   "attachments": {},
   "cell_type": "markdown",
   "metadata": {},
   "source": [
    "\n",
    "## 2. What happens when a class statement&#39;s top level contains a basic assignment statement?   \n",
    "  ### Answere\n"
   ]
  },
  {
   "attachments": {},
   "cell_type": "markdown",
   "metadata": {},
   "source": [
    "When a class statement's top level contain a basic assignmrnt statement, its usally treated as a class level variable. where as assignment statements inside methods are treated as instance attributes or local attributes"
   ]
  },
  {
   "attachments": {},
   "cell_type": "markdown",
   "metadata": {},
   "source": [
    "\n",
    "## 3. Why does a class need to manually call a superclass's **`__init__`** method?    \n",
    " ### Answere\n"
   ]
  },
  {
   "attachments": {},
   "cell_type": "markdown",
   "metadata": {},
   "source": [
    "of a child class has **`__init__`**  method, then ot will not onherit the \"**`__init__`** \" method of the parent class or override the **`__init__`**  method of parent class. so we have to manually call a parent superclass's \"**`__init__`** \" using \"super()\" method."
   ]
  },
  {
   "cell_type": "code",
   "execution_count": 4,
   "metadata": {},
   "outputs": [
    {
     "name": "stdout",
     "output_type": "stream",
     "text": [
      "{'name': 'mD', 'age': 436873, 'salary': 5263}\n"
     ]
    }
   ],
   "source": [
    "class person:\n",
    "    def __init__(self, name, age):\n",
    "        self.name = name\n",
    "        self.age = age\n",
    "        \n",
    "    \n",
    "class emp(person):\n",
    "    def __init__(self,name,age,salary):\n",
    "        super().__init__(name,age)\n",
    "        self.salary = salary\n",
    "\n",
    "\n",
    "a = emp(\"mD\",436873,5263)\n",
    "print(a.__dict__)\n",
    "\n",
    "\n",
    "\n"
   ]
  },
  {
   "attachments": {},
   "cell_type": "markdown",
   "metadata": {},
   "source": [
    "\n",
    "## 4. How can you augment, instead of completely replacing, an inherited method?   \n",
    "  ### Answere\n"
   ]
  },
  {
   "attachments": {},
   "cell_type": "markdown",
   "metadata": {},
   "source": [
    "\"super()\" method can be used to arugumrnt instead of completely replacing, an inherited method.\n"
   ]
  },
  {
   "cell_type": "code",
   "execution_count": 5,
   "metadata": {},
   "outputs": [
    {
     "name": "stdout",
     "output_type": "stream",
     "text": [
      "{'name': 'mD', 'age': 436873, 'salary': 5263}\n"
     ]
    }
   ],
   "source": [
    "class DM:\n",
    "    def __init__(self,name,age):\n",
    "        self.name = name\n",
    "        self.age = age\n",
    "class MD(DM):\n",
    "    def __init__(self,name,age,salary):\n",
    "        super().__init__(name,age)\n",
    "        self.salary = salary\n",
    "A = MD(\"sdm\",3,43)\n",
    "print(a.__dict__)"
   ]
  },
  {
   "attachments": {},
   "cell_type": "markdown",
   "metadata": {},
   "source": [
    "\n",
    "## 5. How is the local scope of a class different from that of a function?   \n",
    "  ### Answere"
   ]
  },
  {
   "attachments": {},
   "cell_type": "markdown",
   "metadata": {},
   "source": [
    "A variable which is defined inside a function is local to that function. it is accesible from the point at which ot os defined until the end of the function, and exists for as ling as the funvtioms is existing.\n",
    "\n",
    "A variable inside of a class also has a local variable scopr. Variables which are defined in the class body are called as class level variables or class attributes, they can also be accessed from outside."
   ]
  },
  {
   "cell_type": "markdown",
   "metadata": {},
   "source": []
  }
 ],
 "metadata": {
  "kernelspec": {
   "display_name": "Python 3",
   "language": "python",
   "name": "python3"
  },
  "language_info": {
   "codemirror_mode": {
    "name": "ipython",
    "version": 3
   },
   "file_extension": ".py",
   "mimetype": "text/x-python",
   "name": "python",
   "nbconvert_exporter": "python",
   "pygments_lexer": "ipython3",
   "version": "3.10.0"
  },
  "orig_nbformat": 4
 },
 "nbformat": 4,
 "nbformat_minor": 2
}
