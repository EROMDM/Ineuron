{
 "cells": [
  {
   "attachments": {},
   "cell_type": "markdown",
   "metadata": {},
   "source": [
    "<h1 align=center><font size = 10>Full Stack Data Science BootCamp 2.0</font></h1>\n",
    "<h2 align=center><font size = 7>Python Advanced</font></h2>"
   ]
  },
  {
   "attachments": {},
   "cell_type": "markdown",
   "metadata": {},
   "source": [
    "<h3 align=left><font size = 5>Assignment_12</font></h3>\n",
    "<h4 align=left><font size = 4>Dnyaneshwar More</font></h4>"
   ]
  },
  {
   "attachments": {},
   "cell_type": "markdown",
   "metadata": {},
   "source": [
    "## Q1. \n",
    "Does assigning a value to a string&#39;s indexed character violate Python&#39;s string immutability?\n",
    "\n",
    "### Answere "
   ]
  },
  {
   "attachments": {},
   "cell_type": "markdown",
   "metadata": {},
   "source": [
    "String indexed character can not to be assgned a new value, as a string are immutable\n",
    "**`Example:`**"
   ]
  },
  {
   "cell_type": "code",
   "execution_count": 17,
   "metadata": {},
   "outputs": [
    {
     "name": "stdout",
     "output_type": "stream",
     "text": [
      "2394649012656\n"
     ]
    },
    {
     "ename": "TypeError",
     "evalue": "'str' object does not support item assignment",
     "output_type": "error",
     "traceback": [
      "\u001b[1;31m---------------------------------------------------------------------------\u001b[0m",
      "\u001b[1;31mTypeError\u001b[0m                                 Traceback (most recent call last)",
      "Cell \u001b[1;32mIn[17], line 3\u001b[0m\n\u001b[0;32m      1\u001b[0m name\u001b[39m=\u001b[39m \u001b[39m\"\u001b[39m\u001b[39mER0M_DM\u001b[39m\u001b[39m\"\u001b[39m\n\u001b[0;32m      2\u001b[0m \u001b[39mprint\u001b[39m(\u001b[39mid\u001b[39m(name)) \u001b[39m#2394649012656\u001b[39;00m\n\u001b[1;32m----> 3\u001b[0m name[\u001b[39m0\u001b[39;49m]\u001b[39m=\u001b[39m\u001b[39m\"\u001b[39m\u001b[39m2394649012656\u001b[39m\u001b[39m\"\u001b[39m \u001b[39m#Raises TypeError\u001b[39;00m\n",
      "\u001b[1;31mTypeError\u001b[0m: 'str' object does not support item assignment"
     ]
    }
   ],
   "source": [
    "name= \"ER0M_DM\"\n",
    "print(id(name)) #2394649012656\n",
    "name[0]=\"2394649012656\" #Raises TypeError"
   ]
  },
  {
   "cell_type": "markdown",
   "metadata": {},
   "source": [
    "## Q2. \n",
    "Does using the += operator to concatenate strings violate Python&#39;s string immutability? Why or\n",
    "why not?\n",
    "\n",
    "### Answere "
   ]
  },
  {
   "attachments": {},
   "cell_type": "markdown",
   "metadata": {},
   "source": [
    "`=+` operator is used to to concatenate string, does not violate Python's string immutability property. Because doing so new creates a new association with data and variable \n",
    "E.g.  str_1 = \"a\" and ste)1+=\"b\".\n",
    "        effect of this ststements to create string ab and reassign it to variable str_1, any string data is not actually modified."
   ]
  },
  {
   "cell_type": "code",
   "execution_count": null,
   "metadata": {},
   "outputs": [
    {
     "name": "stdout",
     "output_type": "stream",
     "text": [
      "2394593124976\n",
      "2394693622448\n"
     ]
    }
   ],
   "source": [
    "s='a'\n",
    "print(id(s))\n",
    "s+='b'\n",
    "print(id(s))"
   ]
  },
  {
   "cell_type": "markdown",
   "metadata": {},
   "source": [
    "## Q3. \n",
    "In Python, how many different ways are there to index a character?\n",
    "\n",
    "### Answere "
   ]
  },
  {
   "attachments": {},
   "cell_type": "markdown",
   "metadata": {},
   "source": [
    "A Character in string van be indexed using string name followed by index number of character in square bracket. **possitive indexing**   \n",
    "i.e.  \n",
    "  first index is 0 an so on  or\n",
    "**Negative indexing**   \n",
    "i.e.  \n",
    "    last laatter is -1 and so on can be used to index a character"
   ]
  },
  {
   "cell_type": "code",
   "execution_count": null,
   "metadata": {},
   "outputs": [
    {
     "name": "stdout",
     "output_type": "stream",
     "text": [
      "g e v\n",
      "m t r\n"
     ]
    }
   ],
   "source": [
    "ia = \"Never forget can't remember\"\n",
    "print(ia[9],ia[10],ia[2])\n",
    "print(ia[-6],ia[-10],ia[-1])"
   ]
  },
  {
   "cell_type": "markdown",
   "metadata": {},
   "source": [
    "## Q4. \n",
    "What is the relationship between indexing and slicing?\n",
    "\n",
    "### Answere "
   ]
  },
  {
   "attachments": {},
   "cell_type": "markdown",
   "metadata": {},
   "source": [
    "We can acces elements of sequences datatype by using slicing and indexing. indexing is used to obtaining individual element while slicing for sequence of elements."
   ]
  },
  {
   "cell_type": "code",
   "execution_count": null,
   "metadata": {},
   "outputs": [
    {
     "name": "stdout",
     "output_type": "stream",
     "text": [
      "g e v\n",
      "ever forget ca\n"
     ]
    }
   ],
   "source": [
    "ia = \"Never forget can't remember\"\n",
    "print(ia[9],ia[10],ia[2])\n",
    "print(ia[1:15])"
   ]
  },
  {
   "cell_type": "markdown",
   "metadata": {},
   "source": [
    "## Q5. \n",
    "What is an indexed character&#39;s exact data type? What is the data form of a slicing-generated\n",
    "substring?\n",
    "\n",
    "### Answere "
   ]
  },
  {
   "attachments": {},
   "cell_type": "markdown",
   "metadata": {},
   "source": [
    "Indexed characters and sliced substrings have datatype **String**"
   ]
  },
  {
   "cell_type": "code",
   "execution_count": null,
   "metadata": {},
   "outputs": [
    {
     "name": "stdout",
     "output_type": "stream",
     "text": [
      "<class 'str'>\n",
      "<class 'str'>\n"
     ]
    }
   ],
   "source": [
    "ia = \"Never forget can't remember\"\n",
    "print(type(ia[9]))\n",
    "print(type(ia[1:15]))"
   ]
  },
  {
   "cell_type": "markdown",
   "metadata": {},
   "source": [
    "## Q6. \n",
    "What is the relationship between string and character &quot;types&quot; in Python?\n",
    "\n",
    "### Answere "
   ]
  },
  {
   "attachments": {},
   "cell_type": "markdown",
   "metadata": {},
   "source": [
    "Objects that contains sequences of character datatype asre called string"
   ]
  },
  {
   "cell_type": "markdown",
   "metadata": {},
   "source": [
    "## Q7. \n",
    "Identify at least two operators and one method that allow you to combine one or more smaller\n",
    "strings to create a larger string.\n",
    "\n",
    "### Answere "
   ]
  },
  {
   "cell_type": "markdown",
   "metadata": {},
   "source": [
    "`+,+=and *` allows to combine one or more smaller strings to create a larger string.  \n",
    "`<string>.join(<sep>)` method joins elements of oterable type like list and tuple to get a combined string."
   ]
  },
  {
   "cell_type": "code",
   "execution_count": null,
   "metadata": {},
   "outputs": [
    {
     "name": "stdout",
     "output_type": "stream",
     "text": [
      "FSDS FSDS FSDS \n",
      "MorednyaneshwarFSDS\n",
      "I N E U R O N\n",
      "i n e u r o n\n"
     ]
    }
   ],
   "source": [
    "ins = \"More\"\n",
    "ins += \"dnyaneshwar\"\n",
    "print('FSDS '*3)\n",
    "print(ins + 'FSDS')\n",
    "print(\" \".join(['I','N','E','U','R','O','N']))\n",
    "print(\" \".join(['I','N','E','U','R','O','N']).lower())\n"
   ]
  },
  {
   "cell_type": "markdown",
   "metadata": {},
   "source": [
    "## Q8. \n",
    "What is the benefit of first checking the target string with in or not in before using the index\n",
    "method to find a substring?\n",
    "\n",
    "### Answere "
   ]
  },
  {
   "attachments": {},
   "cell_type": "markdown",
   "metadata": {},
   "source": [
    "Checking the target string with **in** or **not** Operators before using the index methods to find substring just helps conforming avalability of substring and thus avoid raising of ValueErrpe.\n",
    "\n",
    "**`Example:`**    \n",
    "`in_string = \"ineuron\"`  \n",
    "`in_string.index('x') # Raises ValueError`  \n",
    "`in_string.index('u') # 3` \n"
   ]
  },
  {
   "cell_type": "markdown",
   "metadata": {},
   "source": [
    "## Q9. \n",
    "Which operators and built-in string methods produce simple Boolean (true/false) results?\n",
    "### Answere  "
   ]
  },
  {
   "attachments": {},
   "cell_type": "markdown",
   "metadata": {},
   "source": [
    "The string Operators and build-in-methods to Produce Simple boolean result are:\n"
   ]
  },
  {
   "attachments": {},
   "cell_type": "markdown",
   "metadata": {},
   "source": [
    "- **`in`**\n",
    "- **`not`**\n",
    "- **`<string>.isalpha()`**\n",
    "- **`<string>.isalnum()`**\n",
    "- **`<string>.isdecimal()`**\n",
    "- **`<string>.isdigit()`**\n",
    "- **`<string>.islower()`**\n",
    "- **`<string>.isnumeric()`**\n",
    "- **`<string>.isprintable()`**\n",
    "- **`<string>.isspace()`**\n",
    "- **`<string>.istitle()`**"
   ]
  },
  {
   "attachments": {},
   "cell_type": "markdown",
   "metadata": {},
   "source": [
    "Thank You"
   ]
  },
  {
   "cell_type": "markdown",
   "metadata": {},
   "source": []
  }
 ],
 "metadata": {
  "kernelspec": {
   "display_name": "Python 3",
   "language": "python",
   "name": "python3"
  },
  "language_info": {
   "codemirror_mode": {
    "name": "ipython",
    "version": 3
   },
   "file_extension": ".py",
   "mimetype": "text/x-python",
   "name": "python",
   "nbconvert_exporter": "python",
   "pygments_lexer": "ipython3",
   "version": "3.10.0"
  },
  "orig_nbformat": 4
 },
 "nbformat": 4,
 "nbformat_minor": 2
}
