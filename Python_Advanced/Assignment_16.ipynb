{
 "cells": [
  {
   "attachments": {},
   "cell_type": "markdown",
   "metadata": {},
   "source": [
    "<h1 align=center><font size = 10>Full Stack Data Science BootCamp 2.0</font></h1>\n",
    "<h2 align=center><font size = 7>Python Advanced</font></h2>"
   ]
  },
  {
   "attachments": {},
   "cell_type": "markdown",
   "metadata": {},
   "source": [
    "<h3 align=left><font size = 5>Assignment_16</font></h3>\n",
    "<h4 align=left><font size = 4>Dnyaneshwar More</font></h4>"
   ]
  },
  {
   "attachments": {},
   "cell_type": "markdown",
   "metadata": {},
   "source": [
    "\n",
    "## Q1. \n",
    "What is the benefit of regular expressions?\n",
    "\n",
    "### Answere "
   ]
  },
  {
   "attachments": {},
   "cell_type": "markdown",
   "metadata": {},
   "source": [
    "Regukar Expression, alsp known as `regex or regexp`, are used to match strings of text suxg as particular caharcters, words, pattern of characters mean that we can match and extract any string pattern from the text with the helps of ragular expression . it helps the programmers to Write less and cleaner code. it also avoids multiple use of __`if/else`__ statements"
   ]
  },
  {
   "cell_type": "markdown",
   "metadata": {},
   "source": [
    "## Q2. \n",
    "Describe the difference between the effects of &quot;(ab)c+&quot; and &quot;a(bc)+.&quot; Which of these, if any, is the\n",
    "unqualified pattern &quot;abc+&quot;?\n",
    "\n",
    "### Answere "
   ]
  },
  {
   "attachments": {},
   "cell_type": "markdown",
   "metadata": {},
   "source": [
    "Both (ab)c+ and a(bc)+ are valid patterns the difference between both these patterns is in `(ab)c+ ab` is whwares a(bc)+bc is a group "
   ]
  },
  {
   "attachments": {},
   "cell_type": "markdown",
   "metadata": {},
   "source": [
    " ## Q3. \n",
    "How much do you need to use the following sentence while using regular expressions?\n",
    "\n",
    "import re\n",
    "\n",
    "### Answere "
   ]
  },
  {
   "cell_type": "code",
   "execution_count": 1,
   "metadata": {},
   "outputs": [],
   "source": [
    "import re"
   ]
  },
  {
   "attachments": {},
   "cell_type": "markdown",
   "metadata": {},
   "source": [
    "__`import re  `__ statement always has to br impotyrf before using regular expression"
   ]
  },
  {
   "cell_type": "markdown",
   "metadata": {},
   "source": [
    "## Q4. \n",
    "Which characters have special significance in square brackets when expressing a range, and\n",
    "under what circumstances?\n",
    "\n",
    "### Answere "
   ]
  },
  {
   "attachments": {},
   "cell_type": "markdown",
   "metadata": {},
   "source": [
    "The character .,*,?,^ or () have a special signiface when used with square brackets. They need not be wsplicily escaped by \\ as in case of pattern texts in a row string"
   ]
  },
  {
   "cell_type": "markdown",
   "metadata": {},
   "source": [
    "## Q5. \n",
    "How does compiling a regular-expression object benefit you?\n",
    "\n",
    "### Answere "
   ]
  },
  {
   "attachments": {},
   "cell_type": "markdown",
   "metadata": {},
   "source": [
    "We Combine a regular expression pattern in to pattern Objects. Which can be used for pattern again without rewritting it."
   ]
  },
  {
   "cell_type": "markdown",
   "metadata": {},
   "source": [
    "## Q6. \n",
    "What are some examples of how to use the match object returned by re.match and re.search?\n",
    "\n",
    "### Answere "
   ]
  },
  {
   "attachments": {},
   "cell_type": "markdown",
   "metadata": {},
   "source": [
    "The `re.search() and re.match()` both are functions of re module in python. These functions are very efficent and fast for searching in strings. The function searches amd returms a match objrct if found, else it returns none."
   ]
  },
  {
   "attachments": {},
   "cell_type": "markdown",
   "metadata": {},
   "source": [
    "These diffrent between the use of both functions. Both returns the fist match of a substring found in the string. but `re.match` searches only from the begining of the string amd return match objrct of found But if a match of substring is found somewhere in the middle of the string ot returns mone"
   ]
  },
  {
   "attachments": {},
   "cell_type": "markdown",
   "metadata": {},
   "source": [
    "whilw __`re,search()`__ searches for the whole string even if the string contains multi-lines and tries to find a match of the substeing in all the lines of string"
   ]
  },
  {
   "cell_type": "code",
   "execution_count": 2,
   "metadata": {},
   "outputs": [
    {
     "name": "stdout",
     "output_type": "stream",
     "text": [
      "<re.Match object; span=(30, 32), match='dm'>\n"
     ]
    }
   ],
   "source": [
    "import re\n",
    "s = \"DM\"\n",
    "s1 =\" we lwarning regex wirh hello dm\"\n",
    "s2 =\"DM string we are learning regex with \"\n",
    "print(re.search(s,s1,re.IGNORECASE))"
   ]
  },
  {
   "cell_type": "code",
   "execution_count": 3,
   "metadata": {},
   "outputs": [
    {
     "name": "stdout",
     "output_type": "stream",
     "text": [
      "None\n",
      "<re.Match object; span=(0, 2), match='DM'>\n",
      "<re.Match object; span=(0, 2), match='DM'>\n"
     ]
    }
   ],
   "source": [
    "print(re.match(s, s1, re.IGNORECASE))\n",
    "print(re.search(s ,s2, re.IGNORECASE))\n",
    "print(re.match(s, s2, re.IGNORECASE))"
   ]
  },
  {
   "cell_type": "markdown",
   "metadata": {},
   "source": [
    "## Q7. \n",
    "What is the difference between using a vertical bar (|) as an alteration and using square brackets\n",
    "as a character set?\n",
    "\n",
    "### Answere "
   ]
  },
  {
   "attachments": {},
   "cell_type": "markdown",
   "metadata": {},
   "source": [
    "When `|` us used then pattern searches for `or` option i.e <pattern_1>|<pattern_2> means it searches as <pattern_1>or<pattern_2> in the searched string. fist occurance of matched string will be returned as the Match Objects. Using Characters set in sequare Brackets searched for all the character set in the square set in the square breackets and if match is found it returns it."
   ]
  },
  {
   "cell_type": "markdown",
   "metadata": {},
   "source": [
    "## Q8. \n",
    "In regular-expression search patterns, why is it necessary to use the raw-string indicator (r)? In  \n",
    "replacement strings?\n",
    "### Answere "
   ]
  },
  {
   "attachments": {},
   "cell_type": "markdown",
   "metadata": {},
   "source": [
    "Raw strings are used in the regular expression search pattern so that blackslahes do not have to be escaped."
   ]
  },
  {
   "cell_type": "markdown",
   "metadata": {},
   "source": []
  }
 ],
 "metadata": {
  "kernelspec": {
   "display_name": "Python 3",
   "language": "python",
   "name": "python3"
  },
  "language_info": {
   "codemirror_mode": {
    "name": "ipython",
    "version": 3
   },
   "file_extension": ".py",
   "mimetype": "text/x-python",
   "name": "python",
   "nbconvert_exporter": "python",
   "pygments_lexer": "ipython3",
   "version": "3.10.0"
  },
  "orig_nbformat": 4
 },
 "nbformat": 4,
 "nbformat_minor": 2
}
