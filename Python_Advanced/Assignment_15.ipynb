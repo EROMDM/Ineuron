{
 "cells": [
  {
   "attachments": {},
   "cell_type": "markdown",
   "metadata": {},
   "source": [
    "<h1 align=center><font size = 10>Full Stack Data Science BootCamp 2.0</font></h1>\n",
    "<h2 align=center><font size = 7>Python Advanced</font></h2>"
   ]
  },
  {
   "attachments": {},
   "cell_type": "markdown",
   "metadata": {},
   "source": [
    "<h3 align=left><font size = 5>Assignment_15</font></h3>\n",
    "<h4 align=left><font size = 4>Dnyaneshwar More</font></h4>"
   ]
  },
  {
   "attachments": {},
   "cell_type": "markdown",
   "metadata": {},
   "source": [
    "## 1. \n",
    "What are the new features added in Python 3.8 version?\n",
    "### Answere "
   ]
  },
  {
   "attachments": {},
   "cell_type": "markdown",
   "metadata": {},
   "source": [
    "Some New Features Added in Python 3.8 Version are:\n",
    "\n",
    "**Walrus Operator:** This operator is used to assign and return a value in the same expression. This removes the need for initializing the variable upfront. The major benefit of this is it\n",
    "saves some lines of code. It is also known as **`The Walrus Operator`** due to its similarity to the eyes and tusks of a walrus.\n",
    "\n",
    "**`yield`** and **`return`** statements do not require parentheses to return multiple values. \n",
    "\n",
    "Reversed works with a dictionary. The built-in method **`reversed()`** can be used for accessing the elements in the reverse order of insertion\n",
    "\n",
    "**Dict comprehensions** have been modified so that the key is computed first and the value second. \n",
    "\n",
    "\n",
    "**`importlib_metadata`** is a new library added in the Python’s standard utility modules, that provides an API for accessing an installed package’s metadata, such as its entry points or its top-level name.\n",
    "\n",
    "f-strings now support **`=`** , to make string interpolation easy. Python 3.8 allows the use of the above-discussed assignment operator and equal sign **`(=)`** inside the f-strings. \n",
    "\n",
    "In the three-argument form of **`pow()`**, when the exponent is -1, it calculates the modular multiplicative inverse of the given value\n",
    "\n",
    "The **`csv.DictReader`** now returns instances of dictionary instead of a **`collections.OrderedDict`**. \n",
    "\n",
    "If you miss a comma in your code such as a = **`[(1, 2) (3, 4)]`**, instead of throwing **`TypeError`**, it displays an informative Syntax warning. "
   ]
  },
  {
   "cell_type": "code",
   "execution_count": 8,
   "metadata": {},
   "outputs": [
    {
     "name": "stdout",
     "output_type": "stream",
     "text": [
      "15\n"
     ]
    }
   ],
   "source": [
    "# example of Walrus Operator \n",
    "if (sum := 10+5)>10:\n",
    "    print(sum)"
   ]
  },
  {
   "cell_type": "code",
   "execution_count": 9,
   "metadata": {},
   "outputs": [
    {
     "name": "stdout",
     "output_type": "stream",
     "text": [
      "('Hello', 'Good morning')\n"
     ]
    }
   ],
   "source": [
    "# Example of yeild and return\n",
    "def hello():\n",
    "    return 'Hello','Good morning'\n",
    "print(hello())"
   ]
  },
  {
   "cell_type": "code",
   "execution_count": 10,
   "metadata": {},
   "outputs": [
    {
     "name": "stdout",
     "output_type": "stream",
     "text": [
      "(0, 0) (1, 1) (2, 4) (3, 9) (4, 16) "
     ]
    }
   ],
   "source": [
    "def count():\n",
    "    for i in range(5):\n",
    "        yield i, i**2\n",
    "for i in count():\n",
    "    print(i,end=\" \")"
   ]
  },
  {
   "cell_type": "code",
   "execution_count": 11,
   "metadata": {},
   "outputs": [
    {
     "name": "stdout",
     "output_type": "stream",
     "text": [
      "Role:\"Data Scientist\"\n",
      "Name:\"Mano Vishnu\"\n"
     ]
    }
   ],
   "source": [
    "# Example of Revesed support for dict\n",
    "t ={\"Name\":\"Mano Vishnu\",\"Role\":\"Data Scientist\"}\n",
    "for i in reversed(t):\n",
    "    print(f'{i}:\"{t[i]}\"')"
   ]
  },
  {
   "cell_type": "code",
   "execution_count": 12,
   "metadata": {},
   "outputs": [
    {
     "name": "stdout",
     "output_type": "stream",
     "text": [
      "the length of string isa =29\n"
     ]
    }
   ],
   "source": [
    "a = len(\"Never forget can not ramember\")\n",
    "print(f'the length of string is {a =}')"
   ]
  },
  {
   "cell_type": "code",
   "execution_count": 14,
   "metadata": {},
   "outputs": [
    {
     "data": {
      "text/plain": [
       "[(1, 4), (5, 6)]"
      ]
     },
     "execution_count": 14,
     "metadata": {},
     "output_type": "execute_result"
    }
   ],
   "source": [
    "r = [(1,4),(5,6)]\n",
    "r"
   ]
  },
  {
   "cell_type": "markdown",
   "metadata": {},
   "source": [
    "## 2.\n",
    " What is monkey patching in Python?\n",
    "### Answere "
   ]
  },
  {
   "attachments": {},
   "cell_type": "markdown",
   "metadata": {},
   "source": [
    "In Python, the term monkey patch refers to making dynamic modification to a class or module. In python, we can actually change the behaviour of code at run-time"
   ]
  },
  {
   "cell_type": "code",
   "execution_count": 2,
   "metadata": {},
   "outputs": [
    {
     "name": "stdout",
     "output_type": "stream",
     "text": [
      " mf is being called\n"
     ]
    }
   ],
   "source": [
    "class a:\n",
    "    def f(self):\n",
    "        print(\"fuc is being called\")\n",
    "def mf(self):\n",
    "    print(\" mf is being called\")\n",
    "\n",
    "a.f = mf\n",
    "so =a()\n",
    "so.f()"
   ]
  },
  {
   "cell_type": "markdown",
   "metadata": {},
   "source": [
    "## 3. \n",
    "What is the difference between a shallow copy and deep copy?\n",
    "### Answere "
   ]
  },
  {
   "attachments": {},
   "cell_type": "markdown",
   "metadata": {},
   "source": [
    "The differce between shallow copy and deep copy \n",
    "\n",
    "When an objrct is copied using __copy()__ it is called shallow copy as cahnfes made in copied obhet will also make corresponding changes in orignal objct. because both the objects willl be refrencing same address location\n",
    "\n",
    "\n",
    "When an objects is copied using __deepcopy()__, ot is called deep copy as changes made in copied object will not make corresponding changes in orignal objects, becausee both objects will not be referncing same address location."
   ]
  },
  {
   "cell_type": "code",
   "execution_count": null,
   "metadata": {},
   "outputs": [],
   "source": []
  },
  {
   "cell_type": "code",
   "execution_count": 5,
   "metadata": {},
   "outputs": [
    {
     "name": "stdout",
     "output_type": "stream",
     "text": [
      " orignal Elemrnts of eacj list [1, 2, [2, 3], 5, 6] \n",
      " [1, 2, [2, 3], 5, 6] \n",
      " [1, 2, [2, 3], 5, 6]\n"
     ]
    }
   ],
   "source": [
    "from copy import deepcopy,copy\n",
    "\n",
    "a = [1,2,[2,3],5,6]\n",
    "s = deepcopy(a)\n",
    "d = a\n",
    "print(f\" orignal Elemrnts of eacj list {a} \\n {s} \\n {d}\")"
   ]
  },
  {
   "cell_type": "code",
   "execution_count": 6,
   "metadata": {},
   "outputs": [
    {
     "name": "stdout",
     "output_type": "stream",
     "text": [
      " new Elemrnts of eacj list [1, 2, [2, 3], 5, 20] \n",
      " [10, 2, [2, 3], 5, 6] \n",
      " [1, 2, [2, 3], 5, 20]\n"
     ]
    }
   ],
   "source": [
    "s[0]=10\n",
    "d[-1]= 20\n",
    "print(f\" new Elemrnts of eacj list {a} \\n {s} \\n {d}\")"
   ]
  },
  {
   "cell_type": "markdown",
   "metadata": {},
   "source": [
    "## 4. \n",
    "What is the maximum possible length of an identifier?\n",
    "### Answere "
   ]
  },
  {
   "attachments": {},
   "cell_type": "markdown",
   "metadata": {},
   "source": [
    "In Python, the highest possible length of an identifier is 79 characters. Pyhton os a high level programming language. It's also a complex from and collector of waste.\n",
    "\n",
    "- Pyhton particularly whrn combined with identifiers, is case sensitive.\n",
    "- When writing or using identifiers in Python ot has a macimum of 79 characters.\n",
    "- Unlike Pyhton gives the identifiers unlimited length.\n",
    "- However, the layout of PEP-8 prevents the user fron vreaking the rules and includes a 79- character linmit."
   ]
  },
  {
   "cell_type": "markdown",
   "metadata": {},
   "source": [
    "## 5. \n",
    "What is generator comprehension?\n",
    "### Answere "
   ]
  },
  {
   "attachments": {},
   "cell_type": "markdown",
   "metadata": {},
   "source": [
    "A generator comprehension is a single-line specification for defining a generator in Python.\n",
    "\n",
    "- It is absolutly essemtial to learn this syntax in order to weite simple and radable code.\n",
    "- Generator comprehension uses round bracket unlike square bracket in list comprehension.\n",
    "- The generaor yields one item at a time and generates item only when in demand, Whereas, in a list comprehention Pyhton raverce memoru for the whole list. Thus we can say that the genertor ecpressions are memoru efficient than the list."
   ]
  },
  {
   "cell_type": "code",
   "execution_count": 4,
   "metadata": {},
   "outputs": [
    {
     "name": "stdout",
     "output_type": "stream",
     "text": [
      "[0, 1, 2, 3, 4, 5, 6, 7, 8, 9]\n",
      "<generator object <genexpr> at 0x000001AA3E1BBDF0>\n",
      "0 2 4 6 8 "
     ]
    }
   ],
   "source": [
    "a = [i for i in range(10)]\n",
    "print(a)\n",
    "f=(i for i in a if i%2 == 0)\n",
    "print(f)\n",
    "for i in f:\n",
    "    print(i, end=\" \")"
   ]
  },
  {
   "cell_type": "code",
   "execution_count": null,
   "metadata": {},
   "outputs": [],
   "source": []
  }
 ],
 "metadata": {
  "kernelspec": {
   "display_name": "Python 3",
   "language": "python",
   "name": "python3"
  },
  "language_info": {
   "codemirror_mode": {
    "name": "ipython",
    "version": 3
   },
   "file_extension": ".py",
   "mimetype": "text/x-python",
   "name": "python",
   "nbconvert_exporter": "python",
   "pygments_lexer": "ipython3",
   "version": "3.10.0"
  },
  "orig_nbformat": 4
 },
 "nbformat": 4,
 "nbformat_minor": 2
}
