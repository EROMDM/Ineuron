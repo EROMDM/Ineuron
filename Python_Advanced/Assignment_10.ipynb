{
 "cells": [
  {
   "attachments": {},
   "cell_type": "markdown",
   "metadata": {},
   "source": [
    "<h1 align=center><font size = 10>Full Stack Data Science BootCamp 2.0</font></h1>\n",
    "<h2 align=center><font size = 7>Python Advanced</font></h2>"
   ]
  },
  {
   "attachments": {},
   "cell_type": "markdown",
   "metadata": {},
   "source": [
    "<h3 align=left><font size = 5>Assignment_10</font></h3>\n",
    "<h4 align=left><font size = 4>Dnyaneshwar More</font></h4>"
   ]
  },
  {
   "attachments": {},
   "cell_type": "markdown",
   "metadata": {},
   "source": [
    "##  Q1. \n",
    "What is the difference between __getattr__ and __getattribute__?\n",
    "\n",
    "### Answere "
   ]
  },
  {
   "attachments": {},
   "cell_type": "markdown",
   "metadata": {},
   "source": [
    "getattribute:- is used to retrive an attribute from an instance. getattr .\n",
    "\n",
    " getattr:- is executed as the last resource when attribute is not found in an object"
   ]
  },
  {
   "cell_type": "markdown",
   "metadata": {},
   "source": [
    "## Q2. \n",
    "What is the difference between properties and descriptors?\n",
    "\n",
    "### Answere "
   ]
  },
  {
   "attachments": {},
   "cell_type": "markdown",
   "metadata": {},
   "source": []
  },
  {
   "attachments": {},
   "cell_type": "markdown",
   "metadata": {},
   "source": [
    "The difference between properties and Description is:\n",
    "\n",
    "__`properties`__ with properties we can bind greater, setter and delete functions together with and attribute name, using the bilt-in property functions @property decorater . when we do this each refrence to an attribute loojs like simple direct access but involes the appropriate functions of the object.\n",
    "\n",
    "__`Discriptor`__ With Descriptor we can bind getter setter and delete functions tnto a seperate class. we then assign an objrct of this class to the attribute name on our main class. when do this each reference to an attribute liik like simple direct access but invokes an appropriate function of descriptor object."
   ]
  },
  {
   "cell_type": "markdown",
   "metadata": {},
   "source": [
    "## Q3. \n",
    "What are the key differences in functionality between __getattr__ and __getattribute__, as well as\n",
    "properties and descriptors?\n",
    "### Answere "
   ]
  },
  {
   "attachments": {},
   "cell_type": "markdown",
   "metadata": {},
   "source": [
    "The key differences getween getattr and getattribute properties and descriptors are:\n",
    "\n",
    "`getattr` : Python will call thos method whenever you request an attribyte that hasn't alerady defined \n",
    "\n",
    "\n",
    "`getattribute` : This method will invoked before looking at actual attributes on the objects. Mean id we have getattributes method in our class. python invokes this method for every attribute regardless whether it exists or not.\n",
    "\n",
    "\n",
    "\n",
    "\n",
    "Properties: With Properties we can bind getter, setter and delete functions together with an attribute name, using the built-in property function or @property decorator. When we do this, each reference to an attribute looks like simple, direct access, but involes the appropriate function of the object.\n",
    "\n",
    "Descriptor: With Descriptor we can bind getter, setter and delete functions into a seperate class. we then assign an object of this class to the attribute name in our main class. When we do this, each reference to an attribute looks like simple, direct access but invokes an appropriate function of descriptor object.\n"
   ]
  },
  {
   "attachments": {},
   "cell_type": "markdown",
   "metadata": {},
   "source": [
    "Ok Print"
   ]
  },
  {
   "cell_type": "markdown",
   "metadata": {},
   "source": []
  }
 ],
 "metadata": {
  "language_info": {
   "name": "python"
  },
  "orig_nbformat": 4
 },
 "nbformat": 4,
 "nbformat_minor": 2
}
