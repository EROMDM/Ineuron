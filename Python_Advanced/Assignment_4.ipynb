{
 "cells": [
  {
   "attachments": {},
   "cell_type": "markdown",
   "metadata": {},
   "source": [
    "<h1 align=center><font size = 10>Full Stack Data Science BootCamp 2.0</font></h1>\n",
    "<h2 align=center><font size = 7>Python Advanced</font></h2>"
   ]
  },
  {
   "attachments": {},
   "cell_type": "markdown",
   "metadata": {},
   "source": [
    "<h3 align=left><font size = 5>Assignment_4</font></h3>\n",
    "<h4 align=left><font size = 4>Dnyaneshwar More</font></h4>"
   ]
  },
  {
   "attachments": {},
   "cell_type": "markdown",
   "metadata": {},
   "source": [
    "  ## Q1. Which two operator overloading methods can you use in your classes to support iteration?\n",
    "\n",
    "### Answere     "
   ]
  },
  {
   "attachments": {},
   "cell_type": "markdown",
   "metadata": {},
   "source": [
    "\"`__inter__`\"and `__next--` are the operator overloading methods in python that support iteration and are collectively called iterati=or protocal.\n",
    "`__iter__` returns the iterator obhrct and is called at the start of loop on our respective class\n",
    "`__nect__` is called at each loop increment, it returns the incremented value. also stoopiteration is raised when there is no value to return."
   ]
  },
  {
   "cell_type": "markdown",
   "metadata": {},
   "source": [
    "  ## Q2. In what contexts do the two operator overloading methods manage printing?\n",
    "\n",
    "### Answere     "
   ]
  },
  {
   "attachments": {},
   "cell_type": "markdown",
   "metadata": {},
   "source": [
    "`__ste__` and `__repr__` are two oprator overloading methods that manage printing."
   ]
  },
  {
   "cell_type": "markdown",
   "metadata": {},
   "source": [
    "  ## Q3. In a class, how do you intercept slice operations?\n",
    "\n",
    "### Answere     "
   ]
  },
  {
   "attachments": {},
   "cell_type": "markdown",
   "metadata": {},
   "source": [
    "slice is a cinstructor in Python that creates slice object to represent set of indices that the range specifies `__getitems__`method can be implimentation in a class, ans the behavior of slicing can be defining inside it."
   ]
  },
  {
   "cell_type": "markdown",
   "metadata": {},
   "source": [
    "  ## Q4. In a class, how do you capture in-place addition?\n",
    "\n",
    "### Answere     "
   ]
  },
  {
   "attachments": {},
   "cell_type": "markdown",
   "metadata": {},
   "source": [
    "a+=b is inpace addition operation in this inplace addition \"a\" itset will store the value of addition in a class `__iadd__` method is used for this in-place operation"
   ]
  },
  {
   "cell_type": "markdown",
   "metadata": {},
   "source": [
    "  ## Q5. When is it appropriate to use operator overloading?\n",
    "### Answere     "
   ]
  },
  {
   "attachments": {},
   "cell_type": "markdown",
   "metadata": {},
   "source": [
    "Operator overloadig means giving ectended meaning veyond their predefined operational meaining. for example operator + is used to add two integer as erll as join two things and merge two lists it is achievable because + ooperator is overloaded by int class and str class"
   ]
  },
  {
   "cell_type": "code",
   "execution_count": 6,
   "metadata": {},
   "outputs": [
    {
     "name": "stdout",
     "output_type": "stream",
     "text": [
      "6\n",
      "Hellodnyanu\n",
      "6\n",
      "Hellodnyanu\n",
      "6\n",
      "Hellodnyanu\n"
     ]
    }
   ],
   "source": [
    "class l:\n",
    "    def __init__(self,a):\n",
    "        self.a = a\n",
    "\n",
    "    def __add__(self,o):\n",
    "        return self.a+o.a\n",
    "\n",
    "q= l(2)\n",
    "w = l(4)\n",
    "s= l(\"Hello\")\n",
    "d= l(\"dnyanu\")\n",
    "\n",
    "print(q+w)\n",
    "print(s+d)\n",
    "\n",
    "print(l.__add__(q , w))\n",
    "print(l.__add__(s,d))\n",
    "#And can also be Understand as :\n",
    "print(q.__add__(w))\n",
    "print(s.__add__(d))\n"
   ]
  },
  {
   "cell_type": "code",
   "execution_count": null,
   "metadata": {},
   "outputs": [],
   "source": []
  }
 ],
 "metadata": {
  "kernelspec": {
   "display_name": "Python 3",
   "language": "python",
   "name": "python3"
  },
  "language_info": {
   "codemirror_mode": {
    "name": "ipython",
    "version": 3
   },
   "file_extension": ".py",
   "mimetype": "text/x-python",
   "name": "python",
   "nbconvert_exporter": "python",
   "pygments_lexer": "ipython3",
   "version": "3.10.0"
  },
  "orig_nbformat": 4
 },
 "nbformat": 4,
 "nbformat_minor": 2
}
