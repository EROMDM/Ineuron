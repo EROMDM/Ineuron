{
 "cells": [
  {
   "attachments": {},
   "cell_type": "markdown",
   "metadata": {},
   "source": [
    "<h1 align=center><font size = 10>Full Stack Data Science BootCamp 2.0</font></h1>\n",
    "<h2 align=center><font size = 7>Python Advanced</font></h2>"
   ]
  },
  {
   "attachments": {},
   "cell_type": "markdown",
   "metadata": {},
   "source": [
    "<h3 align=left><font size = 5>Assignment_</font></h3>\n",
    "<h4 align=left><font size = 4>Dnyaneshwar More</font></h4>"
   ]
  },
  {
   "attachments": {},
   "cell_type": "markdown",
   "metadata": {},
   "source": [
    "## Q1. What is the distinction between a numpy array and a pandas data frame  ? Is there a way to convert between the two if there is  ?  \n",
    "**`Ans`**\n"
   ]
  },
  {
   "attachments": {},
   "cell_type": "markdown",
   "metadata": {},
   "source": [
    "numpy nd array provides a lot of convenient and optimized methods  for performing several mathematical oprations on vectors.\n",
    "\n",
    "pandas dataframe is an memory 2 dimentional tabuler representation of data. In simpler words it can be seen as a spreadsheet having roes and columns.\n",
    "\n",
    "Conversion : `Dataframe=pandas.Dataframe(array)`"
   ]
  },
  {
   "attachments": {},
   "cell_type": "markdown",
   "metadata": {},
   "source": [
    "\n",
    "## Q2. What can go wrong when an user enters in a stock-ticker symbol, and how do you handle it  ?\n",
    "  **`Ans`**\n"
   ]
  },
  {
   "attachments": {},
   "cell_type": "markdown",
   "metadata": {},
   "source": [
    "\n",
    "## Q3. Identify some of the plotting techniQues that are used to produce a stock-market chart.\n",
    "  **`Ans`**\n"
   ]
  },
  {
   "attachments": {},
   "cell_type": "markdown",
   "metadata": {},
   "source": [
    "Bar cahrt, Line chart, are used plotting"
   ]
  },
  {
   "attachments": {},
   "cell_type": "markdown",
   "metadata": {},
   "source": [
    "\n",
    "## Q4. Why is it essential to print a legend on a stock market chart  ? \n",
    " **`Ans`**\n"
   ]
  },
  {
   "attachments": {},
   "cell_type": "markdown",
   "metadata": {},
   "source": [
    "Legend will help comparison between diffrent stocks so will be essential on a stock market chart"
   ]
  },
  {
   "attachments": {},
   "cell_type": "markdown",
   "metadata": {},
   "source": [
    "\n",
    "## Q5. What is the best way to limit the length of a pandas data frame to less than a year  ? \n",
    " **`Ans`**\n"
   ]
  },
  {
   "attachments": {},
   "cell_type": "markdown",
   "metadata": {},
   "source": [
    "We can used start and end parameter for that. in start we write the date from where we are standing and at the end we write the end date. So within this span we can restrict the duration Also we can use the parameters like periods for how much times we need the duration and we can also use the frequency parameter."
   ]
  },
  {
   "attachments": {},
   "cell_type": "markdown",
   "metadata": {},
   "source": [
    "\n",
    "## Q6. What is the definition of a 180-day moving average  ? \n",
    " **`Ans`**\n"
   ]
  },
  {
   "attachments": {},
   "cell_type": "markdown",
   "metadata": {},
   "source": [
    "\n",
    "## Q7. Did the chapter's final example use \"indirect\" importing  ?  If so, how exactly do you do it  ?\n",
    "  **`Ans`**"
   ]
  },
  {
   "attachments": {},
   "cell_type": "markdown",
   "metadata": {},
   "source": [
    "The 180-day moving average is represented as a line on chart and represents the average price over the past 180 days the moving average can give traders a sense trgarding whether the trend is up or down,while also identifying the potential support or resistance areas."
   ]
  },
  {
   "attachments": {},
   "cell_type": "markdown",
   "metadata": {},
   "source": [
    "\n",
    "\n",
    "\n"
   ]
  },
  {
   "cell_type": "markdown",
   "metadata": {},
   "source": []
  }
 ],
 "metadata": {
  "kernelspec": {
   "display_name": "Python 3",
   "language": "python",
   "name": "python3"
  },
  "language_info": {
   "name": "python",
   "version": "3.10.0"
  },
  "orig_nbformat": 4
 },
 "nbformat": 4,
 "nbformat_minor": 2
}
