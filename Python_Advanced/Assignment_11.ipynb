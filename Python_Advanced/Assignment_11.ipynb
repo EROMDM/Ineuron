{
 "cells": [
  {
   "attachments": {},
   "cell_type": "markdown",
   "metadata": {},
   "source": [
    "<h1 align=center><font size = 10>Full Stack Data Science BootCamp 2.0</font></h1>\n",
    "<h2 align=center><font size = 7>Python Advanced</font></h2>"
   ]
  },
  {
   "attachments": {},
   "cell_type": "markdown",
   "metadata": {},
   "source": [
    "<h3 align=left><font size = 5>Assignment_</font></h3>\n",
    "<h4 align=left><font size = 4>Dnyaneshwar More</font></h4>"
   ]
  },
  {
   "attachments": {},
   "cell_type": "markdown",
   "metadata": {},
   "source": [
    "##  Q1. \n",
    "What is the concept of a metaclass?\n",
    "\n",
    "### Answere "
   ]
  },
  {
   "attachments": {},
   "cell_type": "markdown",
   "metadata": {},
   "source": [
    "Metaclass in Python is a class of a class that defines hoe a class behaves, A class is itself a instance of Metaclass, and any instance of class in Python is an instance of type metaclass \n",
    "eg.  \n",
    "type of **`int,str,tupple,float,list`** and many more is of metaclass type"
   ]
  },
  {
   "cell_type": "markdown",
   "metadata": {},
   "source": [
    "##  Q2.\n",
    " What is the best way to declare a class&#39;s metaclass?\n",
    "\n",
    "### Answere "
   ]
  },
  {
   "attachments": {},
   "cell_type": "markdown",
   "metadata": {},
   "source": [
    "A way of declare calss metaclass is by using `metaclass` keyword in class defination."
   ]
  },
  {
   "cell_type": "code",
   "execution_count": 1,
   "metadata": {},
   "outputs": [
    {
     "name": "stdout",
     "output_type": "stream",
     "text": [
      "<class 'type'>\n",
      "<class '__main__.met'>\n"
     ]
    }
   ],
   "source": [
    "class met(type):\n",
    "    pass\n",
    "class meta(metaclass=met):\n",
    "    pass\n",
    "\n",
    "print(type(met))\n",
    "print(type(meta))"
   ]
  },
  {
   "cell_type": "markdown",
   "metadata": {},
   "source": [
    "##  Q3. \n",
    "How do class decorators overlap with metaclasses for handling classes?\n",
    "\n",
    "### Answere "
   ]
  },
  {
   "attachments": {},
   "cell_type": "markdown",
   "metadata": {},
   "source": [
    "Anything you can do with a class decorator, you can of course do with a custom metaclasses   \n",
    "(just apply the functionality of the decorator function :  \n",
    "    the one that takes a class object and modifies ot in the course of the   metaclass __`__new__`__ or __`__init__`__ that take make the class object.)"
   ]
  },
  {
   "attachments": {},
   "cell_type": "markdown",
   "metadata": {},
   "source": [
    "In this specific case-adding methods to a class when it's created- the choice between metaclass and decoraters is somewhat arbitrary. Fecoraters can be used to manage both instances and classes. and they intersect with metaclass in the  secound of these roles."
   ]
  },
  {
   "cell_type": "markdown",
   "metadata": {},
   "source": [
    "##  Q4. \n",
    "How do class decorators overlap with metaclasses for handling instances?\n",
    "### Answere "
   ]
  },
  {
   "attachments": {},
   "cell_type": "markdown",
   "metadata": {},
   "source": [
    "In This case -- adding methods to a class when it's created -- choice between metaclass and decorators is somewhat arbitray. Decorators can be used to manage both instances and classes and the intersect with the secound of these role "
   ]
  },
  {
   "attachments": {},
   "cell_type": "markdown",
   "metadata": {},
   "source": [
    "Thank You"
   ]
  },
  {
   "cell_type": "markdown",
   "metadata": {},
   "source": []
  }
 ],
 "metadata": {
  "kernelspec": {
   "display_name": "Python 3",
   "language": "python",
   "name": "python3"
  },
  "language_info": {
   "codemirror_mode": {
    "name": "ipython",
    "version": 3
   },
   "file_extension": ".py",
   "mimetype": "text/x-python",
   "name": "python",
   "nbconvert_exporter": "python",
   "pygments_lexer": "ipython3",
   "version": "3.10.0"
  },
  "orig_nbformat": 4
 },
 "nbformat": 4,
 "nbformat_minor": 2
}
