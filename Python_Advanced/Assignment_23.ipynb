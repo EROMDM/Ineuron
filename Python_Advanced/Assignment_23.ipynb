{
 "cells": [
  {
   "attachments": {},
   "cell_type": "markdown",
   "metadata": {},
   "source": [
    "<h1 align=center><font size = 10>Full Stack Data Science BootCamp 2.0</font></h1>\n",
    "<h2 align=center><font size = 7>Python Advanced</font></h2>"
   ]
  },
  {
   "attachments": {},
   "cell_type": "markdown",
   "metadata": {},
   "source": [
    "<h3 align=left><font size = 5>Assignment_23</font></h3>\n",
    "<h4 align=left><font size = 4>Dnyaneshwar More</font></h4>"
   ]
  },
  {
   "attachments": {},
   "cell_type": "markdown",
   "metadata": {},
   "source": [
    " ## Q1. If you have any, what are your choices for increasing the comparison between different figures on the same graph?\n",
    "\n",
    "### Answere     "
   ]
  },
  {
   "attachments": {},
   "cell_type": "markdown",
   "metadata": {},
   "source": [
    "matplotlib provides a convenitent method called subplots for incrasing the comparison between different figures on th some graph. Subplot mean a group of smaller axes  that can exist together within a single figure"
   ]
  },
  {
   "cell_type": "markdown",
   "metadata": {},
   "source": [
    " ## Q2. Can you explain the benefit of compound interest over a higher rate of interest that does not compound after reading this chapter?\n",
    "\n",
    "### Answere     "
   ]
  },
  {
   "attachments": {},
   "cell_type": "markdown",
   "metadata": {},
   "source": [
    "Compound intrest makes a sum of money grow at a faster rate than simole intrest , becauses in addition to earning retrns on the  money you invest, you also earn returns on those returns at the end of every compounding period, which could be daily monthly quarterly."
   ]
  },
  {
   "cell_type": "markdown",
   "metadata": {},
   "source": [
    " ## Q3. What is a histogram, exactly? Name a numpy method for creating such a graph.\n",
    "\n",
    "### Answere   "
   ]
  },
  {
   "attachments": {},
   "cell_type": "markdown",
   "metadata": {},
   "source": [
    "Histogram shows total values of X wrt Y Which means at any particlar position of X, Y valur shows the total numberof counts or data below that valur of X.numpy.histogram() os the build in funvtion used."
   ]
  },
  {
   "cell_type": "markdown",
   "metadata": {},
   "source": [
    "   ## Q4. If necessary, how do you change the aspect ratios between the X and Y axes?\n",
    "\n",
    "### Answere    "
   ]
  },
  {
   "attachments": {},
   "cell_type": "markdown",
   "metadata": {},
   "source": [
    "we can use 'figure(figsixe=8.5)' function inside the 'matploat.pyplot' lobrary which we scale down or up the graph."
   ]
  },
  {
   "cell_type": "markdown",
   "metadata": {},
   "source": [
    "  ## Q5. Compare and contrast the three types of array multiplication between two numpy arrays: dot product, outer product, and regular multiplication of two numpy arrays.\n",
    "\n",
    "### Answere    "
   ]
  },
  {
   "attachments": {},
   "cell_type": "markdown",
   "metadata": {},
   "source": [
    "In regular multiplication values of same idex fet multiplied.\n",
    "\n",
    "- In dot product there is row wise multiplication row of one arry with column of second array and so on,\n",
    "- On outer multiplication every element of first array a1 will be muliply by every wlwment of other array aw such the number of columns will ve eqyal to the numver of element on another array a2"
   ]
  },
  {
   "cell_type": "markdown",
   "metadata": {},
   "source": [
    "  ## Q6. Before you buy a home, which numpy function will you use to measure your monthly mortgage payment?\n",
    "\n",
    "### Answere    "
   ]
  },
  {
   "attachments": {},
   "cell_type": "markdown",
   "metadata": {},
   "source": [
    "'np.pmt(rate, mper,pv)' functiom we will be usuing in order to calculate monthly mortgage payment before you purchase a house.\n",
    "- rate: the periodic interest rate\n",
    "- nper: the number of payment periods\n",
    "- pv: the total value of the mortgage loan"
   ]
  },
  {
   "cell_type": "markdown",
   "metadata": {},
   "source": [
    "  ## Q7. Can string data be stored in numpy arrays? If so, list at least one restriction that applies to this data.\n",
    "### Answere     "
   ]
  },
  {
   "attachments": {},
   "cell_type": "markdown",
   "metadata": {},
   "source": [
    "Yes, an array can store the string. the limitation which imposed on the string data is whenever we store the data of string dtype then it should keep in mind that the string which is having the maximum length is the limit"
   ]
  },
  {
   "cell_type": "markdown",
   "metadata": {},
   "source": []
  }
 ],
 "metadata": {
  "language_info": {
   "name": "python"
  },
  "orig_nbformat": 4
 },
 "nbformat": 4,
 "nbformat_minor": 2
}
