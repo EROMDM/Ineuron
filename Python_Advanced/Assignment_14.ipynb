{
 "cells": [
  {
   "attachments": {},
   "cell_type": "markdown",
   "metadata": {},
   "source": [
    "<h1 align=center><font size = 10>Full Stack Data Science BootCamp 2.0</font></h1>\n",
    "<h2 align=center><font size = 7>Python Advanced</font></h2>"
   ]
  },
  {
   "attachments": {},
   "cell_type": "markdown",
   "metadata": {},
   "source": [
    "<h3 align=left><font size = 5>Assignment_14</font></h3>\n",
    "<h4 align=left><font size = 4>Dnyaneshwar More</font></h4>"
   ]
  },
  {
   "attachments": {},
   "cell_type": "markdown",
   "metadata": {},
   "source": [
    "##  Q1. \n",
    "Is an assignment operator like += only for show? Is it possible that it would lead to faster results\n",
    "at the runtime?\n",
    "\n",
    "### Answere "
   ]
  },
  {
   "attachments": {},
   "cell_type": "markdown",
   "metadata": {},
   "source": [
    "`A=A+1` evaluvate to finding __`A`__, adding 1 to it . then storing the value again in variable `A` This expression makes python to look for memory holder of a twice. But A+1=1 simply means value of A ais incriment by 1 As memory address has to be identified once, += leads to faster operation"
   ]
  },
  {
   "cell_type": "markdown",
   "metadata": {},
   "source": [
    "##  Q2. \n",
    "What is the smallest number of statements you&#39;d have to write in most programming languages to\n",
    "replace the Python expression a, b = a + b, a?\n",
    "\n",
    "### Answere "
   ]
  },
  {
   "attachments": {},
   "cell_type": "markdown",
   "metadata": {},
   "source": [
    "Minimum numbers of lines required to write aove code in langauges other Ppython will be 4, two for assigning intial value for variable a and b and two for reassignment  \n",
    " i.e  \n",
    "        - a=a+b and b=a"
   ]
  },
  {
   "cell_type": "markdown",
   "metadata": {},
   "source": [
    "##  Q3. \n",
    "In Python, what is the most effective way to set a list of 100 integers to 0?\n",
    "\n",
    "### Answere "
   ]
  },
  {
   "attachments": {},
   "cell_type": "markdown",
   "metadata": {},
   "source": [
    "The most effective way to set a list of 100 integers to o in python is by using repition oprator __`*`__ or by using list compreherison"
   ]
  },
  {
   "cell_type": "code",
   "execution_count": 1,
   "metadata": {},
   "outputs": [
    {
     "name": "stdout",
     "output_type": "stream",
     "text": [
      "[0, 0, 0, 0, 0, 0, 0, 0, 0, 0, 0, 0, 0, 0, 0, 0, 0, 0, 0, 0, 0, 0, 0, 0, 0, 0, 0, 0, 0, 0, 0, 0, 0, 0, 0, 0, 0, 0, 0, 0, 0, 0, 0, 0, 0, 0, 0, 0, 0, 0, 0, 0, 0, 0, 0, 0, 0, 0, 0, 0, 0, 0, 0, 0, 0, 0, 0, 0, 0, 0, 0, 0, 0, 0, 0, 0, 0, 0, 0, 0, 0, 0, 0, 0, 0, 0, 0, 0, 0, 0, 0, 0, 0, 0, 0, 0, 0, 0, 0, 0]\n"
     ]
    }
   ],
   "source": [
    "#method fist\n",
    "li = [0]*100\n",
    "print(li)"
   ]
  },
  {
   "cell_type": "code",
   "execution_count": 3,
   "metadata": {},
   "outputs": [
    {
     "name": "stdout",
     "output_type": "stream",
     "text": [
      "[0, 0, 0, 0, 0, 0, 0, 0, 0, 0, 0, 0, 0, 0, 0, 0, 0, 0, 0, 0, 0, 0, 0, 0, 0, 0, 0, 0, 0, 0, 0, 0, 0, 0, 0, 0, 0, 0, 0, 0, 0, 0, 0, 0, 0, 0, 0, 0, 0, 0, 0, 0, 0, 0, 0, 0, 0, 0, 0, 0, 0, 0, 0, 0, 0, 0, 0, 0, 0, 0, 0, 0, 0, 0, 0, 0, 0, 0, 0, 0, 0, 0, 0, 0, 0, 0, 0, 0, 0, 0, 0, 0, 0, 0, 0, 0, 0, 0, 0, 0]\n"
     ]
    }
   ],
   "source": [
    "#Method secound\n",
    "x = [0 for i in range(100)]\n",
    "print(x)\n"
   ]
  },
  {
   "cell_type": "markdown",
   "metadata": {},
   "source": [
    "##  Q4. \n",
    "What is the most effective way to initialise a list of 99 integers that repeats the sequence 1, 2, 3?\n",
    "S If necessary, show step-by-step instructions on how to accomplish this.\n",
    "\n",
    "### Answere "
   ]
  },
  {
   "cell_type": "code",
   "execution_count": 4,
   "metadata": {},
   "outputs": [
    {
     "name": "stdout",
     "output_type": "stream",
     "text": [
      "[1, 2, 3, 1, 2, 3, 1, 2, 3, 1, 2, 3, 1, 2, 3, 1, 2, 3, 1, 2, 3, 1, 2, 3, 1, 2, 3, 1, 2, 3, 1, 2, 3, 1, 2, 3, 1, 2, 3, 1, 2, 3, 1, 2, 3, 1, 2, 3, 1, 2, 3, 1, 2, 3, 1, 2, 3, 1, 2, 3, 1, 2, 3, 1, 2, 3, 1, 2, 3]\n"
     ]
    }
   ],
   "source": [
    "i = [1,2,3]*23\n",
    "print(i)"
   ]
  },
  {
   "cell_type": "markdown",
   "metadata": {},
   "source": [
    "##  Q5. \n",
    "If you&#39;re using IDLE to run a Python application, explain how to print a multidimensional list as\n",
    "efficiently?\n",
    "\n",
    "### Answere "
   ]
  },
  {
   "cell_type": "code",
   "execution_count": 5,
   "metadata": {},
   "outputs": [
    {
     "name": "stdout",
     "output_type": "stream",
     "text": [
      "1...1...2...2...3...3...4...4...5...5..."
     ]
    }
   ],
   "source": [
    "my_list = [[1,1],[2,2],[3,3],[4,4],[5,5]] \n",
    "for i in range(len(my_list)):\n",
    "    for o in range(len(my_list[i])):\n",
    "        print(my_list[i][o],end=\"...\")"
   ]
  },
  {
   "cell_type": "markdown",
   "metadata": {},
   "source": [
    "##  Q6. \n",
    "Is it possible to use list comprehension with a string? If so, how can you go about doing it?\n",
    "\n",
    "### Answere "
   ]
  },
  {
   "attachments": {},
   "cell_type": "markdown",
   "metadata": {},
   "source": [
    "LIst comprehirsion with string is possible"
   ]
  },
  {
   "cell_type": "code",
   "execution_count": 6,
   "metadata": {},
   "outputs": [
    {
     "name": "stdout",
     "output_type": "stream",
     "text": [
      "['D', 'n', 'y', 'a', 'n', 'e', 's', 'h', 'w', 'a', 'r']\n"
     ]
    }
   ],
   "source": [
    "i = [i for i in 'Dnyaneshwar']\n",
    "print(i)"
   ]
  },
  {
   "cell_type": "markdown",
   "metadata": {},
   "source": [
    "##  Q7. \n",
    "From the command line, how do you get support with a user-written Python programme? Is this\n",
    "possible from inside IDLE?\n",
    "\n",
    "### Answere "
   ]
  },
  {
   "attachments": {},
   "cell_type": "markdown",
   "metadata": {},
   "source": [
    "**Get support with a user-written Python Programme:**\n",
    "Start a command prompt (Windows) or terminal window (Linux/Mac). If the current working directory is the same as the location in which you saved the file, you can simply specify the filename as a command-line argument to the Python interpreter. \n",
    "\n",
    "**Get support with a User-written Python Program from IDLE:**\n",
    "You can also create script files and run them in IDLE. From the Shell window menu, select **`File → New File`**. That should open an additional editing window. Type in the code to be executed. From the menu in that window, **`select File → Save or File → Save As…`** and save the file to disk. Then **`select Run → Run Module`**. The output should appear back in the interpreter"
   ]
  },
  {
   "cell_type": "markdown",
   "metadata": {},
   "source": [
    "##  Q8. \n",
    "Functions are said to be “first-class objects” in Python but not in most other languages, such as\n",
    "C++ or Java. What can you do in Python with a function (callable object) that you can&#39;t do in C or\n",
    "C++?\n",
    "\n",
    "### Answere "
   ]
  },
  {
   "attachments": {},
   "cell_type": "markdown",
   "metadata": {},
   "source": []
  },
  {
   "attachments": {},
   "cell_type": "markdown",
   "metadata": {},
   "source": [
    "This tasks which can be performed with the functions in python are:\n",
    "- A functions is an instance of the Objects Type.\n",
    "- You can store the functio in a variable .\n",
    "- You can pass the function as a parameter to another functions.\n",
    "- You can returnn the functions fron a functions\n",
    "- You can store them in data structures such as hash tables, lists."
   ]
  },
  {
   "cell_type": "markdown",
   "metadata": {},
   "source": [
    "##  Q9. \n",
    "How do you distinguish between a wrapper, a wrapped feature, and a decorator?\n",
    "\n",
    "### Answere "
   ]
  },
  {
   "attachments": {},
   "cell_type": "markdown",
   "metadata": {},
   "source": [
    "Wrappers Around the functions are known as Decrators."
   ]
  },
  {
   "cell_type": "markdown",
   "metadata": {},
   "source": [
    "##  Q10. \n",
    "If a function is a generator function, what does it return?\n",
    "\n",
    "### Answere "
   ]
  },
  {
   "attachments": {},
   "cell_type": "markdown",
   "metadata": {},
   "source": [
    "Generator functions are in special kind of function that return a lazy iterator. These are objects that you can loop over like a list. However, unlilkelists, lazy iterators do not store thier contents in memory."
   ]
  },
  {
   "cell_type": "markdown",
   "metadata": {},
   "source": [
    "##  Q11. \n",
    "What is the one improvement that must be made to a function in order for it to become a\n",
    "generator function in the Python language?\n",
    "\n",
    "### Answere "
   ]
  },
  {
   "attachments": {},
   "cell_type": "markdown",
   "metadata": {},
   "source": [
    "Generators is a written as normal function but uses `yield ` keyword to return value instead of __`return`__ keyword"
   ]
  },
  {
   "cell_type": "markdown",
   "metadata": {},
   "source": [
    "##  Q12. \n",
    "Identify at least one benefit of generators.\n",
    "### Answere "
   ]
  },
  {
   "attachments": {},
   "cell_type": "markdown",
   "metadata": {},
   "source": [
    "__`return`__ statement sends a specified value back to its caller whereas yield statement can produce a sequence of values. We should use generator when we want to iterate over a sequence, But don't want to store the entire sequence in memory"
   ]
  },
  {
   "cell_type": "markdown",
   "metadata": {},
   "source": []
  }
 ],
 "metadata": {
  "kernelspec": {
   "display_name": "Python 3",
   "language": "python",
   "name": "python3"
  },
  "language_info": {
   "codemirror_mode": {
    "name": "ipython",
    "version": 3
   },
   "file_extension": ".py",
   "mimetype": "text/x-python",
   "name": "python",
   "nbconvert_exporter": "python",
   "pygments_lexer": "ipython3",
   "version": "3.10.0"
  },
  "orig_nbformat": 4
 },
 "nbformat": 4,
 "nbformat_minor": 2
}
