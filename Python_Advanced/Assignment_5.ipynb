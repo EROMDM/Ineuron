{
 "cells": [
  {
   "attachments": {},
   "cell_type": "markdown",
   "metadata": {},
   "source": [
    "<h1 align=center><font size = 10>Full Stack Data Science BootCamp 2.0</font></h1>\n",
    "<h2 align=center><font size = 7>Python Advanced</font></h2>"
   ]
  },
  {
   "attachments": {},
   "cell_type": "markdown",
   "metadata": {},
   "source": [
    "<h3 align=left><font size = 5>Assignment_5</font></h3>\n",
    "<h4 align=left><font size = 4>Dnyaneshwar More</font></h4>"
   ]
  },
  {
   "attachments": {},
   "cell_type": "markdown",
   "metadata": {},
   "source": [
    " ## Q1. What is the meaning of multiple inheritance?\n",
    "\n",
    "### Answere     "
   ]
  },
  {
   "attachments": {},
   "cell_type": "markdown",
   "metadata": {},
   "source": [
    "Inheristance is nothing but reusing te code by parent class by the child classs. Similary when a child class inherits its properties from multiple parent classes this scenario is called \" Multiple Inhritance\""
   ]
  },
  {
   "cell_type": "code",
   "execution_count": 1,
   "metadata": {},
   "outputs": [],
   "source": [
    "class parent1:\n",
    "    pass\n",
    "class Parent2:\n",
    "    pass\n",
    "class childc(parent1,Parent2):\n",
    "    pass\n"
   ]
  },
  {
   "cell_type": "markdown",
   "metadata": {},
   "source": [
    " ## Q2. What is the concept of delegation?\n",
    "\n",
    "### Answere     "
   ]
  },
  {
   "attachments": {},
   "cell_type": "markdown",
   "metadata": {},
   "source": [
    "The debugging pattern is an objrct-oriented design pattern that allows object composition to achieve the same code rese as inheritance simply Delegation means that uou can include a instance if another class as an instance variable, and forwerd messages to the instance."
   ]
  },
  {
   "cell_type": "markdown",
   "metadata": {},
   "source": [
    " ## Q3. What is the concept of composition?\n",
    "\n",
    "### Answere     "
   ]
  },
  {
   "attachments": {},
   "cell_type": "markdown",
   "metadata": {},
   "source": [
    "\n",
    "\n",
    "In the concept of composition, a class refers to one or more other classes by using instances of those classes as ainstance variable. Irrespective if inhrestance on this approach all the parent class memvers are not inherited into child class. but only required methods from a class are used by using class instances."
   ]
  },
  {
   "cell_type": "markdown",
   "metadata": {},
   "source": [
    " ## Q4. What are bound methods and how do we use them?\n",
    "\n",
    "### Answere     "
   ]
  },
  {
   "attachments": {},
   "cell_type": "markdown",
   "metadata": {},
   "source": [
    "If a function is an attributes of class and it is accessed via the instances, they are called \"bound Methods\". a bound method is ine that has \"self\"\n",
    "as ots fist arguments . Since these are depedent on the instace of classes, these are also known as \"instance methods\""
   ]
  },
  {
   "cell_type": "markdown",
   "metadata": {},
   "source": [
    " ## Q5. What is the purpose of pseudoprivate attributes?\n",
    "### Answere     "
   ]
  },
  {
   "attachments": {},
   "cell_type": "markdown",
   "metadata": {},
   "source": [
    "Within a class method in Python, whenever a method assifns to a self attribute ot chanfges or creats an attribute in the instace. Because this is true even if multiple classes in a hirarchy assugn to the sane attrubute collisions are possilble Pseudoprivate names also prevent subclasses from accidetally radefining the internal methods names."
   ]
  },
  {
   "cell_type": "code",
   "execution_count": 4,
   "metadata": {},
   "outputs": [
    {
     "ename": "SyntaxError",
     "evalue": "unmatched ')' (978464737.py, line 17)",
     "output_type": "error",
     "traceback": [
      "\u001b[1;36m  Cell \u001b[1;32mIn[4], line 17\u001b[1;36m\u001b[0m\n\u001b[1;33m    self.__fun())\u001b[0m\n\u001b[1;37m                ^\u001b[0m\n\u001b[1;31mSyntaxError\u001b[0m\u001b[1;31m:\u001b[0m unmatched ')'\n"
     ]
    }
   ],
   "source": [
    "class base:\n",
    "    def fun(self):\n",
    "        print(\"Punlic method\")\n",
    "    def __fun__(self):\n",
    "        print(\"Private method\")\n",
    "    def help(self):\n",
    "        self.__fun()\n",
    "\n",
    "class dervied(base):\n",
    "    def __init__(self):\n",
    "        base.__init__(self)\n",
    "\n",
    "    def callpub(self):\n",
    "        print(\"inside derived class\")\n",
    "        self.fun()\n",
    "    def callprivate(self):\n",
    "        self.__fun())"
   ]
  },
  {
   "cell_type": "code",
   "execution_count": 6,
   "metadata": {},
   "outputs": [
    {
     "name": "stdout",
     "output_type": "stream",
     "text": [
      "Punlic method\n",
      "Private method\n",
      "inside derived class\n",
      "Punlic method\n",
      "Private method\n"
     ]
    }
   ],
   "source": [
    "of= base()\n",
    "\n",
    "of.fun()\n",
    "of.help()\n",
    "\n",
    "os = dervied()\n",
    "os.callpub()\n",
    "os.help()"
   ]
  },
  {
   "cell_type": "code",
   "execution_count": null,
   "metadata": {},
   "outputs": [],
   "source": []
  }
 ],
 "metadata": {
  "kernelspec": {
   "display_name": "Python 3",
   "language": "python",
   "name": "python3"
  },
  "language_info": {
   "codemirror_mode": {
    "name": "ipython",
    "version": 3
   },
   "file_extension": ".py",
   "mimetype": "text/x-python",
   "name": "python",
   "nbconvert_exporter": "python",
   "pygments_lexer": "ipython3",
   "version": "3.10.0"
  },
  "orig_nbformat": 4
 },
 "nbformat": 4,
 "nbformat_minor": 2
}
