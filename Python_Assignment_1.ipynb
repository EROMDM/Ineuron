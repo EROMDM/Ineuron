{
 "cells": [
  {
   "cell_type": "markdown",
   "id": "466388e0-e8c7-4799-ba59-660fcc787b4a",
   "metadata": {
    "tags": []
   },
   "source": [
    "<h1 align=center><font size = 10>Full Stack Data Science BootCamp 2.0</font></h1>\n",
    "<h2 align=center><font size = 7>Python Basic</font></h2>\n"
   ]
  },
  {
   "cell_type": "markdown",
   "id": "4babd490-fd6c-4c6d-a58d-0200a464b4ae",
   "metadata": {
    "tags": []
   },
   "source": [
    "<h3 align=left><font size = 5>Assignment_1</font></h3>\n",
    "<h4 align=left><font size = 4>Dnyaneshwar More</font></h4>"
   ]
  },
  {
   "cell_type": "markdown",
   "id": "e98792e0-a176-44b7-8cc0-20755e4cd7df",
   "metadata": {
    "tags": []
   },
   "source": [
    "## 1. In the below elements which of them are values or an expression? eg:- values can be integer or string and expressions will be mathematical operators.\n",
    "- '*'\n",
    "- &\n",
    "- hello\n",
    "- 87.8\n",
    "- /\n",
    "- '+'\n",
    "- 6"
   ]
  },
  {
   "cell_type": "markdown",
   "id": "ca7f19db-a33c-4b60-954b-0f26bab36f0c",
   "metadata": {},
   "source": [
    "### Answer : \n",
    "#### Following are operators:\n",
    "           *,-,/,+\n",
    "#### Following are values:\n",
    "         'hello', -87.8, 6\n",
    "   "
   ]
  },
  {
   "cell_type": "markdown",
   "id": "adacd2ca-a0d6-4eb6-85df-4a60ab97e56b",
   "metadata": {},
   "source": [
    "## 2. What is the difference between string and variable?"
   ]
  },
  {
   "cell_type": "markdown",
   "id": "9042701c-596a-4f22-812c-2b42e7ef1b0b",
   "metadata": {},
   "source": [
    "#### Answer:\n",
    "    - Variable is a name given to the memory location where the values is stored in the memory - avariables are containers \n",
    "    for storing data value, a python variable can take any values, like, int, float or string. \n",
    "        Example numA = 23, numB = 23.5, strVal = 'Bhanu'\n",
    "        \n",
    "    - String represents a text value enclosed with in two double quotes or two single quotes. \n",
    "        Example \"Bhanu\", \"Bhanu0925\"\n",
    "        \n",
    "\n"
   ]
  },
  {
   "cell_type": "markdown",
   "id": "23524bc4-338b-4d1f-a4e4-1e1584f34330",
   "metadata": {},
   "source": [
    "## 3. Describe three different data types."
   ]
  },
  {
   "cell_type": "markdown",
   "id": "bbc6904c-1f7f-462e-b9b4-6bbfd96e1bc7",
   "metadata": {},
   "source": [
    "#### Answer: \n",
    "##### Three data types in python\n",
    "    - int - A positive or negative whole number without a decimal point. example  a = 10\n",
    "    - floating point numbers - A positive or negative whole number with a decimal point. b = 10.5\n",
    "    - string - any text with in two single or double quotes. c = 'ER0M'\n",
    "\n"
   ]
  },
  {
   "cell_type": "code",
   "execution_count": 1,
   "id": "b606a53c-4874-4f24-85da-f9dfa2954ecd",
   "metadata": {},
   "outputs": [
    {
     "data": {
      "text/plain": [
       "int"
      ]
     },
     "execution_count": 1,
     "metadata": {},
     "output_type": "execute_result"
    }
   ],
   "source": [
    "a = 10\n",
    "type(a)"
   ]
  },
  {
   "cell_type": "code",
   "execution_count": 2,
   "id": "447f088b-d56c-41c5-b2ac-0513cefd728d",
   "metadata": {},
   "outputs": [
    {
     "data": {
      "text/plain": [
       "float"
      ]
     },
     "execution_count": 2,
     "metadata": {},
     "output_type": "execute_result"
    }
   ],
   "source": [
    "b = 7.9\n",
    "type(b)"
   ]
  },
  {
   "cell_type": "code",
   "execution_count": 3,
   "id": "30da8bef-fe0e-4b29-a6e6-6753ff12ae66",
   "metadata": {},
   "outputs": [
    {
     "data": {
      "text/plain": [
       "str"
      ]
     },
     "execution_count": 3,
     "metadata": {},
     "output_type": "execute_result"
    }
   ],
   "source": [
    "c = \"Hello\"\n",
    "type(c)"
   ]
  },
  {
   "cell_type": "markdown",
   "id": "3c9aa5bc-054f-456a-a3cd-a83fbc90deb6",
   "metadata": {},
   "source": [
    "## 4.What is an expression made up of? What do all expressions do?"
   ]
  },
  {
   "cell_type": "markdown",
   "id": "8893c1b3-2c27-41de-951b-86967790b6ff",
   "metadata": {},
   "source": [
    "#### Answer:\n",
    "    - An Expression is a combination of variables and operators.\n",
    "    There expressions perform operation of variable based on \n",
    "    the operators and evaluates the values to a single variable.\n",
    "\n"
   ]
  },
  {
   "cell_type": "code",
   "execution_count": 4,
   "id": "68bdc388-3ddb-4ba8-99ec-746a49fdcd4b",
   "metadata": {},
   "outputs": [
    {
     "name": "stdout",
     "output_type": "stream",
     "text": [
      "sum of two integers \n",
      " c = 10 + 20 = 30\n"
     ]
    }
   ],
   "source": [
    "# variables \n",
    "a = 10\n",
    "b = 20\n",
    "\n",
    "# The expression - sum\n",
    "c = a + b\n",
    "    \n",
    "# Evalues and store the value in C\n",
    "print(f\"sum of two integers \\n c = {a} + {b} = {c}\")\n",
    "\n"
   ]
  },
  {
   "cell_type": "markdown",
   "id": "bceee504-3849-459f-848f-8cd622f16ad3",
   "metadata": {},
   "source": [
    "## 5. This assignment statements, like spam = 10. What is the difference between an expression and a statement?"
   ]
  },
  {
   "cell_type": "markdown",
   "id": "a6282136-38cd-457f-8649-ea488e9a0fce",
   "metadata": {},
   "source": [
    "#### Answer:\n",
    "    - The assignemnt statemets assign a value to the variable.\n",
    "    - The expressions evalues the value to a variable.\n",
    "    - in spam = 10 , value 10 in assigned to spam, and now spam will have value 10.\n",
    "    - But in expression a = C+B, the value of a depends on the value of C and B."
   ]
  },
  {
   "cell_type": "markdown",
   "id": "be641223-5f56-40de-97d1-9fde0625e6f0",
   "metadata": {},
   "source": [
    "## 6. After running the following code, what does the variable bacon contain? \n",
    "       - bacon = 22\n",
    "       - bacon + 1\n",
    "\n",
    "   "
   ]
  },
  {
   "cell_type": "markdown",
   "id": "48ea45b4-ed06-4d3c-a994-e9564f5b2b45",
   "metadata": {},
   "source": [
    "#### Answer:\n",
    "- becon will still have value 22.\n",
    "\n",
    "- The becon is assinged with 22, but becon + 1 is not reassigned to becon again like, becon= becon + 1. So the value of becon is not changed by one"
   ]
  },
  {
   "cell_type": "code",
   "execution_count": 12,
   "id": "588969ce-1c03-4fb7-b359-40f6781e4f09",
   "metadata": {},
   "outputs": [
    {
     "name": "stdout",
     "output_type": "stream",
     "text": [
      "Bacon New Value 22\n"
     ]
    }
   ],
   "source": [
    "bacon = 22\n",
    "bacon + 1\n",
    "\n",
    "print(f\"Bacon New Value {bacon}\")"
   ]
  },
  {
   "cell_type": "markdown",
   "id": "56973a30-856d-48ad-a5c6-91a990d7991d",
   "metadata": {},
   "source": [
    "## 7. What should the values of the following two terms be?\n",
    "      - 'spam' + 'spamspam'\n",
    "      - 'spam'*3\n",
    "\n",
    "   "
   ]
  },
  {
   "cell_type": "markdown",
   "id": "fe6b3eaf-e1dc-4330-881a-e5050a960bb3",
   "metadata": {},
   "source": [
    "#### Answer: Both outputs 'spamspamspam'"
   ]
  },
  {
   "cell_type": "code",
   "execution_count": 6,
   "id": "d14414a3-45d3-4bff-ae0e-215e603ba3c1",
   "metadata": {},
   "outputs": [
    {
     "name": "stdout",
     "output_type": "stream",
     "text": [
      "spam + spamspam = spamspamspam\n",
      "spam * 3 =  spamspamspam\n"
     ]
    }
   ],
   "source": [
    "print(\"spam + spamspam = \"  'spam'+'spamspam')\n",
    "a= 'spam'\n",
    "print(f\"spam * 3 =  {a*3}\")"
   ]
  },
  {
   "cell_type": "markdown",
   "id": "9fca230c-d756-49a6-abf3-769f8f38a5b9",
   "metadata": {},
   "source": [
    "## 8. Why is eggs a valid variable name while 100 is invalid?\n",
    "\n",
    "   "
   ]
  },
  {
   "cell_type": "markdown",
   "id": "ecf0c7a7-b47c-485c-be4a-123bcf887047",
   "metadata": {},
   "source": [
    "#### Answer:\n",
    "    - In variable name condition A variable name must be started with a latter or an underscore Charaster otherwise  and variable name is not symbol those variable name isvalid otherwise all variable names is invalid \n",
    "\n",
    "    1. Here eggs variable name with chaster and there is no any symbol therfore the eggs variable name is valid\n",
    "    2. here variable name 100 the variable name start with numeric therfore this variable name is invalid"
   ]
  },
  {
   "cell_type": "code",
   "execution_count": 7,
   "id": "bc6e02e5-2841-4637-80f9-4ddb3559b7b3",
   "metadata": {},
   "outputs": [],
   "source": [
    "eggs= \"red\""
   ]
  },
  {
   "cell_type": "code",
   "execution_count": 8,
   "id": "9b84d55d-982a-4693-ab9d-8031656b59c0",
   "metadata": {},
   "outputs": [
    {
     "ename": "SyntaxError",
     "evalue": "cannot assign to literal here. Maybe you meant '==' instead of '='? (4054403271.py, line 1)",
     "output_type": "error",
     "traceback": [
      "\u001b[1;36m  Cell \u001b[1;32mIn [8], line 1\u001b[1;36m\u001b[0m\n\u001b[1;33m    100 = \"Black\"\u001b[0m\n\u001b[1;37m    ^\u001b[0m\n\u001b[1;31mSyntaxError\u001b[0m\u001b[1;31m:\u001b[0m cannot assign to literal here. Maybe you meant '==' instead of '='?\n"
     ]
    }
   ],
   "source": [
    "100 = \"Black\""
   ]
  },
  {
   "cell_type": "markdown",
   "id": "090215a8-2f25-4909-9d0f-62cc441aa508",
   "metadata": {},
   "source": [
    "## 9. What three functions can be used to get the integer, floating-point number, or string version of a value?\n",
    "\n",
    "   "
   ]
  },
  {
   "cell_type": "markdown",
   "id": "8a2ec9a0-ffdc-489e-a68b-d3efcc428a78",
   "metadata": {},
   "source": [
    "#### Answer: The following functions \n",
    "    - int()\n",
    "    - float()\n",
    "    - str()  will convert the values to integer, float or string versions of the values passed to them\n",
    "\n",
    "   "
   ]
  },
  {
   "cell_type": "code",
   "execution_count": 9,
   "id": "aca862cf-7bb8-409f-a024-bc7281d4a85b",
   "metadata": {},
   "outputs": [
    {
     "name": "stdout",
     "output_type": "stream",
     "text": [
      "Int function = 59\n",
      "Float function = 59.33\n",
      "String function = 59.33\n"
     ]
    }
   ],
   "source": [
    "Var = 59.33\n",
    "\n",
    "print(f\"Int function = {int(Var)}\")\n",
    "print(f\"Float function = {float(Var)}\")\n",
    "print(\"String function =\", str(Var))"
   ]
  },
  {
   "cell_type": "markdown",
   "id": "deddca49-fdb4-403d-8879-a6d99a4f037c",
   "metadata": {},
   "source": [
    "## 10. Why does this expression cause an error? How can you fix it?\n",
    " \n",
    " \n",
    "     - 'I have eaten'  + 99 +  'burritos.'\n",
    "\n",
    "\n",
    "\n",
    "   "
   ]
  },
  {
   "cell_type": "markdown",
   "id": "1e7ad241-5ea8-440d-8100-923db85b3f01",
   "metadata": {},
   "source": [
    "#### Answer:\n",
    "    - This will error out since string concatination with interger values can not be performed.\n",
    "    This can be fixed by converting 99 into string by str(99)\n"
   ]
  },
  {
   "cell_type": "code",
   "execution_count": 10,
   "id": "9e305cb3-39f4-4ca0-8861-a14aa009c998",
   "metadata": {},
   "outputs": [
    {
     "ename": "TypeError",
     "evalue": "can only concatenate str (not \"int\") to str",
     "output_type": "error",
     "traceback": [
      "\u001b[1;31m---------------------------------------------------------------------------\u001b[0m",
      "\u001b[1;31mTypeError\u001b[0m                                 Traceback (most recent call last)",
      "Cell \u001b[1;32mIn [10], line 1\u001b[0m\n\u001b[1;32m----> 1\u001b[0m \u001b[38;5;124;43m'\u001b[39;49m\u001b[38;5;124;43mI have eaten \u001b[39;49m\u001b[38;5;124;43m'\u001b[39;49m\u001b[43m  \u001b[49m\u001b[38;5;241;43m+\u001b[39;49m\u001b[43m \u001b[49m\u001b[38;5;241;43m99\u001b[39;49m \u001b[38;5;241m+\u001b[39m  \u001b[38;5;124m'\u001b[39m\u001b[38;5;124m burritos.\u001b[39m\u001b[38;5;124m'\u001b[39m\n",
      "\u001b[1;31mTypeError\u001b[0m: can only concatenate str (not \"int\") to str"
     ]
    }
   ],
   "source": [
    "'I have eaten '  + 99 +  ' burritos.'"
   ]
  },
  {
   "cell_type": "code",
   "execution_count": null,
   "id": "b46600d9-54e3-4a33-8a09-fdab400726fc",
   "metadata": {},
   "outputs": [],
   "source": [
    "'I have eaten '  + str(99) +  ' burritos.'"
   ]
  },
  {
   "cell_type": "code",
   "execution_count": null,
   "id": "13846640-7fa0-4410-90ab-02f5b4c2033d",
   "metadata": {},
   "outputs": [],
   "source": []
  }
 ],
 "metadata": {
  "kernelspec": {
   "display_name": "Python 3 (ipykernel)",
   "language": "python",
   "name": "python3"
  },
  "language_info": {
   "codemirror_mode": {
    "name": "ipython",
    "version": 3
   },
   "file_extension": ".py",
   "mimetype": "text/x-python",
   "name": "python",
   "nbconvert_exporter": "python",
   "pygments_lexer": "ipython3",
   "version": "3.10.7"
  },
  "toc-autonumbering": false
 },
 "nbformat": 4,
 "nbformat_minor": 5
}
