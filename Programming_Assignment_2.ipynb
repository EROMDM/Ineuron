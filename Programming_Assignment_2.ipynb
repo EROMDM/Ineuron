{
 "cells": [
  {
   "cell_type": "markdown",
   "id": "c2782d9c-043d-48ee-aaa5-86a4d28c9d1b",
   "metadata": {
    "tags": []
   },
   "source": [
    "<h1 align=center><font size = 10>Full Stack Data Science BootCamp 2.0</font></h1>\n",
    "<h2 align=center><font size = 7>Python Basic</font></h2>\n",
    "\n",
    "<h3 align=left><font size = 5>Programming_Assignment_2</font></h3>\n",
    "<h4 align=left><font size = 4>Dnyaneshwar More</font></h4>"
   ]
  },
  {
   "cell_type": "markdown",
   "id": "21453ca1-ae33-43fb-a344-d503d57a685e",
   "metadata": {},
   "source": [
    "###  11. Write a Python program to convert kilometers to miles?"
   ]
  },
  {
   "cell_type": "markdown",
   "id": "7da4374f-9cfe-49c6-b13e-b0e6543df64f",
   "metadata": {},
   "source": [
    "#### Answere"
   ]
  },
  {
   "cell_type": "code",
   "execution_count": 27,
   "id": "c77baea9-8d99-4aa1-b53c-abdfb6f45411",
   "metadata": {},
   "outputs": [],
   "source": [
    "def ctom(c):\n",
    "    print(f\"miles= {c*0.625}\")"
   ]
  },
  {
   "cell_type": "code",
   "execution_count": 28,
   "id": "9f53817f-f0e4-45ad-a5a9-c5ffc341cbe8",
   "metadata": {},
   "outputs": [
    {
     "name": "stdout",
     "output_type": "stream",
     "text": [
      "miles= 7.5\n",
      "miles= 122.5\n",
      "miles= 3.75\n",
      "miles= 673.125\n",
      "miles= 1.9625000000000001\n"
     ]
    }
   ],
   "source": [
    "A=[12,196,6,1077,3.14]\n",
    "for i in A:\n",
    "    ctom(i)"
   ]
  },
  {
   "cell_type": "markdown",
   "id": "b8b61c86-089b-4df7-b181-4f8695c33910",
   "metadata": {},
   "source": [
    "###  2. Write a Python program to convert Celsius to Fahrenheit?"
   ]
  },
  {
   "cell_type": "markdown",
   "id": "2a7e3b2a-e977-4dbe-ad64-eb64ba8e0acc",
   "metadata": {},
   "source": [
    "#### Answere"
   ]
  },
  {
   "cell_type": "code",
   "execution_count": 29,
   "id": "8e773b57-f97e-418a-bcf5-c7d8f0a50acf",
   "metadata": {},
   "outputs": [],
   "source": [
    "def ctof(c):\n",
    "    B=(c*(9/5)) + 32\n",
    "    print(f\"Fahrenheut= {B}\")"
   ]
  },
  {
   "cell_type": "code",
   "execution_count": 30,
   "id": "215ed49c-c459-4164-8669-6696302ebc82",
   "metadata": {},
   "outputs": [
    {
     "name": "stdout",
     "output_type": "stream",
     "text": [
      "Fahrenheut= 53.6\n",
      "Fahrenheut= 384.8\n",
      "Fahrenheut= 42.8\n",
      "Fahrenheut= 1970.6000000000001\n",
      "Fahrenheut= 37.652\n"
     ]
    }
   ],
   "source": [
    "A=[12,196,6,1077,3.14]\n",
    "for i in A:\n",
    "    ctof(i)"
   ]
  },
  {
   "cell_type": "markdown",
   "id": "d034d00b-7a65-4785-8370-4e27fd00904b",
   "metadata": {},
   "source": [
    "###  3. Write a Python program to display calendar?"
   ]
  },
  {
   "cell_type": "markdown",
   "id": "63c62b8c-5354-485f-9f71-22e0a25dfdde",
   "metadata": {},
   "source": [
    "#### Answere"
   ]
  },
  {
   "cell_type": "code",
   "execution_count": 31,
   "id": "fe66f293-c600-4d6d-8242-527cb9f2446c",
   "metadata": {},
   "outputs": [],
   "source": [
    "import calendar\n",
    "def Cal_year(year):\n",
    "    print(calendar.calendar(year))\n",
    "def Cal_Month(mm,year):\n",
    "    print(calendar.month(mm,year))\n"
   ]
  },
  {
   "cell_type": "code",
   "execution_count": 32,
   "id": "bfc9cfdb-7ab1-4127-b06e-db9d95ce5f16",
   "metadata": {},
   "outputs": [
    {
     "name": "stdout",
     "output_type": "stream",
     "text": [
      "                                  2022\n",
      "\n",
      "      January                   February                   March\n",
      "Mo Tu We Th Fr Sa Su      Mo Tu We Th Fr Sa Su      Mo Tu We Th Fr Sa Su\n",
      "                1  2          1  2  3  4  5  6          1  2  3  4  5  6\n",
      " 3  4  5  6  7  8  9       7  8  9 10 11 12 13       7  8  9 10 11 12 13\n",
      "10 11 12 13 14 15 16      14 15 16 17 18 19 20      14 15 16 17 18 19 20\n",
      "17 18 19 20 21 22 23      21 22 23 24 25 26 27      21 22 23 24 25 26 27\n",
      "24 25 26 27 28 29 30      28                        28 29 30 31\n",
      "31\n",
      "\n",
      "       April                      May                       June\n",
      "Mo Tu We Th Fr Sa Su      Mo Tu We Th Fr Sa Su      Mo Tu We Th Fr Sa Su\n",
      "             1  2  3                         1             1  2  3  4  5\n",
      " 4  5  6  7  8  9 10       2  3  4  5  6  7  8       6  7  8  9 10 11 12\n",
      "11 12 13 14 15 16 17       9 10 11 12 13 14 15      13 14 15 16 17 18 19\n",
      "18 19 20 21 22 23 24      16 17 18 19 20 21 22      20 21 22 23 24 25 26\n",
      "25 26 27 28 29 30         23 24 25 26 27 28 29      27 28 29 30\n",
      "                          30 31\n",
      "\n",
      "        July                     August                  September\n",
      "Mo Tu We Th Fr Sa Su      Mo Tu We Th Fr Sa Su      Mo Tu We Th Fr Sa Su\n",
      "             1  2  3       1  2  3  4  5  6  7                1  2  3  4\n",
      " 4  5  6  7  8  9 10       8  9 10 11 12 13 14       5  6  7  8  9 10 11\n",
      "11 12 13 14 15 16 17      15 16 17 18 19 20 21      12 13 14 15 16 17 18\n",
      "18 19 20 21 22 23 24      22 23 24 25 26 27 28      19 20 21 22 23 24 25\n",
      "25 26 27 28 29 30 31      29 30 31                  26 27 28 29 30\n",
      "\n",
      "      October                   November                  December\n",
      "Mo Tu We Th Fr Sa Su      Mo Tu We Th Fr Sa Su      Mo Tu We Th Fr Sa Su\n",
      "                1  2          1  2  3  4  5  6                1  2  3  4\n",
      " 3  4  5  6  7  8  9       7  8  9 10 11 12 13       5  6  7  8  9 10 11\n",
      "10 11 12 13 14 15 16      14 15 16 17 18 19 20      12 13 14 15 16 17 18\n",
      "17 18 19 20 21 22 23      21 22 23 24 25 26 27      19 20 21 22 23 24 25\n",
      "24 25 26 27 28 29 30      28 29 30                  26 27 28 29 30 31\n",
      "31\n",
      "\n",
      "      May 2022\n",
      "Mo Tu We Th Fr Sa Su\n",
      "                   1\n",
      " 2  3  4  5  6  7  8\n",
      " 9 10 11 12 13 14 15\n",
      "16 17 18 19 20 21 22\n",
      "23 24 25 26 27 28 29\n",
      "30 31\n",
      "\n"
     ]
    }
   ],
   "source": [
    "m=5\n",
    "y=2022\n",
    "Cal_year(y)\n",
    "\"\"\"--------------------------------------------------------------------\"\"\"\n",
    "Cal_Month(y,m)"
   ]
  },
  {
   "cell_type": "markdown",
   "id": "4830633f-6aa6-4b27-9b44-59ccc0f93922",
   "metadata": {},
   "source": [
    "###  4. Write a Python program to solve quadratic equation?"
   ]
  },
  {
   "cell_type": "markdown",
   "id": "677dc3cb-13eb-4311-a146-77b1f79e46b9",
   "metadata": {},
   "source": [
    "#### Answere\n",
    "   there are two X value get those are X1 and X2 if quadratic euation is ax^2+Bx+c=0 then quadratic euation formula is"
   ]
  },
  {
   "cell_type": "code",
   "execution_count": 33,
   "id": "8f0a26a7-6601-4bb7-be41-bfbad3fc562e",
   "metadata": {},
   "outputs": [],
   "source": [
    "import math\n",
    "def QE(a,b,c):\n",
    "    d=(b*b-(2*a*c))**0.5\n",
    "    print(f\"X1={(-b-d)/(2*a)},X2={(-b+d)/(2*a)}\")\n",
    "    "
   ]
  },
  {
   "cell_type": "code",
   "execution_count": 34,
   "id": "fb3dce38-77c5-4711-b1ba-eb828a6ed704",
   "metadata": {},
   "outputs": [
    {
     "name": "stdout",
     "output_type": "stream",
     "text": [
      "X1=-654.9961831838655,X2=-0.0038168161344742657\n",
      "[1, 4, 5]\n",
      "X1=-109.16513992775737,X2=-0.0015267389093006993\n",
      "[6, 5, 2]\n",
      "X1=-5.111475963481481,X2=-0.25737649553491243\n",
      "[122, 655, 321]\n",
      "X1=-0.5873814124520605,X2=-0.16033548252510835\n",
      "[876, 1024, 165]\n"
     ]
    }
   ],
   "source": [
    "A=[[1,4,5],[6,5,2],[122,655,321],[876,1024,165]]\n",
    "for i in range(0,len(A)):\n",
    "    QE(A[i][0],A[2][1],A[i][2])\n",
    "    print(A[i])"
   ]
  },
  {
   "cell_type": "markdown",
   "id": "3012a4f4-bea5-4d3a-8950-45241284c7c7",
   "metadata": {},
   "source": [
    "###  5. Write a Python program to swap two variables without temp variable?\n"
   ]
  },
  {
   "cell_type": "markdown",
   "id": "3bc7e58e-f920-49c4-a218-2170ed184029",
   "metadata": {},
   "source": [
    "#### Answere"
   ]
  },
  {
   "cell_type": "code",
   "execution_count": 35,
   "id": "fa81d81c-f188-49f6-9dee-9907fc97df5d",
   "metadata": {},
   "outputs": [],
   "source": [
    "def Swap(A,B):\n",
    "    print(f\"Before {A} | {B}\",end=\",\")\n",
    "    A,B=B,A\n",
    "    print(f\"After {A} | {B}\")"
   ]
  },
  {
   "cell_type": "code",
   "execution_count": 36,
   "id": "6d92176b-e319-42fd-b4a6-54b5d782d330",
   "metadata": {},
   "outputs": [
    {
     "name": "stdout",
     "output_type": "stream",
     "text": [
      "Before Hello | Dnyaneshwar,After Dnyaneshwar | Hello\n",
      "Before Vishnu | MOre,After MOre | Vishnu\n",
      "Before 0 | 14,After 14 | 0\n",
      "Before 0 | True,After True | 0\n",
      "Before False | Nive,After Nive | False\n"
     ]
    }
   ],
   "source": [
    "A=[[\"Hello\",\"Dnyaneshwar\"],[\"Vishnu\",\"MOre\"],[0,14],[0,True],[False,\"Nive\"]]\n",
    "for i in range(0,len(A)):\n",
    "    Swap(A[i][0],A[i][1])"
   ]
  },
  {
   "cell_type": "code",
   "execution_count": null,
   "id": "ddcb828c-fc85-46dd-8171-3b6ec0851ce3",
   "metadata": {},
   "outputs": [],
   "source": []
  }
 ],
 "metadata": {
  "kernelspec": {
   "display_name": "Python 3 (ipykernel)",
   "language": "python",
   "name": "python3"
  },
  "language_info": {
   "codemirror_mode": {
    "name": "ipython",
    "version": 3
   },
   "file_extension": ".py",
   "mimetype": "text/x-python",
   "name": "python",
   "nbconvert_exporter": "python",
   "pygments_lexer": "ipython3",
   "version": "3.10.7"
  }
 },
 "nbformat": 4,
 "nbformat_minor": 5
}
