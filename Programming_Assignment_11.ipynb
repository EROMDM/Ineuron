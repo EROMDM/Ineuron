{
 "cells": [
  {
   "cell_type": "markdown",
   "id": "41227498-e44e-4602-8a9b-ad8d8a4eb9b5",
   "metadata": {},
   "source": [
    "<h1 align=center><font size = 10>Full Stack Data Science BootCamp 2.0</font></h1>\n",
    "<h2 align=center><font size = 7>Python Basic</font></h2>\n",
    "\n",
    "<h3 align=left><font size = 5>Programming_Assignment_11</font></h3>\n",
    "<h4 align=left><font size = 4>Dnyaneshwar More</font></h4>"
   ]
  },
  {
   "cell_type": "markdown",
   "id": "1777eb39-6f7f-4ee1-9985-39ab1d7d4a8d",
   "metadata": {},
   "source": [
    "## 1. Write a Python program to find words which are greater than given length k?\n",
    "### Answere"
   ]
  },
  {
   "cell_type": "code",
   "execution_count": 3,
   "id": "ad8959ea-c48f-45a1-aede-91c235811c42",
   "metadata": {},
   "outputs": [
    {
     "name": "stdin",
     "output_type": "stream",
     "text": [
      "Enter the string:  There are 2 Speical Characters in DS @ Ineuron by Sudhanshu & krish which are ['@', '&']\n"
     ]
    },
    {
     "name": "stdout",
     "output_type": "stream",
     "text": [
      "There,Speical,Characters,Ineuron,Sudhanshu,krish,which,['@',,'&']\n"
     ]
    }
   ],
   "source": [
    "def checkLengthOfString(K):\n",
    "    in_string = input(\"Enter the string: \")\n",
    "    out_string = []\n",
    "    for string in in_string.split(\" \"):\n",
    "        if len(string) > K:\n",
    "            out_string.append(string)\n",
    "    print(','.join(out_string))\n",
    "\n",
    "checkLengthOfString(3)"
   ]
  },
  {
   "cell_type": "markdown",
   "id": "8e00bd68-1d28-4f44-94fc-fd6bd08421b7",
   "metadata": {},
   "source": [
    "## 2. Write a Python program for removing i-th character from a string?\n",
    "### Answere"
   ]
  },
  {
   "cell_type": "code",
   "execution_count": 4,
   "id": "5d09042a-d302-443e-b870-7153be99a180",
   "metadata": {},
   "outputs": [
    {
     "name": "stdin",
     "output_type": "stream",
     "text": [
      "Enter the String:  There are 2 Speical Characters in DS @ Ineuron by Sudhanshu & krish which are ['@', '&']\n"
     ]
    },
    {
     "name": "stdout",
     "output_type": "stream",
     "text": [
      "There re 2 Speical Characters in DS @ Ineuron by Sudhanshu & krish which are ['@', '&']\n"
     ]
    }
   ],
   "source": [
    "def removeCharacter(N):\n",
    "    in_string = input(\"Enter the String: \")\n",
    "   \n",
    "    out_string = ''\n",
    "    for ele in range(len(in_string)):\n",
    "        if ele != N:\n",
    "            out_string = out_string + in_string[ele]\n",
    "    print(out_string)\n",
    "    \n",
    "removeCharacter(6)"
   ]
  },
  {
   "cell_type": "markdown",
   "id": "6ad44ccd-1ab8-4a61-81e8-096f584a7a25",
   "metadata": {},
   "source": [
    "## 3. Write a Python program to split and join a string?\n",
    "### Answere"
   ]
  },
  {
   "cell_type": "code",
   "execution_count": 5,
   "id": "105ab788-ff8d-4b96-8bba-5b7beaaf51a8",
   "metadata": {},
   "outputs": [
    {
     "name": "stdin",
     "output_type": "stream",
     "text": [
      "Enter the string:  There are 2 Speical Characters in DS @ Ineuron by Sudhanshu & krish which are ['@', '&']\n"
     ]
    },
    {
     "name": "stdout",
     "output_type": "stream",
     "text": [
      "Split String: ['There', 'are', '2', 'Speical', 'Characters', 'in', 'DS', '@', 'Ineuron', 'by', 'Sudhanshu', '&', 'krish', 'which', 'are', \"['@',\", \"'&']\"]\n",
      "Join String: There are 2 Speical Characters in DS @ Ineuron by Sudhanshu & krish which are ['@', '&']\n"
     ]
    }
   ],
   "source": [
    "def splitJoinString():\n",
    "    in_string = input('Enter the string: ')\n",
    "    print(f\"Split String: {in_string.split(' ')}\")\n",
    "    print(f\"Join String: {' '.join(in_string.split(' '))}\")\n",
    "\n",
    "splitJoinString()"
   ]
  },
  {
   "cell_type": "markdown",
   "id": "4221bfef-f0df-46b2-98a4-fe0ee52ab3fe",
   "metadata": {},
   "source": [
    "## 4. Write a Python to check if a given string is binary string or not?\n",
    "### Answere\n"
   ]
  },
  {
   "cell_type": "code",
   "execution_count": 6,
   "id": "863d8201-5604-4e2f-a94c-acaba0059392",
   "metadata": {},
   "outputs": [
    {
     "name": "stdin",
     "output_type": "stream",
     "text": [
      "Enter the string:  There are 2 Speical Characters in DS @ Ineuron by Sudhanshu & krish which are ['@', '&']\n"
     ]
    },
    {
     "name": "stdout",
     "output_type": "stream",
     "text": [
      "There are 2 Speical Characters in DS @ Ineuron by Sudhanshu & krish which are ['@', '&'] is not a binart string\n"
     ]
    },
    {
     "name": "stdin",
     "output_type": "stream",
     "text": [
      "Enter the string:  010010110001110000000100010101010\n"
     ]
    },
    {
     "name": "stdout",
     "output_type": "stream",
     "text": [
      "010010110001110000000100010101010 is a binary string\n"
     ]
    }
   ],
   "source": [
    "def checkBinary():\n",
    "    in_string = input('Enter the string: ')\n",
    "    stun = 0\n",
    "    for ele in in_string:\n",
    "        if ele in ['0','1']:\n",
    "            stun = 1\n",
    "            continue\n",
    "        else:\n",
    "            stun = 0\n",
    "            break\n",
    "    statement = 'is a binary string' if stun == 1 else 'is not a binart string' \n",
    "    print(f'{in_string} {statement}')\n",
    "\n",
    "checkBinary()\n",
    "checkBinary()"
   ]
  },
  {
   "cell_type": "markdown",
   "id": "4dd8ea37-c964-4c25-b11b-b16a64fae30b",
   "metadata": {},
   "source": [
    "## 5. Write a Python program to find uncommon words from two Strings?\n",
    "### Answere"
   ]
  },
  {
   "cell_type": "code",
   "execution_count": 7,
   "id": "845875e7-1d11-4f05-a8a7-ee2ec634d2ba",
   "metadata": {},
   "outputs": [
    {
     "name": "stdin",
     "output_type": "stream",
     "text": [
      "Enter the String 1:  ER0M DM More\n",
      "Enter the String 2:  ER0M_DM More\n"
     ]
    },
    {
     "name": "stdout",
     "output_type": "stream",
     "text": [
      "{'ER0M', 'DM', 'ER0M_DM'}\n"
     ]
    }
   ],
   "source": [
    "def unCommonWords():\n",
    "    in_string_1 = set(input(\"Enter the String 1: \").split(' '))\n",
    "    in_string_2 = set(input(\"Enter the String 2: \").split(' '))\n",
    "    out_string = (in_string_1.union(in_string_2)).difference(in_string_1.intersection(in_string_2))\n",
    "    print(out_string)\n",
    "\n",
    "unCommonWords()"
   ]
  },
  {
   "cell_type": "markdown",
   "id": "2407dd16-1ac2-42da-a1a7-789681c72baf",
   "metadata": {},
   "source": [
    "## 6. Write a Python to find all duplicate characters in string?\n",
    "### Answere"
   ]
  },
  {
   "cell_type": "code",
   "execution_count": 8,
   "id": "7631c1b2-1775-4f48-9286-f9ad526666cf",
   "metadata": {},
   "outputs": [
    {
     "name": "stdin",
     "output_type": "stream",
     "text": [
      "Enter the string:  There are 2 Speical Characters in DS @ Ineuron by Sudhanshu & krish which are ['@', '&']\n"
     ]
    },
    {
     "name": "stdout",
     "output_type": "stream",
     "text": [
      "Duplicate characters are: ['h', 'a', 'u', ' ', 'e', 'c', 'S', '@', 's', \"'\", 'r', '&', 'i', 'n']\n"
     ]
    }
   ],
   "source": [
    "def duplicateChars():\n",
    "    in_string = input('Enter the string: ')\n",
    "    non_duplicate_list = []\n",
    "    duplicate_list = []\n",
    "    for ele in in_string:\n",
    "        if ele not in non_duplicate_list:\n",
    "            non_duplicate_list.append(ele)\n",
    "        else:\n",
    "            duplicate_list.append(ele)\n",
    "    print(f'Duplicate characters are: {list(set(duplicate_list))}')\n",
    "        \n",
    "duplicateChars()"
   ]
  },
  {
   "cell_type": "markdown",
   "id": "54740b88-a96d-4af6-a345-be29ca231cba",
   "metadata": {},
   "source": [
    "## 7. Write a Python Program to check if a string contains any special character?\n",
    "### Answere"
   ]
  },
  {
   "cell_type": "code",
   "execution_count": 10,
   "id": "ddc9374e-bc56-4f49-811a-55946ab5c89e",
   "metadata": {},
   "outputs": [
    {
     "name": "stdin",
     "output_type": "stream",
     "text": [
      "Enter the string:  There are 2 Speical Characters in DS @ Ineuron by Sudhanshu & krish which are ['@', '&']\n"
     ]
    },
    {
     "name": "stdout",
     "output_type": "stream",
     "text": [
      "There are 6 Speical Characters in There are 2 Speical Characters in DS @ Ineuron by Sudhanshu & krish which are ['@', '&'] which are ['@', '&', '[', '@', '&', ']']\n"
     ]
    }
   ],
   "source": [
    "def checkSpecialChar():\n",
    "    spl_chars = '[@_!#$%^&*()<>?/\\|}{~:]'\n",
    "    in_num = input('Enter the string: ')\n",
    "    count = 0\n",
    "    char_list = []\n",
    "    for ele in in_num:\n",
    "        if ele in spl_chars:\n",
    "            char_list.append(ele)\n",
    "            count = count+1\n",
    "    print(f'There are {count} Speical Characters in {in_num} which are {char_list}')\n",
    "            \n",
    "        \n",
    "\n",
    "        \n",
    "checkSpecialChar()"
   ]
  },
  {
   "cell_type": "code",
   "execution_count": null,
   "id": "62a56c6c-62d5-4831-9a94-e72b50a736cb",
   "metadata": {},
   "outputs": [],
   "source": []
  },
  {
   "cell_type": "code",
   "execution_count": null,
   "id": "4ea7dccf-bffe-4769-b67c-e8ed2aff5b71",
   "metadata": {},
   "outputs": [],
   "source": [
    "\n"
   ]
  }
 ],
 "metadata": {
  "kernelspec": {
   "display_name": "Python 3 (ipykernel)",
   "language": "python",
   "name": "python3"
  },
  "language_info": {
   "codemirror_mode": {
    "name": "ipython",
    "version": 3
   },
   "file_extension": ".py",
   "mimetype": "text/x-python",
   "name": "python",
   "nbconvert_exporter": "python",
   "pygments_lexer": "ipython3",
   "version": "3.10.7"
  }
 },
 "nbformat": 4,
 "nbformat_minor": 5
}
