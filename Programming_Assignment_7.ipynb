{
 "cells": [
  {
   "cell_type": "markdown",
   "id": "5543c2a1-f29a-4a86-94a4-a5a89f75c188",
   "metadata": {},
   "source": [
    "<h1 align=center><font size = 10>Full Stack Data Science BootCamp 2.0</font></h1>\n",
    "<h2 align=center><font size = 7>Python Basic</font></h2>\n",
    "\n",
    "<h3 align=left><font size = 5>Programming_Assignment_7</font></h3>\n",
    "<h4 align=left><font size = 4>Dnyaneshwar More</font></h4>"
   ]
  },
  {
   "cell_type": "markdown",
   "id": "6128804b-1d7e-4c47-966e-b66dba80e19b",
   "metadata": {},
   "source": [
    "### 1. Write a Python Program to find sum of array?\n",
    "\n",
    "#### Answere"
   ]
  },
  {
   "cell_type": "code",
   "execution_count": 4,
   "id": "5c4dd47c-659e-4650-822e-430d2ebd6fc2",
   "metadata": {},
   "outputs": [
    {
     "data": {
      "text/plain": [
       "44"
      ]
     },
     "execution_count": 4,
     "metadata": {},
     "output_type": "execute_result"
    }
   ],
   "source": [
    "import numpy as np\n",
    "a=[3,5,9,7,4,3,6,7]\n",
    "A=np.array(a)\n",
    "A.sum()"
   ]
  },
  {
   "cell_type": "markdown",
   "id": "dda228eb-eca3-4446-842f-8eb5245f8b90",
   "metadata": {},
   "source": [
    "### 2. Write a Python Program to find largest element in an array?\n",
    "\n",
    "#### Answere"
   ]
  },
  {
   "cell_type": "code",
   "execution_count": 5,
   "id": "d33b18aa-348c-4e7c-b6f6-4a91aea2f44d",
   "metadata": {},
   "outputs": [
    {
     "data": {
      "text/plain": [
       "9"
      ]
     },
     "execution_count": 5,
     "metadata": {},
     "output_type": "execute_result"
    }
   ],
   "source": [
    "a=[3,5,9,7,4,3,6,7]\n",
    "A=np.array(a)\n",
    "A.max()"
   ]
  },
  {
   "cell_type": "markdown",
   "id": "db61cde1-3fac-481f-a0f5-1116cbfb85cd",
   "metadata": {},
   "source": [
    "### 3. Write a Python Program for array rotation?\n",
    "\n",
    "#### Answere"
   ]
  },
  {
   "cell_type": "code",
   "execution_count": 26,
   "id": "f0c41fb4-449c-4663-8b21-1e460e3db737",
   "metadata": {},
   "outputs": [],
   "source": [
    "\n",
    "def rotate(arr,k):\n",
    "    n=len(arr)\n",
    "    temp=[]\n",
    "    i=0\n",
    "    while i<k:\n",
    "        temp.append(arr[i])\n",
    "        i=i+1\n",
    "    i=0\n",
    "    while k<n:\n",
    "        arr[i]=arr[k]\n",
    "        i=i+1\n",
    "        k=k+1\n",
    "    arr[:i]+temp\n",
    "    return arr\n",
    "\n"
   ]
  },
  {
   "cell_type": "code",
   "execution_count": 29,
   "id": "38b859d3-d09a-42fc-8b81-1e844c9c310a",
   "metadata": {},
   "outputs": [
    {
     "data": {
      "text/plain": [
       "['d', 'e', 'c', 'd', 'e']"
      ]
     },
     "execution_count": 29,
     "metadata": {},
     "output_type": "execute_result"
    }
   ],
   "source": [
    "a=['a','b','c','d','e']\n",
    "rotate(a,3)"
   ]
  },
  {
   "cell_type": "markdown",
   "id": "2da07baf-e098-40ab-86fb-dc85c35f2586",
   "metadata": {},
   "source": [
    "### 4. Write a Python Program to Split the array and add the first part to the end?\n",
    "#### Answere"
   ]
  },
  {
   "cell_type": "code",
   "execution_count": 14,
   "id": "1f776cbb-8193-446a-873d-a0ae99a0d33c",
   "metadata": {},
   "outputs": [],
   "source": [
    "def split(arr,k):\n",
    "    n=len(arr)\n",
    "    if n<k:\n",
    "        Print(\"Incorect output\")\n",
    "    else:\n",
    "        for i in range(k):\n",
    "            c=arr[0]\n",
    "            for j in range(0,n-1):\n",
    "                arr[j]=arr[j+1]\n",
    "            arr[n-1]=c\n",
    "    return arr\n",
    "        "
   ]
  },
  {
   "cell_type": "code",
   "execution_count": 15,
   "id": "6a4b3b75-77e7-4204-b0ee-a4e7e76caac0",
   "metadata": {},
   "outputs": [
    {
     "data": {
      "text/plain": [
       "[12.4, 'Dnyaneshwar', 12, 20, 'Hello']"
      ]
     },
     "execution_count": 15,
     "metadata": {},
     "output_type": "execute_result"
    }
   ],
   "source": [
    "split([12,20,\"Hello\",12.4,\"Dnyaneshwar\"],3)"
   ]
  },
  {
   "cell_type": "markdown",
   "id": "c2d752e2-f9aa-45b9-9f8b-75c91e163b86",
   "metadata": {},
   "source": [
    "### 5. Write a Python Program to check if given array is Monotonic?\n",
    "\n",
    "#### Answere"
   ]
  },
  {
   "cell_type": "code",
   "execution_count": 18,
   "id": "293b8490-c5f7-4327-a9ce-b5f6e6776659",
   "metadata": {},
   "outputs": [],
   "source": [
    "def mono(arr):\n",
    "    n=len(arr)\n",
    "    p=0\n",
    "    g=0\n",
    "    for i in range(n-1):\n",
    "        if p==0:\n",
    "            if arr[i]==arr[i+1]:\n",
    "                continue\n",
    "            elif arr[i]<arr[i+1]:\n",
    "                g=1\n",
    "                p=1\n",
    "            else:\n",
    "                g=0\n",
    "                p=1\n",
    "        else:\n",
    "            if arr[i]<arr[i+1] and g==0:\n",
    "                return False\n",
    "            if arr[i]>arr[i+1] and g==1:\n",
    "                return False\n",
    "    return True"
   ]
  },
  {
   "cell_type": "code",
   "execution_count": null,
   "id": "1ee01233-a149-4f7a-bce0-e4c1da2966f3",
   "metadata": {},
   "outputs": [],
   "source": []
  },
  {
   "cell_type": "code",
   "execution_count": 19,
   "id": "d81539f1-1d45-4821-906f-a5b8924b34cc",
   "metadata": {},
   "outputs": [
    {
     "data": {
      "text/plain": [
       "True"
      ]
     },
     "execution_count": 19,
     "metadata": {},
     "output_type": "execute_result"
    }
   ],
   "source": [
    "mono([12,13,14,15])"
   ]
  },
  {
   "cell_type": "code",
   "execution_count": null,
   "id": "704c730e-4d5a-415e-8cfb-d5f0572c90f5",
   "metadata": {},
   "outputs": [],
   "source": []
  }
 ],
 "metadata": {
  "kernelspec": {
   "display_name": "Python 3 (ipykernel)",
   "language": "python",
   "name": "python3"
  },
  "language_info": {
   "codemirror_mode": {
    "name": "ipython",
    "version": 3
   },
   "file_extension": ".py",
   "mimetype": "text/x-python",
   "name": "python",
   "nbconvert_exporter": "python",
   "pygments_lexer": "ipython3",
   "version": "3.10.7"
  }
 },
 "nbformat": 4,
 "nbformat_minor": 5
}
