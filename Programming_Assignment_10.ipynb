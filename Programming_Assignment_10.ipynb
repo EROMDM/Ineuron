{
 "cells": [
  {
   "cell_type": "markdown",
   "id": "7e10948b-8876-4c54-a1a6-36dec87fdc53",
   "metadata": {},
   "source": [
    "<h1 align=center><font size = 10>Full Stack Data Science BootCamp 2.0</font></h1>\n",
    "<h2 align=center><font size = 7>Python Basic</font></h2>\n",
    "\n",
    "<h3 align=left><font size = 5>Programming_Assignment_10</font></h3>\n",
    "<h4 align=left><font size = 4>Dnyaneshwar More</font></h4>"
   ]
  },
  {
   "cell_type": "markdown",
   "id": "20ebf2ef-6c27-420b-8eda-c4460ba8fef9",
   "metadata": {},
   "source": [
    "## 1. Write a Python program to find sum of elements in list?\n",
    "### Answere"
   ]
  },
  {
   "cell_type": "code",
   "execution_count": 1,
   "id": "b51979bb-06df-4325-94c9-94bb562dced4",
   "metadata": {},
   "outputs": [
    {
     "name": "stdout",
     "output_type": "stream",
     "text": [
      "Sum of elements is 228\n"
     ]
    }
   ],
   "source": [
    "A=[12,43,54,76,43]\n",
    "sum=0\n",
    "for i in A:\n",
    "    sum +=i\n",
    "print(f\"Sum of elements is {sum}\")\n"
   ]
  },
  {
   "cell_type": "markdown",
   "id": "578b4a1b-b3ea-46ff-8871-666e77b188e6",
   "metadata": {},
   "source": [
    "## 2. Write a Python program to Multiply all numbers in the list?\n",
    "### Answere"
   ]
  },
  {
   "cell_type": "code",
   "execution_count": 2,
   "id": "0013ad2a-ab52-4a57-b77d-30edae0ad3b5",
   "metadata": {},
   "outputs": [
    {
     "name": "stdout",
     "output_type": "stream",
     "text": [
      "product of elements is 91059552\n"
     ]
    }
   ],
   "source": [
    "A=[12,43,54,76,43]\n",
    "sum=1\n",
    "for i in A:\n",
    "    sum =sum*i\n",
    "print(f\"product of elements is {sum}\")"
   ]
  },
  {
   "cell_type": "markdown",
   "id": "9ac9f540-7785-466a-bfe2-4b02b3c06db4",
   "metadata": {},
   "source": [
    "## 3. Write a Python program to find smallest number in a list?\n",
    "### Answere"
   ]
  },
  {
   "cell_type": "code",
   "execution_count": 3,
   "id": "4aa99e24-44f8-43d7-96e4-9952ff4de8ca",
   "metadata": {},
   "outputs": [
    {
     "name": "stdout",
     "output_type": "stream",
     "text": [
      "Smallest elements is 2\n"
     ]
    }
   ],
   "source": [
    "A=[12,43,54,76,2,43]\n",
    "small=A[1]\n",
    "for i in A:\n",
    "    if small>=i:\n",
    "        small=i\n",
    "    else:\n",
    "        pass\n",
    "print(f\"Smallest elements is {small}\")"
   ]
  },
  {
   "cell_type": "markdown",
   "id": "926af006-9f4c-45f2-89df-21602682e4d4",
   "metadata": {},
   "source": [
    "## 4. Write a Python program to find largest number in a list?\n",
    "### Answere"
   ]
  },
  {
   "cell_type": "code",
   "execution_count": 4,
   "id": "51596b29-fa15-4bdc-b4a6-b15fbbfc0e5a",
   "metadata": {},
   "outputs": [
    {
     "name": "stdout",
     "output_type": "stream",
     "text": [
      "largest of elements is 76\n"
     ]
    }
   ],
   "source": [
    "A=[12,43,54,76,2,43]\n",
    "small=A[1]\n",
    "for i in A:\n",
    "    if small<=i:\n",
    "        small=i\n",
    "    else:\n",
    "        pass\n",
    "print(f\"largest of elements is {small}\")"
   ]
  },
  {
   "cell_type": "markdown",
   "id": "be3cc1f3-ea62-4fd3-84b5-35f72d399266",
   "metadata": {},
   "source": [
    "## 5. Write a Python program to find second largest number in a list?\n",
    "### Answere"
   ]
  },
  {
   "cell_type": "code",
   "execution_count": 5,
   "id": "c5f70251-d7f1-4b4d-bfa4-c224dd928db6",
   "metadata": {},
   "outputs": [
    {
     "name": "stdout",
     "output_type": "stream",
     "text": [
      "54\n"
     ]
    }
   ],
   "source": [
    "A=[12,43,54,76,2,43]\n",
    "A.sort()\n",
    "print(A[-2])"
   ]
  },
  {
   "cell_type": "markdown",
   "id": "672fdc9d-f70f-4f8b-ace7-8efc8fe90530",
   "metadata": {},
   "source": [
    "## 6. Write a Python program to find N largest elements from a list?\n",
    "### Answere"
   ]
  },
  {
   "cell_type": "code",
   "execution_count": 6,
   "id": "cdd2d514-af48-4411-89a8-cc94c25df87e",
   "metadata": {},
   "outputs": [
    {
     "name": "stdout",
     "output_type": "stream",
     "text": [
      "[43, 54, 76]\n"
     ]
    }
   ],
   "source": [
    "A=[12,43,54,76,2,43]\n",
    "A.sort()\n",
    "N=3\n",
    "print(A[-N:])\n"
   ]
  },
  {
   "cell_type": "markdown",
   "id": "5607a2b4-835c-49ef-8f34-3d19cda3fd93",
   "metadata": {},
   "source": [
    "## 7. Write a Python program to print even numbers in a list?\n",
    "### Answere"
   ]
  },
  {
   "cell_type": "code",
   "execution_count": 7,
   "id": "eaa6defe-d2b6-4435-8406-72f694fcf713",
   "metadata": {},
   "outputs": [
    {
     "name": "stdout",
     "output_type": "stream",
     "text": [
      "[12, 54, 76, 2]\n"
     ]
    }
   ],
   "source": [
    "A=[12,43,54,76,2,43]\n",
    "a=[]\n",
    "for i in A:\n",
    "    if i%2==0:\n",
    "        a.append(i)\n",
    "print(a)"
   ]
  },
  {
   "cell_type": "markdown",
   "id": "865f2822-51c4-4a80-bd91-df894370915d",
   "metadata": {},
   "source": [
    "## 8. Write a Python program to print odd numbers in a List?\n",
    "### Answere"
   ]
  },
  {
   "cell_type": "code",
   "execution_count": 8,
   "id": "d4a0f5f0-7143-455b-b33d-bb1af44500f1",
   "metadata": {},
   "outputs": [
    {
     "name": "stdout",
     "output_type": "stream",
     "text": [
      "[3, 43]\n"
     ]
    }
   ],
   "source": [
    "A=[12,3,54,76,2,43]\n",
    "a=[]\n",
    "for i in A:\n",
    "    if i%2!=0:\n",
    "        a.append(i)\n",
    "print(a)"
   ]
  },
  {
   "cell_type": "markdown",
   "id": "39ac6637-f5cd-44a1-8391-5bd480930888",
   "metadata": {},
   "source": [
    "## 9. Write a Python program to Remove empty List from List?\n",
    "### Answere"
   ]
  },
  {
   "cell_type": "code",
   "execution_count": 9,
   "id": "9a4631c0-14bd-4ba4-a469-4465cbcda21c",
   "metadata": {},
   "outputs": [
    {
     "name": "stdout",
     "output_type": "stream",
     "text": [
      "[12, 3, 54, 76, 2, 43]\n"
     ]
    }
   ],
   "source": [
    "A=[12,3,[],54,76,[],2,43]\n",
    "a=[]\n",
    "for i in A:\n",
    "    if i!=[]:\n",
    "        a.append(i)\n",
    "print(a)"
   ]
  },
  {
   "cell_type": "markdown",
   "id": "937baebb-5237-4b33-ba1d-00ce3bb21b40",
   "metadata": {},
   "source": [
    "## 10. Write a Python program to Cloning or Copying a list?\n",
    "### Answere"
   ]
  },
  {
   "cell_type": "code",
   "execution_count": 10,
   "id": "62196c88-58ec-4b8c-b457-24a8882fd14b",
   "metadata": {},
   "outputs": [
    {
     "name": "stdout",
     "output_type": "stream",
     "text": [
      "[12, 3, [], 54, 76, [], 2, 43]\n"
     ]
    }
   ],
   "source": [
    "A=[12,3,[],54,76,[],2,43]\n",
    "\n",
    "def cloning(A):\n",
    "    b=A\n",
    "    return b\n",
    "\n",
    "print(cloning(A))"
   ]
  },
  {
   "cell_type": "markdown",
   "id": "c42925ac-ce2e-4890-936c-08a5f8b244cd",
   "metadata": {},
   "source": [
    "## 11. Write a Python program to Count occurrences of an element in a list?\n",
    "### Answere"
   ]
  },
  {
   "cell_type": "code",
   "execution_count": 11,
   "id": "d60d9991-809d-4c69-b6da-d98fd7631abc",
   "metadata": {},
   "outputs": [
    {
     "data": {
      "text/plain": [
       "3"
      ]
     },
     "execution_count": 11,
     "metadata": {},
     "output_type": "execute_result"
    }
   ],
   "source": [
    "A=[12,2,3,[2],54,76,[],2,43,2]\n",
    "A.count(2)\n"
   ]
  },
  {
   "cell_type": "code",
   "execution_count": null,
   "id": "5b34e717-3080-4256-9406-3b3d1e94ede1",
   "metadata": {},
   "outputs": [],
   "source": []
  }
 ],
 "metadata": {
  "kernelspec": {
   "display_name": "Python 3 (ipykernel)",
   "language": "python",
   "name": "python3"
  },
  "language_info": {
   "codemirror_mode": {
    "name": "ipython",
    "version": 3
   },
   "file_extension": ".py",
   "mimetype": "text/x-python",
   "name": "python",
   "nbconvert_exporter": "python",
   "pygments_lexer": "ipython3",
   "version": "3.10.7"
  }
 },
 "nbformat": 4,
 "nbformat_minor": 5
}
