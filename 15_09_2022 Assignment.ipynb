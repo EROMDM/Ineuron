{
  "nbformat": 4,
  "nbformat_minor": 0,
  "metadata": {
    "colab": {
      "provenance": []
    },
    "kernelspec": {
      "name": "python3",
      "display_name": "Python 3"
    },
    "language_info": {
      "name": "python"
    }
  },
  "cells": [
    {
      "cell_type": "code",
      "execution_count": 48,
      "metadata": {
        "id": "cjZxdJLFlBqv"
      },
      "outputs": [],
      "source": []
    },
    {
      "cell_type": "markdown",
      "source": [
        "1. Find out all the types of error that we have encountered in our lecture and why? Also include the examples."
      ],
      "metadata": {
        "id": "Xh_O-qOxlCaM"
      }
    },
    {
      "cell_type": "code",
      "source": [
        "# Fist print error we have occure because we have defind print name as a variable this reson you give print error\n",
        "print = 10\n",
        "print(\"Hello\")"
      ],
      "metadata": {
        "colab": {
          "base_uri": "https://localhost:8080/",
          "height": 200
        },
        "id": "t4PROAavlQTZ",
        "outputId": "6c0e07ed-19de-4994-d678-fc668c426d3f"
      },
      "execution_count": 49,
      "outputs": [
        {
          "output_type": "error",
          "ename": "TypeError",
          "evalue": "ignored",
          "traceback": [
            "\u001b[0;31m---------------------------------------------------------------------------\u001b[0m",
            "\u001b[0;31mTypeError\u001b[0m                                 Traceback (most recent call last)",
            "\u001b[0;32m<ipython-input-49-369342c48357>\u001b[0m in \u001b[0;36m<module>\u001b[0;34m\u001b[0m\n\u001b[1;32m      1\u001b[0m \u001b[0;31m# Fist print error we have occure because we have defind print name as a variable this reson you give print error\u001b[0m\u001b[0;34m\u001b[0m\u001b[0;34m\u001b[0m\u001b[0;34m\u001b[0m\u001b[0m\n\u001b[1;32m      2\u001b[0m \u001b[0mprint\u001b[0m \u001b[0;34m=\u001b[0m \u001b[0;36m10\u001b[0m\u001b[0;34m\u001b[0m\u001b[0;34m\u001b[0m\u001b[0m\n\u001b[0;32m----> 3\u001b[0;31m \u001b[0mprint\u001b[0m\u001b[0;34m(\u001b[0m\u001b[0;34m\"Hello\"\u001b[0m\u001b[0;34m)\u001b[0m\u001b[0;34m\u001b[0m\u001b[0;34m\u001b[0m\u001b[0m\n\u001b[0m",
            "\u001b[0;31mTypeError\u001b[0m: 'int' object is not callable"
          ]
        }
      ]
    },
    {
      "cell_type": "code",
      "source": [
        "del print"
      ],
      "metadata": {
        "id": "Xf72oILLpayE"
      },
      "execution_count": 50,
      "outputs": []
    },
    {
      "cell_type": "code",
      "source": [
        "#here print variable assin as interger 10"
      ],
      "metadata": {
        "id": "3eIKV6kOl-LB"
      },
      "execution_count": 51,
      "outputs": []
    },
    {
      "cell_type": "code",
      "source": [
        "# three variable try to same value \n",
        "a,b,c = 10\n",
        "#here need  a defind three same value seprated by ,\n",
        "#for ex\n",
        "a,b,c = 1,2,1\n",
        "#or defind three variable equal to string int or blooen ,floot value\n",
        "a = b = c = 10"
      ],
      "metadata": {
        "colab": {
          "base_uri": "https://localhost:8080/",
          "height": 235
        },
        "id": "wrksKeRdmPH4",
        "outputId": "d064177c-0838-4613-fd41-642514ebc93c"
      },
      "execution_count": 52,
      "outputs": [
        {
          "output_type": "error",
          "ename": "TypeError",
          "evalue": "ignored",
          "traceback": [
            "\u001b[0;31m---------------------------------------------------------------------------\u001b[0m",
            "\u001b[0;31mTypeError\u001b[0m                                 Traceback (most recent call last)",
            "\u001b[0;32m<ipython-input-52-7a7f4c5cf357>\u001b[0m in \u001b[0;36m<module>\u001b[0;34m\u001b[0m\n\u001b[1;32m      1\u001b[0m \u001b[0;31m# three variable try to same value\u001b[0m\u001b[0;34m\u001b[0m\u001b[0;34m\u001b[0m\u001b[0;34m\u001b[0m\u001b[0m\n\u001b[0;32m----> 2\u001b[0;31m \u001b[0ma\u001b[0m\u001b[0;34m,\u001b[0m\u001b[0mb\u001b[0m\u001b[0;34m,\u001b[0m\u001b[0mc\u001b[0m \u001b[0;34m=\u001b[0m \u001b[0;36m10\u001b[0m\u001b[0;34m\u001b[0m\u001b[0;34m\u001b[0m\u001b[0m\n\u001b[0m\u001b[1;32m      3\u001b[0m \u001b[0;31m#here need  a defind three same value seprated by ,\u001b[0m\u001b[0;34m\u001b[0m\u001b[0;34m\u001b[0m\u001b[0;34m\u001b[0m\u001b[0m\n\u001b[1;32m      4\u001b[0m \u001b[0;31m#for ex\u001b[0m\u001b[0;34m\u001b[0m\u001b[0;34m\u001b[0m\u001b[0;34m\u001b[0m\u001b[0m\n\u001b[1;32m      5\u001b[0m \u001b[0ma\u001b[0m\u001b[0;34m,\u001b[0m\u001b[0mb\u001b[0m\u001b[0;34m,\u001b[0m\u001b[0mc\u001b[0m \u001b[0;34m=\u001b[0m \u001b[0;36m1\u001b[0m\u001b[0;34m,\u001b[0m\u001b[0;36m2\u001b[0m\u001b[0;34m,\u001b[0m\u001b[0;36m1\u001b[0m\u001b[0;34m\u001b[0m\u001b[0;34m\u001b[0m\u001b[0m\n",
            "\u001b[0;31mTypeError\u001b[0m: cannot unpack non-iterable int object"
          ]
        }
      ]
    },
    {
      "cell_type": "code",
      "source": [
        "a,b,c = 1,2,1\n",
        "a=b=c =10"
      ],
      "metadata": {
        "id": "TdD4hYgXmRz2"
      },
      "execution_count": 53,
      "outputs": []
    },
    {
      "cell_type": "code",
      "source": [
        "# int(input) error we have found\n",
        "a= int(input())"
      ],
      "metadata": {
        "colab": {
          "base_uri": "https://localhost:8080/",
          "height": 200
        },
        "id": "MUGGrz8jnIdI",
        "outputId": "cdea464f-adac-4a44-81f0-c575580e5bc2"
      },
      "execution_count": 55,
      "outputs": [
        {
          "name": "stdout",
          "output_type": "stream",
          "text": [
            "12.3\n"
          ]
        },
        {
          "output_type": "error",
          "ename": "ValueError",
          "evalue": "ignored",
          "traceback": [
            "\u001b[0;31m---------------------------------------------------------------------------\u001b[0m",
            "\u001b[0;31mValueError\u001b[0m                                Traceback (most recent call last)",
            "\u001b[0;32m<ipython-input-55-6b9b0bb177f1>\u001b[0m in \u001b[0;36m<module>\u001b[0;34m\u001b[0m\n\u001b[1;32m      1\u001b[0m \u001b[0;31m# int(input) error we have found\u001b[0m\u001b[0;34m\u001b[0m\u001b[0;34m\u001b[0m\u001b[0;34m\u001b[0m\u001b[0m\n\u001b[0;32m----> 2\u001b[0;31m \u001b[0ma\u001b[0m\u001b[0;34m=\u001b[0m \u001b[0mint\u001b[0m\u001b[0;34m(\u001b[0m\u001b[0minput\u001b[0m\u001b[0;34m(\u001b[0m\u001b[0;34m)\u001b[0m\u001b[0;34m)\u001b[0m\u001b[0;34m\u001b[0m\u001b[0;34m\u001b[0m\u001b[0m\n\u001b[0m",
            "\u001b[0;31mValueError\u001b[0m: invalid literal for int() with base 10: '12.3'"
          ]
        }
      ]
    },
    {
      "cell_type": "code",
      "source": [
        "#Here we need a put integer value not float\n",
        "A= int(input())"
      ],
      "metadata": {
        "colab": {
          "base_uri": "https://localhost:8080/"
        },
        "id": "SXQVMnckn58X",
        "outputId": "12204a38-3a85-4f42-d28b-acad85043680"
      },
      "execution_count": 57,
      "outputs": [
        {
          "name": "stdout",
          "output_type": "stream",
          "text": [
            "12\n"
          ]
        }
      ]
    },
    {
      "cell_type": "code",
      "source": [
        "#Here we have ocur error to opration using subtraction\n",
        "Birth_year = input()\n",
        "age = 2022 - Birth_year\n",
        "#here Birth_year assign as string fist we need to convert interger or float\n",
        "#thre are two diffrent way fist is input as integer and secound convert string to integer\n",
        "#1\n",
        "# You can use float in the place of int\n"
      ],
      "metadata": {
        "colab": {
          "base_uri": "https://localhost:8080/",
          "height": 252
        },
        "id": "q4grRN6CoNLg",
        "outputId": "eb972bac-61a1-4bd9-dde2-a6661d8bfb86"
      },
      "execution_count": 58,
      "outputs": [
        {
          "name": "stdout",
          "output_type": "stream",
          "text": [
            "12\n"
          ]
        },
        {
          "output_type": "error",
          "ename": "TypeError",
          "evalue": "ignored",
          "traceback": [
            "\u001b[0;31m---------------------------------------------------------------------------\u001b[0m",
            "\u001b[0;31mTypeError\u001b[0m                                 Traceback (most recent call last)",
            "\u001b[0;32m<ipython-input-58-bc79fdb097c8>\u001b[0m in \u001b[0;36m<module>\u001b[0;34m\u001b[0m\n\u001b[1;32m      1\u001b[0m \u001b[0;31m#Here we have ocur error to opration using subtraction\u001b[0m\u001b[0;34m\u001b[0m\u001b[0;34m\u001b[0m\u001b[0;34m\u001b[0m\u001b[0m\n\u001b[1;32m      2\u001b[0m \u001b[0mBirth_year\u001b[0m \u001b[0;34m=\u001b[0m \u001b[0minput\u001b[0m\u001b[0;34m(\u001b[0m\u001b[0;34m)\u001b[0m\u001b[0;34m\u001b[0m\u001b[0;34m\u001b[0m\u001b[0m\n\u001b[0;32m----> 3\u001b[0;31m \u001b[0mage\u001b[0m \u001b[0;34m=\u001b[0m \u001b[0;36m2022\u001b[0m \u001b[0;34m-\u001b[0m \u001b[0mBirth_year\u001b[0m\u001b[0;34m\u001b[0m\u001b[0;34m\u001b[0m\u001b[0m\n\u001b[0m\u001b[1;32m      4\u001b[0m \u001b[0;31m#here Birth_year assign as string fist we need to convert interger or float\u001b[0m\u001b[0;34m\u001b[0m\u001b[0;34m\u001b[0m\u001b[0;34m\u001b[0m\u001b[0m\n\u001b[1;32m      5\u001b[0m \u001b[0;31m#thre are two diffrent way fist is input as integer and secound convert string to integer\u001b[0m\u001b[0;34m\u001b[0m\u001b[0;34m\u001b[0m\u001b[0;34m\u001b[0m\u001b[0m\n",
            "\u001b[0;31mTypeError\u001b[0m: unsupported operand type(s) for -: 'int' and 'str'"
          ]
        }
      ]
    },
    {
      "cell_type": "code",
      "source": [
        "Birth_year = int(input())\n",
        "age = 2022 - Birth_year\n",
        "print(age)"
      ],
      "metadata": {
        "colab": {
          "base_uri": "https://localhost:8080/"
        },
        "id": "QD97J6e2ohFz",
        "outputId": "587eb5c5-535a-44ba-dfd7-f712400a4db6"
      },
      "execution_count": 59,
      "outputs": [
        {
          "output_type": "stream",
          "name": "stdout",
          "text": [
            "1997\n",
            "25\n"
          ]
        }
      ]
    },
    {
      "cell_type": "code",
      "source": [
        "#2 \n",
        "Birth_year = input()\n",
        "age = 2022 - float(Birth_year)\n",
        "print(age)"
      ],
      "metadata": {
        "colab": {
          "base_uri": "https://localhost:8080/"
        },
        "id": "Zyri5myvpQsY",
        "outputId": "8cc7430d-8665-45f7-8ef2-3519e5389add"
      },
      "execution_count": 60,
      "outputs": [
        {
          "output_type": "stream",
          "name": "stdout",
          "text": [
            "1997\n",
            "25.0\n"
          ]
        }
      ]
    },
    {
      "cell_type": "code",
      "source": [
        "#Empty string is cant convert in to float or int"
      ],
      "metadata": {
        "id": "fUGDqKywpoen"
      },
      "execution_count": 61,
      "outputs": []
    },
    {
      "cell_type": "code",
      "source": [],
      "metadata": {
        "id": "M1BAq_3LqYbN"
      },
      "execution_count": 61,
      "outputs": []
    },
    {
      "cell_type": "markdown",
      "source": [
        "2. Take input A and B and print their sum, mul, div, square of the nos."
      ],
      "metadata": {
        "id": "Y3toNydOqZB0"
      }
    },
    {
      "cell_type": "code",
      "source": [
        "A= int(input(\"Enter Your Fist Number: \"))\n",
        "B= int(input(\"Enter Your Secound Number: \"))\n",
        "C= A+B\n",
        "D= A*B\n",
        "E= A/B\n",
        "F=A*A\n",
        "G=B**2\n",
        "print(f\"Sum of {C}\")\n",
        "print(f\"Mul of {D}\")\n",
        "print(f\"Div of {E}\")\n",
        "print(f\"squre of fist number {F},squre of secound number {G}\")\n"
      ],
      "metadata": {
        "colab": {
          "base_uri": "https://localhost:8080/"
        },
        "id": "saB2wK3XqfO6",
        "outputId": "a4357c76-52f8-409c-fb8a-04b5f922c7e3"
      },
      "execution_count": 26,
      "outputs": [
        {
          "output_type": "stream",
          "name": "stdout",
          "text": [
            "Enter Your Fist Number: 25\n",
            "Enter Your Secound Number: 12\n",
            "Sum of 37\n",
            "Mul of 300\n",
            "Div of 2.0833333333333335\n",
            "squre of fist number 625,squre of secound number 144\n"
          ]
        }
      ]
    },
    {
      "cell_type": "markdown",
      "source": [
        "2. How many reserve keywords are there in python and why we should not use them as a variable name."
      ],
      "metadata": {
        "id": "N9SF9QZ4t1Y2"
      }
    },
    {
      "cell_type": "code",
      "source": [],
      "metadata": {
        "id": "uyTCFlKJt4Mo"
      },
      "execution_count": null,
      "outputs": []
    },
    {
      "cell_type": "markdown",
      "source": [
        "3. In Python  there are apprximte 35 reserved keywords\n",
        " You can see this list any time by typing help (\"keywords\") \n",
        " to the Python interpreter."
      ],
      "metadata": {
        "id": "qmIbvUcyuH2C"
      }
    },
    {
      "cell_type": "code",
      "source": [
        "help(\"keywords\")"
      ],
      "metadata": {
        "colab": {
          "base_uri": "https://localhost:8080/"
        },
        "id": "ZQawARRluQSL",
        "outputId": "5552538c-0a1c-4b8e-fa54-4762f2b88a74"
      },
      "execution_count": 29,
      "outputs": [
        {
          "output_type": "stream",
          "name": "stdout",
          "text": [
            "\n",
            "Here is a list of the Python keywords.  Enter any keyword to get more help.\n",
            "\n",
            "False               class               from                or\n",
            "None                continue            global              pass\n",
            "True                def                 if                  raise\n",
            "and                 del                 import              return\n",
            "as                  elif                in                  try\n",
            "assert              else                is                  while\n",
            "async               except              lambda              with\n",
            "await               finally             nonlocal            yield\n",
            "break               for                 not                 \n",
            "\n"
          ]
        }
      ]
    },
    {
      "cell_type": "code",
      "source": [],
      "metadata": {
        "id": "7flOd7VfuUau"
      },
      "execution_count": null,
      "outputs": []
    },
    {
      "cell_type": "markdown",
      "source": [
        "4. Create email ids with the user inputs. in the following format - lastname.firstname@gmail.com"
      ],
      "metadata": {
        "id": "D53BMYqwumFY"
      }
    },
    {
      "cell_type": "code",
      "source": [
        "fistname,lastname = input(\"enter your fist name:  \"), input(\"Enter your Last name : \")\n",
        "print(\"Your  email id is\")\n",
        "print(f\"{lastname.lower()}.{fistname.lower()}@gmail.com\")"
      ],
      "metadata": {
        "colab": {
          "base_uri": "https://localhost:8080/"
        },
        "id": "bFzoabH5un4N",
        "outputId": "5fe5eda7-2d70-42a5-84b9-4fd0c282b1f4"
      },
      "execution_count": 31,
      "outputs": [
        {
          "output_type": "stream",
          "name": "stdout",
          "text": [
            "enter your fist name:  Dnyaneshwar\n",
            "Enter your Last name : More\n",
            "Your  email id is\n",
            "more.dnyaneshwar@gmail.com\n"
          ]
        }
      ]
    },
    {
      "cell_type": "markdown",
      "source": [
        "5. Try to print the following lines -\n",
        " - Hi I'm Sunny\n",
        " - My address is 22\\3\n",
        " - I earn 20$ daily."
      ],
      "metadata": {
        "id": "jIw12-htvtIn"
      }
    },
    {
      "cell_type": "code",
      "source": [
        "name,address,income = input(\"Enter your Name: \"), input(\"Enter Your Address: \"), float(input(\"How many you earn in Year\"))\n",
        "print(f\"\"\"\n",
        "       - Hi I'm {name}\n",
        "       - My address is {address}\n",
        "       - I earn {income}$daily.\n",
        "      \"\"\")"
      ],
      "metadata": {
        "colab": {
          "base_uri": "https://localhost:8080/"
        },
        "id": "vD-IeOL9vQD7",
        "outputId": "762e5110-9932-46af-d657-96638854cb8d"
      },
      "execution_count": 33,
      "outputs": [
        {
          "output_type": "stream",
          "name": "stdout",
          "text": [
            "Enter your Name: MD\n",
            "Enter Your Address: PO\n",
            "How many you earn in Year2\n",
            "\n",
            "       - Hi I'm MD\n",
            "       - My address is PO\n",
            "       - I earn 2.0$daily.\n",
            "      \n"
          ]
        }
      ]
    },
    {
      "cell_type": "markdown",
      "source": [
        "6. Take user input (name, address, date of birth etc) to fill a form for your college and print their email IDs"
      ],
      "metadata": {
        "id": "Ps_z4t6Kw1dT"
      }
    },
    {
      "cell_type": "code",
      "source": [
        "import datetime"
      ],
      "metadata": {
        "id": "jOJwesPWxngn"
      },
      "execution_count": 34,
      "outputs": []
    },
    {
      "cell_type": "code",
      "source": [
        "fistname,lastname,address,DOB,College= input(\"Enter Your FistName: \"),input(\"Enter Your Last Name: \"), input(\"inter your Address: \"), datetime.date(int(input(\"Enter Your Birth Year: \")),int(input(\"Enter Your Birth Month: \")),int(input(\"Enter Your Birth Date: \"))),input(\"Enter Your College Name: |\")\n",
        "\n",
        "print(f\"\"\"\n",
        "      Student Name : {fistname} {lastname}\n",
        "      Address      : {address}\n",
        "      Date of Birth: {DOB}\n",
        "      College Name : {College}\n",
        "      College Email: {lastname.lower()}.{fistname.lower()}@{College.lower()}.ac.in\n",
        "\"\"\")"
      ],
      "metadata": {
        "colab": {
          "base_uri": "https://localhost:8080/"
        },
        "id": "X7325lwTwolB",
        "outputId": "0bec7363-1547-4e29-a9d2-77bfb3992d9f"
      },
      "execution_count": 38,
      "outputs": [
        {
          "output_type": "stream",
          "name": "stdout",
          "text": [
            "Enter Your FistName: Dnyaneshwar\n",
            "Enter Your Last Name: More\n",
            "inter your Address: Potewadi\n",
            "Enter Your Birth Year: 1997\n",
            "Enter Your Birth Month: 06\n",
            "Enter Your Birth Date: 15\n",
            "Enter Your College Name: |KTHM\n",
            "\n",
            "      Student Name : Dnyaneshwar More\n",
            "      Address      : Potewadi\n",
            "      Date of Birth: 1997-06-15\n",
            "      College Name : KTHM\n",
            "      College Email: More.Dnyaneshwar@KTHM.ac.in\n",
            "\n"
          ]
        }
      ]
    },
    {
      "cell_type": "markdown",
      "source": [
        "7. Convert the following - \n",
        "  - \"22.4\" into integer\n",
        "  - \"22\" into complex no."
      ],
      "metadata": {
        "id": "pUA_UWPM0V_Q"
      }
    },
    {
      "cell_type": "code",
      "source": [
        "A = \"22.4\"\n",
        "B = int(float(A))\n",
        "print(B)"
      ],
      "metadata": {
        "colab": {
          "base_uri": "https://localhost:8080/"
        },
        "id": "e7g7zioOyTvN",
        "outputId": "c032e272-32ea-4fb3-e02e-2e92a6a5a062"
      },
      "execution_count": 43,
      "outputs": [
        {
          "output_type": "stream",
          "name": "stdout",
          "text": [
            "22\n"
          ]
        }
      ]
    },
    {
      "cell_type": "code",
      "source": [
        "G= \"22\"\n",
        "Z= complex(G)\n",
        "print(Z)\n",
        "print(type(Z))"
      ],
      "metadata": {
        "colab": {
          "base_uri": "https://localhost:8080/"
        },
        "id": "5sVPrLRn0c99",
        "outputId": "052a1ee5-b587-4d03-d33a-9e079b3b6d57"
      },
      "execution_count": 48,
      "outputs": [
        {
          "output_type": "stream",
          "name": "stdout",
          "text": [
            "(22+0j)\n",
            "<class 'complex'>\n"
          ]
        }
      ]
    },
    {
      "cell_type": "code",
      "source": [],
      "metadata": {
        "id": "S8RUsaOr1R8v"
      },
      "execution_count": null,
      "outputs": []
    }
  ]
}