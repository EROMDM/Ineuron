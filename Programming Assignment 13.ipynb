{
 "cells": [
  {
   "attachments": {},
   "cell_type": "markdown",
   "metadata": {},
   "source": [
    "## Question 1:\n",
    "Write a program that calculates and prints the value according to the given formula:\n",
    "Q = Square root of [(2 * C * D)/H]\n",
    "Following are the fixed values of C and H:\n",
    "C is 50. H is 30.\n",
    "D is the variable whose values should be input to your program in a comma-separated\n",
    "sequence.\n",
    "Example\n",
    "Let us assume the following comma separated input sequence is given to the program:\n",
    "100,150,180\n",
    "The output of the program should be:\n",
    "18,22,24\n"
   ]
  },
  {
   "cell_type": "code",
   "execution_count": 55,
   "metadata": {},
   "outputs": [
    {
     "name": "stdout",
     "output_type": "stream",
     "text": [
      "18\n",
      "22\n",
      "24\n"
     ]
    }
   ],
   "source": [
    "import math\n",
    "def formula(D):\n",
    "    H=30\n",
    "    C=50\n",
    "    for i in D:\n",
    "        print(int(math.sqrt((2*C*i)/H)))\n",
    "        \n",
    "\n",
    "D=[100,150,180]\n",
    "\n",
    "formula(D)"
   ]
  },
  {
   "attachments": {},
   "cell_type": "markdown",
   "metadata": {},
   "source": [
    "\n",
    "## Question  2:\n",
    "Write a program which takes 2 digits, X,Y as input and generates a 2-dimensional array. The\n",
    "element value in the i-th row and j-th column of the array should be i*j.\n",
    "Note: i=0,1.., X-1; j=0,1,¡Y-1.\n",
    "Example\n",
    "Suppose the following inputs are given to the program:\n",
    "3,5\n",
    "Then, the output of the program should be:\n",
    "[[0, 0, 0, 0, 0], [0, 1, 2, 3, 4], [0, 2, 4, 6, 8]]\n"
   ]
  },
  {
   "cell_type": "code",
   "execution_count": 56,
   "metadata": {},
   "outputs": [
    {
     "ename": "ValueError",
     "evalue": "invalid literal for int() with base 10: 'ABd1234@1,a F1#,2w3E*,2We3345'",
     "output_type": "error",
     "traceback": [
      "\u001b[1;31m---------------------------------------------------------------------------\u001b[0m",
      "\u001b[1;31mValueError\u001b[0m                                Traceback (most recent call last)",
      "Cell \u001b[1;32mIn[56], line 12\u001b[0m\n\u001b[0;32m      8\u001b[0m             A[i]\u001b[39m.\u001b[39mappend(\u001b[39mint\u001b[39m(\u001b[39minput\u001b[39m(\u001b[39mf\u001b[39m\u001b[39m\"\u001b[39m\u001b[39menter the \u001b[39m\u001b[39m{\u001b[39;00mi\u001b[39m+\u001b[39m\u001b[39m1\u001b[39m\u001b[39m}\u001b[39;00m\u001b[39mth row and \u001b[39m\u001b[39m{\u001b[39;00mj\u001b[39m+\u001b[39m\u001b[39m1\u001b[39m\u001b[39m}\u001b[39;00m\u001b[39mth colum Element\u001b[39m\u001b[39m\"\u001b[39m)))\n\u001b[0;32m     10\u001b[0m     \u001b[39mprint\u001b[39m(A)\n\u001b[1;32m---> 12\u001b[0m matrix()\n",
      "Cell \u001b[1;32mIn[56], line 2\u001b[0m, in \u001b[0;36mmatrix\u001b[1;34m()\u001b[0m\n\u001b[0;32m      1\u001b[0m \u001b[39mdef\u001b[39;00m \u001b[39mmatrix\u001b[39m():\n\u001b[1;32m----> 2\u001b[0m     X \u001b[39m=\u001b[39m\u001b[39mint\u001b[39;49m(\u001b[39minput\u001b[39;49m(\u001b[39m\"\u001b[39;49m\u001b[39mEnter the value of rows :\u001b[39;49m\u001b[39m\"\u001b[39;49m))\n\u001b[0;32m      3\u001b[0m     Y \u001b[39m=\u001b[39m\u001b[39mint\u001b[39m(\u001b[39minput\u001b[39m(\u001b[39m\"\u001b[39m\u001b[39mEnter the value of colums :\u001b[39m\u001b[39m\"\u001b[39m))\n\u001b[0;32m      4\u001b[0m     A\u001b[39m=\u001b[39m[]\n",
      "\u001b[1;31mValueError\u001b[0m: invalid literal for int() with base 10: 'ABd1234@1,a F1#,2w3E*,2We3345'"
     ]
    }
   ],
   "source": [
    "def matrix():\n",
    "    X =int(input(\"Enter the value of rows :\"))\n",
    "    Y =int(input(\"Enter the value of colums :\"))\n",
    "    A=[]\n",
    "    for i in range(X):\n",
    "        A.insert(X,[])\n",
    "        for j in range(Y):\n",
    "            A[i].append(int(input(f\"enter the {i+1}th row and {j+1}th colum Element\")))\n",
    "    \n",
    "    print(A)\n",
    "\n",
    "matrix()"
   ]
  },
  {
   "cell_type": "markdown",
   "metadata": {},
   "source": [
    "\n",
    "## Question  3:\n",
    "Write a program that accepts a comma separated sequence of words as input and prints the\n",
    "words in a comma-separated sequence after sorting them alphabetically.\n",
    "Suppose the following input is supplied to the program:\n",
    "without,hello,bag,world\n",
    "Then, the output should be:\n",
    "bag,hello,without,world\n"
   ]
  },
  {
   "cell_type": "code",
   "execution_count": null,
   "metadata": {},
   "outputs": [
    {
     "name": "stdout",
     "output_type": "stream",
     "text": [
      "bag,hello,without,world\n"
     ]
    }
   ],
   "source": [
    "def ss():\n",
    "    A = input(\"Enter the String:  \")\n",
    "    B = ','.join(sorted(A.split(',')))\n",
    "    print(B)\n",
    "    \n",
    "ss()"
   ]
  },
  {
   "attachments": {},
   "cell_type": "markdown",
   "metadata": {},
   "source": [
    "\n",
    "\n",
    "## Question  4:\n",
    "Write a program that accepts a sequence of whitespace separated words as input and prints\n",
    "the words after removing all duplicate words and sorting them alphanumerically.\n",
    "Suppose the following input is supplied to the program:\n",
    "hello world and practice makes perfect and hello world again\n",
    "Then, the output should be:\n",
    "again and hello makes perfect practice world\n"
   ]
  },
  {
   "cell_type": "code",
   "execution_count": null,
   "metadata": {},
   "outputs": [
    {
     "name": "stdout",
     "output_type": "stream",
     "text": [
      "again and hello makes perfect practice world\n"
     ]
    }
   ],
   "source": [
    "def SS():\n",
    "    A = input(\"Enter the String:  \")\n",
    "    B = ' '.join(sorted(list(set(A.split(' ')))))\n",
    "    print(B)\n",
    "    \n",
    "SS()"
   ]
  },
  {
   "cell_type": "markdown",
   "metadata": {},
   "source": [
    "\n",
    "## Question  5:\n",
    "Write a program that accepts a sentence and calculate the number of letters and digits.\n",
    "Suppose the following input is supplied to the program:\n",
    "hello world! 123\n",
    "Then, the output should be:\n",
    "LETTERS 10\n",
    "\n",
    "DIGITS 3\n"
   ]
  },
  {
   "cell_type": "code",
   "execution_count": null,
   "metadata": {},
   "outputs": [
    {
     "name": "stdout",
     "output_type": "stream",
     "text": [
      "d\n",
      "f\n",
      "g\n",
      "d\n",
      "g\n",
      "f\n",
      "d\n",
      "g\n",
      " \n",
      " \n",
      "5\n",
      "6\n",
      "5\n",
      "7\n",
      " \n",
      "j\n",
      "h\n",
      "j\n",
      "k\n",
      "h\n",
      " \n",
      "j\n",
      "h\n",
      "7\n",
      "LATTRES 15 \n",
      "DIGITS 5 \n"
     ]
    }
   ],
   "source": [
    "def SA():\n",
    "    A = input(\"Enter the String:  \")\n",
    "    a=0\n",
    "    b=0\n",
    "    \n",
    "    for i in A:\n",
    "        print(i)\n",
    "        if i.isalpha():\n",
    "            a= a+1\n",
    "        elif i.isdigit():\n",
    "            b=b+1\n",
    "           \n",
    "    \n",
    "    print(f'LATTRES {a} \\nDIGITS {b} ')\n",
    "    \n",
    "SA()"
   ]
  },
  {
   "cell_type": "markdown",
   "metadata": {},
   "source": [
    "\n",
    "## Question  6:\n",
    "A website requires the users to input username and password to register. Write a program to\n",
    "check the validity of password input by users.\n",
    "Following are the criteria for checking the password:\n",
    "1. At least 1 letter between [a-z]\n",
    "2. At least 1 number between [0-9]\n",
    "1. At least 1 letter between [A-Z]\n",
    "3. At least 1 character from [$#@]\n",
    "4. Minimum length of transaction password: 6\n",
    "5. Maximum length of transaction password: 12\n",
    "Your program should accept a sequence of comma separated passwords and will check them\n",
    "according to the above criteria. Passwords that match the criteria are to be printed, each\n",
    "separated by a comma.\n",
    "Example\n",
    "If the following passwords are given as input to the program:\n",
    "ABd1234@1,a F1#,2w3E*,2We3345\n",
    "Then, the output of the program should be:\n",
    "ABd1234@1"
   ]
  },
  {
   "cell_type": "code",
   "execution_count": 60,
   "metadata": {},
   "outputs": [
    {
     "name": "stdout",
     "output_type": "stream",
     "text": [
      "ABd1234@1\n"
     ]
    }
   ],
   "source": [
    "def cp():\n",
    "    A = list( input(\"Enter your password \").split(\",\"))\n",
    "    \n",
    "    for i in  A:\n",
    "        if 6<len(i) and len(i)<12:\n",
    "            uc,lc,dc,cc=0,0,0,0\n",
    "            for j in i:\n",
    "                if j.islower():\n",
    "                    lc = 1\n",
    "                elif j.isupper():\n",
    "                    uc=1\n",
    "                elif j.isdigit():\n",
    "                    dc=1\n",
    "                elif j in ['@','#','$']:\n",
    "                    cc = 1\n",
    "            #if lc >= 1 and uc >= 1 and dc >= 1 and cc >= 1:\n",
    "             #   print(i)  \n",
    "            if uc >=1 and  cc >=1 and lc >=1 and dc >= 1:\n",
    "                print(i)             \n",
    "            \n",
    "                \n",
    "cp()\n"
   ]
  },
  {
   "cell_type": "code",
   "execution_count": null,
   "metadata": {},
   "outputs": [],
   "source": []
  }
 ],
 "metadata": {
  "kernelspec": {
   "display_name": "Python 3",
   "language": "python",
   "name": "python3"
  },
  "language_info": {
   "codemirror_mode": {
    "name": "ipython",
    "version": 3
   },
   "file_extension": ".py",
   "mimetype": "text/x-python",
   "name": "python",
   "nbconvert_exporter": "python",
   "pygments_lexer": "ipython3",
   "version": "3.10.0"
  },
  "orig_nbformat": 4,
  "vscode": {
   "interpreter": {
    "hash": "f006ae6f93146204920e569655d9c610aecaac5602e71f6c42cc1fc54e0fd425"
   }
  }
 },
 "nbformat": 4,
 "nbformat_minor": 2
}
